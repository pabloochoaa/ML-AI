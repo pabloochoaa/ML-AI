{
 "cells": [
  {
   "cell_type": "markdown",
   "id": "abaa76b8",
   "metadata": {},
   "source": [
    "This is the notebook for the Forest Fire Assignment\n",
    "\n",
    "The task for this assignment is the following:\n",
    "\n",
    "*You must develop logistic regression, decision tree and neural network models that will identify\n",
    "whether a fire will occur. You can use Orange, Python, R, or any machine learning package of\n",
    "your choice. The data for the assignment is in a file forestdata.csv, which you can download\n",
    "from the same place you found this document. The data dictionary is given at the end of this\n",
    "document. You must follow the correct methodology to use the data to build and test your\n",
    "models.*"
   ]
  },
  {
   "cell_type": "code",
   "execution_count": 1,
   "id": "096c01f7",
   "metadata": {},
   "outputs": [],
   "source": [
    "# Load all the libraries that might be needed\n",
    "import warnings\n",
    "# For SMOTE\n",
    "from imblearn import over_sampling\n",
    "\n",
    "import pandas as pd\n",
    "import matplotlib.pyplot as plt\n",
    "from sklearn.model_selection import train_test_split\n",
    "from sklearn.preprocessing import MinMaxScaler\n",
    "from sklearn import metrics\n",
    "from sklearn.linear_model import LogisticRegression\n",
    "from sklearn import tree\n",
    "from sklearn.ensemble import RandomForestClassifier\n",
    "from sklearn.neural_network import MLPClassifier\n",
    "from sklearn.model_selection import RandomizedSearchCV\n",
    "from sklearn.model_selection import GridSearchCV\n",
    "from sklearn.manifold import MDS\n",
    "\n",
    "import tensorflow as tf\n",
    "from tensorflow.keras import Sequential\n",
    "from tensorflow.keras import layers\n",
    "from sklearn.preprocessing import LabelEncoder"
   ]
  },
  {
   "cell_type": "markdown",
   "id": "898e2e31",
   "metadata": {},
   "source": [
    "# Data Understanding\n",
    "\n",
    "The first step would be to load the data and do some exploratory analysis of it to understand what each column represents, which range of values do they have, if there are any mistakes on the values or if there are any outliers that we might have to consider on further steps. "
   ]
  },
  {
   "cell_type": "code",
   "execution_count": 2,
   "id": "d92239ba",
   "metadata": {},
   "outputs": [
    {
     "data": {
      "text/plain": [
       "(456, 12)"
      ]
     },
     "execution_count": 2,
     "metadata": {},
     "output_type": "execute_result"
    }
   ],
   "source": [
    "# Load the data\n",
    "df = pd.read_csv(\"forestdata.csv\")\n",
    "\n",
    "# Print the shape of the dataframe\n",
    "df.shape"
   ]
  },
  {
   "cell_type": "code",
   "execution_count": 3,
   "id": "6af125d8",
   "metadata": {},
   "outputs": [
    {
     "data": {
      "text/html": [
       "<div>\n",
       "<style scoped>\n",
       "    .dataframe tbody tr th:only-of-type {\n",
       "        vertical-align: middle;\n",
       "    }\n",
       "\n",
       "    .dataframe tbody tr th {\n",
       "        vertical-align: top;\n",
       "    }\n",
       "\n",
       "    .dataframe thead th {\n",
       "        text-align: right;\n",
       "    }\n",
       "</style>\n",
       "<table border=\"1\" class=\"dataframe\">\n",
       "  <thead>\n",
       "    <tr style=\"text-align: right;\">\n",
       "      <th></th>\n",
       "      <th>collector.id</th>\n",
       "      <th>c.score</th>\n",
       "      <th>l.score</th>\n",
       "      <th>rain</th>\n",
       "      <th>tree.age</th>\n",
       "      <th>surface.litter</th>\n",
       "      <th>wind.intensity</th>\n",
       "      <th>humidity</th>\n",
       "      <th>tree.density</th>\n",
       "      <th>month</th>\n",
       "      <th>time.of.day</th>\n",
       "      <th>fire</th>\n",
       "    </tr>\n",
       "  </thead>\n",
       "  <tbody>\n",
       "    <tr>\n",
       "      <th>0</th>\n",
       "      <td>5</td>\n",
       "      <td>13.11</td>\n",
       "      <td>3.421591</td>\n",
       "      <td>0.477187</td>\n",
       "      <td>34.66</td>\n",
       "      <td>6.718047</td>\n",
       "      <td>3.335635</td>\n",
       "      <td>52.0</td>\n",
       "      <td>0.69860</td>\n",
       "      <td>8</td>\n",
       "      <td>afternoon</td>\n",
       "      <td>1</td>\n",
       "    </tr>\n",
       "    <tr>\n",
       "      <th>1</th>\n",
       "      <td>7</td>\n",
       "      <td>11.99</td>\n",
       "      <td>2.874611</td>\n",
       "      <td>0.212425</td>\n",
       "      <td>19.39</td>\n",
       "      <td>6.242029</td>\n",
       "      <td>3.127024</td>\n",
       "      <td>59.0</td>\n",
       "      <td>0.62020</td>\n",
       "      <td>4</td>\n",
       "      <td>morning</td>\n",
       "      <td>0</td>\n",
       "    </tr>\n",
       "    <tr>\n",
       "      <th>2</th>\n",
       "      <td>6</td>\n",
       "      <td>12.91</td>\n",
       "      <td>2.827774</td>\n",
       "      <td>0.118141</td>\n",
       "      <td>15.75</td>\n",
       "      <td>6.397929</td>\n",
       "      <td>3.052446</td>\n",
       "      <td>60.0</td>\n",
       "      <td>0.58235</td>\n",
       "      <td>10</td>\n",
       "      <td>night</td>\n",
       "      <td>0</td>\n",
       "    </tr>\n",
       "    <tr>\n",
       "      <th>3</th>\n",
       "      <td>5</td>\n",
       "      <td>12.06</td>\n",
       "      <td>2.772961</td>\n",
       "      <td>0.097565</td>\n",
       "      <td>13.25</td>\n",
       "      <td>6.278146</td>\n",
       "      <td>3.114239</td>\n",
       "      <td>60.0</td>\n",
       "      <td>0.57025</td>\n",
       "      <td>9</td>\n",
       "      <td>afternoon</td>\n",
       "      <td>1</td>\n",
       "    </tr>\n",
       "    <tr>\n",
       "      <th>4</th>\n",
       "      <td>2</td>\n",
       "      <td>15.06</td>\n",
       "      <td>3.271684</td>\n",
       "      <td>0.438121</td>\n",
       "      <td>47.14</td>\n",
       "      <td>6.932448</td>\n",
       "      <td>3.214831</td>\n",
       "      <td>51.0</td>\n",
       "      <td>0.71150</td>\n",
       "      <td>7</td>\n",
       "      <td>morning</td>\n",
       "      <td>1</td>\n",
       "    </tr>\n",
       "  </tbody>\n",
       "</table>\n",
       "</div>"
      ],
      "text/plain": [
       "   collector.id  c.score   l.score      rain  tree.age  surface.litter  \\\n",
       "0             5    13.11  3.421591  0.477187     34.66        6.718047   \n",
       "1             7    11.99  2.874611  0.212425     19.39        6.242029   \n",
       "2             6    12.91  2.827774  0.118141     15.75        6.397929   \n",
       "3             5    12.06  2.772961  0.097565     13.25        6.278146   \n",
       "4             2    15.06  3.271684  0.438121     47.14        6.932448   \n",
       "\n",
       "   wind.intensity  humidity  tree.density  month time.of.day  fire  \n",
       "0        3.335635      52.0       0.69860      8   afternoon     1  \n",
       "1        3.127024      59.0       0.62020      4     morning     0  \n",
       "2        3.052446      60.0       0.58235     10       night     0  \n",
       "3        3.114239      60.0       0.57025      9   afternoon     1  \n",
       "4        3.214831      51.0       0.71150      7     morning     1  "
      ]
     },
     "execution_count": 3,
     "metadata": {},
     "output_type": "execute_result"
    }
   ],
   "source": [
    "# Visualize some rows of the df\n",
    "df.head()"
   ]
  },
  {
   "cell_type": "markdown",
   "id": "c1e10b5a",
   "metadata": {},
   "source": [
    "As it can be seen, the dataframe consists of 456 rows and 12 rows. 456 rows are not much for training models, so we should take this into account in further steps such as *Data Cleaning*, as eliminating numerous records could affect seriously the predictive performance of the models we are trying to build.\n",
    "\n",
    "From those 12 rows, the meaning of some can easily be obtained from their name, but not from all. Luckily, we were given a data dictionary, which helps us understand the meaning of all the columns of the dataset.\n",
    "\n",
    "***collector.id***: The ID of the staff member preparing the data on a given row.\n",
    "\n",
    "***c.score***: A score measuring the relative carbohydrate makeup of the tree species present.\n",
    "\n",
    "***l.score***: A score measuring the relative mass of wood to leaves in the tree species present.\n",
    "\n",
    "***rain***: The amount of rain over the previous three days, **normalised**.\n",
    "\n",
    "***tree.age***: The average age of trees in the forest, **normalised**.\n",
    "\n",
    "***surface.litter***: An index for the amount of litter/trash found in the forest (potential sources of ignition).\n",
    "\n",
    "***wind.intensity***: A measure of average wind speeds over the past 24 hours.\n",
    "\n",
    "***humidity***: Air humidity at time of measurement.\n",
    "\n",
    "***tree.density***: Number of trees per square metre, **normalised**.\n",
    "\n",
    "***month***: Month in the year (1=January, 12=December).\n",
    "\n",
    "***time.of.day***: Time period in the day when the record is taken.\n",
    "\n",
    "***fire***: Whether a fire happens (0 = no fire, 1 = fire).\n",
    "\n",
    "---\n",
    "Once we know what the variables mean, we can check if the types or values in them are correct or not.\n",
    "\n",
    "The first step would be to check if there is any kind of type mismatch."
   ]
  },
  {
   "cell_type": "code",
   "execution_count": 4,
   "id": "61e1b239",
   "metadata": {},
   "outputs": [
    {
     "data": {
      "text/plain": [
       "collector.id        int64\n",
       "c.score           float64\n",
       "l.score           float64\n",
       "rain              float64\n",
       "tree.age          float64\n",
       "surface.litter    float64\n",
       "wind.intensity    float64\n",
       "humidity          float64\n",
       "tree.density      float64\n",
       "month               int64\n",
       "time.of.day        object\n",
       "fire                int64\n",
       "dtype: object"
      ]
     },
     "execution_count": 4,
     "metadata": {},
     "output_type": "execute_result"
    }
   ],
   "source": [
    "# Check the types of the columns to check for type mismatch\n",
    "df.dtypes"
   ]
  },
  {
   "cell_type": "markdown",
   "id": "f88dc76d",
   "metadata": {},
   "source": [
    "As it can be appreciated, all variables have the correct type. Next thing to check would be erroneous values, null values, outliers, ...\n",
    "\n",
    "I will start by printing out some descriptive statistics about them."
   ]
  },
  {
   "cell_type": "code",
   "execution_count": 5,
   "id": "86307a63",
   "metadata": {},
   "outputs": [
    {
     "data": {
      "text/html": [
       "<div>\n",
       "<style scoped>\n",
       "    .dataframe tbody tr th:only-of-type {\n",
       "        vertical-align: middle;\n",
       "    }\n",
       "\n",
       "    .dataframe tbody tr th {\n",
       "        vertical-align: top;\n",
       "    }\n",
       "\n",
       "    .dataframe thead th {\n",
       "        text-align: right;\n",
       "    }\n",
       "</style>\n",
       "<table border=\"1\" class=\"dataframe\">\n",
       "  <thead>\n",
       "    <tr style=\"text-align: right;\">\n",
       "      <th></th>\n",
       "      <th>collector.id</th>\n",
       "      <th>c.score</th>\n",
       "      <th>l.score</th>\n",
       "      <th>rain</th>\n",
       "      <th>tree.age</th>\n",
       "      <th>surface.litter</th>\n",
       "      <th>wind.intensity</th>\n",
       "      <th>humidity</th>\n",
       "      <th>tree.density</th>\n",
       "      <th>month</th>\n",
       "      <th>fire</th>\n",
       "    </tr>\n",
       "  </thead>\n",
       "  <tbody>\n",
       "    <tr>\n",
       "      <th>count</th>\n",
       "      <td>456.000000</td>\n",
       "      <td>456.000000</td>\n",
       "      <td>455.000000</td>\n",
       "      <td>455.000000</td>\n",
       "      <td>455.000000</td>\n",
       "      <td>456.000000</td>\n",
       "      <td>455.000000</td>\n",
       "      <td>453.000000</td>\n",
       "      <td>456.000000</td>\n",
       "      <td>456.000000</td>\n",
       "      <td>456.000000</td>\n",
       "    </tr>\n",
       "    <tr>\n",
       "      <th>mean</th>\n",
       "      <td>5.730263</td>\n",
       "      <td>22.857656</td>\n",
       "      <td>3.010865</td>\n",
       "      <td>0.245926</td>\n",
       "      <td>41.681767</td>\n",
       "      <td>6.623185</td>\n",
       "      <td>3.132817</td>\n",
       "      <td>56.231788</td>\n",
       "      <td>0.613652</td>\n",
       "      <td>6.732456</td>\n",
       "      <td>0.368421</td>\n",
       "    </tr>\n",
       "    <tr>\n",
       "      <th>std</th>\n",
       "      <td>2.921622</td>\n",
       "      <td>130.770478</td>\n",
       "      <td>0.317467</td>\n",
       "      <td>0.200932</td>\n",
       "      <td>49.059173</td>\n",
       "      <td>0.563944</td>\n",
       "      <td>0.081336</td>\n",
       "      <td>6.122037</td>\n",
       "      <td>0.067054</td>\n",
       "      <td>3.429465</td>\n",
       "      <td>0.482906</td>\n",
       "    </tr>\n",
       "    <tr>\n",
       "      <th>min</th>\n",
       "      <td>1.000000</td>\n",
       "      <td>6.981000</td>\n",
       "      <td>2.718282</td>\n",
       "      <td>0.000000</td>\n",
       "      <td>6.802000</td>\n",
       "      <td>5.221436</td>\n",
       "      <td>2.926373</td>\n",
       "      <td>10.000000</td>\n",
       "      <td>0.500000</td>\n",
       "      <td>1.000000</td>\n",
       "      <td>0.000000</td>\n",
       "    </tr>\n",
       "    <tr>\n",
       "      <th>25%</th>\n",
       "      <td>3.000000</td>\n",
       "      <td>11.697500</td>\n",
       "      <td>2.796446</td>\n",
       "      <td>0.095999</td>\n",
       "      <td>17.740000</td>\n",
       "      <td>6.244118</td>\n",
       "      <td>3.076468</td>\n",
       "      <td>54.000000</td>\n",
       "      <td>0.562885</td>\n",
       "      <td>4.000000</td>\n",
       "      <td>0.000000</td>\n",
       "    </tr>\n",
       "    <tr>\n",
       "      <th>50%</th>\n",
       "      <td>6.000000</td>\n",
       "      <td>13.275000</td>\n",
       "      <td>2.888364</td>\n",
       "      <td>0.165706</td>\n",
       "      <td>24.600000</td>\n",
       "      <td>6.516562</td>\n",
       "      <td>3.127381</td>\n",
       "      <td>58.000000</td>\n",
       "      <td>0.598840</td>\n",
       "      <td>7.000000</td>\n",
       "      <td>0.000000</td>\n",
       "    </tr>\n",
       "    <tr>\n",
       "      <th>75%</th>\n",
       "      <td>8.000000</td>\n",
       "      <td>16.040000</td>\n",
       "      <td>3.123109</td>\n",
       "      <td>0.380691</td>\n",
       "      <td>45.410000</td>\n",
       "      <td>6.989334</td>\n",
       "      <td>3.181002</td>\n",
       "      <td>60.000000</td>\n",
       "      <td>0.661300</td>\n",
       "      <td>9.000000</td>\n",
       "      <td>1.000000</td>\n",
       "    </tr>\n",
       "    <tr>\n",
       "      <th>max</th>\n",
       "      <td>11.000000</td>\n",
       "      <td>1990.200000</td>\n",
       "      <td>4.629025</td>\n",
       "      <td>1.000000</td>\n",
       "      <td>542.200000</td>\n",
       "      <td>8.355615</td>\n",
       "      <td>3.487973</td>\n",
       "      <td>62.000000</td>\n",
       "      <td>0.791000</td>\n",
       "      <td>12.000000</td>\n",
       "      <td>1.000000</td>\n",
       "    </tr>\n",
       "  </tbody>\n",
       "</table>\n",
       "</div>"
      ],
      "text/plain": [
       "       collector.id      c.score     l.score        rain    tree.age  \\\n",
       "count    456.000000   456.000000  455.000000  455.000000  455.000000   \n",
       "mean       5.730263    22.857656    3.010865    0.245926   41.681767   \n",
       "std        2.921622   130.770478    0.317467    0.200932   49.059173   \n",
       "min        1.000000     6.981000    2.718282    0.000000    6.802000   \n",
       "25%        3.000000    11.697500    2.796446    0.095999   17.740000   \n",
       "50%        6.000000    13.275000    2.888364    0.165706   24.600000   \n",
       "75%        8.000000    16.040000    3.123109    0.380691   45.410000   \n",
       "max       11.000000  1990.200000    4.629025    1.000000  542.200000   \n",
       "\n",
       "       surface.litter  wind.intensity    humidity  tree.density       month  \\\n",
       "count      456.000000      455.000000  453.000000    456.000000  456.000000   \n",
       "mean         6.623185        3.132817   56.231788      0.613652    6.732456   \n",
       "std          0.563944        0.081336    6.122037      0.067054    3.429465   \n",
       "min          5.221436        2.926373   10.000000      0.500000    1.000000   \n",
       "25%          6.244118        3.076468   54.000000      0.562885    4.000000   \n",
       "50%          6.516562        3.127381   58.000000      0.598840    7.000000   \n",
       "75%          6.989334        3.181002   60.000000      0.661300    9.000000   \n",
       "max          8.355615        3.487973   62.000000      0.791000   12.000000   \n",
       "\n",
       "             fire  \n",
       "count  456.000000  \n",
       "mean     0.368421  \n",
       "std      0.482906  \n",
       "min      0.000000  \n",
       "25%      0.000000  \n",
       "50%      0.000000  \n",
       "75%      1.000000  \n",
       "max      1.000000  "
      ]
     },
     "execution_count": 5,
     "metadata": {},
     "output_type": "execute_result"
    }
   ],
   "source": [
    "df.describe()"
   ]
  },
  {
   "cell_type": "code",
   "execution_count": 6,
   "id": "115ea460",
   "metadata": {},
   "outputs": [
    {
     "data": {
      "text/plain": [
       "collector.id      0\n",
       "c.score           0\n",
       "l.score           1\n",
       "rain              1\n",
       "tree.age          1\n",
       "surface.litter    0\n",
       "wind.intensity    1\n",
       "humidity          3\n",
       "tree.density      0\n",
       "month             0\n",
       "time.of.day       0\n",
       "fire              0\n",
       "dtype: int64"
      ]
     },
     "execution_count": 6,
     "metadata": {},
     "output_type": "execute_result"
    }
   ],
   "source": [
    "# Check if there are any null values, and if so how many\n",
    "df.isnull().sum()"
   ]
  },
  {
   "cell_type": "markdown",
   "id": "93bc557a",
   "metadata": {},
   "source": [
    "It seems like there are some null values in the columns *l.score*, *rain*, *tree.age*, *wind.intensity* and *humidity*. We will remember that for the next step in order to either erase them or replace them by other value (like that column's mean or median) as they will not be helpful for the model.\n",
    "\n",
    "String columns can be a source of errors (mainly spelling errors). As in this case, the only string column is *time.of.day*, I will check if there are any errors on its entries."
   ]
  },
  {
   "cell_type": "code",
   "execution_count": 7,
   "id": "74080604",
   "metadata": {},
   "outputs": [
    {
     "data": {
      "text/plain": [
       "time.of.day\n",
       "night        172\n",
       "morning      148\n",
       "afternoon    135\n",
       "morni7ng       1\n",
       "Name: count, dtype: int64"
      ]
     },
     "execution_count": 7,
     "metadata": {},
     "output_type": "execute_result"
    }
   ],
   "source": [
    "df[\"time.of.day\"].value_counts()"
   ]
  },
  {
   "cell_type": "markdown",
   "id": "6e9b217a",
   "metadata": {},
   "source": [
    "It seems like there was an spelling mistake on the value *morni7ng*. As it is clear that what it actually meant is *morning*, I will correct it now."
   ]
  },
  {
   "cell_type": "code",
   "execution_count": 8,
   "id": "5363e3a7",
   "metadata": {},
   "outputs": [],
   "source": [
    "df[\"time.of.day\"].replace({\"morni7ng\":\"morning\"}, inplace=True)"
   ]
  },
  {
   "cell_type": "markdown",
   "id": "14292e7f",
   "metadata": {},
   "source": [
    "The easiest way to spot outliers is by plotting the distribution of our variables:"
   ]
  },
  {
   "cell_type": "code",
   "execution_count": 9,
   "id": "ac88bacc",
   "metadata": {},
   "outputs": [
    {
     "data": {
      "text/plain": [
       "array([[<Axes: title={'center': 'collector.id'}>,\n",
       "        <Axes: title={'center': 'c.score'}>,\n",
       "        <Axes: title={'center': 'l.score'}>],\n",
       "       [<Axes: title={'center': 'rain'}>,\n",
       "        <Axes: title={'center': 'tree.age'}>,\n",
       "        <Axes: title={'center': 'surface.litter'}>],\n",
       "       [<Axes: title={'center': 'wind.intensity'}>,\n",
       "        <Axes: title={'center': 'humidity'}>,\n",
       "        <Axes: title={'center': 'tree.density'}>],\n",
       "       [<Axes: title={'center': 'month'}>,\n",
       "        <Axes: title={'center': 'fire'}>, <Axes: >]], dtype=object)"
      ]
     },
     "execution_count": 9,
     "metadata": {},
     "output_type": "execute_result"
    },
    {
     "data": {
      "image/png": "[encoded data removed]",
      "text/plain": [
       "<Figure size 1500x2000 with 12 Axes>"
      ]
     },
     "metadata": {},
     "output_type": "display_data"
    }
   ],
   "source": [
    "df.hist(figsize = (15,20))"
   ]
  },
  {
   "cell_type": "markdown",
   "id": "40d793c4",
   "metadata": {},
   "source": [
    "From the previous group of histograms, a serie of ideas can be extracted:\n",
    "\n",
    "- The column *c.score* contains some outliers (values over 1500), which stop us from seeing its actual distribution. Having said this, it would interesting to remove those values as they might confuse the models and therefore worsen their predictive power.\n",
    "\n",
    "- The column *tree.age* also contains some outliers (values over 400). These values are correct values (as trees can be over 400 years of age), but as they are so far away from the rest of values it would appropriate to remove them as they will not help the model (trees that old are not that common and they are more likely to burn easier).\n",
    "\n",
    "- The positive values for the variable (the ones that indicate that there is a fire) are underrepresented in the dataset. This could lead to a model bias towards the negative value of said feature.\n",
    "\n",
    "Before going to the next step, I would like to point out the fact that the variable *time.of.day* is categorical and might be interesting to one-hot encode it."
   ]
  },
  {
   "cell_type": "code",
   "execution_count": 10,
   "id": "db6d960c",
   "metadata": {},
   "outputs": [],
   "source": [
    "df = pd.get_dummies(df, prefix_sep='_', drop_first=True)"
   ]
  },
  {
   "cell_type": "markdown",
   "id": "d535ae9e",
   "metadata": {},
   "source": [
    "---\n",
    "# Metric Decision\n",
    "\n",
    "Before building any model, we have to think in what metric we should use to define if the models we are about to build are either good or bad. The problem could (and actually will be by some of our models) treated in two different ways: as a **regression problem** and as a **classification problem**.\n",
    "Models such as the **Logistic Regression** will predict the probability of a fire ocurring, rather than if a fire will or not occur (in other words, a *regression problem*). For this case it might be interesting to use the **R^2** metric.\n",
    "\n",
    "The rest of the models (both **DecisionTrees** and **Neural Networks**) will treat the problem as a *classification problem*.\n",
    "\n",
    "For this case, we need to consider what does the elements of the confussion matrix actually mean for our specific problem:\n",
    "\n",
    " - TP: A fire alert for an actual fire.\n",
    " - TN: Not a fire alert as there is no actual fire.\n",
    " - FP: A fire alert for a fictional fire.\n",
    " - FN: Not a fire alert, but there is an actual fire.\n",
    "\n",
    "As the two main things we want to avoid are *FP* (calling the firefighters, mobilising the operatives, .... which costs quite a lot of money, among other things) and *FN* (as we wouldn't know that there is an actual fire happening, which could have horrible consequences), I will choose the **F1 Score** (or also called the Harmonic Mean of Precision and Recall), as it aims to avoid or reduce both values mentioned.\n",
    "\n",
    "Although both metrics will be used, the main one to guide the decisions will be the **F1 Score**, **R^2** one the other hand will help to support the reasoning."
   ]
  },
  {
   "cell_type": "markdown",
   "id": "4a1ab5fe",
   "metadata": {},
   "source": [
    "---\n",
    "# Note\n",
    "\n",
    "To try to find the best model hyperparameters I will use in all cases the *GridSearch* method (which consists of an exhaustive search through the chosen values for some of the hyperparameters of the model) as it is better than *RandomSearch* (which randomly tries different combinations for the hyperparameters) and less time consuming than *ExhaustiveSearch* (which, as its name suggests, tries every single combination of the hyperparameters of a model)."
   ]
  },
  {
   "cell_type": "markdown",
   "id": "60241142",
   "metadata": {},
   "source": [
    "---\n",
    "# Data Split\n",
    "\n",
    "Before training the models, it is needed to split the data into at least two different groups (training and test) so that there is no data leakage and the model that is being built can generalize and predict unseen data.\n",
    "\n",
    "In my case, I will divide the data in 3 different groups: training (which will be used for training the models), validation (which will be used to test all models' performance) and test (which will be used to test if the performance of the model with the highest value of the chosen metric stays the same or gets worse). "
   ]
  },
  {
   "cell_type": "code",
   "execution_count": 11,
   "id": "fef6ab9f",
   "metadata": {},
   "outputs": [],
   "source": [
    "# Set features and targets variables\n",
    "# Also remove the column collector.id as it brings no relevant information\n",
    "targetName = \"fire\"\n",
    "allFeatureNames = df.columns[df.columns != targetName]\n",
    "allFeatureNames = allFeatureNames[allFeatureNames != \"collector.id\"]\n",
    "# df_nonull = df.dropna()\n",
    "X = df[allFeatureNames]\n",
    "y = df[targetName]"
   ]
  },
  {
   "cell_type": "code",
   "execution_count": 12,
   "id": "e6b7ee82",
   "metadata": {},
   "outputs": [],
   "source": [
    "# Divide the data in train and test data\n",
    "X_train, X_test, y_train, y_test = train_test_split(X, y, test_size=0.2, random_state=1)"
   ]
  },
  {
   "cell_type": "code",
   "execution_count": 13,
   "id": "0ecf2e9c",
   "metadata": {},
   "outputs": [],
   "source": [
    "# Divide the training data again into training and validation\n",
    "X_train, X_validation, y_train, y_validation = train_test_split(X_train, y_train, test_size=0.2, random_state=1)"
   ]
  },
  {
   "cell_type": "markdown",
   "id": "9c4f8e58",
   "metadata": {},
   "source": [
    "Once the data is splitted, I will clean data from the values previously mentioned (mainly outliers and null values)."
   ]
  },
  {
   "cell_type": "code",
   "execution_count": 14,
   "id": "9696f66e",
   "metadata": {},
   "outputs": [],
   "source": [
    "y_train = y_train[X_train[\"l.score\"].notnull()]\n",
    "y_train = y_train[X_train[\"rain\"].notnull()]\n",
    "y_train = y_train[X_train[\"tree.age\"].notnull()]\n",
    "y_train = y_train[X_train[\"wind.intensity\"].notnull()]\n",
    "y_train = y_train[X_train[\"humidity\"].notnull()]\n",
    "X_train.dropna(inplace=True)"
   ]
  },
  {
   "cell_type": "code",
   "execution_count": 15,
   "id": "f140663e",
   "metadata": {},
   "outputs": [],
   "source": [
    "y_train = y_train[X_train[\"c.score\"]<100]\n",
    "X_train = X_train[X_train[\"c.score\"]<100]\n",
    "y_train = y_train[X_train[\"tree.age\"]<200] \n",
    "X_train = X_train[X_train[\"tree.age\"]<200]"
   ]
  },
  {
   "cell_type": "code",
   "execution_count": 16,
   "id": "3f45deb4",
   "metadata": {
    "scrolled": true
   },
   "outputs": [
    {
     "data": {
      "text/html": [
       "<div>\n",
       "<style scoped>\n",
       "    .dataframe tbody tr th:only-of-type {\n",
       "        vertical-align: middle;\n",
       "    }\n",
       "\n",
       "    .dataframe tbody tr th {\n",
       "        vertical-align: top;\n",
       "    }\n",
       "\n",
       "    .dataframe thead th {\n",
       "        text-align: right;\n",
       "    }\n",
       "</style>\n",
       "<table border=\"1\" class=\"dataframe\">\n",
       "  <thead>\n",
       "    <tr style=\"text-align: right;\">\n",
       "      <th></th>\n",
       "      <th>c.score</th>\n",
       "      <th>l.score</th>\n",
       "      <th>rain</th>\n",
       "      <th>tree.age</th>\n",
       "      <th>surface.litter</th>\n",
       "      <th>wind.intensity</th>\n",
       "      <th>humidity</th>\n",
       "      <th>tree.density</th>\n",
       "      <th>month</th>\n",
       "      <th>time.of.day_morning</th>\n",
       "      <th>time.of.day_night</th>\n",
       "    </tr>\n",
       "  </thead>\n",
       "  <tbody>\n",
       "    <tr>\n",
       "      <th>0</th>\n",
       "      <td>12.860</td>\n",
       "      <td>2.828244</td>\n",
       "      <td>0.115060</td>\n",
       "      <td>20.350</td>\n",
       "      <td>6.433101</td>\n",
       "      <td>3.119199</td>\n",
       "      <td>58.0</td>\n",
       "      <td>0.57926</td>\n",
       "      <td>11</td>\n",
       "      <td>True</td>\n",
       "      <td>False</td>\n",
       "    </tr>\n",
       "    <tr>\n",
       "      <th>1</th>\n",
       "      <td>14.710</td>\n",
       "      <td>3.120619</td>\n",
       "      <td>0.403728</td>\n",
       "      <td>40.090</td>\n",
       "      <td>6.893149</td>\n",
       "      <td>3.147470</td>\n",
       "      <td>51.0</td>\n",
       "      <td>0.68340</td>\n",
       "      <td>8</td>\n",
       "      <td>True</td>\n",
       "      <td>False</td>\n",
       "    </tr>\n",
       "    <tr>\n",
       "      <th>2</th>\n",
       "      <td>13.530</td>\n",
       "      <td>2.918850</td>\n",
       "      <td>0.325845</td>\n",
       "      <td>32.650</td>\n",
       "      <td>6.406055</td>\n",
       "      <td>3.177692</td>\n",
       "      <td>60.0</td>\n",
       "      <td>0.57407</td>\n",
       "      <td>12</td>\n",
       "      <td>False</td>\n",
       "      <td>False</td>\n",
       "    </tr>\n",
       "    <tr>\n",
       "      <th>3</th>\n",
       "      <td>9.295</td>\n",
       "      <td>2.811959</td>\n",
       "      <td>0.120328</td>\n",
       "      <td>19.630</td>\n",
       "      <td>5.788736</td>\n",
       "      <td>3.330820</td>\n",
       "      <td>58.0</td>\n",
       "      <td>0.57262</td>\n",
       "      <td>12</td>\n",
       "      <td>False</td>\n",
       "      <td>True</td>\n",
       "    </tr>\n",
       "    <tr>\n",
       "      <th>4</th>\n",
       "      <td>17.540</td>\n",
       "      <td>3.031801</td>\n",
       "      <td>0.372167</td>\n",
       "      <td>40.730</td>\n",
       "      <td>7.122060</td>\n",
       "      <td>3.152168</td>\n",
       "      <td>54.0</td>\n",
       "      <td>0.69390</td>\n",
       "      <td>6</td>\n",
       "      <td>False</td>\n",
       "      <td>True</td>\n",
       "    </tr>\n",
       "    <tr>\n",
       "      <th>...</th>\n",
       "      <td>...</td>\n",
       "      <td>...</td>\n",
       "      <td>...</td>\n",
       "      <td>...</td>\n",
       "      <td>...</td>\n",
       "      <td>...</td>\n",
       "      <td>...</td>\n",
       "      <td>...</td>\n",
       "      <td>...</td>\n",
       "      <td>...</td>\n",
       "      <td>...</td>\n",
       "    </tr>\n",
       "    <tr>\n",
       "      <th>276</th>\n",
       "      <td>11.040</td>\n",
       "      <td>2.818194</td>\n",
       "      <td>0.103082</td>\n",
       "      <td>11.680</td>\n",
       "      <td>6.102782</td>\n",
       "      <td>3.051765</td>\n",
       "      <td>59.0</td>\n",
       "      <td>0.56754</td>\n",
       "      <td>12</td>\n",
       "      <td>False</td>\n",
       "      <td>False</td>\n",
       "    </tr>\n",
       "    <tr>\n",
       "      <th>277</th>\n",
       "      <td>11.630</td>\n",
       "      <td>2.927725</td>\n",
       "      <td>0.100249</td>\n",
       "      <td>23.130</td>\n",
       "      <td>6.268717</td>\n",
       "      <td>3.161239</td>\n",
       "      <td>58.0</td>\n",
       "      <td>0.56835</td>\n",
       "      <td>5</td>\n",
       "      <td>True</td>\n",
       "      <td>False</td>\n",
       "    </tr>\n",
       "    <tr>\n",
       "      <th>278</th>\n",
       "      <td>9.742</td>\n",
       "      <td>2.748598</td>\n",
       "      <td>0.069930</td>\n",
       "      <td>16.390</td>\n",
       "      <td>5.872681</td>\n",
       "      <td>3.183581</td>\n",
       "      <td>61.0</td>\n",
       "      <td>0.55159</td>\n",
       "      <td>3</td>\n",
       "      <td>True</td>\n",
       "      <td>False</td>\n",
       "    </tr>\n",
       "    <tr>\n",
       "      <th>279</th>\n",
       "      <td>11.540</td>\n",
       "      <td>2.755955</td>\n",
       "      <td>0.044269</td>\n",
       "      <td>9.438</td>\n",
       "      <td>6.148041</td>\n",
       "      <td>3.050744</td>\n",
       "      <td>59.0</td>\n",
       "      <td>0.54715</td>\n",
       "      <td>5</td>\n",
       "      <td>False</td>\n",
       "      <td>False</td>\n",
       "    </tr>\n",
       "    <tr>\n",
       "      <th>280</th>\n",
       "      <td>12.650</td>\n",
       "      <td>2.954919</td>\n",
       "      <td>0.252187</td>\n",
       "      <td>18.400</td>\n",
       "      <td>6.451576</td>\n",
       "      <td>3.208086</td>\n",
       "      <td>53.0</td>\n",
       "      <td>0.64070</td>\n",
       "      <td>1</td>\n",
       "      <td>False</td>\n",
       "      <td>True</td>\n",
       "    </tr>\n",
       "  </tbody>\n",
       "</table>\n",
       "<p>281 rows × 11 columns</p>\n",
       "</div>"
      ],
      "text/plain": [
       "     c.score   l.score      rain  tree.age  surface.litter  wind.intensity  \\\n",
       "0     12.860  2.828244  0.115060    20.350        6.433101        3.119199   \n",
       "1     14.710  3.120619  0.403728    40.090        6.893149        3.147470   \n",
       "2     13.530  2.918850  0.325845    32.650        6.406055        3.177692   \n",
       "3      9.295  2.811959  0.120328    19.630        5.788736        3.330820   \n",
       "4     17.540  3.031801  0.372167    40.730        7.122060        3.152168   \n",
       "..       ...       ...       ...       ...             ...             ...   \n",
       "276   11.040  2.818194  0.103082    11.680        6.102782        3.051765   \n",
       "277   11.630  2.927725  0.100249    23.130        6.268717        3.161239   \n",
       "278    9.742  2.748598  0.069930    16.390        5.872681        3.183581   \n",
       "279   11.540  2.755955  0.044269     9.438        6.148041        3.050744   \n",
       "280   12.650  2.954919  0.252187    18.400        6.451576        3.208086   \n",
       "\n",
       "     humidity  tree.density  month  time.of.day_morning  time.of.day_night  \n",
       "0        58.0       0.57926     11                 True              False  \n",
       "1        51.0       0.68340      8                 True              False  \n",
       "2        60.0       0.57407     12                False              False  \n",
       "3        58.0       0.57262     12                False               True  \n",
       "4        54.0       0.69390      6                False               True  \n",
       "..        ...           ...    ...                  ...                ...  \n",
       "276      59.0       0.56754     12                False              False  \n",
       "277      58.0       0.56835      5                 True              False  \n",
       "278      61.0       0.55159      3                 True              False  \n",
       "279      59.0       0.54715      5                False              False  \n",
       "280      53.0       0.64070      1                False               True  \n",
       "\n",
       "[281 rows x 11 columns]"
      ]
     },
     "execution_count": 16,
     "metadata": {},
     "output_type": "execute_result"
    }
   ],
   "source": [
    "X_train.reset_index(drop=True)"
   ]
  },
  {
   "cell_type": "markdown",
   "id": "7da6ddbe",
   "metadata": {},
   "source": [
    "# Clean Data\n",
    "\n",
    "The first thing I will try is to train the models with the clean data, the data without modification but for those performed in the data cleaning step.\n",
    "\n",
    "### Logistic Regression"
   ]
  },
  {
   "cell_type": "code",
   "execution_count": 17,
   "id": "1ed4df3f",
   "metadata": {},
   "outputs": [],
   "source": [
    "parametersLR = dict(solver=[\"liblinear\",\"lbfgs\",\"sag\",],\n",
    "                    penalty=['l2'],\n",
    "                    max_iter=[None, 2000, 5000])"
   ]
  },
  {
   "cell_type": "markdown",
   "id": "e333f67a",
   "metadata": {},
   "source": [
    "The following line will avoid getting printed some errors like *ConvergenceWarning* that some models might print and would make this notebook less legible."
   ]
  },
  {
   "cell_type": "code",
   "execution_count": 18,
   "id": "e8f6bbaa",
   "metadata": {},
   "outputs": [],
   "source": [
    "warnings.filterwarnings('ignore')"
   ]
  },
  {
   "cell_type": "code",
   "execution_count": 19,
   "id": "f617ea98",
   "metadata": {
    "scrolled": true
   },
   "outputs": [],
   "source": [
    "lR = LogisticRegression(random_state=1)\n",
    "lR_clf = GridSearchCV(lR, parametersLR, scoring=\"f1_macro\").fit(X_train, y_train)"
   ]
  },
  {
   "cell_type": "code",
   "execution_count": 20,
   "id": "ac04f525",
   "metadata": {},
   "outputs": [],
   "source": [
    "y_validation = y_validation[X_validation[\"l.score\"].notnull()]\n",
    "y_validation = y_validation[X_validation[\"rain\"].notnull()]\n",
    "y_validation = y_validation[X_validation[\"tree.age\"].notnull()]\n",
    "y_validation = y_validation[X_validation[\"wind.intensity\"].notnull()]\n",
    "y_validation = y_validation[X_validation[\"humidity\"].notnull()]\n",
    "X_validation.dropna(inplace=True)"
   ]
  },
  {
   "cell_type": "code",
   "execution_count": 21,
   "id": "48d82303",
   "metadata": {},
   "outputs": [],
   "source": [
    "y_validation = y_validation[X_validation[\"c.score\"]<100] \n",
    "X_validation = X_validation[X_validation[\"c.score\"]<100]\n",
    "y_validation = y_validation[X_validation[\"tree.age\"]<200]\n",
    "X_validation = X_validation[X_validation[\"tree.age\"]<200]"
   ]
  },
  {
   "cell_type": "code",
   "execution_count": 22,
   "id": "93da38b5",
   "metadata": {},
   "outputs": [
    {
     "name": "stdout",
     "output_type": "stream",
     "text": [
      "{'max_iter': 2000, 'penalty': 'l2', 'solver': 'lbfgs'}\n",
      "0.862\n"
     ]
    }
   ],
   "source": [
    "print(lR_clf.best_params_)\n",
    "print(round(metrics.f1_score(lR_clf.best_estimator_.predict(X_validation), y_validation, average=\"macro\"), 3))"
   ]
  },
  {
   "cell_type": "code",
   "execution_count": 23,
   "id": "7c61acf4",
   "metadata": {},
   "outputs": [
    {
     "name": "stdout",
     "output_type": "stream",
     "text": [
      "R2: 0.4524999999999999\n"
     ]
    }
   ],
   "source": [
    "print(\"R2:\", metrics.r2_score(y_validation, lR_clf.best_estimator_.predict(X_validation)))"
   ]
  },
  {
   "cell_type": "markdown",
   "id": "40841040",
   "metadata": {},
   "source": [
    "As the result obtained by the **GridSearch** doesn't look as good as I expected, I will perform some manual search."
   ]
  },
  {
   "cell_type": "markdown",
   "id": "9601dfd7",
   "metadata": {},
   "source": [
    "**Logistic Regression** with *{'penalty': 'l2', 'solver': 'liblinear'}*"
   ]
  },
  {
   "cell_type": "code",
   "execution_count": 24,
   "id": "2a3e88d1",
   "metadata": {},
   "outputs": [],
   "source": [
    "lR1 = LogisticRegression(random_state=1, penalty=\"l2\", solver=\"liblinear\").fit(X_train, y_train)"
   ]
  },
  {
   "cell_type": "code",
   "execution_count": 25,
   "id": "36bdfa24",
   "metadata": {
    "scrolled": true
   },
   "outputs": [
    {
     "name": "stdout",
     "output_type": "stream",
     "text": [
      "0.862\n"
     ]
    }
   ],
   "source": [
    "y_lR1 = lR1.predict_proba(X_validation)[:,1]\n",
    "y_lR1 = [round(y) for y in y_lR1]\n",
    "print(round(metrics.f1_score(y_lR1, y_validation, average=\"macro\"), 3))"
   ]
  },
  {
   "cell_type": "markdown",
   "id": "e2f9b908",
   "metadata": {},
   "source": [
    "**Logistic Regression** with *{'penalty': 'l2', 'solver': 'sag'}*"
   ]
  },
  {
   "cell_type": "code",
   "execution_count": 26,
   "id": "df9e8091",
   "metadata": {},
   "outputs": [],
   "source": [
    "lR2 = LogisticRegression(random_state=1, penalty=\"l2\", solver=\"sag\").fit(X_train, y_train)"
   ]
  },
  {
   "cell_type": "code",
   "execution_count": 27,
   "id": "999214c6",
   "metadata": {
    "scrolled": true
   },
   "outputs": [
    {
     "name": "stdout",
     "output_type": "stream",
     "text": [
      "0.862\n"
     ]
    }
   ],
   "source": [
    "y_lR2 = lR2.predict_proba(X_validation)[:,1]\n",
    "y_lR2 = [round(y) for y in y_lR2]\n",
    "print(round(metrics.f1_score(y_lR2, y_validation, average=\"macro\"), 3))"
   ]
  },
  {
   "cell_type": "markdown",
   "id": "64069ab3",
   "metadata": {},
   "source": [
    "**Note**: As it can be observed, for some reason the *GridSearch* is not really making an exhaustive search (although it is supposed to). Knowing this, we might have to consider doing some manual iterations over the hyperparameters if the result obtained is not as high as expected."
   ]
  },
  {
   "cell_type": "markdown",
   "id": "8a837cfa",
   "metadata": {},
   "source": [
    "### Decision Tree"
   ]
  },
  {
   "cell_type": "code",
   "execution_count": 28,
   "id": "2e420ead",
   "metadata": {},
   "outputs": [],
   "source": [
    "parametersDT = dict(criterion=[\"gini\",\"entropy\",\"log_loss\",],\n",
    "                    max_depth=[None, 6, 20])"
   ]
  },
  {
   "cell_type": "code",
   "execution_count": 29,
   "id": "222c2023",
   "metadata": {},
   "outputs": [],
   "source": [
    "tree_clf = tree.DecisionTreeClassifier(random_state=1)\n",
    "tree_Grid = GridSearchCV(tree_clf, parametersDT, scoring=\"f1_macro\").fit(X_train, y_train)"
   ]
  },
  {
   "cell_type": "code",
   "execution_count": 30,
   "id": "74ab4d70",
   "metadata": {},
   "outputs": [
    {
     "name": "stdout",
     "output_type": "stream",
     "text": [
      "{'criterion': 'entropy', 'max_depth': None}\n",
      "0.84\n"
     ]
    }
   ],
   "source": [
    "print(tree_Grid.best_params_)\n",
    "print(round(metrics.f1_score(tree_Grid.best_estimator_.predict(X_validation), y_validation, average=\"macro\"), 3))"
   ]
  },
  {
   "cell_type": "code",
   "execution_count": 32,
   "id": "2a8f9f7f",
   "metadata": {},
   "outputs": [
    {
     "name": "stdout",
     "output_type": "stream",
     "text": [
      "R2: 0.3308333333333333\n"
     ]
    }
   ],
   "source": [
    "print(\"R2:\", metrics.r2_score(y_validation, tree_Grid.best_estimator_.predict(X_validation)))"
   ]
  },
  {
   "cell_type": "markdown",
   "id": "c062b2b2",
   "metadata": {},
   "source": [
    "As the result obtained by **GridSearch** doesn't look as good as I expected, I will perform some search manually."
   ]
  },
  {
   "cell_type": "markdown",
   "id": "7a7f5454",
   "metadata": {},
   "source": [
    "**DecisionTreeClassifier** with *{'criterion':'gini'}*"
   ]
  },
  {
   "cell_type": "code",
   "execution_count": 33,
   "id": "928fa4a5",
   "metadata": {},
   "outputs": [],
   "source": [
    "tree_g = tree.DecisionTreeClassifier(criterion=\"gini\",random_state=1).fit(X_train, y_train)\n",
    "y_DTC_g = tree_g.predict(X_validation)"
   ]
  },
  {
   "cell_type": "code",
   "execution_count": 34,
   "id": "d5b59c24",
   "metadata": {},
   "outputs": [
    {
     "name": "stdout",
     "output_type": "stream",
     "text": [
      "The F1 score (no label imbalance into account) is: 0.853\n"
     ]
    }
   ],
   "source": [
    "print(f\"The F1 score (no label imbalance into account) is: {round(metrics.f1_score(y_DTC_g, y_validation, average='macro'),3)}\")"
   ]
  },
  {
   "cell_type": "markdown",
   "id": "6348c442",
   "metadata": {},
   "source": [
    "**DecisionTreeClassifier** with *{'criterion':'log_loss'}*"
   ]
  },
  {
   "cell_type": "code",
   "execution_count": 35,
   "id": "abd45ee8",
   "metadata": {},
   "outputs": [],
   "source": [
    "tree_LL = tree.DecisionTreeClassifier(criterion=\"log_loss\",random_state=1).fit(X_train, y_train)\n",
    "y_DTC_LL = tree_LL.predict(X_validation)"
   ]
  },
  {
   "cell_type": "code",
   "execution_count": 36,
   "id": "1bf962eb",
   "metadata": {},
   "outputs": [
    {
     "name": "stdout",
     "output_type": "stream",
     "text": [
      "The F1 score is: 0.84\n"
     ]
    }
   ],
   "source": [
    "print(f\"The F1 score is: {round(metrics.f1_score(y_DTC_LL, y_validation, average='macro'),3)}\")"
   ]
  },
  {
   "cell_type": "markdown",
   "id": "ed12f3b0",
   "metadata": {},
   "source": [
    "### RandomForest\n",
    "\n",
    "RandomForest is the bagging (consists of training a number of models in parallel using bootstrapped samples of the data in order to decrease the model's variance) ensemble method of the *Decision Tree Classifier*."
   ]
  },
  {
   "cell_type": "code",
   "execution_count": 37,
   "id": "0653d247",
   "metadata": {},
   "outputs": [],
   "source": [
    "parametersRF = dict(criterion=[\"gini\",\"entropy\",\"log_loss\",],\n",
    "                    n_estimators=[10,50,100],\n",
    "                    max_depth=[None, 6, 20])"
   ]
  },
  {
   "cell_type": "code",
   "execution_count": 38,
   "id": "67d11adc",
   "metadata": {},
   "outputs": [],
   "source": [
    "rf_clf = RandomForestClassifier(random_state=1)\n",
    "rf_Grid = GridSearchCV(rf_clf, parametersRF, scoring=\"f1_macro\").fit(X_train, y_train)"
   ]
  },
  {
   "cell_type": "code",
   "execution_count": 39,
   "id": "5a288396",
   "metadata": {},
   "outputs": [
    {
     "name": "stdout",
     "output_type": "stream",
     "text": [
      "{'criterion': 'entropy', 'max_depth': None, 'n_estimators': 100}\n",
      "0.876\n"
     ]
    }
   ],
   "source": [
    "print(rf_Grid.best_params_)\n",
    "print(round(metrics.f1_score(rf_Grid.best_estimator_.predict(X_validation), y_validation, average=\"macro\"), 3))"
   ]
  },
  {
   "cell_type": "code",
   "execution_count": 40,
   "id": "d8825043",
   "metadata": {},
   "outputs": [
    {
     "name": "stdout",
     "output_type": "stream",
     "text": [
      "R2: 0.5133333333333332\n"
     ]
    }
   ],
   "source": [
    "print(\"R2:\", metrics.r2_score(y_validation, rf_Grid.best_estimator_.predict(X_validation)))"
   ]
  },
  {
   "cell_type": "markdown",
   "id": "c280d9a5",
   "metadata": {},
   "source": [
    "**RandomForest** with *{'n_estimators'=50,'criterion'='log_loss'}*"
   ]
  },
  {
   "cell_type": "code",
   "execution_count": 41,
   "id": "bdb96e4e",
   "metadata": {},
   "outputs": [],
   "source": [
    "rf1 = RandomForestClassifier(n_estimators=50, random_state=1, criterion=\"log_loss\").fit(X_train, y_train)\n",
    "y_rf1 = rf1.predict(X_validation)"
   ]
  },
  {
   "cell_type": "code",
   "execution_count": 42,
   "id": "72ce5495",
   "metadata": {
    "scrolled": true
   },
   "outputs": [
    {
     "name": "stdout",
     "output_type": "stream",
     "text": [
      "The F1 score is: 0.876\n"
     ]
    }
   ],
   "source": [
    "print(f\"The F1 score is: {round(metrics.f1_score(y_rf1, y_validation, average='macro'),3)}\")"
   ]
  },
  {
   "cell_type": "markdown",
   "id": "9609acb9",
   "metadata": {},
   "source": [
    "**RandomForest** with *{'n_estimator'=25,'max_depth'=6, 'random_state'=1}*"
   ]
  },
  {
   "cell_type": "code",
   "execution_count": 43,
   "id": "bd22339b",
   "metadata": {},
   "outputs": [],
   "source": [
    "rf2 = RandomForestClassifier(n_estimators=25, max_depth=6, random_state=1).fit(X_train, y_train)\n",
    "y_rf2 = rf2.predict(X_validation)"
   ]
  },
  {
   "cell_type": "code",
   "execution_count": 44,
   "id": "90cf80d3",
   "metadata": {},
   "outputs": [
    {
     "name": "stdout",
     "output_type": "stream",
     "text": [
      "The F1 score is: 0.878\n"
     ]
    }
   ],
   "source": [
    "print(f\"The F1 score is: {round(metrics.f1_score(y_rf2, y_validation, average='macro'),3)}\")"
   ]
  },
  {
   "cell_type": "markdown",
   "id": "15e50ace",
   "metadata": {},
   "source": [
    "**RandomForest** with *{'n_estimator'=25,'random_state'=1}*"
   ]
  },
  {
   "cell_type": "code",
   "execution_count": 45,
   "id": "91ab3c90",
   "metadata": {},
   "outputs": [],
   "source": [
    "rf3 = RandomForestClassifier(n_estimators=25, random_state=1).fit(X_train, y_train)\n",
    "y_rf3 = rf3.predict(X_validation)"
   ]
  },
  {
   "cell_type": "code",
   "execution_count": 46,
   "id": "58b9c39a",
   "metadata": {},
   "outputs": [
    {
     "name": "stdout",
     "output_type": "stream",
     "text": [
      "The F1 score is: 0.845\n"
     ]
    }
   ],
   "source": [
    "print(f\"The F1 score is: {round(metrics.f1_score(y_rf3, y_validation, average='macro'),3)}\")"
   ]
  },
  {
   "cell_type": "markdown",
   "id": "06b3842e",
   "metadata": {},
   "source": [
    "### Neural Network"
   ]
  },
  {
   "cell_type": "code",
   "execution_count": 47,
   "id": "190b0524",
   "metadata": {},
   "outputs": [],
   "source": [
    "parametersNN = dict(activation=[\"relu\",\"logistic\",\"tanh\",\"identity\"],\n",
    "                    learning_rate_init=[0.001,0.01,0.05],\n",
    "                    solver=[\"adam\", \"sgd\", \"lbfgs\"],\n",
    "                    max_iter=[200, 800, 1400],\n",
    "                    hidden_layer_sizes=[(10),(5,5),(5,5,5)])"
   ]
  },
  {
   "cell_type": "code",
   "execution_count": 48,
   "id": "ed6c6844",
   "metadata": {},
   "outputs": [],
   "source": [
    "mlp_clf = MLPClassifier(random_state=1)\n",
    "mlp_Grid = GridSearchCV(mlp_clf, parametersNN, scoring=\"f1_macro\").fit(X_train, y_train)"
   ]
  },
  {
   "cell_type": "code",
   "execution_count": 49,
   "id": "dad39f81",
   "metadata": {},
   "outputs": [
    {
     "name": "stdout",
     "output_type": "stream",
     "text": [
      "{'activation': 'relu', 'hidden_layer_sizes': (5, 5, 5), 'learning_rate_init': 0.001, 'max_iter': 200, 'solver': 'lbfgs'}\n",
      "0.87\n"
     ]
    }
   ],
   "source": [
    "print(mlp_Grid.best_params_)\n",
    "print(round(metrics.f1_score(mlp_Grid.best_estimator_.predict(X_validation), y_validation, average=\"macro\"), 3))"
   ]
  },
  {
   "cell_type": "code",
   "execution_count": 50,
   "id": "b45626a2",
   "metadata": {},
   "outputs": [
    {
     "name": "stdout",
     "output_type": "stream",
     "text": [
      "R2: 0.4524999999999999\n"
     ]
    }
   ],
   "source": [
    "print(\"R2:\", metrics.r2_score(y_validation, mlp_Grid.best_estimator_.predict(X_validation)))"
   ]
  },
  {
   "cell_type": "markdown",
   "id": "78d4dad2",
   "metadata": {},
   "source": [
    "As the result obtained by **MLPClassifier** doesn't look as good as I expected, I will perform some search manually."
   ]
  },
  {
   "cell_type": "markdown",
   "id": "271dc367",
   "metadata": {},
   "source": [
    "**MLPClassifier** with *{'solver':'adam','hidden_layer_sizes'=(10),'max_iter'=2000,'activation'='logistic'}*"
   ]
  },
  {
   "cell_type": "code",
   "execution_count": 51,
   "id": "f04e7b32",
   "metadata": {},
   "outputs": [],
   "source": [
    "mlp1 = MLPClassifier(solver='adam', hidden_layer_sizes=(10), max_iter=2000, activation='logistic',random_state=1).fit(X_train, y_train)\n",
    "y_MLP1 = mlp1.predict(X_validation)"
   ]
  },
  {
   "cell_type": "code",
   "execution_count": 52,
   "id": "0c66f9ac",
   "metadata": {},
   "outputs": [
    {
     "name": "stdout",
     "output_type": "stream",
     "text": [
      "The F1 score is: 0.925\n"
     ]
    }
   ],
   "source": [
    "print(f\"The F1 score is: {round(metrics.f1_score(y_MLP1, y_validation, average='macro'),3)}\")"
   ]
  },
  {
   "cell_type": "markdown",
   "id": "cdfdb35f",
   "metadata": {},
   "source": [
    "**MLPClassifier** with *{'solver':'lbfgs','hidden_layer_sizes'=(5,5),'activation'='relu'}*"
   ]
  },
  {
   "cell_type": "code",
   "execution_count": 53,
   "id": "f5851ade",
   "metadata": {},
   "outputs": [],
   "source": [
    "mlp2 = MLPClassifier(solver='lbfgs', hidden_layer_sizes=(5,5), activation='relu',random_state=1).fit(X_train, y_train)\n",
    "y_MLP2 = mlp2.predict(X_validation)"
   ]
  },
  {
   "cell_type": "code",
   "execution_count": 54,
   "id": "5c6bbec2",
   "metadata": {},
   "outputs": [
    {
     "name": "stdout",
     "output_type": "stream",
     "text": [
      "The F1 score is: 0.862\n"
     ]
    }
   ],
   "source": [
    "print(f\"The F1 score is: {round(metrics.f1_score(y_MLP2, y_validation, average='macro'),3)}\")"
   ]
  },
  {
   "cell_type": "markdown",
   "id": "b50f9dc5",
   "metadata": {},
   "source": [
    "## Best model for clean data\n",
    "\n",
    "The best model I could find for the clean data is **MLPClassifier** with the following hyperparameters:\n",
    " - 'solver':'adam'\n",
    " - 'hidden_layer_sizes':(10)\n",
    " - 'max_iter':2000\n",
    " - 'activation':'logistic'\n",
    "\n",
    "To see if the model chosen is actually as good as it seems I will use it to predict the test data and see how good its prediction power."
   ]
  },
  {
   "cell_type": "code",
   "execution_count": 55,
   "id": "54e0a408",
   "metadata": {},
   "outputs": [],
   "source": [
    "y_test = y_test[X_test[\"l.score\"].notnull()]\n",
    "y_test = y_test[X_test[\"rain\"].notnull()]\n",
    "y_test = y_test[X_test[\"tree.age\"].notnull()]\n",
    "y_test = y_test[X_test[\"wind.intensity\"].notnull()]\n",
    "y_test = y_test[X_test[\"humidity\"].notnull()]\n",
    "X_test.dropna(inplace=True)"
   ]
  },
  {
   "cell_type": "code",
   "execution_count": 56,
   "id": "f42d452d",
   "metadata": {},
   "outputs": [],
   "source": [
    "y_cleanBest = mlp1.predict(X_test)"
   ]
  },
  {
   "cell_type": "code",
   "execution_count": 57,
   "id": "bb457910",
   "metadata": {},
   "outputs": [
    {
     "name": "stdout",
     "output_type": "stream",
     "text": [
      "0.93\n"
     ]
    }
   ],
   "source": [
    "print(round(metrics.f1_score(y_cleanBest, y_test, average=\"macro\"), 3))"
   ]
  },
  {
   "cell_type": "code",
   "execution_count": 58,
   "id": "0f5bab6a",
   "metadata": {
    "scrolled": true
   },
   "outputs": [
    {
     "name": "stdout",
     "output_type": "stream",
     "text": [
      "R2: 0.7224532224532225\n"
     ]
    }
   ],
   "source": [
    "print(\"R2:\", metrics.r2_score(y_test, y_cleanBest))"
   ]
  },
  {
   "cell_type": "markdown",
   "id": "fbf745f0",
   "metadata": {},
   "source": [
    "As it can be appreciated, its predictive performance didn't worsen, in fact it improved a little bit. This could be a sign of being a good and solid model, as it predicted unseen data pretty accurately."
   ]
  },
  {
   "cell_type": "markdown",
   "id": "5eed209a",
   "metadata": {},
   "source": [
    "# Filling null values with median\n",
    "\n",
    "As detected in previous steps, there are some nulls value in some of the values. The previous models were trained without them. In this step, I will fill said values with the median (as it is a more stable measure than the mean)."
   ]
  },
  {
   "cell_type": "code",
   "execution_count": 59,
   "id": "9249058a",
   "metadata": {},
   "outputs": [],
   "source": [
    "targetName = \"fire\"\n",
    "allFeatureNames = df.columns[df.columns != targetName]\n",
    "allFeatureNames = allFeatureNames[allFeatureNames != \"collector.id\"]\n",
    "X = df[allFeatureNames]\n",
    "y = df[targetName]"
   ]
  },
  {
   "cell_type": "code",
   "execution_count": 60,
   "id": "ef31402b",
   "metadata": {},
   "outputs": [],
   "source": [
    "X_train, X_test, y_train, y_test = train_test_split(X, y, test_size=0.2, random_state=1)"
   ]
  },
  {
   "cell_type": "code",
   "execution_count": 61,
   "id": "c2ce961b",
   "metadata": {},
   "outputs": [],
   "source": [
    "X_train, X_validation, y_train, y_validation = train_test_split(X_train, y_train, test_size=0.2, random_state=1)"
   ]
  },
  {
   "cell_type": "code",
   "execution_count": 62,
   "id": "1c8a9c84",
   "metadata": {},
   "outputs": [],
   "source": [
    "# Fill the null values of the columns with the median of that column\n",
    "X_train['l.score'] = X_train['l.score'].fillna(X_train['l.score'].median())\n",
    "X_train['rain'] = X_train['rain'].fillna(X_train['rain'].median())\n",
    "X_train['tree.age'] = X_train['tree.age'].fillna(X_train['tree.age'].median())\n",
    "X_train['wind.intensity'] = X_train['wind.intensity'].fillna(X_train['wind.intensity'].median())\n",
    "X_train['humidity'] = X_train['humidity'].fillna(X_train['humidity'].median())"
   ]
  },
  {
   "cell_type": "code",
   "execution_count": 63,
   "id": "e2c9c8d3",
   "metadata": {},
   "outputs": [],
   "source": [
    "y_train = y_train[X_train[\"c.score\"]<100] \n",
    "X_train = X_train[X_train[\"c.score\"]<100]\n",
    "y_train = y_train[X_train[\"tree.age\"]<200] \n",
    "X_train = X_train[X_train[\"tree.age\"]<200]"
   ]
  },
  {
   "cell_type": "markdown",
   "id": "e9f07813",
   "metadata": {},
   "source": [
    "### Logistic Regression"
   ]
  },
  {
   "cell_type": "code",
   "execution_count": 64,
   "id": "45e09bf9",
   "metadata": {},
   "outputs": [],
   "source": [
    "parametersLR = dict(solver=[\"liblinear\",\"lbfgs\",\"sag\",],\n",
    "                    penalty=['l2'],\n",
    "                    max_iter=[None, 2000, 5000])"
   ]
  },
  {
   "cell_type": "code",
   "execution_count": 65,
   "id": "517e3e57",
   "metadata": {
    "scrolled": true
   },
   "outputs": [],
   "source": [
    "lR_median = LogisticRegression(random_state=1)\n",
    "lR_clf_median = GridSearchCV(lR_median, parametersLR, scoring=\"f1_macro\").fit(X_train, y_train)"
   ]
  },
  {
   "cell_type": "markdown",
   "id": "ea39d3f5",
   "metadata": {},
   "source": [
    "As with the training dataset, we have to apply the same transformations for the validation dataset."
   ]
  },
  {
   "cell_type": "code",
   "execution_count": 66,
   "id": "e772d85a",
   "metadata": {},
   "outputs": [],
   "source": [
    "X_validation['l.score'] = X_validation['l.score'].fillna(X_validation['l.score'].median())\n",
    "X_validation['rain'] = X_validation['rain'].fillna(X_validation['rain'].median())\n",
    "X_validation['tree.age'] = X_validation['tree.age'].fillna(X_validation['tree.age'].median())\n",
    "X_validation['wind.intensity'] = X_validation['wind.intensity'].fillna(X_validation['wind.intensity'].median())\n",
    "X_validation['humidity'] = X_validation['humidity'].fillna(X_validation['humidity'].median())"
   ]
  },
  {
   "cell_type": "code",
   "execution_count": 67,
   "id": "745d8298",
   "metadata": {},
   "outputs": [],
   "source": [
    "y_validation = y_validation[X_validation[\"c.score\"]<100] \n",
    "X_validation = X_validation[X_validation[\"c.score\"]<100]\n",
    "y_validation = y_validation[X_validation[\"tree.age\"]<200] \n",
    "X_validation = X_validation[X_validation[\"tree.age\"]<200]"
   ]
  },
  {
   "cell_type": "code",
   "execution_count": 68,
   "id": "148bea3f",
   "metadata": {},
   "outputs": [
    {
     "name": "stdout",
     "output_type": "stream",
     "text": [
      "{'max_iter': 2000, 'penalty': 'l2', 'solver': 'liblinear'}\n",
      "0.862\n"
     ]
    }
   ],
   "source": [
    "print(lR_clf_median.best_params_)\n",
    "print(round(metrics.f1_score(lR_clf_median.best_estimator_.predict(X_validation), y_validation, average=\"macro\"), 3))"
   ]
  },
  {
   "cell_type": "code",
   "execution_count": 69,
   "id": "e89cab6a",
   "metadata": {},
   "outputs": [
    {
     "name": "stdout",
     "output_type": "stream",
     "text": [
      "R2: 0.4524999999999999\n"
     ]
    }
   ],
   "source": [
    "print(\"R2:\", metrics.r2_score(y_validation, lR_clf_median.best_estimator_.predict(X_validation)))"
   ]
  },
  {
   "cell_type": "markdown",
   "id": "abf06952",
   "metadata": {},
   "source": [
    "Although the **Logistic Regression** model seems to have improved with this new modification, I will try some manual hyperparameter search as the *GridSearch* method has been proved to not perform an exhaustive search."
   ]
  },
  {
   "cell_type": "markdown",
   "id": "597ef613",
   "metadata": {},
   "source": [
    "**Logistic Regression** with *{'penalty': 'l2', 'solver': 'sag'}*"
   ]
  },
  {
   "cell_type": "code",
   "execution_count": 70,
   "id": "71bd1b45",
   "metadata": {},
   "outputs": [],
   "source": [
    "lR2_median = LogisticRegression(random_state=1, penalty=\"l2\", solver=\"sag\").fit(X_train, y_train)"
   ]
  },
  {
   "cell_type": "code",
   "execution_count": 71,
   "id": "5a963743",
   "metadata": {
    "scrolled": true
   },
   "outputs": [
    {
     "name": "stdout",
     "output_type": "stream",
     "text": [
      "0.862\n"
     ]
    }
   ],
   "source": [
    "y_lR2_median = lR2_median.predict_proba(X_validation)[:,1]\n",
    "y_lR2_median = [round(y) for y in y_lR2_median]\n",
    "print(round(metrics.f1_score(y_lR2_median, y_validation, average=\"macro\"), 3))"
   ]
  },
  {
   "cell_type": "markdown",
   "id": "bce33fe1",
   "metadata": {},
   "source": [
    "### Decision Tree"
   ]
  },
  {
   "cell_type": "code",
   "execution_count": 72,
   "id": "c218ebdd",
   "metadata": {},
   "outputs": [],
   "source": [
    "parametersDT = dict(criterion=[\"gini\",\"entropy\",\"log_loss\",],\n",
    "                    max_depth=[None, 6, 20])"
   ]
  },
  {
   "cell_type": "code",
   "execution_count": 73,
   "id": "06368f8d",
   "metadata": {},
   "outputs": [],
   "source": [
    "tree_clf_median = tree.DecisionTreeClassifier(random_state=1)\n",
    "tree_Grid_median = GridSearchCV(tree_clf_median, parametersDT, scoring=\"f1_macro\").fit(X_train, y_train)"
   ]
  },
  {
   "cell_type": "code",
   "execution_count": 74,
   "id": "5325eba3",
   "metadata": {},
   "outputs": [
    {
     "name": "stdout",
     "output_type": "stream",
     "text": [
      "{'criterion': 'gini', 'max_depth': None}\n",
      "0.853\n"
     ]
    }
   ],
   "source": [
    "print(tree_Grid_median.best_params_)\n",
    "print(round(metrics.f1_score(tree_Grid_median.best_estimator_.predict(X_validation), y_validation, average=\"macro\"), 3))"
   ]
  },
  {
   "cell_type": "code",
   "execution_count": 75,
   "id": "59de9111",
   "metadata": {},
   "outputs": [
    {
     "name": "stdout",
     "output_type": "stream",
     "text": [
      "R2: 0.3916666666666666\n"
     ]
    }
   ],
   "source": [
    "print(\"R2:\", metrics.r2_score(y_validation, tree_Grid_median.best_estimator_.predict(X_validation)))"
   ]
  },
  {
   "cell_type": "markdown",
   "id": "3494e702",
   "metadata": {},
   "source": [
    "As the result obtained by **GridSearch** doesn't look as good as I expected, I will perform some search manually."
   ]
  },
  {
   "cell_type": "markdown",
   "id": "3e99ab4a",
   "metadata": {},
   "source": [
    "**DecisionTreeClassifier** with *{'criterion':'gini'}*"
   ]
  },
  {
   "cell_type": "code",
   "execution_count": 76,
   "id": "86e9ea4b",
   "metadata": {},
   "outputs": [],
   "source": [
    "tree_g_median = tree.DecisionTreeClassifier(criterion=\"gini\",random_state=1).fit(X_train, y_train)\n",
    "y_DTC_g_median = tree_g_median.predict(X_validation)"
   ]
  },
  {
   "cell_type": "code",
   "execution_count": 77,
   "id": "e66972b4",
   "metadata": {},
   "outputs": [
    {
     "name": "stdout",
     "output_type": "stream",
     "text": [
      "The F1 score is: 0.853\n"
     ]
    }
   ],
   "source": [
    "print(f\"The F1 score is: {round(metrics.f1_score(y_DTC_g_median, y_validation, average='macro'),3)}\")"
   ]
  },
  {
   "cell_type": "markdown",
   "id": "65b470dd",
   "metadata": {},
   "source": [
    "**DecisionTreeClassifier** with *{'criterion':'log_loss'}*"
   ]
  },
  {
   "cell_type": "code",
   "execution_count": 78,
   "id": "5ae35560",
   "metadata": {},
   "outputs": [],
   "source": [
    "tree_LL_median = tree.DecisionTreeClassifier(criterion=\"log_loss\",random_state=1).fit(X_train, y_train)\n",
    "y_DTC_LL_median = tree_LL_median.predict(X_validation)"
   ]
  },
  {
   "cell_type": "code",
   "execution_count": 79,
   "id": "2381b49c",
   "metadata": {},
   "outputs": [
    {
     "name": "stdout",
     "output_type": "stream",
     "text": [
      "The F1 score is: 0.84\n"
     ]
    }
   ],
   "source": [
    "print(f\"The F1 score is: {round(metrics.f1_score(y_DTC_LL_median, y_validation, average='macro'),3)}\")"
   ]
  },
  {
   "cell_type": "markdown",
   "id": "685bd37d",
   "metadata": {},
   "source": [
    "### RandomForest"
   ]
  },
  {
   "cell_type": "code",
   "execution_count": 80,
   "id": "a5064cd2",
   "metadata": {},
   "outputs": [],
   "source": [
    "parametersRF = dict(criterion=[\"gini\",\"entropy\",\"log_loss\",],\n",
    "                    n_estimators=[10,50,100],\n",
    "                    max_depth=[None, 6, 20])"
   ]
  },
  {
   "cell_type": "code",
   "execution_count": 81,
   "id": "1bc4fcf6",
   "metadata": {},
   "outputs": [],
   "source": [
    "rf_clf_median = RandomForestClassifier(random_state=1)\n",
    "rf_Grid_median = GridSearchCV(rf_clf_median, parametersRF, scoring=\"f1_macro\").fit(X_train, y_train)"
   ]
  },
  {
   "cell_type": "code",
   "execution_count": 82,
   "id": "187bd322",
   "metadata": {},
   "outputs": [
    {
     "name": "stdout",
     "output_type": "stream",
     "text": [
      "{'criterion': 'entropy', 'max_depth': None, 'n_estimators': 100}\n",
      "0.859\n"
     ]
    }
   ],
   "source": [
    "print(rf_Grid_median.best_params_)\n",
    "print(round(metrics.f1_score(rf_Grid_median.best_estimator_.predict(X_validation), y_validation, average=\"macro\"), 3))"
   ]
  },
  {
   "cell_type": "code",
   "execution_count": 83,
   "id": "3f02e313",
   "metadata": {},
   "outputs": [
    {
     "name": "stdout",
     "output_type": "stream",
     "text": [
      "R2: 0.4524999999999999\n"
     ]
    }
   ],
   "source": [
    "print(\"R2:\", metrics.r2_score(y_validation, rf_Grid_median.best_estimator_.predict(X_validation)))"
   ]
  },
  {
   "cell_type": "markdown",
   "id": "cd081039",
   "metadata": {},
   "source": [
    "**RandomForest** with *{'n_estimators'=50,'criterion'='log_loss'}*"
   ]
  },
  {
   "cell_type": "code",
   "execution_count": 84,
   "id": "c8aeb6f6",
   "metadata": {},
   "outputs": [],
   "source": [
    "rf1_median = RandomForestClassifier(n_estimators=50, random_state=1, criterion=\"log_loss\").fit(X_train, y_train)\n",
    "y_rf1_median = rf1_median.predict(X_validation)"
   ]
  },
  {
   "cell_type": "code",
   "execution_count": 85,
   "id": "6f5df9c7",
   "metadata": {
    "scrolled": true
   },
   "outputs": [
    {
     "name": "stdout",
     "output_type": "stream",
     "text": [
      "The F1 score is: 0.859\n"
     ]
    }
   ],
   "source": [
    "print(f\"The F1 score is: {round(metrics.f1_score(y_rf1_median, y_validation, average='macro'),3)}\")"
   ]
  },
  {
   "cell_type": "markdown",
   "id": "2a4e47d0",
   "metadata": {},
   "source": [
    "**RandomForest** with *{'n_estimator'=25, 'random_state'=1}*"
   ]
  },
  {
   "cell_type": "code",
   "execution_count": 86,
   "id": "c0310ce6",
   "metadata": {},
   "outputs": [],
   "source": [
    "rf2_median = RandomForestClassifier(n_estimators=25, random_state=1).fit(X_train, y_train)\n",
    "y_rf2_median = rf2_median.predict(X_validation)"
   ]
  },
  {
   "cell_type": "code",
   "execution_count": 87,
   "id": "4b723744",
   "metadata": {},
   "outputs": [
    {
     "name": "stdout",
     "output_type": "stream",
     "text": [
      "The F1 score is: 0.876\n"
     ]
    }
   ],
   "source": [
    "print(f\"The F1 score is: {round(metrics.f1_score(y_rf2_median, y_validation, average='macro'),3)}\")"
   ]
  },
  {
   "cell_type": "markdown",
   "id": "1680b8ec",
   "metadata": {},
   "source": [
    "**RandomForest** with *{'n_estimator'=50,'max_depth'=6,'criterion'='entropy','random_state'=1}*"
   ]
  },
  {
   "cell_type": "code",
   "execution_count": 88,
   "id": "e90ff96d",
   "metadata": {},
   "outputs": [],
   "source": [
    "rf3_median = RandomForestClassifier(n_estimators=50, max_depth=6, criterion='entropy',random_state=1).fit(X_train, y_train)\n",
    "y_rf3_median = rf3_median.predict(X_validation)"
   ]
  },
  {
   "cell_type": "code",
   "execution_count": 89,
   "id": "82215583",
   "metadata": {},
   "outputs": [
    {
     "name": "stdout",
     "output_type": "stream",
     "text": [
      "The F1 score is: 0.876\n"
     ]
    }
   ],
   "source": [
    "print(f\"The F1 score is: {round(metrics.f1_score(y_rf3_median, y_validation, average='macro'),3)}\")"
   ]
  },
  {
   "cell_type": "markdown",
   "id": "2796fa78",
   "metadata": {},
   "source": [
    "### Neural Network"
   ]
  },
  {
   "cell_type": "code",
   "execution_count": 90,
   "id": "c44774d4",
   "metadata": {},
   "outputs": [],
   "source": [
    "parametersNN = dict(activation=[\"relu\",\"logistic\",\"tanh\",\"identity\"],\n",
    "                    learning_rate_init=[0.001,0.01,0.05],\n",
    "                    solver=[\"adam\", \"sgd\", \"lbfgs\"],\n",
    "                    max_iter=[200, 800, 1400],\n",
    "                    hidden_layer_sizes=[(10),(5,5),(5,5,5)])"
   ]
  },
  {
   "cell_type": "code",
   "execution_count": 91,
   "id": "1de361b8",
   "metadata": {},
   "outputs": [],
   "source": [
    "mlp_clf_median = MLPClassifier(random_state=1)\n",
    "mlp_Grid_median = GridSearchCV(mlp_clf_median, parametersNN, scoring=\"f1_macro\").fit(X_train, y_train)"
   ]
  },
  {
   "cell_type": "code",
   "execution_count": 92,
   "id": "14656c26",
   "metadata": {},
   "outputs": [
    {
     "name": "stdout",
     "output_type": "stream",
     "text": [
      "{'activation': 'identity', 'hidden_layer_sizes': (5, 5), 'learning_rate_init': 0.001, 'max_iter': 800, 'solver': 'lbfgs'}\n",
      "0.862\n"
     ]
    }
   ],
   "source": [
    "print(mlp_Grid_median.best_params_)\n",
    "print(round(metrics.f1_score(mlp_Grid_median.best_estimator_.predict(X_validation), y_validation, average=\"macro\"), 3))"
   ]
  },
  {
   "cell_type": "code",
   "execution_count": 93,
   "id": "804ce47d",
   "metadata": {},
   "outputs": [
    {
     "name": "stdout",
     "output_type": "stream",
     "text": [
      "R2: 0.4524999999999999\n"
     ]
    }
   ],
   "source": [
    "print(\"R2:\", metrics.r2_score(y_validation, mlp_Grid_median.best_estimator_.predict(X_validation)))"
   ]
  },
  {
   "cell_type": "markdown",
   "id": "affcebaf",
   "metadata": {},
   "source": [
    "As the result obtained by **MLPClassifier** doesn't look as good as I expected, I will perform some search manually."
   ]
  },
  {
   "cell_type": "markdown",
   "id": "2f6b16a0",
   "metadata": {},
   "source": [
    "**MLPClassifier** with *{'solver':'adam','hidden_layer_sizes'=(10),'max_iter'=2000,'activation'='logistic'}*"
   ]
  },
  {
   "cell_type": "code",
   "execution_count": 94,
   "id": "b93c156f",
   "metadata": {},
   "outputs": [],
   "source": [
    "mlp1_median = MLPClassifier(solver='adam', hidden_layer_sizes=(10), max_iter=2000, activation='logistic',random_state=1).fit(X_train, y_train)\n",
    "y_MLP1_median = mlp1_median.predict(X_validation)"
   ]
  },
  {
   "cell_type": "code",
   "execution_count": 95,
   "id": "d5926e27",
   "metadata": {},
   "outputs": [
    {
     "name": "stdout",
     "output_type": "stream",
     "text": [
      "The F1 score is: 0.925\n"
     ]
    }
   ],
   "source": [
    "print(f\"The F1 score is: {round(metrics.f1_score(y_MLP1_median, y_validation, average='macro'),3)}\")"
   ]
  },
  {
   "cell_type": "markdown",
   "id": "e8af5bed",
   "metadata": {},
   "source": [
    "**MLPClassifier** with *{'solver':'lbfgs','hidden_layer_sizes'=(5,5),'activation'='relu'}*"
   ]
  },
  {
   "cell_type": "code",
   "execution_count": 96,
   "id": "30929093",
   "metadata": {},
   "outputs": [],
   "source": [
    "mlp2_median = MLPClassifier(solver='lbfgs', hidden_layer_sizes=(5,5), activation='relu',random_state=1).fit(X_train, y_train)\n",
    "y_MLP2_median = mlp2_median.predict(X_validation)"
   ]
  },
  {
   "cell_type": "code",
   "execution_count": 97,
   "id": "333e83cf",
   "metadata": {},
   "outputs": [
    {
     "name": "stdout",
     "output_type": "stream",
     "text": [
      "The F1 score is: 0.881\n"
     ]
    }
   ],
   "source": [
    "print(f\"The F1 score is: {round(metrics.f1_score(y_MLP2_median, y_validation, average='macro'),3)}\")"
   ]
  },
  {
   "cell_type": "markdown",
   "id": "d42a8849",
   "metadata": {},
   "source": [
    "## Best model for filled null values\n",
    "\n",
    "The best model I could find for the data where the null values were filled we the column's median is **MLPClassifier** with the following hyperparameters:\n",
    "- 'solver':'adam'\n",
    "- 'hidden_layer_sizes':(10)\n",
    "- 'activation':'logistic'\n",
    "- 'max_iter':2000\n",
    "\n",
    "\n",
    "To see if the model chosen is actually as good as it seems I will use it to predict the test data and see how good its prediction power."
   ]
  },
  {
   "cell_type": "markdown",
   "id": "ee4623d3",
   "metadata": {},
   "source": [
    "As the **MLPClassifier** does not accept null values natively, I will perform the same modification on the test dataset to the one performed to the training and test datasets."
   ]
  },
  {
   "cell_type": "code",
   "execution_count": 98,
   "id": "06105091",
   "metadata": {},
   "outputs": [],
   "source": [
    "X_test['l.score'] = X_test['l.score'].fillna(X_test['l.score'].median())\n",
    "X_test['rain'] = X_test['rain'].fillna(X_test['rain'].median())\n",
    "X_test['tree.age'] = X_test['tree.age'].fillna(X_test['tree.age'].median())\n",
    "X_test['wind.intensity'] = X_test['wind.intensity'].fillna(X_test['wind.intensity'].median())\n",
    "X_test['humidity'] = X_test['humidity'].fillna(X_test['humidity'].median())"
   ]
  },
  {
   "cell_type": "code",
   "execution_count": 99,
   "id": "fe0c7b61",
   "metadata": {},
   "outputs": [],
   "source": [
    "y_filledBest = mlp1_median.predict(X_test)"
   ]
  },
  {
   "cell_type": "code",
   "execution_count": 100,
   "id": "2119dfcb",
   "metadata": {},
   "outputs": [
    {
     "name": "stdout",
     "output_type": "stream",
     "text": [
      "0.943\n"
     ]
    }
   ],
   "source": [
    "print(round(metrics.f1_score(y_filledBest, y_test, average='macro'),3))"
   ]
  },
  {
   "cell_type": "code",
   "execution_count": 101,
   "id": "89c3989d",
   "metadata": {},
   "outputs": [
    {
     "name": "stdout",
     "output_type": "stream",
     "text": [
      "R2: 0.7758284600389863\n"
     ]
    }
   ],
   "source": [
    "print(\"R2:\", metrics.r2_score(y_test, y_filledBest))"
   ]
  },
  {
   "cell_type": "markdown",
   "id": "eeea6d74",
   "metadata": {},
   "source": [
    "As both the **F1 Score** and **R^2** metrics are higher with the null values filled with the median of said columns, I will use this transformation for posterior steps. "
   ]
  },
  {
   "cell_type": "markdown",
   "id": "14053664",
   "metadata": {},
   "source": [
    "## Normalized Data\n",
    "\n",
    "In this step the models will be built from the data after normalising all the variables. For it, I will be using the *MinMaxScaler* which rescales the data such that all the features values are in the range of [0,1].\n",
    "\n",
    "Note that here it is important to do it after the splitting for the dataset and not before as some normalization methods take into account the maximum and minimum values of the data."
   ]
  },
  {
   "cell_type": "code",
   "execution_count": 102,
   "id": "35271cda",
   "metadata": {},
   "outputs": [],
   "source": [
    "mm_scaler = MinMaxScaler()\n",
    "X_train_norm = pd.DataFrame(mm_scaler.fit_transform(X_train), columns=X_train.columns)"
   ]
  },
  {
   "cell_type": "markdown",
   "id": "4eed67a4",
   "metadata": {},
   "source": [
    "### Logistic Regression"
   ]
  },
  {
   "cell_type": "code",
   "execution_count": 103,
   "id": "b8923ccf",
   "metadata": {},
   "outputs": [],
   "source": [
    "parametersLR = dict(solver=[\"liblinear\",\"lbfgs\",\"sag\",],\n",
    "                    penalty=['l2'],\n",
    "                    max_iter=[None, 2000, 5000])"
   ]
  },
  {
   "cell_type": "code",
   "execution_count": 104,
   "id": "50ae1bf3",
   "metadata": {},
   "outputs": [],
   "source": [
    "lR_norm = LogisticRegression(random_state=1)\n",
    "lR_clf_norm = GridSearchCV(lR, parametersLR, scoring=\"f1_macro\").fit(X_train_norm, y_train)"
   ]
  },
  {
   "cell_type": "code",
   "execution_count": 105,
   "id": "5c2ea10d",
   "metadata": {},
   "outputs": [],
   "source": [
    "X_validation_norm = pd.DataFrame(mm_scaler.fit_transform(X_validation), columns=X_validation.columns)"
   ]
  },
  {
   "cell_type": "code",
   "execution_count": 106,
   "id": "eeeb40d9",
   "metadata": {},
   "outputs": [
    {
     "name": "stdout",
     "output_type": "stream",
     "text": [
      "{'max_iter': 2000, 'penalty': 'l2', 'solver': 'lbfgs'}\n",
      "0.841\n"
     ]
    }
   ],
   "source": [
    "print(lR_clf_norm.best_params_)\n",
    "print(round(metrics.f1_score(lR_clf_norm.best_estimator_.predict(X_validation_norm), y_validation, average=\"macro\"), 3))"
   ]
  },
  {
   "cell_type": "code",
   "execution_count": 107,
   "id": "024f8323",
   "metadata": {},
   "outputs": [
    {
     "name": "stdout",
     "output_type": "stream",
     "text": [
      "R2: 0.3916666666666666\n"
     ]
    }
   ],
   "source": [
    "print(\"R2:\", metrics.r2_score(y_validation, lR_clf_norm.best_estimator_.predict(X_validation_norm)))"
   ]
  },
  {
   "cell_type": "markdown",
   "id": "5ae4904b",
   "metadata": {},
   "source": [
    "As in previous steps, I will try some manual search before trying the next model."
   ]
  },
  {
   "cell_type": "markdown",
   "id": "a3a5f69a",
   "metadata": {},
   "source": [
    "**Logistic Regression** with *{'penalty': 'l2', 'solver': 'liblinear'}*"
   ]
  },
  {
   "cell_type": "code",
   "execution_count": 108,
   "id": "179073c6",
   "metadata": {},
   "outputs": [],
   "source": [
    "lR2_norm = LogisticRegression(random_state=1, penalty=\"l2\", solver=\"liblinear\").fit(X_train_norm, y_train)"
   ]
  },
  {
   "cell_type": "code",
   "execution_count": 109,
   "id": "c153a52a",
   "metadata": {
    "scrolled": true
   },
   "outputs": [
    {
     "name": "stdout",
     "output_type": "stream",
     "text": [
      "0.859\n"
     ]
    }
   ],
   "source": [
    "y_lR2_norm = lR2_norm.predict_proba(X_validation_norm)[:,1]\n",
    "y_lR2_norm = [round(y) for y in y_lR2_norm ]\n",
    "print(round(metrics.f1_score(y_lR2_norm, y_validation, average=\"macro\"), 3))"
   ]
  },
  {
   "cell_type": "markdown",
   "id": "99273d9c",
   "metadata": {},
   "source": [
    "### Decision Tree Classifier"
   ]
  },
  {
   "cell_type": "code",
   "execution_count": 110,
   "id": "719c1507",
   "metadata": {},
   "outputs": [],
   "source": [
    "parametersDT = dict(criterion=[\"gini\",\"entropy\",\"log_loss\",],\n",
    "                    max_depth=[None, 6, 20])"
   ]
  },
  {
   "cell_type": "code",
   "execution_count": 111,
   "id": "201f8264",
   "metadata": {},
   "outputs": [],
   "source": [
    "tree_clf_norm = tree.DecisionTreeClassifier(random_state=1)\n",
    "tree_Grid_norm = GridSearchCV(tree_clf_norm, parametersDT, scoring=\"f1_macro\").fit(X_train_norm, y_train)"
   ]
  },
  {
   "cell_type": "code",
   "execution_count": 112,
   "id": "23c4e0b1",
   "metadata": {},
   "outputs": [
    {
     "name": "stdout",
     "output_type": "stream",
     "text": [
      "{'criterion': 'gini', 'max_depth': None}\n",
      "0.892\n"
     ]
    }
   ],
   "source": [
    "print(tree_Grid_norm.best_params_)\n",
    "print(round(metrics.f1_score(tree_Grid_norm.best_estimator_.predict(X_validation_norm), y_validation, average=\"macro\"), 3))"
   ]
  },
  {
   "cell_type": "code",
   "execution_count": 113,
   "id": "2e654727",
   "metadata": {},
   "outputs": [
    {
     "name": "stdout",
     "output_type": "stream",
     "text": [
      "R2: 0.5741666666666666\n"
     ]
    }
   ],
   "source": [
    "print(\"R2:\", metrics.r2_score(y_validation, tree_Grid_norm.best_estimator_.predict(X_validation_norm)))"
   ]
  },
  {
   "cell_type": "markdown",
   "id": "023cc329",
   "metadata": {},
   "source": [
    "**Manual Search** of hyperparameters"
   ]
  },
  {
   "cell_type": "markdown",
   "id": "3f805cce",
   "metadata": {},
   "source": [
    "**DecisionTreeClassifier** with *{'criterion':'log_loss'}*"
   ]
  },
  {
   "cell_type": "code",
   "execution_count": 114,
   "id": "e970f229",
   "metadata": {},
   "outputs": [],
   "source": [
    "tree_LL_norm = tree.DecisionTreeClassifier(criterion=\"log_loss\",random_state=1).fit(X_train_norm, y_train)\n",
    "y_DTC_LL_norm = tree_LL_norm.predict(X_validation_norm)"
   ]
  },
  {
   "cell_type": "code",
   "execution_count": 115,
   "id": "47817e25",
   "metadata": {},
   "outputs": [
    {
     "name": "stdout",
     "output_type": "stream",
     "text": [
      "The F1 score is: 0.878\n"
     ]
    }
   ],
   "source": [
    "print(f\"The F1 score is: {round(metrics.f1_score(y_DTC_LL_norm, y_validation, average='macro'),3)}\")"
   ]
  },
  {
   "cell_type": "markdown",
   "id": "5550ce6c",
   "metadata": {},
   "source": [
    "### RandomForest"
   ]
  },
  {
   "cell_type": "code",
   "execution_count": 116,
   "id": "dc60e8d0",
   "metadata": {},
   "outputs": [],
   "source": [
    "parametersRF = dict(criterion=[\"gini\",\"entropy\",\"log_loss\",],\n",
    "                    n_estimators=[10,50,100],\n",
    "                    max_depth=[None, 6, 20])"
   ]
  },
  {
   "cell_type": "code",
   "execution_count": 117,
   "id": "2b887ddd",
   "metadata": {},
   "outputs": [],
   "source": [
    "rf_clf_norm = RandomForestClassifier(random_state=1)\n",
    "rf_Grid_norm = GridSearchCV(rf_clf_norm, parametersRF, scoring=\"f1_macro\").fit(X_train_norm, y_train)"
   ]
  },
  {
   "cell_type": "code",
   "execution_count": 118,
   "id": "5af5ff67",
   "metadata": {},
   "outputs": [
    {
     "name": "stdout",
     "output_type": "stream",
     "text": [
      "{'criterion': 'entropy', 'max_depth': None, 'n_estimators': 100}\n",
      "0.841\n"
     ]
    }
   ],
   "source": [
    "print(rf_Grid_norm.best_params_)\n",
    "print(round(metrics.f1_score(rf_Grid_norm.best_estimator_.predict(X_validation_norm), y_validation, average=\"macro\"), 3))"
   ]
  },
  {
   "cell_type": "code",
   "execution_count": 119,
   "id": "8287fd76",
   "metadata": {},
   "outputs": [
    {
     "name": "stdout",
     "output_type": "stream",
     "text": [
      "R2: -1.9200000000000004\n"
     ]
    }
   ],
   "source": [
    "print(\"R2:\", metrics.r2_score(y_validation, rf_Grid_norm.best_estimator_.predict(X_validation)))"
   ]
  },
  {
   "cell_type": "markdown",
   "id": "ec2a4752",
   "metadata": {},
   "source": [
    "**Manual Search** for *RandomForest* hyperparameters"
   ]
  },
  {
   "cell_type": "markdown",
   "id": "e1f2449f",
   "metadata": {},
   "source": [
    "**RandomForest** with *{'n_estimator'=50,'max_depth'=6,'criterion'='entropy','random_state'=1}*"
   ]
  },
  {
   "cell_type": "code",
   "execution_count": 120,
   "id": "52c3fbb4",
   "metadata": {},
   "outputs": [],
   "source": [
    "rf3_norm = RandomForestClassifier(n_estimators=50, max_depth=6, criterion='entropy',random_state=1).fit(X_train_norm, y_train)\n",
    "y_rf3_norm = rf3_norm.predict(X_validation_norm)"
   ]
  },
  {
   "cell_type": "code",
   "execution_count": 121,
   "id": "20ac0ea8",
   "metadata": {},
   "outputs": [
    {
     "name": "stdout",
     "output_type": "stream",
     "text": [
      "The F1 score is: 0.859\n"
     ]
    }
   ],
   "source": [
    "print(f\"The F1 score is: {round(metrics.f1_score(y_rf3_norm, y_validation, average='macro'),3)}\")"
   ]
  },
  {
   "cell_type": "markdown",
   "id": "70de953b",
   "metadata": {},
   "source": [
    "### Neural Network"
   ]
  },
  {
   "cell_type": "code",
   "execution_count": 122,
   "id": "6824eb5c",
   "metadata": {},
   "outputs": [],
   "source": [
    "parametersNN = dict(activation=[\"relu\",\"logistic\",\"tanh\",\"identity\"],\n",
    "                    learning_rate_init=[0.001,0.01,0.05],\n",
    "                    solver=[\"adam\", \"sgd\", \"lbfgs\"],\n",
    "                    max_iter=[200, 800, 1400],\n",
    "                    hidden_layer_sizes=[(10),(5,5),(5,5,5)])"
   ]
  },
  {
   "cell_type": "code",
   "execution_count": 123,
   "id": "e3dd1b3b",
   "metadata": {},
   "outputs": [],
   "source": [
    "mlp_clf_norm = MLPClassifier(random_state=1)\n",
    "mlp_Grid_norm = GridSearchCV(mlp_clf_norm, parametersNN, scoring=\"f1_macro\").fit(X_train_norm, y_train)"
   ]
  },
  {
   "cell_type": "code",
   "execution_count": 124,
   "id": "9fcf6cf8",
   "metadata": {},
   "outputs": [
    {
     "name": "stdout",
     "output_type": "stream",
     "text": [
      "{'activation': 'relu', 'hidden_layer_sizes': (5, 5, 5), 'learning_rate_init': 0.05, 'max_iter': 200, 'solver': 'sgd'}\n",
      "0.876\n"
     ]
    }
   ],
   "source": [
    "print(mlp_Grid_norm.best_params_)\n",
    "print(round(metrics.f1_score(mlp_Grid_norm.best_estimator_.predict(X_validation_norm), y_validation, average=\"macro\"), 3))"
   ]
  },
  {
   "cell_type": "code",
   "execution_count": 125,
   "id": "71ab9a24",
   "metadata": {},
   "outputs": [
    {
     "name": "stdout",
     "output_type": "stream",
     "text": [
      "R2: 0.5133333333333332\n"
     ]
    }
   ],
   "source": [
    "print(\"R2:\", metrics.r2_score(y_validation, mlp_Grid_norm.best_estimator_.predict(X_validation_norm)))"
   ]
  },
  {
   "cell_type": "markdown",
   "id": "ab06b14d",
   "metadata": {},
   "source": [
    "**Manual Search** of hyperparameters for the *MLPClassifier*"
   ]
  },
  {
   "cell_type": "markdown",
   "id": "8a91cc64",
   "metadata": {},
   "source": [
    "**MLPClassifier** with *{'solver':'adam','hidden_layer_sizes'=(10),'max_iter'=2000,'activation'='logistic'}*"
   ]
  },
  {
   "cell_type": "code",
   "execution_count": 126,
   "id": "48e11377",
   "metadata": {},
   "outputs": [],
   "source": [
    "mlp1_norm = MLPClassifier(solver='adam', hidden_layer_sizes=(10), max_iter=2000, activation='logistic',random_state=1).fit(X_train_norm, y_train)\n",
    "y_MLP1_norm = mlp1_norm.predict(X_validation_norm)"
   ]
  },
  {
   "cell_type": "code",
   "execution_count": 127,
   "id": "5585d597",
   "metadata": {},
   "outputs": [
    {
     "name": "stdout",
     "output_type": "stream",
     "text": [
      "The F1 score is: 0.859\n"
     ]
    }
   ],
   "source": [
    "print(f\"The F1 score is: {round(metrics.f1_score(y_MLP1_norm, y_validation, average='macro'),3)}\")"
   ]
  },
  {
   "cell_type": "markdown",
   "id": "4ddfaed1",
   "metadata": {},
   "source": [
    "**MLPClassifier** with *{'solver':'lbfgs','hidden_layer_sizes'=(5,5),'activation'='relu'}*"
   ]
  },
  {
   "cell_type": "code",
   "execution_count": 128,
   "id": "2967d15a",
   "metadata": {},
   "outputs": [],
   "source": [
    "mlp2_norm = MLPClassifier(solver='lbfgs', hidden_layer_sizes=(5,5), activation='relu',random_state=1).fit(X_train_norm, y_train)\n",
    "y_MLP2_norm = mlp2_norm.predict(X_validation_norm)"
   ]
  },
  {
   "cell_type": "code",
   "execution_count": 129,
   "id": "9e44d2f1",
   "metadata": {},
   "outputs": [
    {
     "name": "stdout",
     "output_type": "stream",
     "text": [
      "The F1 score is: 0.859\n"
     ]
    }
   ],
   "source": [
    "print(f\"The F1 score is: {round(metrics.f1_score(y_MLP2_norm, y_validation, average='macro'),3)}\")"
   ]
  },
  {
   "cell_type": "markdown",
   "id": "7cd42dd0",
   "metadata": {},
   "source": [
    "## Best model for normalized data\n",
    "\n",
    "The best model I could find for the clean data is a **DecisionTreeClassifier**, but they are models that know for their instability I will use the next best model which is an **MLPClassifier** with the following hyperparameters:\n",
    "- 'activation': 'relu'\n",
    "- 'hidden_layer_sizes': (5, 5, 5)\n",
    "- 'learning_rate_init': 0.05\n",
    "- 'max_iter': 200\n",
    "- 'solver': 'sgd'\n",
    "\n",
    "To see if the model chosen is actually as good as it seems I will use it to predict the test data and see how good its prediction power."
   ]
  },
  {
   "cell_type": "code",
   "execution_count": 130,
   "id": "4b1c3a75",
   "metadata": {},
   "outputs": [],
   "source": [
    "scaler = MinMaxScaler()\n",
    "X_test_norm = pd.DataFrame(scaler.fit_transform(X_test), columns=X_test.columns)"
   ]
  },
  {
   "cell_type": "code",
   "execution_count": 131,
   "id": "8cd89de5",
   "metadata": {},
   "outputs": [],
   "source": [
    "y_normBest = mlp_Grid_norm.best_estimator_.predict(X_test_norm)"
   ]
  },
  {
   "cell_type": "code",
   "execution_count": 132,
   "id": "2ee86bad",
   "metadata": {},
   "outputs": [
    {
     "name": "stdout",
     "output_type": "stream",
     "text": [
      "0.955\n"
     ]
    }
   ],
   "source": [
    "print(round(metrics.f1_score(y_normBest, y_test, average='macro'),3))"
   ]
  },
  {
   "cell_type": "code",
   "execution_count": 133,
   "id": "a0990d31",
   "metadata": {},
   "outputs": [
    {
     "name": "stdout",
     "output_type": "stream",
     "text": [
      "R2: 0.8206627680311891\n"
     ]
    }
   ],
   "source": [
    "print(\"R2:\", metrics.r2_score(y_test, y_normBest))"
   ]
  },
  {
   "cell_type": "markdown",
   "id": "ffaec9b0",
   "metadata": {},
   "source": [
    "As the results of both metrics are better than the ones obtained with the unnormalized data, **I will normalize** the data for following steps."
   ]
  },
  {
   "cell_type": "markdown",
   "id": "6e529b7d",
   "metadata": {},
   "source": [
    "---\n",
    "\n",
    "# Uncorrelated Data\n",
    "\n",
    "In this step the models will be built from the data after taking out some of the highly correlated vairables. As the models built from the normalised data turned out to be an improvement from the models built from the base dataset, I will normalize the data for this step. \n",
    "\n",
    "To find out which variables have correlation between them, I will use a coloured correlation matrix where a dark red square means that two variables (the one in the column and the one in the row) are highly positively correlated. If, on the other hand, the square is dark blue, it means that the two variables are highly negatively correlated."
   ]
  },
  {
   "cell_type": "markdown",
   "id": "8ef0e252",
   "metadata": {},
   "source": [
    "**Note**: The variable *time.of.day* will not be used to create the correlation matrix as it is a column that contains strings and, if used, an error arises."
   ]
  },
  {
   "cell_type": "code",
   "execution_count": 134,
   "id": "baf30c4d",
   "metadata": {},
   "outputs": [
    {
     "data": {
      "text/html": [
       "<style type=\"text/css\">\n",
       "#T_8e941_row0_col0, #T_8e941_row1_col1, #T_8e941_row2_col2, #T_8e941_row3_col3, #T_8e941_row4_col4, #T_8e941_row5_col5, #T_8e941_row6_col6, #T_8e941_row7_col7, #T_8e941_row8_col8, #T_8e941_row9_col9, #T_8e941_row10_col10, #T_8e941_row11_col11, #T_8e941_row12_col12 {\n",
       "  background-color: #b40426;\n",
       "  color: #f1f1f1;\n",
       "}\n",
       "#T_8e941_row0_col1, #T_8e941_row1_col0, #T_8e941_row7_col2, #T_8e941_row7_col3, #T_8e941_row7_col4, #T_8e941_row7_col5, #T_8e941_row7_col6, #T_8e941_row7_col8, #T_8e941_row7_col9, #T_8e941_row7_col10, #T_8e941_row8_col7, #T_8e941_row11_col12, #T_8e941_row12_col11 {\n",
       "  background-color: #3b4cc0;\n",
       "  color: #f1f1f1;\n",
       "}\n",
       "#T_8e941_row0_col2 {\n",
       "  background-color: #c0d4f5;\n",
       "  color: #000000;\n",
       "}\n",
       "#T_8e941_row0_col3, #T_8e941_row11_col6 {\n",
       "  background-color: #bad0f8;\n",
       "  color: #000000;\n",
       "}\n",
       "#T_8e941_row0_col4 {\n",
       "  background-color: #7b9ff9;\n",
       "  color: #f1f1f1;\n",
       "}\n",
       "#T_8e941_row0_col5, #T_8e941_row0_col10, #T_8e941_row1_col5, #T_8e941_row12_col6 {\n",
       "  background-color: #a1c0ff;\n",
       "  color: #000000;\n",
       "}\n",
       "#T_8e941_row0_col6, #T_8e941_row0_col11, #T_8e941_row3_col12 {\n",
       "  background-color: #b1cbfc;\n",
       "  color: #000000;\n",
       "}\n",
       "#T_8e941_row0_col7 {\n",
       "  background-color: #d2dbe8;\n",
       "  color: #000000;\n",
       "}\n",
       "#T_8e941_row0_col8, #T_8e941_row1_col7 {\n",
       "  background-color: #c7d7f0;\n",
       "  color: #000000;\n",
       "}\n",
       "#T_8e941_row0_col9 {\n",
       "  background-color: #516ddb;\n",
       "  color: #f1f1f1;\n",
       "}\n",
       "#T_8e941_row0_col12, #T_8e941_row8_col12, #T_8e941_row9_col11, #T_8e941_row9_col12, #T_8e941_row11_col5 {\n",
       "  background-color: #aec9fc;\n",
       "  color: #000000;\n",
       "}\n",
       "#T_8e941_row1_col2 {\n",
       "  background-color: #c3d5f4;\n",
       "  color: #000000;\n",
       "}\n",
       "#T_8e941_row1_col3, #T_8e941_row6_col11 {\n",
       "  background-color: #bbd1f8;\n",
       "  color: #000000;\n",
       "}\n",
       "#T_8e941_row1_col4 {\n",
       "  background-color: #799cf8;\n",
       "  color: #f1f1f1;\n",
       "}\n",
       "#T_8e941_row1_col6 {\n",
       "  background-color: #a5c3fe;\n",
       "  color: #000000;\n",
       "}\n",
       "#T_8e941_row1_col8, #T_8e941_row12_col7 {\n",
       "  background-color: #c9d7f0;\n",
       "  color: #000000;\n",
       "}\n",
       "#T_8e941_row1_col9, #T_8e941_row4_col1, #T_8e941_row12_col0 {\n",
       "  background-color: #455cce;\n",
       "  color: #f1f1f1;\n",
       "}\n",
       "#T_8e941_row1_col10, #T_8e941_row12_col5 {\n",
       "  background-color: #97b8ff;\n",
       "  color: #000000;\n",
       "}\n",
       "#T_8e941_row1_col11 {\n",
       "  background-color: #a6c4fe;\n",
       "  color: #000000;\n",
       "}\n",
       "#T_8e941_row1_col12, #T_8e941_row2_col12, #T_8e941_row4_col12 {\n",
       "  background-color: #b3cdfb;\n",
       "  color: #000000;\n",
       "}\n",
       "#T_8e941_row2_col0 {\n",
       "  background-color: #465ecf;\n",
       "  color: #f1f1f1;\n",
       "}\n",
       "#T_8e941_row2_col1, #T_8e941_row7_col1 {\n",
       "  background-color: #4b64d5;\n",
       "  color: #f1f1f1;\n",
       "}\n",
       "#T_8e941_row2_col3 {\n",
       "  background-color: #ca3b37;\n",
       "  color: #f1f1f1;\n",
       "}\n",
       "#T_8e941_row2_col4, #T_8e941_row8_col6 {\n",
       "  background-color: #f7a98b;\n",
       "  color: #000000;\n",
       "}\n",
       "#T_8e941_row2_col5, #T_8e941_row3_col4 {\n",
       "  background-color: #f39778;\n",
       "  color: #000000;\n",
       "}\n",
       "#T_8e941_row2_col6 {\n",
       "  background-color: #f5c4ac;\n",
       "  color: #000000;\n",
       "}\n",
       "#T_8e941_row2_col7 {\n",
       "  background-color: #4257c9;\n",
       "  color: #f1f1f1;\n",
       "}\n",
       "#T_8e941_row2_col8, #T_8e941_row8_col2 {\n",
       "  background-color: #d75445;\n",
       "  color: #f1f1f1;\n",
       "}\n",
       "#T_8e941_row2_col9 {\n",
       "  background-color: #5f7fe8;\n",
       "  color: #f1f1f1;\n",
       "}\n",
       "#T_8e941_row2_col10 {\n",
       "  background-color: #f7ad90;\n",
       "  color: #000000;\n",
       "}\n",
       "#T_8e941_row2_col11 {\n",
       "  background-color: #b6cefa;\n",
       "  color: #000000;\n",
       "}\n",
       "#T_8e941_row3_col0, #T_8e941_row6_col9, #T_8e941_row8_col0, #T_8e941_row10_col0 {\n",
       "  background-color: #4a63d3;\n",
       "  color: #f1f1f1;\n",
       "}\n",
       "#T_8e941_row3_col1, #T_8e941_row6_col0, #T_8e941_row8_col1 {\n",
       "  background-color: #4c66d6;\n",
       "  color: #f1f1f1;\n",
       "}\n",
       "#T_8e941_row3_col2 {\n",
       "  background-color: #c83836;\n",
       "  color: #f1f1f1;\n",
       "}\n",
       "#T_8e941_row3_col5 {\n",
       "  background-color: #de614d;\n",
       "  color: #f1f1f1;\n",
       "}\n",
       "#T_8e941_row3_col6 {\n",
       "  background-color: #f7bca1;\n",
       "  color: #000000;\n",
       "}\n",
       "#T_8e941_row3_col7, #T_8e941_row5_col0, #T_8e941_row5_col1, #T_8e941_row12_col1 {\n",
       "  background-color: #4e68d8;\n",
       "  color: #f1f1f1;\n",
       "}\n",
       "#T_8e941_row3_col8 {\n",
       "  background-color: #c53334;\n",
       "  color: #f1f1f1;\n",
       "}\n",
       "#T_8e941_row3_col9 {\n",
       "  background-color: #6b8df0;\n",
       "  color: #f1f1f1;\n",
       "}\n",
       "#T_8e941_row3_col10 {\n",
       "  background-color: #f18d6f;\n",
       "  color: #f1f1f1;\n",
       "}\n",
       "#T_8e941_row3_col11, #T_8e941_row7_col12 {\n",
       "  background-color: #b5cdfa;\n",
       "  color: #000000;\n",
       "}\n",
       "#T_8e941_row4_col0 {\n",
       "  background-color: #485fd1;\n",
       "  color: #f1f1f1;\n",
       "}\n",
       "#T_8e941_row4_col2 {\n",
       "  background-color: #f08b6e;\n",
       "  color: #f1f1f1;\n",
       "}\n",
       "#T_8e941_row4_col3 {\n",
       "  background-color: #ec7f63;\n",
       "  color: #f1f1f1;\n",
       "}\n",
       "#T_8e941_row4_col5, #T_8e941_row5_col2 {\n",
       "  background-color: #ee8669;\n",
       "  color: #f1f1f1;\n",
       "}\n",
       "#T_8e941_row4_col6 {\n",
       "  background-color: #cbd8ee;\n",
       "  color: #000000;\n",
       "}\n",
       "#T_8e941_row4_col7 {\n",
       "  background-color: #94b6ff;\n",
       "  color: #000000;\n",
       "}\n",
       "#T_8e941_row4_col8, #T_8e941_row6_col8, #T_8e941_row10_col2 {\n",
       "  background-color: #f59d7e;\n",
       "  color: #000000;\n",
       "}\n",
       "#T_8e941_row4_col9 {\n",
       "  background-color: #6a8bef;\n",
       "  color: #f1f1f1;\n",
       "}\n",
       "#T_8e941_row4_col10 {\n",
       "  background-color: #f6bda2;\n",
       "  color: #000000;\n",
       "}\n",
       "#T_8e941_row4_col11, #T_8e941_row11_col10 {\n",
       "  background-color: #afcafc;\n",
       "  color: #000000;\n",
       "}\n",
       "#T_8e941_row5_col3 {\n",
       "  background-color: #d95847;\n",
       "  color: #f1f1f1;\n",
       "}\n",
       "#T_8e941_row5_col4 {\n",
       "  background-color: #f29274;\n",
       "  color: #f1f1f1;\n",
       "}\n",
       "#T_8e941_row5_col6 {\n",
       "  background-color: #dadce0;\n",
       "  color: #000000;\n",
       "}\n",
       "#T_8e941_row5_col7, #T_8e941_row5_col9 {\n",
       "  background-color: #7295f4;\n",
       "  color: #f1f1f1;\n",
       "}\n",
       "#T_8e941_row5_col8 {\n",
       "  background-color: #da5a49;\n",
       "  color: #f1f1f1;\n",
       "}\n",
       "#T_8e941_row5_col10 {\n",
       "  background-color: #ec8165;\n",
       "  color: #f1f1f1;\n",
       "}\n",
       "#T_8e941_row5_col11, #T_8e941_row9_col5, #T_8e941_row9_col7, #T_8e941_row10_col11 {\n",
       "  background-color: #bfd3f6;\n",
       "  color: #000000;\n",
       "}\n",
       "#T_8e941_row5_col12 {\n",
       "  background-color: #abc8fd;\n",
       "  color: #000000;\n",
       "}\n",
       "#T_8e941_row6_col1 {\n",
       "  background-color: #3d50c3;\n",
       "  color: #f1f1f1;\n",
       "}\n",
       "#T_8e941_row6_col2 {\n",
       "  background-color: #f7b99e;\n",
       "  color: #000000;\n",
       "}\n",
       "#T_8e941_row6_col3 {\n",
       "  background-color: #f7b79b;\n",
       "  color: #000000;\n",
       "}\n",
       "#T_8e941_row6_col4 {\n",
       "  background-color: #a2c1ff;\n",
       "  color: #000000;\n",
       "}\n",
       "#T_8e941_row6_col5, #T_8e941_row11_col8 {\n",
       "  background-color: #cfdaea;\n",
       "  color: #000000;\n",
       "}\n",
       "#T_8e941_row6_col7 {\n",
       "  background-color: #5d7ce6;\n",
       "  color: #f1f1f1;\n",
       "}\n",
       "#T_8e941_row6_col10 {\n",
       "  background-color: #e5d8d1;\n",
       "  color: #000000;\n",
       "}\n",
       "#T_8e941_row6_col12, #T_8e941_row10_col12 {\n",
       "  background-color: #a3c2fe;\n",
       "  color: #000000;\n",
       "}\n",
       "#T_8e941_row7_col0 {\n",
       "  background-color: #5e7de7;\n",
       "  color: #f1f1f1;\n",
       "}\n",
       "#T_8e941_row7_col11 {\n",
       "  background-color: #9fbfff;\n",
       "  color: #000000;\n",
       "}\n",
       "#T_8e941_row8_col3 {\n",
       "  background-color: #c73635;\n",
       "  color: #f1f1f1;\n",
       "}\n",
       "#T_8e941_row8_col4 {\n",
       "  background-color: #f6bfa6;\n",
       "  color: #000000;\n",
       "}\n",
       "#T_8e941_row8_col5 {\n",
       "  background-color: #e26952;\n",
       "  color: #f1f1f1;\n",
       "}\n",
       "#T_8e941_row8_col9 {\n",
       "  background-color: #6788ee;\n",
       "  color: #f1f1f1;\n",
       "}\n",
       "#T_8e941_row8_col10 {\n",
       "  background-color: #ef886b;\n",
       "  color: #f1f1f1;\n",
       "}\n",
       "#T_8e941_row8_col11 {\n",
       "  background-color: #bcd2f7;\n",
       "  color: #000000;\n",
       "}\n",
       "#T_8e941_row9_col0 {\n",
       "  background-color: #5572df;\n",
       "  color: #f1f1f1;\n",
       "}\n",
       "#T_8e941_row9_col1, #T_8e941_row11_col0 {\n",
       "  background-color: #4961d2;\n",
       "  color: #f1f1f1;\n",
       "}\n",
       "#T_8e941_row9_col2, #T_8e941_row9_col3 {\n",
       "  background-color: #d1dae9;\n",
       "  color: #000000;\n",
       "}\n",
       "#T_8e941_row9_col4 {\n",
       "  background-color: #9dbdff;\n",
       "  color: #000000;\n",
       "}\n",
       "#T_8e941_row9_col6 {\n",
       "  background-color: #b2ccfb;\n",
       "  color: #000000;\n",
       "}\n",
       "#T_8e941_row9_col8 {\n",
       "  background-color: #d8dce2;\n",
       "  color: #000000;\n",
       "}\n",
       "#T_8e941_row9_col10 {\n",
       "  background-color: #ccd9ed;\n",
       "  color: #000000;\n",
       "}\n",
       "#T_8e941_row10_col1 {\n",
       "  background-color: #3f53c6;\n",
       "  color: #f1f1f1;\n",
       "}\n",
       "#T_8e941_row10_col3, #T_8e941_row10_col5 {\n",
       "  background-color: #ed8366;\n",
       "  color: #f1f1f1;\n",
       "}\n",
       "#T_8e941_row10_col4 {\n",
       "  background-color: #f2cbb7;\n",
       "  color: #000000;\n",
       "}\n",
       "#T_8e941_row10_col6 {\n",
       "  background-color: #ebd3c6;\n",
       "  color: #000000;\n",
       "}\n",
       "#T_8e941_row10_col7 {\n",
       "  background-color: #6f92f3;\n",
       "  color: #f1f1f1;\n",
       "}\n",
       "#T_8e941_row10_col8 {\n",
       "  background-color: #e9785d;\n",
       "  color: #f1f1f1;\n",
       "}\n",
       "#T_8e941_row10_col9 {\n",
       "  background-color: #84a7fc;\n",
       "  color: #f1f1f1;\n",
       "}\n",
       "#T_8e941_row11_col1 {\n",
       "  background-color: #3c4ec2;\n",
       "  color: #f1f1f1;\n",
       "}\n",
       "#T_8e941_row11_col2 {\n",
       "  background-color: #c6d6f1;\n",
       "  color: #000000;\n",
       "}\n",
       "#T_8e941_row11_col3 {\n",
       "  background-color: #bed2f6;\n",
       "  color: #000000;\n",
       "}\n",
       "#T_8e941_row11_col4 {\n",
       "  background-color: #7a9df8;\n",
       "  color: #f1f1f1;\n",
       "}\n",
       "#T_8e941_row11_col7 {\n",
       "  background-color: #b7cff9;\n",
       "  color: #000000;\n",
       "}\n",
       "#T_8e941_row11_col9, #T_8e941_row12_col9 {\n",
       "  background-color: #4358cb;\n",
       "  color: #f1f1f1;\n",
       "}\n",
       "#T_8e941_row12_col2, #T_8e941_row12_col8 {\n",
       "  background-color: #c4d5f3;\n",
       "  color: #000000;\n",
       "}\n",
       "#T_8e941_row12_col3 {\n",
       "  background-color: #b9d0f9;\n",
       "  color: #000000;\n",
       "}\n",
       "#T_8e941_row12_col4 {\n",
       "  background-color: #80a3fa;\n",
       "  color: #f1f1f1;\n",
       "}\n",
       "#T_8e941_row12_col10 {\n",
       "  background-color: #90b2fe;\n",
       "  color: #000000;\n",
       "}\n",
       "</style>\n",
       "<table id=\"T_8e941\">\n",
       "  <thead>\n",
       "    <tr>\n",
       "      <th class=\"blank level0\" >&nbsp;</th>\n",
       "      <th id=\"T_8e941_level0_col0\" class=\"col_heading level0 col0\" >collector.id</th>\n",
       "      <th id=\"T_8e941_level0_col1\" class=\"col_heading level0 col1\" >c.score</th>\n",
       "      <th id=\"T_8e941_level0_col2\" class=\"col_heading level0 col2\" >l.score</th>\n",
       "      <th id=\"T_8e941_level0_col3\" class=\"col_heading level0 col3\" >rain</th>\n",
       "      <th id=\"T_8e941_level0_col4\" class=\"col_heading level0 col4\" >tree.age</th>\n",
       "      <th id=\"T_8e941_level0_col5\" class=\"col_heading level0 col5\" >surface.litter</th>\n",
       "      <th id=\"T_8e941_level0_col6\" class=\"col_heading level0 col6\" >wind.intensity</th>\n",
       "      <th id=\"T_8e941_level0_col7\" class=\"col_heading level0 col7\" >humidity</th>\n",
       "      <th id=\"T_8e941_level0_col8\" class=\"col_heading level0 col8\" >tree.density</th>\n",
       "      <th id=\"T_8e941_level0_col9\" class=\"col_heading level0 col9\" >month</th>\n",
       "      <th id=\"T_8e941_level0_col10\" class=\"col_heading level0 col10\" >fire</th>\n",
       "      <th id=\"T_8e941_level0_col11\" class=\"col_heading level0 col11\" >time.of.day_morning</th>\n",
       "      <th id=\"T_8e941_level0_col12\" class=\"col_heading level0 col12\" >time.of.day_night</th>\n",
       "    </tr>\n",
       "  </thead>\n",
       "  <tbody>\n",
       "    <tr>\n",
       "      <th id=\"T_8e941_level0_row0\" class=\"row_heading level0 row0\" >collector.id</th>\n",
       "      <td id=\"T_8e941_row0_col0\" class=\"data row0 col0\" >1.000000</td>\n",
       "      <td id=\"T_8e941_row0_col1\" class=\"data row0 col1\" >-0.050264</td>\n",
       "      <td id=\"T_8e941_row0_col2\" class=\"data row0 col2\" >-0.007252</td>\n",
       "      <td id=\"T_8e941_row0_col3\" class=\"data row0 col3\" >0.004176</td>\n",
       "      <td id=\"T_8e941_row0_col4\" class=\"data row0 col4\" >-0.001664</td>\n",
       "      <td id=\"T_8e941_row0_col5\" class=\"data row0 col5\" >0.017166</td>\n",
       "      <td id=\"T_8e941_row0_col6\" class=\"data row0 col6\" >0.014691</td>\n",
       "      <td id=\"T_8e941_row0_col7\" class=\"data row0 col7\" >0.070920</td>\n",
       "      <td id=\"T_8e941_row0_col8\" class=\"data row0 col8\" >0.006196</td>\n",
       "      <td id=\"T_8e941_row0_col9\" class=\"data row0 col9\" >0.040819</td>\n",
       "      <td id=\"T_8e941_row0_col10\" class=\"data row0 col10\" >0.003607</td>\n",
       "      <td id=\"T_8e941_row0_col11\" class=\"data row0 col11\" >0.000306</td>\n",
       "      <td id=\"T_8e941_row0_col12\" class=\"data row0 col12\" >-0.011791</td>\n",
       "    </tr>\n",
       "    <tr>\n",
       "      <th id=\"T_8e941_level0_row1\" class=\"row_heading level0 row1\" >c.score</th>\n",
       "      <td id=\"T_8e941_row1_col0\" class=\"data row1 col0\" >-0.050264</td>\n",
       "      <td id=\"T_8e941_row1_col1\" class=\"data row1 col1\" >1.000000</td>\n",
       "      <td id=\"T_8e941_row1_col2\" class=\"data row1 col2\" >0.010255</td>\n",
       "      <td id=\"T_8e941_row1_col3\" class=\"data row1 col3\" >0.012243</td>\n",
       "      <td id=\"T_8e941_row1_col4\" class=\"data row1 col4\" >-0.009639</td>\n",
       "      <td id=\"T_8e941_row1_col5\" class=\"data row1 col5\" >0.015894</td>\n",
       "      <td id=\"T_8e941_row1_col6\" class=\"data row1 col6\" >-0.040875</td>\n",
       "      <td id=\"T_8e941_row1_col7\" class=\"data row1 col7\" >0.009082</td>\n",
       "      <td id=\"T_8e941_row1_col8\" class=\"data row1 col8\" >0.013457</td>\n",
       "      <td id=\"T_8e941_row1_col9\" class=\"data row1 col9\" >-0.000791</td>\n",
       "      <td id=\"T_8e941_row1_col10\" class=\"data row1 col10\" >-0.031894</td>\n",
       "      <td id=\"T_8e941_row1_col11\" class=\"data row1 col11\" >-0.044736</td>\n",
       "      <td id=\"T_8e941_row1_col12\" class=\"data row1 col12\" >0.016421</td>\n",
       "    </tr>\n",
       "    <tr>\n",
       "      <th id=\"T_8e941_level0_row2\" class=\"row_heading level0 row2\" >l.score</th>\n",
       "      <td id=\"T_8e941_row2_col0\" class=\"data row2 col0\" >-0.007252</td>\n",
       "      <td id=\"T_8e941_row2_col1\" class=\"data row2 col1\" >0.010255</td>\n",
       "      <td id=\"T_8e941_row2_col2\" class=\"data row2 col2\" >1.000000</td>\n",
       "      <td id=\"T_8e941_row2_col3\" class=\"data row2 col3\" >0.905248</td>\n",
       "      <td id=\"T_8e941_row2_col4\" class=\"data row2 col4\" >0.637844</td>\n",
       "      <td id=\"T_8e941_row2_col5\" class=\"data row2 col5\" >0.653907</td>\n",
       "      <td id=\"T_8e941_row2_col6\" class=\"data row2 col6\" >0.431780</td>\n",
       "      <td id=\"T_8e941_row2_col7\" class=\"data row2 col7\" >-0.676025</td>\n",
       "      <td id=\"T_8e941_row2_col8\" class=\"data row2 col8\" >0.824831</td>\n",
       "      <td id=\"T_8e941_row2_col9\" class=\"data row2 col9\" >0.085508</td>\n",
       "      <td id=\"T_8e941_row2_col10\" class=\"data row2 col10\" >0.564577</td>\n",
       "      <td id=\"T_8e941_row2_col11\" class=\"data row2 col11\" >0.025705</td>\n",
       "      <td id=\"T_8e941_row2_col12\" class=\"data row2 col12\" >0.014433</td>\n",
       "    </tr>\n",
       "    <tr>\n",
       "      <th id=\"T_8e941_level0_row3\" class=\"row_heading level0 row3\" >rain</th>\n",
       "      <td id=\"T_8e941_row3_col0\" class=\"data row3 col0\" >0.004176</td>\n",
       "      <td id=\"T_8e941_row3_col1\" class=\"data row3 col1\" >0.012243</td>\n",
       "      <td id=\"T_8e941_row3_col2\" class=\"data row3 col2\" >0.905248</td>\n",
       "      <td id=\"T_8e941_row3_col3\" class=\"data row3 col3\" >1.000000</td>\n",
       "      <td id=\"T_8e941_row3_col4\" class=\"data row3 col4\" >0.693742</td>\n",
       "      <td id=\"T_8e941_row3_col5\" class=\"data row3 col5\" >0.818463</td>\n",
       "      <td id=\"T_8e941_row3_col6\" class=\"data row3 col6\" >0.468918</td>\n",
       "      <td id=\"T_8e941_row3_col7\" class=\"data row3 col7\" >-0.607190</td>\n",
       "      <td id=\"T_8e941_row3_col8\" class=\"data row3 col8\" >0.917459</td>\n",
       "      <td id=\"T_8e941_row3_col9\" class=\"data row3 col9\" >0.122157</td>\n",
       "      <td id=\"T_8e941_row3_col10\" class=\"data row3 col10\" >0.684050</td>\n",
       "      <td id=\"T_8e941_row3_col11\" class=\"data row3 col11\" >0.022692</td>\n",
       "      <td id=\"T_8e941_row3_col12\" class=\"data row3 col12\" >0.000852</td>\n",
       "    </tr>\n",
       "    <tr>\n",
       "      <th id=\"T_8e941_level0_row4\" class=\"row_heading level0 row4\" >tree.age</th>\n",
       "      <td id=\"T_8e941_row4_col0\" class=\"data row4 col0\" >-0.001664</td>\n",
       "      <td id=\"T_8e941_row4_col1\" class=\"data row4 col1\" >-0.009639</td>\n",
       "      <td id=\"T_8e941_row4_col2\" class=\"data row4 col2\" >0.637844</td>\n",
       "      <td id=\"T_8e941_row4_col3\" class=\"data row4 col3\" >0.693742</td>\n",
       "      <td id=\"T_8e941_row4_col4\" class=\"data row4 col4\" >1.000000</td>\n",
       "      <td id=\"T_8e941_row4_col5\" class=\"data row4 col5\" >0.708016</td>\n",
       "      <td id=\"T_8e941_row4_col6\" class=\"data row4 col6\" >0.135609</td>\n",
       "      <td id=\"T_8e941_row4_col7\" class=\"data row4 col7\" >-0.251645</td>\n",
       "      <td id=\"T_8e941_row4_col8\" class=\"data row4 col8\" >0.551867</td>\n",
       "      <td id=\"T_8e941_row4_col9\" class=\"data row4 col9\" >0.118422</td>\n",
       "      <td id=\"T_8e941_row4_col10\" class=\"data row4 col10\" >0.501015</td>\n",
       "      <td id=\"T_8e941_row4_col11\" class=\"data row4 col11\" >-0.004164</td>\n",
       "      <td id=\"T_8e941_row4_col12\" class=\"data row4 col12\" >0.016439</td>\n",
       "    </tr>\n",
       "    <tr>\n",
       "      <th id=\"T_8e941_level0_row5\" class=\"row_heading level0 row5\" >surface.litter</th>\n",
       "      <td id=\"T_8e941_row5_col0\" class=\"data row5 col0\" >0.017166</td>\n",
       "      <td id=\"T_8e941_row5_col1\" class=\"data row5 col1\" >0.015894</td>\n",
       "      <td id=\"T_8e941_row5_col2\" class=\"data row5 col2\" >0.653907</td>\n",
       "      <td id=\"T_8e941_row5_col3\" class=\"data row5 col3\" >0.818463</td>\n",
       "      <td id=\"T_8e941_row5_col4\" class=\"data row5 col4\" >0.708016</td>\n",
       "      <td id=\"T_8e941_row5_col5\" class=\"data row5 col5\" >1.000000</td>\n",
       "      <td id=\"T_8e941_row5_col6\" class=\"data row5 col6\" >0.218637</td>\n",
       "      <td id=\"T_8e941_row5_col7\" class=\"data row5 col7\" >-0.418690</td>\n",
       "      <td id=\"T_8e941_row5_col8\" class=\"data row5 col8\" >0.800077</td>\n",
       "      <td id=\"T_8e941_row5_col9\" class=\"data row5 col9\" >0.141633</td>\n",
       "      <td id=\"T_8e941_row5_col10\" class=\"data row5 col10\" >0.720805</td>\n",
       "      <td id=\"T_8e941_row5_col11\" class=\"data row5 col11\" >0.069285</td>\n",
       "      <td id=\"T_8e941_row5_col12\" class=\"data row5 col12\" >-0.022637</td>\n",
       "    </tr>\n",
       "    <tr>\n",
       "      <th id=\"T_8e941_level0_row6\" class=\"row_heading level0 row6\" >wind.intensity</th>\n",
       "      <td id=\"T_8e941_row6_col0\" class=\"data row6 col0\" >0.014691</td>\n",
       "      <td id=\"T_8e941_row6_col1\" class=\"data row6 col1\" >-0.040875</td>\n",
       "      <td id=\"T_8e941_row6_col2\" class=\"data row6 col2\" >0.431780</td>\n",
       "      <td id=\"T_8e941_row6_col3\" class=\"data row6 col3\" >0.468918</td>\n",
       "      <td id=\"T_8e941_row6_col4\" class=\"data row6 col4\" >0.135609</td>\n",
       "      <td id=\"T_8e941_row6_col5\" class=\"data row6 col5\" >0.218637</td>\n",
       "      <td id=\"T_8e941_row6_col6\" class=\"data row6 col6\" >1.000000</td>\n",
       "      <td id=\"T_8e941_row6_col7\" class=\"data row6 col7\" >-0.528254</td>\n",
       "      <td id=\"T_8e941_row6_col8\" class=\"data row6 col8\" >0.554210</td>\n",
       "      <td id=\"T_8e941_row6_col9\" class=\"data row6 col9\" >0.016844</td>\n",
       "      <td id=\"T_8e941_row6_col10\" class=\"data row6 col10\" >0.330339</td>\n",
       "      <td id=\"T_8e941_row6_col11\" class=\"data row6 col11\" >0.053640</td>\n",
       "      <td id=\"T_8e941_row6_col12\" class=\"data row6 col12\" >-0.059502</td>\n",
       "    </tr>\n",
       "    <tr>\n",
       "      <th id=\"T_8e941_level0_row7\" class=\"row_heading level0 row7\" >humidity</th>\n",
       "      <td id=\"T_8e941_row7_col0\" class=\"data row7 col0\" >0.070920</td>\n",
       "      <td id=\"T_8e941_row7_col1\" class=\"data row7 col1\" >0.009082</td>\n",
       "      <td id=\"T_8e941_row7_col2\" class=\"data row7 col2\" >-0.676025</td>\n",
       "      <td id=\"T_8e941_row7_col3\" class=\"data row7 col3\" >-0.607190</td>\n",
       "      <td id=\"T_8e941_row7_col4\" class=\"data row7 col4\" >-0.251645</td>\n",
       "      <td id=\"T_8e941_row7_col5\" class=\"data row7 col5\" >-0.418690</td>\n",
       "      <td id=\"T_8e941_row7_col6\" class=\"data row7 col6\" >-0.528254</td>\n",
       "      <td id=\"T_8e941_row7_col7\" class=\"data row7 col7\" >1.000000</td>\n",
       "      <td id=\"T_8e941_row7_col8\" class=\"data row7 col8\" >-0.719598</td>\n",
       "      <td id=\"T_8e941_row7_col9\" class=\"data row7 col9\" >-0.038235</td>\n",
       "      <td id=\"T_8e941_row7_col10\" class=\"data row7 col10\" >-0.434149</td>\n",
       "      <td id=\"T_8e941_row7_col11\" class=\"data row7 col11\" >-0.076432</td>\n",
       "      <td id=\"T_8e941_row7_col12\" class=\"data row7 col12\" >0.018143</td>\n",
       "    </tr>\n",
       "    <tr>\n",
       "      <th id=\"T_8e941_level0_row8\" class=\"row_heading level0 row8\" >tree.density</th>\n",
       "      <td id=\"T_8e941_row8_col0\" class=\"data row8 col0\" >0.006196</td>\n",
       "      <td id=\"T_8e941_row8_col1\" class=\"data row8 col1\" >0.013457</td>\n",
       "      <td id=\"T_8e941_row8_col2\" class=\"data row8 col2\" >0.824831</td>\n",
       "      <td id=\"T_8e941_row8_col3\" class=\"data row8 col3\" >0.917459</td>\n",
       "      <td id=\"T_8e941_row8_col4\" class=\"data row8 col4\" >0.551867</td>\n",
       "      <td id=\"T_8e941_row8_col5\" class=\"data row8 col5\" >0.800077</td>\n",
       "      <td id=\"T_8e941_row8_col6\" class=\"data row8 col6\" >0.554210</td>\n",
       "      <td id=\"T_8e941_row8_col7\" class=\"data row8 col7\" >-0.719598</td>\n",
       "      <td id=\"T_8e941_row8_col8\" class=\"data row8 col8\" >1.000000</td>\n",
       "      <td id=\"T_8e941_row8_col9\" class=\"data row8 col9\" >0.111694</td>\n",
       "      <td id=\"T_8e941_row8_col10\" class=\"data row8 col10\" >0.698306</td>\n",
       "      <td id=\"T_8e941_row8_col11\" class=\"data row8 col11\" >0.054802</td>\n",
       "      <td id=\"T_8e941_row8_col12\" class=\"data row8 col12\" >-0.008810</td>\n",
       "    </tr>\n",
       "    <tr>\n",
       "      <th id=\"T_8e941_level0_row9\" class=\"row_heading level0 row9\" >month</th>\n",
       "      <td id=\"T_8e941_row9_col0\" class=\"data row9 col0\" >0.040819</td>\n",
       "      <td id=\"T_8e941_row9_col1\" class=\"data row9 col1\" >-0.000791</td>\n",
       "      <td id=\"T_8e941_row9_col2\" class=\"data row9 col2\" >0.085508</td>\n",
       "      <td id=\"T_8e941_row9_col3\" class=\"data row9 col3\" >0.122157</td>\n",
       "      <td id=\"T_8e941_row9_col4\" class=\"data row9 col4\" >0.118422</td>\n",
       "      <td id=\"T_8e941_row9_col5\" class=\"data row9 col5\" >0.141633</td>\n",
       "      <td id=\"T_8e941_row9_col6\" class=\"data row9 col6\" >0.016844</td>\n",
       "      <td id=\"T_8e941_row9_col7\" class=\"data row9 col7\" >-0.038235</td>\n",
       "      <td id=\"T_8e941_row9_col8\" class=\"data row9 col8\" >0.111694</td>\n",
       "      <td id=\"T_8e941_row9_col9\" class=\"data row9 col9\" >1.000000</td>\n",
       "      <td id=\"T_8e941_row9_col10\" class=\"data row9 col10\" >0.196339</td>\n",
       "      <td id=\"T_8e941_row9_col11\" class=\"data row9 col11\" >-0.009740</td>\n",
       "      <td id=\"T_8e941_row9_col12\" class=\"data row9 col12\" >-0.009222</td>\n",
       "    </tr>\n",
       "    <tr>\n",
       "      <th id=\"T_8e941_level0_row10\" class=\"row_heading level0 row10\" >fire</th>\n",
       "      <td id=\"T_8e941_row10_col0\" class=\"data row10 col0\" >0.003607</td>\n",
       "      <td id=\"T_8e941_row10_col1\" class=\"data row10 col1\" >-0.031894</td>\n",
       "      <td id=\"T_8e941_row10_col2\" class=\"data row10 col2\" >0.564577</td>\n",
       "      <td id=\"T_8e941_row10_col3\" class=\"data row10 col3\" >0.684050</td>\n",
       "      <td id=\"T_8e941_row10_col4\" class=\"data row10 col4\" >0.501015</td>\n",
       "      <td id=\"T_8e941_row10_col5\" class=\"data row10 col5\" >0.720805</td>\n",
       "      <td id=\"T_8e941_row10_col6\" class=\"data row10 col6\" >0.330339</td>\n",
       "      <td id=\"T_8e941_row10_col7\" class=\"data row10 col7\" >-0.434149</td>\n",
       "      <td id=\"T_8e941_row10_col8\" class=\"data row10 col8\" >0.698306</td>\n",
       "      <td id=\"T_8e941_row10_col9\" class=\"data row10 col9\" >0.196339</td>\n",
       "      <td id=\"T_8e941_row10_col10\" class=\"data row10 col10\" >1.000000</td>\n",
       "      <td id=\"T_8e941_row10_col11\" class=\"data row10 col11\" >0.068870</td>\n",
       "      <td id=\"T_8e941_row10_col12\" class=\"data row10 col12\" >-0.059734</td>\n",
       "    </tr>\n",
       "    <tr>\n",
       "      <th id=\"T_8e941_level0_row11\" class=\"row_heading level0 row11\" >time.of.day_morning</th>\n",
       "      <td id=\"T_8e941_row11_col0\" class=\"data row11 col0\" >0.000306</td>\n",
       "      <td id=\"T_8e941_row11_col1\" class=\"data row11 col1\" >-0.044736</td>\n",
       "      <td id=\"T_8e941_row11_col2\" class=\"data row11 col2\" >0.025705</td>\n",
       "      <td id=\"T_8e941_row11_col3\" class=\"data row11 col3\" >0.022692</td>\n",
       "      <td id=\"T_8e941_row11_col4\" class=\"data row11 col4\" >-0.004164</td>\n",
       "      <td id=\"T_8e941_row11_col5\" class=\"data row11 col5\" >0.069285</td>\n",
       "      <td id=\"T_8e941_row11_col6\" class=\"data row11 col6\" >0.053640</td>\n",
       "      <td id=\"T_8e941_row11_col7\" class=\"data row11 col7\" >-0.076432</td>\n",
       "      <td id=\"T_8e941_row11_col8\" class=\"data row11 col8\" >0.054802</td>\n",
       "      <td id=\"T_8e941_row11_col9\" class=\"data row11 col9\" >-0.009740</td>\n",
       "      <td id=\"T_8e941_row11_col10\" class=\"data row11 col10\" >0.068870</td>\n",
       "      <td id=\"T_8e941_row11_col11\" class=\"data row11 col11\" >1.000000</td>\n",
       "      <td id=\"T_8e941_row11_col12\" class=\"data row11 col12\" >-0.542162</td>\n",
       "    </tr>\n",
       "    <tr>\n",
       "      <th id=\"T_8e941_level0_row12\" class=\"row_heading level0 row12\" >time.of.day_night</th>\n",
       "      <td id=\"T_8e941_row12_col0\" class=\"data row12 col0\" >-0.011791</td>\n",
       "      <td id=\"T_8e941_row12_col1\" class=\"data row12 col1\" >0.016421</td>\n",
       "      <td id=\"T_8e941_row12_col2\" class=\"data row12 col2\" >0.014433</td>\n",
       "      <td id=\"T_8e941_row12_col3\" class=\"data row12 col3\" >0.000852</td>\n",
       "      <td id=\"T_8e941_row12_col4\" class=\"data row12 col4\" >0.016439</td>\n",
       "      <td id=\"T_8e941_row12_col5\" class=\"data row12 col5\" >-0.022637</td>\n",
       "      <td id=\"T_8e941_row12_col6\" class=\"data row12 col6\" >-0.059502</td>\n",
       "      <td id=\"T_8e941_row12_col7\" class=\"data row12 col7\" >0.018143</td>\n",
       "      <td id=\"T_8e941_row12_col8\" class=\"data row12 col8\" >-0.008810</td>\n",
       "      <td id=\"T_8e941_row12_col9\" class=\"data row12 col9\" >-0.009222</td>\n",
       "      <td id=\"T_8e941_row12_col10\" class=\"data row12 col10\" >-0.059734</td>\n",
       "      <td id=\"T_8e941_row12_col11\" class=\"data row12 col11\" >-0.542162</td>\n",
       "      <td id=\"T_8e941_row12_col12\" class=\"data row12 col12\" >1.000000</td>\n",
       "    </tr>\n",
       "  </tbody>\n",
       "</table>\n"
      ],
      "text/plain": [
       "<pandas.io.formats.style.Styler at 0x2310b787370>"
      ]
     },
     "execution_count": 134,
     "metadata": {},
     "output_type": "execute_result"
    }
   ],
   "source": [
    "df.corr().style.background_gradient(cmap='coolwarm')"
   ]
  },
  {
   "cell_type": "markdown",
   "id": "1d67ebe0",
   "metadata": {},
   "source": [
    "As it can be appreciated, there are a couple variables which are highly correlated: *c.score*-*surface.litter* and *rain*-*tree.density*. I will train the models 3 times: the first training will be without the *surface.litter* variable, the second one will be without *rain* and the last one will be without both.\n",
    "\n",
    "This last step will help decide if the model improves or not its performance without the two most correlated variables.\n",
    "\n",
    "It can also be appreciated that the least correlated variables are: *c.score*-*month* and *c.score*-*humidity*. I will also train the models without said variables and see if their performance improves."
   ]
  },
  {
   "cell_type": "markdown",
   "id": "2770c85b",
   "metadata": {},
   "source": [
    "## Data without *c.score*"
   ]
  },
  {
   "cell_type": "code",
   "execution_count": 135,
   "id": "cadc0fe7",
   "metadata": {},
   "outputs": [],
   "source": [
    "targetName = \"fire\"\n",
    "allFeatureNames = df.columns[df.columns != targetName]\n",
    "allFeatureNames = allFeatureNames[allFeatureNames != \"collector.id\"]\n",
    "allFeatureNames = allFeatureNames[allFeatureNames != \"c.score\"]\n",
    "X = df[allFeatureNames]\n",
    "y = df[targetName]"
   ]
  },
  {
   "cell_type": "code",
   "execution_count": 136,
   "id": "d4fccae7",
   "metadata": {},
   "outputs": [],
   "source": [
    "X_train, X_test, y_train, y_test = train_test_split(X, y, test_size=0.2, random_state=1)"
   ]
  },
  {
   "cell_type": "code",
   "execution_count": 137,
   "id": "a62136a9",
   "metadata": {},
   "outputs": [],
   "source": [
    "X_train, X_validation, y_train, y_validation = train_test_split(X_train, y_train, test_size=0.2, random_state=1)"
   ]
  },
  {
   "cell_type": "code",
   "execution_count": 138,
   "id": "5101c803",
   "metadata": {},
   "outputs": [],
   "source": [
    "y_train = y_train[X_train[\"l.score\"].notnull()]\n",
    "y_train = y_train[X_train[\"rain\"].notnull()]\n",
    "y_train = y_train[X_train[\"tree.age\"].notnull()]\n",
    "y_train = y_train[X_train[\"wind.intensity\"].notnull()]\n",
    "y_train = y_train[X_train[\"humidity\"].notnull()]\n",
    "X_train.dropna(inplace=True)"
   ]
  },
  {
   "cell_type": "code",
   "execution_count": 139,
   "id": "8f010ace",
   "metadata": {},
   "outputs": [],
   "source": [
    "y_train = y_train[X_train[\"tree.age\"]<200] \n",
    "X_train = X_train[X_train[\"tree.age\"]<200]"
   ]
  },
  {
   "cell_type": "code",
   "execution_count": 140,
   "id": "42c6952b",
   "metadata": {},
   "outputs": [],
   "source": [
    "mm_scaler = MinMaxScaler()\n",
    "X_train = pd.DataFrame(mm_scaler.fit_transform(X_train), columns=X_train.columns)"
   ]
  },
  {
   "cell_type": "markdown",
   "id": "d2fb5651",
   "metadata": {},
   "source": [
    "### Logistic Regression"
   ]
  },
  {
   "cell_type": "code",
   "execution_count": 141,
   "id": "3c9aa8b5",
   "metadata": {},
   "outputs": [],
   "source": [
    "parametersLR = dict(solver=[\"liblinear\",\"lbfgs\",\"sag\",],\n",
    "                    penalty=['l2'],\n",
    "                    max_iter=[None, 2000, 5000])"
   ]
  },
  {
   "cell_type": "code",
   "execution_count": 142,
   "id": "bc5710d3",
   "metadata": {},
   "outputs": [],
   "source": [
    "lR_uncorr1 = LogisticRegression(random_state=1)\n",
    "lR_clf_uncorr1 = GridSearchCV(lR_uncorr1, parametersLR, scoring=\"f1_macro\").fit(X_train, y_train)"
   ]
  },
  {
   "cell_type": "code",
   "execution_count": 143,
   "id": "c4014c5a",
   "metadata": {},
   "outputs": [],
   "source": [
    "y_validation = y_validation[X_validation[\"l.score\"].notnull()]\n",
    "y_validation = y_validation[X_validation[\"rain\"].notnull()]\n",
    "y_validation = y_validation[X_validation[\"tree.age\"].notnull()]\n",
    "y_validation = y_validation[X_validation[\"wind.intensity\"].notnull()]\n",
    "y_validation = y_validation[X_validation[\"humidity\"].notnull()]\n",
    "X_validation.dropna(inplace=True)"
   ]
  },
  {
   "cell_type": "code",
   "execution_count": 144,
   "id": "6df9f9bb",
   "metadata": {},
   "outputs": [],
   "source": [
    "y_validation = y_validation[X_validation[\"tree.age\"]<200]\n",
    "X_validation = X_validation[X_validation[\"tree.age\"]<200]"
   ]
  },
  {
   "cell_type": "code",
   "execution_count": 145,
   "id": "4d61d5b5",
   "metadata": {},
   "outputs": [],
   "source": [
    "mm_scaler = MinMaxScaler()\n",
    "X_validation = pd.DataFrame(mm_scaler.fit_transform(X_validation), columns=X_validation.columns)"
   ]
  },
  {
   "cell_type": "code",
   "execution_count": 146,
   "id": "788dbb07",
   "metadata": {},
   "outputs": [
    {
     "name": "stdout",
     "output_type": "stream",
     "text": [
      "{'max_iter': 2000, 'penalty': 'l2', 'solver': 'lbfgs'}\n",
      "0.841\n"
     ]
    }
   ],
   "source": [
    "print(lR_clf_uncorr1.best_params_)\n",
    "print(round(metrics.f1_score(lR_clf_uncorr1.best_estimator_.predict(X_validation), y_validation, average=\"macro\"), 3))"
   ]
  },
  {
   "cell_type": "code",
   "execution_count": 147,
   "id": "26452d08",
   "metadata": {},
   "outputs": [
    {
     "name": "stdout",
     "output_type": "stream",
     "text": [
      "R2: 0.3916666666666666\n"
     ]
    }
   ],
   "source": [
    "print(\"R2:\", metrics.r2_score(y_validation, lR_clf_uncorr1.best_estimator_.predict(X_validation)))"
   ]
  },
  {
   "cell_type": "markdown",
   "id": "360b1510",
   "metadata": {},
   "source": [
    "**Manual Search** of hyperparameters"
   ]
  },
  {
   "cell_type": "markdown",
   "id": "fb69bc1f",
   "metadata": {},
   "source": [
    "**Logistic Regression** with *{'solver':'sag','penalty':'l2','max_iter':5000}*"
   ]
  },
  {
   "cell_type": "code",
   "execution_count": 148,
   "id": "6f398a0a",
   "metadata": {},
   "outputs": [],
   "source": [
    "lR2_uncorr1 = LogisticRegression(solver='sag', penalty='l2', max_iter=5000, random_state=1).fit(X_train, y_train)\n",
    "y_lR2_uncorr1 = lR2_uncorr1.predict_proba(X_validation)[:,1]\n",
    "y_lR2_uncorr1 = [round(y) for y in y_lR2_uncorr1]"
   ]
  },
  {
   "cell_type": "code",
   "execution_count": 149,
   "id": "339858d6",
   "metadata": {
    "scrolled": true
   },
   "outputs": [
    {
     "name": "stdout",
     "output_type": "stream",
     "text": [
      "The F1 score is: 0.841\n"
     ]
    }
   ],
   "source": [
    "print(f\"The F1 score is: {round(metrics.f1_score(y_lR2_uncorr1, y_validation, average='macro'),3)}\")"
   ]
  },
  {
   "cell_type": "markdown",
   "id": "824db7cf",
   "metadata": {},
   "source": [
    "**Logistic Regression** with *{'solver':'liblinear','penalty':'l2'}*"
   ]
  },
  {
   "cell_type": "code",
   "execution_count": 150,
   "id": "3a218621",
   "metadata": {},
   "outputs": [],
   "source": [
    "lR3_uncorr1 = LogisticRegression(solver='liblinear', penalty='l2', random_state=1).fit(X_train, y_train)\n",
    "y_lR3_uncorr1 = lR3_uncorr1.predict_proba(X_validation)[:,1]\n",
    "y_lR3_uncorr1 = [round(y) for y in y_lR3_uncorr1]"
   ]
  },
  {
   "cell_type": "code",
   "execution_count": 151,
   "id": "dc898b9b",
   "metadata": {},
   "outputs": [
    {
     "name": "stdout",
     "output_type": "stream",
     "text": [
      "The F1 score is: 0.859\n"
     ]
    }
   ],
   "source": [
    "print(f\"The F1 score is: {round(metrics.f1_score(y_lR3_uncorr1, y_validation, average='macro'),3)}\")"
   ]
  },
  {
   "cell_type": "markdown",
   "id": "322a777c",
   "metadata": {},
   "source": [
    "**Logistic Regression** with default hyperparameters (*{'penalty':'l2','solver':'lbfgs','max_iter':100}*)"
   ]
  },
  {
   "cell_type": "code",
   "execution_count": 152,
   "id": "a2532de2",
   "metadata": {},
   "outputs": [],
   "source": [
    "lR4_uncorr1 = LogisticRegression(random_state=1).fit(X_train, y_train)\n",
    "y_lR4_uncorr1 = lR4_uncorr1.predict_proba(X_validation)[:,1]\n",
    "y_lR4_uncorr1 = [round(y) for y in y_lR4_uncorr1]"
   ]
  },
  {
   "cell_type": "code",
   "execution_count": 153,
   "id": "c2188118",
   "metadata": {},
   "outputs": [
    {
     "name": "stdout",
     "output_type": "stream",
     "text": [
      "The F1 score is: 0.841\n"
     ]
    }
   ],
   "source": [
    "print(f\"The F1 score is: {round(metrics.f1_score(y_lR4_uncorr1, y_validation, average='macro'),3)}\")"
   ]
  },
  {
   "cell_type": "markdown",
   "id": "82a023d1",
   "metadata": {},
   "source": [
    "### Decision Tree"
   ]
  },
  {
   "cell_type": "code",
   "execution_count": 154,
   "id": "60e9bd87",
   "metadata": {},
   "outputs": [],
   "source": [
    "parametersDT = dict(criterion=[\"gini\",\"entropy\",\"log_loss\",],\n",
    "                    max_depth=[None, 6, 20])"
   ]
  },
  {
   "cell_type": "code",
   "execution_count": 155,
   "id": "9c1f85d9",
   "metadata": {},
   "outputs": [],
   "source": [
    "tree_clf_uncorr1 = tree.DecisionTreeClassifier(random_state=1)\n",
    "tree_Grid_uncorr1 = GridSearchCV(tree_clf_uncorr1, parametersDT, scoring=\"f1_macro\").fit(X_train, y_train)"
   ]
  },
  {
   "cell_type": "code",
   "execution_count": 156,
   "id": "26cdd2d2",
   "metadata": {},
   "outputs": [
    {
     "name": "stdout",
     "output_type": "stream",
     "text": [
      "{'criterion': 'entropy', 'max_depth': 6}\n",
      "0.895\n"
     ]
    }
   ],
   "source": [
    "print(tree_Grid_uncorr1.best_params_)\n",
    "print(round(metrics.f1_score(tree_Grid_uncorr1.best_estimator_.predict(X_validation), y_validation, average=\"macro\"), 3))"
   ]
  },
  {
   "cell_type": "code",
   "execution_count": 157,
   "id": "bcae358f",
   "metadata": {},
   "outputs": [
    {
     "name": "stdout",
     "output_type": "stream",
     "text": [
      "R2: 0.5741666666666666\n"
     ]
    }
   ],
   "source": [
    "print(\"R2:\", metrics.r2_score(y_validation, tree_Grid_uncorr1.best_estimator_.predict(X_validation)))"
   ]
  },
  {
   "cell_type": "markdown",
   "id": "fc1c09e5",
   "metadata": {},
   "source": [
    "**Manual Search** of hyperparameters"
   ]
  },
  {
   "cell_type": "markdown",
   "id": "3a1a446c",
   "metadata": {},
   "source": [
    "**DecisionTree** with hyperparameters *{'criterion':'gini'}*"
   ]
  },
  {
   "cell_type": "code",
   "execution_count": 158,
   "id": "c91f4935",
   "metadata": {},
   "outputs": [],
   "source": [
    "tree_clf1_uncorr1 = tree.DecisionTreeClassifier(criterion=\"gini\",random_state=1).fit(X_train, y_train)\n",
    "y_DTC1_uncorr1 = tree_clf1_uncorr1.predict(X_validation)"
   ]
  },
  {
   "cell_type": "code",
   "execution_count": 159,
   "id": "e4af65ce",
   "metadata": {},
   "outputs": [
    {
     "name": "stdout",
     "output_type": "stream",
     "text": [
      "The F1 score is: 0.831\n"
     ]
    }
   ],
   "source": [
    "print(f\"The F1 score is: {round(metrics.f1_score(y_DTC1_uncorr1, y_validation, average='macro'),3)}\")"
   ]
  },
  {
   "cell_type": "markdown",
   "id": "d12f0b97",
   "metadata": {},
   "source": [
    "**DecisionTree** with hyperparameters *{'criterion':'log_loss'}*"
   ]
  },
  {
   "cell_type": "code",
   "execution_count": 160,
   "id": "f0844938",
   "metadata": {},
   "outputs": [],
   "source": [
    "tree_clf3_uncorr1 = tree.DecisionTreeClassifier(criterion=\"log_loss\",random_state=1).fit(X_train, y_train)\n",
    "y_DTC3_uncorr1 = tree_clf3_uncorr1.predict(X_validation)"
   ]
  },
  {
   "cell_type": "code",
   "execution_count": 161,
   "id": "b2b539aa",
   "metadata": {},
   "outputs": [
    {
     "name": "stdout",
     "output_type": "stream",
     "text": [
      "The F1 score is: 0.851\n"
     ]
    }
   ],
   "source": [
    "print(f\"The F1 score is: {round(metrics.f1_score(y_DTC3_uncorr1, y_validation, average='macro'),3)}\")"
   ]
  },
  {
   "cell_type": "markdown",
   "id": "9536d792",
   "metadata": {},
   "source": [
    "**DecisionTree** with hyperparameters *{'criterion':'gini','max_depth':6}*"
   ]
  },
  {
   "cell_type": "code",
   "execution_count": 162,
   "id": "1ae1e3b9",
   "metadata": {},
   "outputs": [],
   "source": [
    "tree_clf2_uncorr1 = tree.DecisionTreeClassifier(criterion=\"gini\",max_depth=6,random_state=1).fit(X_train, y_train)\n",
    "y_DTC2_uncorr1 = tree_clf2_uncorr1.predict(X_validation)"
   ]
  },
  {
   "cell_type": "code",
   "execution_count": 163,
   "id": "a26f7ff0",
   "metadata": {},
   "outputs": [
    {
     "name": "stdout",
     "output_type": "stream",
     "text": [
      "The F1 score is: 0.876\n"
     ]
    }
   ],
   "source": [
    "print(f\"The F1 score is: {round(metrics.f1_score(y_DTC2_uncorr1, y_validation, average='macro'),3)}\")"
   ]
  },
  {
   "cell_type": "markdown",
   "id": "f31d0c65",
   "metadata": {},
   "source": [
    "### RandomForest"
   ]
  },
  {
   "cell_type": "code",
   "execution_count": 164,
   "id": "3cc85b16",
   "metadata": {},
   "outputs": [],
   "source": [
    "parametersRF = dict(criterion=[\"gini\",\"entropy\",\"log_loss\",],\n",
    "                    n_estimators=[10,50,100],\n",
    "                    max_depth=[None, 6, 20])"
   ]
  },
  {
   "cell_type": "code",
   "execution_count": 165,
   "id": "70ca3360",
   "metadata": {},
   "outputs": [],
   "source": [
    "rf_clf_uncorr1 = RandomForestClassifier(random_state=1)\n",
    "rf_Grid_uncorr1 = GridSearchCV(rf_clf_uncorr1, parametersRF, scoring=\"f1_macro\").fit(X_train, y_train)"
   ]
  },
  {
   "cell_type": "code",
   "execution_count": 166,
   "id": "b90f1aec",
   "metadata": {},
   "outputs": [
    {
     "name": "stdout",
     "output_type": "stream",
     "text": [
      "{'criterion': 'gini', 'max_depth': 6, 'n_estimators': 10}\n",
      "0.841\n"
     ]
    }
   ],
   "source": [
    "print(rf_Grid_uncorr1.best_params_)\n",
    "print(round(metrics.f1_score(rf_Grid_uncorr1.best_estimator_.predict(X_validation), y_validation, average=\"macro\"), 3))"
   ]
  },
  {
   "cell_type": "code",
   "execution_count": 167,
   "id": "eebe5d92",
   "metadata": {},
   "outputs": [
    {
     "name": "stdout",
     "output_type": "stream",
     "text": [
      "R2: 0.3916666666666666\n"
     ]
    }
   ],
   "source": [
    "print(\"R2:\", metrics.r2_score(y_validation, rf_Grid_uncorr1.best_estimator_.predict(X_validation)))"
   ]
  },
  {
   "cell_type": "markdown",
   "id": "d6a7d249",
   "metadata": {},
   "source": [
    "**RandomForest** with *{'n_estimators'=50,'criterion'='log_loss'}*"
   ]
  },
  {
   "cell_type": "code",
   "execution_count": 168,
   "id": "a58854a8",
   "metadata": {},
   "outputs": [],
   "source": [
    "rf1_uncorr1 = RandomForestClassifier(n_estimators=50, random_state=1, criterion=\"log_loss\").fit(X_train, y_train)\n",
    "y_rf1_uncorr1 = rf1_uncorr1.predict(X_validation)"
   ]
  },
  {
   "cell_type": "code",
   "execution_count": 169,
   "id": "c6e3e71b",
   "metadata": {
    "scrolled": true
   },
   "outputs": [
    {
     "name": "stdout",
     "output_type": "stream",
     "text": [
      "The F1 score is: 0.841\n"
     ]
    }
   ],
   "source": [
    "print(f\"The F1 score is: {round(metrics.f1_score(y_rf1_uncorr1, y_validation, average='macro'),3)}\")"
   ]
  },
  {
   "cell_type": "markdown",
   "id": "02bdc830",
   "metadata": {},
   "source": [
    "**RandomForest** with *{'n_estimator'=25}*"
   ]
  },
  {
   "cell_type": "code",
   "execution_count": 170,
   "id": "55d05558",
   "metadata": {},
   "outputs": [],
   "source": [
    "rf2_uncorr1 = RandomForestClassifier(n_estimators=25, random_state=1).fit(X_train, y_train)\n",
    "y_rf2_uncorr1 = rf2_uncorr1.predict(X_validation)"
   ]
  },
  {
   "cell_type": "code",
   "execution_count": 171,
   "id": "00640c7b",
   "metadata": {},
   "outputs": [
    {
     "name": "stdout",
     "output_type": "stream",
     "text": [
      "The F1 score is: 0.841\n"
     ]
    }
   ],
   "source": [
    "print(f\"The F1 score is: {round(metrics.f1_score(y_rf2_uncorr1, y_validation, average='macro'),3)}\")"
   ]
  },
  {
   "cell_type": "markdown",
   "id": "bf32ce42",
   "metadata": {},
   "source": [
    "**RandomForest** with *{'n_estimator'=50,'max_depth'=6,'criterion'='entropy','random_state'=1}*"
   ]
  },
  {
   "cell_type": "code",
   "execution_count": 172,
   "id": "07edb969",
   "metadata": {},
   "outputs": [],
   "source": [
    "rf3_uncorr1 = RandomForestClassifier(n_estimators=50, max_depth=6, criterion='entropy',random_state=1).fit(X_train, y_train)\n",
    "y_rf3_uncorr1 = rf3_uncorr1.predict(X_validation)"
   ]
  },
  {
   "cell_type": "code",
   "execution_count": 173,
   "id": "6d0a9078",
   "metadata": {},
   "outputs": [
    {
     "name": "stdout",
     "output_type": "stream",
     "text": [
      "The F1 score is: 0.841\n"
     ]
    }
   ],
   "source": [
    "print(f\"The F1 score is: {round(metrics.f1_score(y_rf3_uncorr1, y_validation, average='macro'),3)}\")"
   ]
  },
  {
   "cell_type": "markdown",
   "id": "49617853",
   "metadata": {},
   "source": [
    "### Neural Networks"
   ]
  },
  {
   "cell_type": "code",
   "execution_count": 174,
   "id": "09f07dde",
   "metadata": {},
   "outputs": [],
   "source": [
    "parametersNN = dict(activation=[\"relu\",\"logistic\",\"tanh\",\"identity\"],\n",
    "                    learning_rate_init=[0.001,0.01,0.05],\n",
    "                    solver=[\"adam\", \"sgd\", \"lbfgs\"],\n",
    "                    max_iter=[200, 800, 1400],\n",
    "                    hidden_layer_sizes=[(10),(5,5),(5,5,5)])"
   ]
  },
  {
   "cell_type": "code",
   "execution_count": 175,
   "id": "db8eea80",
   "metadata": {},
   "outputs": [],
   "source": [
    "mlp_clf_uncorr1 = MLPClassifier(random_state=1)\n",
    "mlp_Grid_uncorr1 = GridSearchCV(mlp_clf_uncorr1, parametersNN, scoring=\"f1_macro\").fit(X_train, y_train)"
   ]
  },
  {
   "cell_type": "code",
   "execution_count": 176,
   "id": "0020fa1e",
   "metadata": {},
   "outputs": [
    {
     "name": "stdout",
     "output_type": "stream",
     "text": [
      "{'activation': 'tanh', 'hidden_layer_sizes': (5, 5), 'learning_rate_init': 0.05, 'max_iter': 200, 'solver': 'adam'}\n",
      "0.876\n"
     ]
    }
   ],
   "source": [
    "print(mlp_Grid_uncorr1.best_params_)\n",
    "print(round(metrics.f1_score(mlp_Grid_uncorr1.best_estimator_.predict(X_validation), y_validation, average=\"macro\"), 3))"
   ]
  },
  {
   "cell_type": "code",
   "execution_count": 177,
   "id": "97581c90",
   "metadata": {},
   "outputs": [
    {
     "name": "stdout",
     "output_type": "stream",
     "text": [
      "R2: 0.5133333333333332\n"
     ]
    }
   ],
   "source": [
    "print(\"R2:\", metrics.r2_score(y_validation, mlp_Grid_uncorr1.best_estimator_.predict(X_validation)))"
   ]
  },
  {
   "cell_type": "markdown",
   "id": "96692704",
   "metadata": {},
   "source": [
    "**Manual Search** of hyperparameter"
   ]
  },
  {
   "cell_type": "markdown",
   "id": "399ff2fb",
   "metadata": {},
   "source": [
    "**MLPClassifier** with hyperparameters *{'solver':'adam','hidden_layer_sizes':(5,5),'max_iter':2000,'activations':'logistic'}*"
   ]
  },
  {
   "cell_type": "code",
   "execution_count": 178,
   "id": "fd2cd861",
   "metadata": {},
   "outputs": [],
   "source": [
    "mlp1_uncorr1 = MLPClassifier(solver='adam', hidden_layer_sizes=(5,5), max_iter=2000, activation='logistic', random_state=1).fit(X_train, y_train)\n",
    "y_MLP1_uncorr1 = mlp1_uncorr1.predict(X_validation)"
   ]
  },
  {
   "cell_type": "code",
   "execution_count": 179,
   "id": "f60e3908",
   "metadata": {},
   "outputs": [
    {
     "name": "stdout",
     "output_type": "stream",
     "text": [
      "The F1 score is: 0.859\n"
     ]
    }
   ],
   "source": [
    "print(f\"The F1 score is: {round(metrics.f1_score(y_MLP1_uncorr1, y_validation, average='macro'),3)}\")"
   ]
  },
  {
   "cell_type": "markdown",
   "id": "d7bf10a7",
   "metadata": {},
   "source": [
    "**MLPClassifier** with hyperparameters *{'solver':'relu','hidden_layer_sizes':(10),'activation':'logistic'}*"
   ]
  },
  {
   "cell_type": "code",
   "execution_count": 180,
   "id": "c348d262",
   "metadata": {},
   "outputs": [],
   "source": [
    "mlp2_uncorr1 = MLPClassifier(solver='adam', hidden_layer_sizes=(10), activation='relu', random_state=1).fit(X_train, y_train)\n",
    "y_MLP2_uncorr1 = mlp2_uncorr1.predict(X_validation)"
   ]
  },
  {
   "cell_type": "code",
   "execution_count": 181,
   "id": "da2c63a9",
   "metadata": {},
   "outputs": [
    {
     "name": "stdout",
     "output_type": "stream",
     "text": [
      "The F1 score is: 0.859\n"
     ]
    }
   ],
   "source": [
    "print(f\"The F1 score is: {round(metrics.f1_score(y_MLP2_uncorr1, y_validation, average='macro'),3)}\")"
   ]
  },
  {
   "cell_type": "markdown",
   "id": "a3f5b093",
   "metadata": {},
   "source": [
    "**MLPClassifer** with hyperparameters *{'solver':'lbfgs','hidden_layer_sizes':10,'activation':'relu', 'learning_rate_init':0.01}*"
   ]
  },
  {
   "cell_type": "code",
   "execution_count": 182,
   "id": "d08c875e",
   "metadata": {},
   "outputs": [],
   "source": [
    "mlp3_uncorr1 = MLPClassifier(solver='lbfgs', hidden_layer_sizes=(10), activation='relu', learning_rate_init= 0.01, random_state=1).fit(X_train, y_train)\n",
    "y_MLP3_uncorr1 = mlp3_uncorr1.predict(X_validation)"
   ]
  },
  {
   "cell_type": "code",
   "execution_count": 183,
   "id": "334774cf",
   "metadata": {
    "scrolled": true
   },
   "outputs": [
    {
     "name": "stdout",
     "output_type": "stream",
     "text": [
      "The F1 score is: 0.895\n"
     ]
    }
   ],
   "source": [
    "print(f\"The F1 score is: {round(metrics.f1_score(y_MLP3_uncorr1, y_validation, average='macro'),3)}\")"
   ]
  },
  {
   "cell_type": "markdown",
   "id": "1ba76144",
   "metadata": {},
   "source": [
    "## Best model for data without *c.score*\n",
    "\n",
    "The best model I could find for the data without the column *c.score* is **MLPClassifier** with the following hyperparameters:\n",
    " - 'solver'='lbfgs'\n",
    " - 'hidden_layer_sizes'=(10)\n",
    " - 'activation'='relu'\n",
    " - 'learning_rate_init': 0.001\n",
    " - 'max_iter': 200\n",
    "\n",
    "To see if the model chosen is actually as good as it seems I will use it to predict the test data and see how good its prediction power."
   ]
  },
  {
   "cell_type": "markdown",
   "id": "394550fe",
   "metadata": {},
   "source": [
    "As the **MLPClassifier** does not accept null values natively, I will perform the same modification on the test dataset to the one performed to the training and test datasets."
   ]
  },
  {
   "cell_type": "code",
   "execution_count": 184,
   "id": "54b1cae4",
   "metadata": {},
   "outputs": [],
   "source": [
    "y_test = y_test[X_test[\"l.score\"].notnull()]\n",
    "y_test = y_test[X_test[\"rain\"].notnull()]\n",
    "y_test = y_test[X_test[\"tree.age\"].notnull()]\n",
    "y_test = y_test[X_test[\"wind.intensity\"].notnull()]\n",
    "y_test = y_test[X_test[\"humidity\"].notnull()]\n",
    "X_test.dropna(inplace=True)"
   ]
  },
  {
   "cell_type": "code",
   "execution_count": 185,
   "id": "82fef602",
   "metadata": {},
   "outputs": [],
   "source": [
    "mm_scaler = MinMaxScaler()\n",
    "X_test = pd.DataFrame(mm_scaler.fit_transform(X_test), columns=X_test.columns)"
   ]
  },
  {
   "cell_type": "code",
   "execution_count": 186,
   "id": "dbffe72f",
   "metadata": {},
   "outputs": [],
   "source": [
    "y_uncorr1_Best = mlp3_uncorr1.predict(X_test)"
   ]
  },
  {
   "cell_type": "code",
   "execution_count": 187,
   "id": "5558c3a0",
   "metadata": {},
   "outputs": [
    {
     "name": "stdout",
     "output_type": "stream",
     "text": [
      "0.897\n"
     ]
    }
   ],
   "source": [
    "print(round(metrics.f1_score(y_uncorr1_Best, y_test, average='macro'),3))"
   ]
  },
  {
   "cell_type": "code",
   "execution_count": 188,
   "id": "1651eb4d",
   "metadata": {},
   "outputs": [
    {
     "name": "stdout",
     "output_type": "stream",
     "text": [
      "R2: 0.5836798336798338\n"
     ]
    }
   ],
   "source": [
    "print(\"R2:\", metrics.r2_score(y_test, y_uncorr1_Best))"
   ]
  },
  {
   "cell_type": "markdown",
   "id": "39eb175f",
   "metadata": {},
   "source": [
    "As both the **F1 Score** and **R^2** metrics are lower without the column *c.score*, it might be interesting to keep this feature in the dataset. "
   ]
  },
  {
   "cell_type": "markdown",
   "id": "162e7829",
   "metadata": {},
   "source": [
    "---\n",
    "\n",
    "## Data without the variable *rain*"
   ]
  },
  {
   "cell_type": "code",
   "execution_count": 189,
   "id": "dbbe7feb",
   "metadata": {},
   "outputs": [],
   "source": [
    "targetName = \"fire\"\n",
    "allFeatureNames = df.columns[df.columns != targetName]\n",
    "allFeatureNames = allFeatureNames[allFeatureNames != \"collector.id\"]\n",
    "allFeatureNames = allFeatureNames[allFeatureNames != \"rain\"]\n",
    "X = df[allFeatureNames]\n",
    "y = df[targetName]"
   ]
  },
  {
   "cell_type": "code",
   "execution_count": 190,
   "id": "c05368db",
   "metadata": {},
   "outputs": [],
   "source": [
    "X_train, X_test, y_train, y_test = train_test_split(X, y, test_size=0.2, random_state=1)"
   ]
  },
  {
   "cell_type": "code",
   "execution_count": 191,
   "id": "f1d639fb",
   "metadata": {},
   "outputs": [],
   "source": [
    "X_train, X_validation, y_train, y_validation = train_test_split(X_train, y_train, test_size=0.2, random_state=1)"
   ]
  },
  {
   "cell_type": "code",
   "execution_count": 192,
   "id": "34c4dc54",
   "metadata": {},
   "outputs": [],
   "source": [
    "y_train = y_train[X_train[\"l.score\"].notnull()]\n",
    "y_train = y_train[X_train[\"tree.age\"].notnull()]\n",
    "y_train = y_train[X_train[\"wind.intensity\"].notnull()]\n",
    "y_train = y_train[X_train[\"humidity\"].notnull()]\n",
    "X_train.dropna(inplace=True)"
   ]
  },
  {
   "cell_type": "code",
   "execution_count": 193,
   "id": "978bad62",
   "metadata": {},
   "outputs": [],
   "source": [
    "y_train = y_train[X_train[\"c.score\"]<100] \n",
    "X_train = X_train[X_train[\"c.score\"]<100]\n",
    "y_train = y_train[X_train[\"tree.age\"]<200] \n",
    "X_train = X_train[X_train[\"tree.age\"]<200]"
   ]
  },
  {
   "cell_type": "code",
   "execution_count": 194,
   "id": "ef88e875",
   "metadata": {},
   "outputs": [],
   "source": [
    "mm_scaler = MinMaxScaler()\n",
    "X_train = pd.DataFrame(mm_scaler.fit_transform(X_train), columns=X_train.columns)"
   ]
  },
  {
   "cell_type": "markdown",
   "id": "e92abb05",
   "metadata": {},
   "source": [
    "### Logistic Regression"
   ]
  },
  {
   "cell_type": "code",
   "execution_count": 195,
   "id": "dbee8497",
   "metadata": {},
   "outputs": [],
   "source": [
    "parametersLR = dict(solver=[\"liblinear\",\"lbfgs\",\"sag\",],\n",
    "                    penalty=['l2'],\n",
    "                    max_iter=[None, 2000, 5000])"
   ]
  },
  {
   "cell_type": "code",
   "execution_count": 196,
   "id": "f8984e88",
   "metadata": {},
   "outputs": [],
   "source": [
    "lR_uncorr2 = LogisticRegression(random_state=1)\n",
    "lR_clf_uncorr2 = GridSearchCV(lR_uncorr2, parametersLR, scoring=\"f1_macro\").fit(X_train, y_train)"
   ]
  },
  {
   "cell_type": "code",
   "execution_count": 197,
   "id": "a96f1360",
   "metadata": {},
   "outputs": [],
   "source": [
    "y_validation = y_validation[X_validation[\"l.score\"].notnull()]\n",
    "y_validation = y_validation[X_validation[\"tree.age\"].notnull()]\n",
    "y_validation = y_validation[X_validation[\"wind.intensity\"].notnull()]\n",
    "y_validation = y_validation[X_validation[\"humidity\"].notnull()]\n",
    "X_validation.dropna(inplace=True)"
   ]
  },
  {
   "cell_type": "code",
   "execution_count": 198,
   "id": "34b05e20",
   "metadata": {},
   "outputs": [],
   "source": [
    "y_validation = y_validation[X_validation[\"c.score\"]<100] \n",
    "X_validation = X_validation[X_validation[\"c.score\"]<100]\n",
    "y_validation = y_validation[X_validation[\"tree.age\"]<200]\n",
    "X_validation = X_validation[X_validation[\"tree.age\"]<200]"
   ]
  },
  {
   "cell_type": "code",
   "execution_count": 199,
   "id": "a5385d94",
   "metadata": {},
   "outputs": [],
   "source": [
    "mm_scaler = MinMaxScaler()\n",
    "X_validation = pd.DataFrame(mm_scaler.fit_transform(X_validation), columns=X_validation.columns)"
   ]
  },
  {
   "cell_type": "code",
   "execution_count": 200,
   "id": "e51e2b17",
   "metadata": {},
   "outputs": [
    {
     "name": "stdout",
     "output_type": "stream",
     "text": [
      "{'max_iter': 2000, 'penalty': 'l2', 'solver': 'lbfgs'}\n",
      "0.841\n"
     ]
    }
   ],
   "source": [
    "print(lR_clf_uncorr2.best_params_)\n",
    "print(round(metrics.f1_score(lR_clf_uncorr2.best_estimator_.predict(X_validation), y_validation, average=\"macro\"), 3))"
   ]
  },
  {
   "cell_type": "code",
   "execution_count": 201,
   "id": "7f533e3c",
   "metadata": {},
   "outputs": [
    {
     "name": "stdout",
     "output_type": "stream",
     "text": [
      "R2: 0.3916666666666666\n"
     ]
    }
   ],
   "source": [
    "print(\"R2:\", metrics.r2_score(y_validation, lR_clf_uncorr2.best_estimator_.predict(X_validation)))"
   ]
  },
  {
   "cell_type": "markdown",
   "id": "9f0311f0",
   "metadata": {},
   "source": [
    "**Manual Search** of hyperparameters"
   ]
  },
  {
   "cell_type": "markdown",
   "id": "80703dc7",
   "metadata": {},
   "source": [
    "**Logistic Regression** with *{'solver':'sag','penalty':'l2','max_iter':5000}*"
   ]
  },
  {
   "cell_type": "code",
   "execution_count": 202,
   "id": "609ef886",
   "metadata": {},
   "outputs": [],
   "source": [
    "lR2_uncorr2 = LogisticRegression(solver='sag', penalty='l2', max_iter=5000, random_state=1).fit(X_train, y_train)\n",
    "y_lR2_uncorr2 = lR2_uncorr2.predict_proba(X_validation)[:,1]\n",
    "y_lR2_uncorr2 = [round(y) for y in y_lR2_uncorr2]"
   ]
  },
  {
   "cell_type": "code",
   "execution_count": 203,
   "id": "12b5c2ca",
   "metadata": {
    "scrolled": true
   },
   "outputs": [
    {
     "name": "stdout",
     "output_type": "stream",
     "text": [
      "The F1 score is: 0.841\n"
     ]
    }
   ],
   "source": [
    "print(f\"The F1 score is: {round(metrics.f1_score(y_lR2_uncorr2, y_validation, average='macro'),3)}\")"
   ]
  },
  {
   "cell_type": "markdown",
   "id": "a3bad91e",
   "metadata": {},
   "source": [
    "**Logistic Regression** with *{'solver':'liblinear','penalty':'l2'}*"
   ]
  },
  {
   "cell_type": "code",
   "execution_count": 204,
   "id": "ffd2fd7c",
   "metadata": {},
   "outputs": [],
   "source": [
    "lR3_uncorr2 = LogisticRegression(solver='liblinear', penalty='l2', random_state=1).fit(X_train, y_train)\n",
    "y_lR3_uncorr2 = lR3_uncorr2.predict_proba(X_validation)[:,1]\n",
    "y_lR3_uncorr2 = [round(y) for y in y_lR3_uncorr2]"
   ]
  },
  {
   "cell_type": "code",
   "execution_count": 205,
   "id": "cd57bc3c",
   "metadata": {},
   "outputs": [
    {
     "name": "stdout",
     "output_type": "stream",
     "text": [
      "The F1 score is: 0.859\n"
     ]
    }
   ],
   "source": [
    "print(f\"The F1 score is: {round(metrics.f1_score(y_lR3_uncorr2, y_validation, average='macro'),3)}\")"
   ]
  },
  {
   "cell_type": "markdown",
   "id": "b176290e",
   "metadata": {},
   "source": [
    "**Logistic Regression** with default hyperparameters (*{'penalty':'l2','solver':'lbfgs','max_iter':100}*)"
   ]
  },
  {
   "cell_type": "code",
   "execution_count": 206,
   "id": "de4883e7",
   "metadata": {},
   "outputs": [],
   "source": [
    "lR4_uncorr2 = LogisticRegression(random_state=1).fit(X_train, y_train)\n",
    "y_lR4_uncorr2 = lR4_uncorr2.predict_proba(X_validation)[:,1]\n",
    "y_lR4_uncorr2 = [round(y) for y in y_lR4_uncorr2]"
   ]
  },
  {
   "cell_type": "code",
   "execution_count": 207,
   "id": "c247ecc6",
   "metadata": {},
   "outputs": [
    {
     "name": "stdout",
     "output_type": "stream",
     "text": [
      "The F1 score is: 0.841\n"
     ]
    }
   ],
   "source": [
    "print(f\"The F1 score is: {round(metrics.f1_score(y_lR4_uncorr2, y_validation, average='macro'),3)}\")"
   ]
  },
  {
   "cell_type": "markdown",
   "id": "8ba6f15e",
   "metadata": {},
   "source": [
    "### Decision Tree"
   ]
  },
  {
   "cell_type": "code",
   "execution_count": 208,
   "id": "36c6db21",
   "metadata": {},
   "outputs": [],
   "source": [
    "parametersDT = dict(criterion=[\"gini\",\"entropy\",\"log_loss\",],\n",
    "                    max_depth=[None, 6, 20])"
   ]
  },
  {
   "cell_type": "code",
   "execution_count": 209,
   "id": "3efddd8f",
   "metadata": {},
   "outputs": [],
   "source": [
    "tree_clf_uncorr2 = tree.DecisionTreeClassifier(random_state=1)\n",
    "tree_Grid_uncorr2 = GridSearchCV(tree_clf_uncorr2, parametersDT, scoring=\"f1_macro\").fit(X_train, y_train)"
   ]
  },
  {
   "cell_type": "code",
   "execution_count": 210,
   "id": "a4c0c240",
   "metadata": {},
   "outputs": [
    {
     "name": "stdout",
     "output_type": "stream",
     "text": [
      "{'criterion': 'gini', 'max_depth': 6}\n",
      "0.892\n"
     ]
    }
   ],
   "source": [
    "print(tree_Grid_uncorr2.best_params_)\n",
    "print(round(metrics.f1_score(tree_Grid_uncorr2.best_estimator_.predict(X_validation), y_validation, average=\"macro\"), 3))"
   ]
  },
  {
   "cell_type": "code",
   "execution_count": 211,
   "id": "baaaa996",
   "metadata": {},
   "outputs": [
    {
     "name": "stdout",
     "output_type": "stream",
     "text": [
      "R2: 0.5741666666666666\n"
     ]
    }
   ],
   "source": [
    "print(\"R2:\", metrics.r2_score(y_validation, tree_Grid_uncorr2.best_estimator_.predict(X_validation)))"
   ]
  },
  {
   "cell_type": "markdown",
   "id": "e1d86cb8",
   "metadata": {},
   "source": [
    "**Manual Search** of hyperparameters"
   ]
  },
  {
   "cell_type": "markdown",
   "id": "c0e9dec1",
   "metadata": {},
   "source": [
    "**DecisionTree** with hyperparameters *{'criterion':'gini'}*"
   ]
  },
  {
   "cell_type": "code",
   "execution_count": 212,
   "id": "19443582",
   "metadata": {},
   "outputs": [],
   "source": [
    "tree_clf1_uncorr2 = tree.DecisionTreeClassifier(criterion=\"gini\",random_state=1).fit(X_train, y_train)\n",
    "y_DTC1_uncorr2 = tree_clf1_uncorr2.predict(X_validation)"
   ]
  },
  {
   "cell_type": "code",
   "execution_count": 213,
   "id": "db0a39d4",
   "metadata": {},
   "outputs": [
    {
     "name": "stdout",
     "output_type": "stream",
     "text": [
      "The F1 score is: 0.848\n"
     ]
    }
   ],
   "source": [
    "print(f\"The F1 score is: {round(metrics.f1_score(y_DTC1_uncorr2, y_validation, average='macro'),3)}\")"
   ]
  },
  {
   "cell_type": "markdown",
   "id": "3e6e014b",
   "metadata": {},
   "source": [
    "**DecisionTree** with hyperparameters *{'criterion':'log_loss'}*"
   ]
  },
  {
   "cell_type": "code",
   "execution_count": 214,
   "id": "ac7d90b4",
   "metadata": {},
   "outputs": [],
   "source": [
    "tree_clf3_uncorr2 = tree.DecisionTreeClassifier(criterion=\"log_loss\",random_state=1).fit(X_train, y_train)\n",
    "y_DTC3_uncorr2 = tree_clf3_uncorr2.predict(X_validation)"
   ]
  },
  {
   "cell_type": "code",
   "execution_count": 215,
   "id": "186b3c3b",
   "metadata": {},
   "outputs": [
    {
     "name": "stdout",
     "output_type": "stream",
     "text": [
      "The F1 score is: 0.851\n"
     ]
    }
   ],
   "source": [
    "print(f\"The F1 score is: {round(metrics.f1_score(y_DTC3_uncorr2, y_validation, average='macro'),3)}\")"
   ]
  },
  {
   "cell_type": "markdown",
   "id": "7e7c7d9b",
   "metadata": {},
   "source": [
    "**DecisionTree** with hyperparameters *{'criterion':'gini','max_depth':6}*"
   ]
  },
  {
   "cell_type": "code",
   "execution_count": 216,
   "id": "ba85bfc4",
   "metadata": {},
   "outputs": [],
   "source": [
    "tree_clf2_uncorr2 = tree.DecisionTreeClassifier(criterion=\"gini\",max_depth=6,random_state=1).fit(X_train, y_train)\n",
    "y_DTC2_uncorr2 = tree_clf2_uncorr2.predict(X_validation)"
   ]
  },
  {
   "cell_type": "code",
   "execution_count": 217,
   "id": "1faa7b97",
   "metadata": {},
   "outputs": [
    {
     "name": "stdout",
     "output_type": "stream",
     "text": [
      "The F1 score is: 0.892\n"
     ]
    }
   ],
   "source": [
    "print(f\"The F1 score is: {round(metrics.f1_score(y_DTC2_uncorr2, y_validation, average='macro'),3)}\")"
   ]
  },
  {
   "cell_type": "markdown",
   "id": "d3572ed3",
   "metadata": {},
   "source": [
    "### RandomForest"
   ]
  },
  {
   "cell_type": "code",
   "execution_count": 218,
   "id": "e1c28a0e",
   "metadata": {},
   "outputs": [],
   "source": [
    "parametersRF = dict(criterion=[\"gini\",\"entropy\",\"log_loss\",],\n",
    "                    n_estimators=[10,50,100],\n",
    "                    max_depth=[None, 6, 20])"
   ]
  },
  {
   "cell_type": "code",
   "execution_count": 219,
   "id": "1ab4adf0",
   "metadata": {},
   "outputs": [],
   "source": [
    "rf_clf_uncorr2 = RandomForestClassifier(random_state=1)\n",
    "rf_Grid_uncorr2 = GridSearchCV(rf_clf_uncorr2, parametersRF, scoring=\"f1_macro\").fit(X_train, y_train)"
   ]
  },
  {
   "cell_type": "code",
   "execution_count": 220,
   "id": "56601805",
   "metadata": {},
   "outputs": [
    {
     "name": "stdout",
     "output_type": "stream",
     "text": [
      "{'criterion': 'entropy', 'max_depth': 6, 'n_estimators': 10}\n",
      "0.873\n"
     ]
    }
   ],
   "source": [
    "print(rf_Grid_uncorr2.best_params_)\n",
    "print(round(metrics.f1_score(rf_Grid_uncorr2.best_estimator_.predict(X_validation), y_validation, average=\"macro\"), 3))"
   ]
  },
  {
   "cell_type": "code",
   "execution_count": 221,
   "id": "eb2c2d3f",
   "metadata": {},
   "outputs": [
    {
     "name": "stdout",
     "output_type": "stream",
     "text": [
      "R2: 0.5133333333333332\n"
     ]
    }
   ],
   "source": [
    "print(\"R2:\", metrics.r2_score(y_validation, rf_Grid_uncorr2.best_estimator_.predict(X_validation)))"
   ]
  },
  {
   "cell_type": "markdown",
   "id": "5d8d276c",
   "metadata": {},
   "source": [
    "**RandomForest** with *{'n_estimators'=50,'criterion'='log_loss'}*"
   ]
  },
  {
   "cell_type": "code",
   "execution_count": 222,
   "id": "54f79482",
   "metadata": {},
   "outputs": [],
   "source": [
    "rf1_uncorr2 = RandomForestClassifier(n_estimators=50, random_state=1, criterion=\"log_loss\").fit(X_train, y_train)\n",
    "y_rf1_uncorr2 = rf1_uncorr2.predict(X_validation)"
   ]
  },
  {
   "cell_type": "code",
   "execution_count": 223,
   "id": "3c89116a",
   "metadata": {
    "scrolled": true
   },
   "outputs": [
    {
     "name": "stdout",
     "output_type": "stream",
     "text": [
      "The F1 score is: 0.841\n"
     ]
    }
   ],
   "source": [
    "print(f\"The F1 score is: {round(metrics.f1_score(y_rf1_uncorr2, y_validation, average='macro'),3)}\")"
   ]
  },
  {
   "cell_type": "markdown",
   "id": "e175e0eb",
   "metadata": {},
   "source": [
    "**RandomForest** with *{'n_estimator'=25, 'random_state'=1}*"
   ]
  },
  {
   "cell_type": "code",
   "execution_count": 224,
   "id": "7267bfaf",
   "metadata": {},
   "outputs": [],
   "source": [
    "rf2_uncorr2 = RandomForestClassifier(n_estimators=25, random_state=1).fit(X_train, y_train)\n",
    "y_rf2_uncorr2 = rf2_uncorr2.predict(X_validation)"
   ]
  },
  {
   "cell_type": "code",
   "execution_count": 225,
   "id": "af7912f9",
   "metadata": {},
   "outputs": [
    {
     "name": "stdout",
     "output_type": "stream",
     "text": [
      "The F1 score is: 0.841\n"
     ]
    }
   ],
   "source": [
    "print(f\"The F1 score is: {round(metrics.f1_score(y_rf2_uncorr2, y_validation, average='macro'),3)}\")"
   ]
  },
  {
   "cell_type": "markdown",
   "id": "7c5468ec",
   "metadata": {},
   "source": [
    "**RandomForest** with *{'n_estimator'=50,'max_depth'=6,'criterion'='entropy','random_state'=1}*"
   ]
  },
  {
   "cell_type": "code",
   "execution_count": 226,
   "id": "eccc8fed",
   "metadata": {},
   "outputs": [],
   "source": [
    "rf3_uncorr2 = RandomForestClassifier(n_estimators=50, max_depth=6, criterion='entropy',random_state=1).fit(X_train, y_train)\n",
    "y_rf3_uncorr2 = rf3_uncorr2.predict(X_validation)"
   ]
  },
  {
   "cell_type": "code",
   "execution_count": 227,
   "id": "2b6cf41c",
   "metadata": {},
   "outputs": [
    {
     "name": "stdout",
     "output_type": "stream",
     "text": [
      "The F1 score is: 0.841\n"
     ]
    }
   ],
   "source": [
    "print(f\"The F1 score is: {round(metrics.f1_score(y_rf3_uncorr2, y_validation, average='macro'),3)}\")"
   ]
  },
  {
   "cell_type": "markdown",
   "id": "c6f156e0",
   "metadata": {},
   "source": [
    "### Neural Networks"
   ]
  },
  {
   "cell_type": "code",
   "execution_count": 228,
   "id": "5d6535a9",
   "metadata": {},
   "outputs": [],
   "source": [
    "parametersNN = dict(activation=[\"relu\",\"logistic\",\"tanh\",\"identity\"],\n",
    "                    learning_rate_init=[0.001,0.01,0.05],\n",
    "                    solver=[\"adam\", \"sgd\", \"lbfgs\"],\n",
    "                    max_iter=[200, 800, 1400],\n",
    "                    hidden_layer_sizes=[(10),(5,5),(5,5,5)])"
   ]
  },
  {
   "cell_type": "code",
   "execution_count": 229,
   "id": "ceec64ee",
   "metadata": {},
   "outputs": [],
   "source": [
    "mlp_clf_uncorr2 = MLPClassifier(random_state=1)\n",
    "mlp_Grid_uncorr2 = GridSearchCV(mlp_clf_uncorr2, parametersNN, scoring=\"f1_macro\").fit(X_train, y_train)"
   ]
  },
  {
   "cell_type": "code",
   "execution_count": 230,
   "id": "73625c7a",
   "metadata": {},
   "outputs": [
    {
     "name": "stdout",
     "output_type": "stream",
     "text": [
      "{'activation': 'relu', 'hidden_layer_sizes': 10, 'learning_rate_init': 0.01, 'max_iter': 800, 'solver': 'adam'}\n",
      "0.876\n"
     ]
    }
   ],
   "source": [
    "print(mlp_Grid_uncorr2.best_params_)\n",
    "print(round(metrics.f1_score(mlp_Grid_uncorr2.best_estimator_.predict(X_validation), y_validation, average=\"macro\"), 3))"
   ]
  },
  {
   "cell_type": "code",
   "execution_count": 231,
   "id": "b22bcc86",
   "metadata": {},
   "outputs": [
    {
     "name": "stdout",
     "output_type": "stream",
     "text": [
      "R2: 0.5133333333333332\n"
     ]
    }
   ],
   "source": [
    "print(\"R2:\", metrics.r2_score(y_validation, mlp_Grid_uncorr2.best_estimator_.predict(X_validation)))"
   ]
  },
  {
   "cell_type": "markdown",
   "id": "08806fc5",
   "metadata": {},
   "source": [
    "**Manual Search** of hyperparameter"
   ]
  },
  {
   "cell_type": "markdown",
   "id": "0d134aac",
   "metadata": {},
   "source": [
    "**MLPClassifier** with hyperparameters *{'solver':'adam','hidden_layer_sizes':(5,5),'max_iter':2000,'activations':'logistic'}*"
   ]
  },
  {
   "cell_type": "code",
   "execution_count": 232,
   "id": "09664657",
   "metadata": {},
   "outputs": [],
   "source": [
    "mlp1_uncorr2 = MLPClassifier(solver='adam', hidden_layer_sizes=(5,5), max_iter=2000, activation='logistic', random_state=1).fit(X_train, y_train)\n",
    "y_MLP1_uncorr2 = mlp1_uncorr2.predict(X_validation)"
   ]
  },
  {
   "cell_type": "code",
   "execution_count": 233,
   "id": "75afea51",
   "metadata": {},
   "outputs": [
    {
     "name": "stdout",
     "output_type": "stream",
     "text": [
      "The F1 score is: 0.859\n"
     ]
    }
   ],
   "source": [
    "print(f\"The F1 score is: {round(metrics.f1_score(y_MLP1_uncorr2, y_validation, average='macro'),3)}\")"
   ]
  },
  {
   "cell_type": "markdown",
   "id": "4444a089",
   "metadata": {},
   "source": [
    "**MLPClassifier** with hyperparameters *{'solver':'relu','hidden_layer_sizes':(10),'activation':'logistic'}*"
   ]
  },
  {
   "cell_type": "code",
   "execution_count": 234,
   "id": "99a73f77",
   "metadata": {},
   "outputs": [],
   "source": [
    "mlp2_uncorr2 = MLPClassifier(solver='adam', hidden_layer_sizes=(10), activation='relu', random_state=1).fit(X_train, y_train)\n",
    "y_MLP2_uncorr2 = mlp2_uncorr2.predict(X_validation)"
   ]
  },
  {
   "cell_type": "code",
   "execution_count": 235,
   "id": "6a79dcdd",
   "metadata": {},
   "outputs": [
    {
     "name": "stdout",
     "output_type": "stream",
     "text": [
      "The F1 score is: 0.859\n"
     ]
    }
   ],
   "source": [
    "print(f\"The F1 score is: {round(metrics.f1_score(y_MLP2_uncorr2, y_validation, average='macro'),3)}\")"
   ]
  },
  {
   "cell_type": "markdown",
   "id": "a4d8dfe0",
   "metadata": {},
   "source": [
    "**MLPClassifer** with hyperparameters *{'solver':'lbfgs','hidden_layer_sizes':10,'activation':'relu', 'learning_rate_init':0.01}*"
   ]
  },
  {
   "cell_type": "code",
   "execution_count": 236,
   "id": "3001bf0c",
   "metadata": {},
   "outputs": [],
   "source": [
    "mlp3_uncorr2 = MLPClassifier(solver='lbfgs', hidden_layer_sizes=(10), activation='relu', learning_rate_init= 0.01, random_state=1).fit(X_train, y_train)\n",
    "y_MLP3_uncorr2 = mlp3_uncorr2.predict(X_validation)"
   ]
  },
  {
   "cell_type": "code",
   "execution_count": 237,
   "id": "2f82f0d4",
   "metadata": {},
   "outputs": [
    {
     "name": "stdout",
     "output_type": "stream",
     "text": [
      "The F1 score is: 0.853\n"
     ]
    }
   ],
   "source": [
    "print(f\"The F1 score is: {round(metrics.f1_score(y_MLP3_uncorr2, y_validation, average='macro'),3)}\")"
   ]
  },
  {
   "cell_type": "markdown",
   "id": "9dbe1a33",
   "metadata": {},
   "source": [
    "## Best model for data without *rain*\n",
    "\n",
    "The best model I could find for the clean data is a **DecisionTreeClassifier**, but they are models that know for their instability I will use the next best model which is an **MLPClassifier** with the following hyperparameters:\n",
    " - 'activation': 'relu'\n",
    " - 'hidden_layer_sizes': 10\n",
    " - 'learning_rate_init': 0.01\n",
    " - 'max_iter': 800\n",
    " - 'solver': 'adam'\n",
    "\n",
    "To see if the model chosen is actually as good as it seems I will use it to predict the test data and see how good its prediction power."
   ]
  },
  {
   "cell_type": "markdown",
   "id": "6de3a4b7",
   "metadata": {},
   "source": [
    "As the **MLPClassifier** does not accept null values natively, I will perform the same modification on the test dataset to the one performed to the training and test datasets."
   ]
  },
  {
   "cell_type": "code",
   "execution_count": 238,
   "id": "33665277",
   "metadata": {},
   "outputs": [],
   "source": [
    "y_test = y_test[X_test[\"l.score\"].notnull()]\n",
    "y_test = y_test[X_test[\"tree.age\"].notnull()]\n",
    "y_test = y_test[X_test[\"wind.intensity\"].notnull()]\n",
    "y_test = y_test[X_test[\"humidity\"].notnull()]\n",
    "X_test.dropna(inplace=True)"
   ]
  },
  {
   "cell_type": "code",
   "execution_count": 239,
   "id": "9c9539f6",
   "metadata": {},
   "outputs": [],
   "source": [
    "mm_scaler = MinMaxScaler()\n",
    "X_test = pd.DataFrame(mm_scaler.fit_transform(X_test), columns=X_test.columns)"
   ]
  },
  {
   "cell_type": "code",
   "execution_count": 240,
   "id": "0a33f731",
   "metadata": {},
   "outputs": [],
   "source": [
    "y_uncorr2_Best = mlp_Grid_uncorr2.best_estimator_.predict(X_test)"
   ]
  },
  {
   "cell_type": "code",
   "execution_count": 241,
   "id": "48b2f53f",
   "metadata": {},
   "outputs": [
    {
     "name": "stdout",
     "output_type": "stream",
     "text": [
      "0.919\n"
     ]
    }
   ],
   "source": [
    "print(round(metrics.f1_score(y_uncorr2_Best, y_test, average='macro'),3))"
   ]
  },
  {
   "cell_type": "code",
   "execution_count": 242,
   "id": "be0d4331",
   "metadata": {},
   "outputs": [
    {
     "name": "stdout",
     "output_type": "stream",
     "text": [
      "R2: 0.6811740890688258\n"
     ]
    }
   ],
   "source": [
    "print(\"R2:\", metrics.r2_score(y_test, y_uncorr2_Best))"
   ]
  },
  {
   "cell_type": "markdown",
   "id": "9cfd41e4",
   "metadata": {},
   "source": [
    "---\n",
    "\n",
    "## Data without the variables *rain* and *c.score*\n",
    "\n",
    "As both the **F1 Score** and **R^2** metrics were quite good without both *c.score* and *rain*, I will now try to train the models without both variables and see if their predictive power is better or not."
   ]
  },
  {
   "cell_type": "code",
   "execution_count": 243,
   "id": "74431c24",
   "metadata": {},
   "outputs": [],
   "source": [
    "targetName = \"fire\"\n",
    "allFeatureNames = df.columns[df.columns != targetName]\n",
    "allFeatureNames = allFeatureNames[allFeatureNames != \"collector.id\"]\n",
    "allFeatureNames = allFeatureNames[allFeatureNames != \"rain\"]\n",
    "allFeatureNames = allFeatureNames[allFeatureNames != \"c.score\"]\n",
    "X = df[allFeatureNames]\n",
    "y = df[targetName]"
   ]
  },
  {
   "cell_type": "code",
   "execution_count": 244,
   "id": "61f65f5c",
   "metadata": {},
   "outputs": [],
   "source": [
    "X_train, X_test, y_train, y_test = train_test_split(X, y, test_size=0.2, random_state=1)"
   ]
  },
  {
   "cell_type": "code",
   "execution_count": 245,
   "id": "3c465e2c",
   "metadata": {},
   "outputs": [],
   "source": [
    "X_train, X_validation, y_train, y_validation = train_test_split(X_train, y_train, test_size=0.2, random_state=1)"
   ]
  },
  {
   "cell_type": "code",
   "execution_count": 246,
   "id": "c87680d7",
   "metadata": {},
   "outputs": [],
   "source": [
    "y_train = y_train[X_train[\"l.score\"].notnull()]\n",
    "y_train = y_train[X_train[\"tree.age\"].notnull()]\n",
    "y_train = y_train[X_train[\"wind.intensity\"].notnull()]\n",
    "y_train = y_train[X_train[\"humidity\"].notnull()]\n",
    "X_train.dropna(inplace=True)"
   ]
  },
  {
   "cell_type": "code",
   "execution_count": 247,
   "id": "f3db78bb",
   "metadata": {},
   "outputs": [],
   "source": [
    "y_train = y_train[X_train[\"tree.age\"]<200] \n",
    "X_train = X_train[X_train[\"tree.age\"]<200]"
   ]
  },
  {
   "cell_type": "code",
   "execution_count": 248,
   "id": "11b4733c",
   "metadata": {},
   "outputs": [],
   "source": [
    "mm_scaler = MinMaxScaler()\n",
    "X_train = pd.DataFrame(mm_scaler.fit_transform(X_train), columns=X_train.columns)"
   ]
  },
  {
   "cell_type": "markdown",
   "id": "d54c1b3d",
   "metadata": {},
   "source": [
    "### Logistic Regression"
   ]
  },
  {
   "cell_type": "code",
   "execution_count": 249,
   "id": "b93cbda8",
   "metadata": {},
   "outputs": [],
   "source": [
    "parametersLR = dict(solver=[\"liblinear\",\"lbfgs\",\"sag\",],\n",
    "                    penalty=['l2'],\n",
    "                    max_iter=[None, 2000, 5000])"
   ]
  },
  {
   "cell_type": "code",
   "execution_count": 250,
   "id": "a5624e57",
   "metadata": {},
   "outputs": [],
   "source": [
    "lR_uncorr3 = LogisticRegression(random_state=1)\n",
    "lR_clf_uncorr3 = GridSearchCV(lR_uncorr3, parametersLR, scoring=\"f1_macro\").fit(X_train, y_train)"
   ]
  },
  {
   "cell_type": "code",
   "execution_count": 251,
   "id": "43437775",
   "metadata": {},
   "outputs": [],
   "source": [
    "y_validation = y_validation[X_validation[\"l.score\"].notnull()]\n",
    "y_validation = y_validation[X_validation[\"tree.age\"].notnull()]\n",
    "y_validation = y_validation[X_validation[\"wind.intensity\"].notnull()]\n",
    "y_validation = y_validation[X_validation[\"humidity\"].notnull()]\n",
    "X_validation.dropna(inplace=True)"
   ]
  },
  {
   "cell_type": "code",
   "execution_count": 252,
   "id": "0e14121e",
   "metadata": {},
   "outputs": [],
   "source": [
    "y_validation = y_validation[X_validation[\"tree.age\"]<200]\n",
    "X_validation = X_validation[X_validation[\"tree.age\"]<200]"
   ]
  },
  {
   "cell_type": "code",
   "execution_count": 253,
   "id": "d8c43baa",
   "metadata": {},
   "outputs": [],
   "source": [
    "mm_scaler = MinMaxScaler()\n",
    "X_validation = pd.DataFrame(mm_scaler.fit_transform(X_validation), columns=X_validation.columns)"
   ]
  },
  {
   "cell_type": "code",
   "execution_count": 254,
   "id": "f7e9db2e",
   "metadata": {},
   "outputs": [
    {
     "name": "stdout",
     "output_type": "stream",
     "text": [
      "{'max_iter': 2000, 'penalty': 'l2', 'solver': 'lbfgs'}\n",
      "0.841\n"
     ]
    }
   ],
   "source": [
    "print(lR_clf_uncorr3.best_params_)\n",
    "print(round(metrics.f1_score(lR_clf_uncorr3.best_estimator_.predict(X_validation), y_validation, average=\"macro\"), 3))"
   ]
  },
  {
   "cell_type": "code",
   "execution_count": 255,
   "id": "9e7ca066",
   "metadata": {},
   "outputs": [
    {
     "name": "stdout",
     "output_type": "stream",
     "text": [
      "R2: 0.3916666666666666\n"
     ]
    }
   ],
   "source": [
    "print(\"R2:\", metrics.r2_score(y_validation, lR_clf_uncorr3.best_estimator_.predict(X_validation)))"
   ]
  },
  {
   "cell_type": "markdown",
   "id": "789c3700",
   "metadata": {},
   "source": [
    "**Manual Search** of hyperparameters"
   ]
  },
  {
   "cell_type": "markdown",
   "id": "594b1547",
   "metadata": {},
   "source": [
    "**Logistic Regression** with *{'solver':'sag','penalty':'l2','max_iter':5000}*"
   ]
  },
  {
   "cell_type": "code",
   "execution_count": 256,
   "id": "b98ca6d6",
   "metadata": {},
   "outputs": [],
   "source": [
    "lR2_uncorr3 = LogisticRegression(solver='sag', penalty='l2', max_iter=5000, random_state=1).fit(X_train, y_train)\n",
    "y_lR2_uncorr3 = lR2_uncorr3.predict_proba(X_validation)[:,1]\n",
    "y_lR2_uncorr3 = [round(y) for y in y_lR2_uncorr3]"
   ]
  },
  {
   "cell_type": "code",
   "execution_count": 257,
   "id": "e7e801c8",
   "metadata": {
    "scrolled": true
   },
   "outputs": [
    {
     "name": "stdout",
     "output_type": "stream",
     "text": [
      "The F1 score is: 0.841\n"
     ]
    }
   ],
   "source": [
    "print(f\"The F1 score is: {round(metrics.f1_score(y_lR2_uncorr3, y_validation, average='macro'),3)}\")"
   ]
  },
  {
   "cell_type": "markdown",
   "id": "496139d4",
   "metadata": {},
   "source": [
    "**Logistic Regression** with *{'solver':'liblinear','penalty':'l2'}*"
   ]
  },
  {
   "cell_type": "code",
   "execution_count": 258,
   "id": "cefe559b",
   "metadata": {},
   "outputs": [],
   "source": [
    "lR3_uncorr3 = LogisticRegression(solver='liblinear', penalty='l2', random_state=1).fit(X_train, y_train)\n",
    "y_lR3_uncorr3 = lR3_uncorr3.predict_proba(X_validation)[:,1]\n",
    "y_lR3_uncorr3 = [round(y) for y in y_lR3_uncorr3]"
   ]
  },
  {
   "cell_type": "code",
   "execution_count": 259,
   "id": "dbbd0eba",
   "metadata": {},
   "outputs": [
    {
     "name": "stdout",
     "output_type": "stream",
     "text": [
      "The F1 score is: 0.859\n"
     ]
    }
   ],
   "source": [
    "print(f\"The F1 score is: {round(metrics.f1_score(y_lR3_uncorr3, y_validation, average='macro'),3)}\")"
   ]
  },
  {
   "cell_type": "markdown",
   "id": "0525c1d0",
   "metadata": {},
   "source": [
    "**Logistic Regression** with default hyperparameters (*{'penalty':'l2','solver':'lbfgs','max_iter':100}*)"
   ]
  },
  {
   "cell_type": "code",
   "execution_count": 260,
   "id": "cb6e8aab",
   "metadata": {},
   "outputs": [],
   "source": [
    "lR4_uncorr3 = LogisticRegression(random_state=1).fit(X_train, y_train)\n",
    "y_lR4_uncorr3 = lR4_uncorr3.predict_proba(X_validation)[:,1]\n",
    "y_lR4_uncorr3 = [round(y) for y in y_lR4_uncorr3]"
   ]
  },
  {
   "cell_type": "code",
   "execution_count": 261,
   "id": "82e41cc4",
   "metadata": {},
   "outputs": [
    {
     "name": "stdout",
     "output_type": "stream",
     "text": [
      "The F1 score is: 0.841\n"
     ]
    }
   ],
   "source": [
    "print(f\"The F1 score is: {round(metrics.f1_score(y_lR4_uncorr3, y_validation, average='macro'),3)}\")"
   ]
  },
  {
   "cell_type": "markdown",
   "id": "52cf2fae",
   "metadata": {},
   "source": [
    "### Decision Tree"
   ]
  },
  {
   "cell_type": "code",
   "execution_count": 262,
   "id": "9adc5a20",
   "metadata": {},
   "outputs": [],
   "source": [
    "parametersDT = dict(criterion=[\"gini\",\"entropy\",\"log_loss\",],\n",
    "                    max_depth=[None, 6, 20])"
   ]
  },
  {
   "cell_type": "code",
   "execution_count": 263,
   "id": "e1f40ef3",
   "metadata": {},
   "outputs": [],
   "source": [
    "tree_clf_uncorr3 = tree.DecisionTreeClassifier(random_state=1)\n",
    "tree_Grid_uncorr3 = GridSearchCV(tree_clf_uncorr3, parametersDT, scoring=\"f1_macro\").fit(X_train, y_train)"
   ]
  },
  {
   "cell_type": "code",
   "execution_count": 264,
   "id": "286333a8",
   "metadata": {},
   "outputs": [
    {
     "name": "stdout",
     "output_type": "stream",
     "text": [
      "{'criterion': 'entropy', 'max_depth': 6}\n",
      "0.867\n"
     ]
    }
   ],
   "source": [
    "print(tree_Grid_uncorr3.best_params_)\n",
    "print(round(metrics.f1_score(tree_Grid_uncorr3.best_estimator_.predict(X_validation), y_validation, average=\"macro\"), 3))"
   ]
  },
  {
   "cell_type": "code",
   "execution_count": 265,
   "id": "aef02146",
   "metadata": {},
   "outputs": [
    {
     "name": "stdout",
     "output_type": "stream",
     "text": [
      "R2: 0.4524999999999999\n"
     ]
    }
   ],
   "source": [
    "print(\"R2:\", metrics.r2_score(y_validation, tree_Grid_uncorr3.best_estimator_.predict(X_validation)))"
   ]
  },
  {
   "cell_type": "markdown",
   "id": "d9561714",
   "metadata": {},
   "source": [
    "**Manual Search** of hyperparameters"
   ]
  },
  {
   "cell_type": "markdown",
   "id": "d30ccf3d",
   "metadata": {},
   "source": [
    "**DecisionTree** with hyperparameters *{'criterion':'gini'}*"
   ]
  },
  {
   "cell_type": "code",
   "execution_count": 266,
   "id": "5c4f210e",
   "metadata": {},
   "outputs": [],
   "source": [
    "tree_clf1_uncorr3 = tree.DecisionTreeClassifier(criterion=\"gini\",random_state=1).fit(X_train, y_train)\n",
    "y_DTC1_uncorr3 = tree_clf1_uncorr3.predict(X_validation)"
   ]
  },
  {
   "cell_type": "code",
   "execution_count": 267,
   "id": "f8c4747a",
   "metadata": {},
   "outputs": [
    {
     "name": "stdout",
     "output_type": "stream",
     "text": [
      "The F1 score is: 0.878\n"
     ]
    }
   ],
   "source": [
    "print(f\"The F1 score is: {round(metrics.f1_score(y_DTC1_uncorr3, y_validation, average='macro'),3)}\")"
   ]
  },
  {
   "cell_type": "markdown",
   "id": "fc03b1c9",
   "metadata": {},
   "source": [
    "**DecisionTree** with hyperparameters *{'criterion':'log_loss'}*"
   ]
  },
  {
   "cell_type": "code",
   "execution_count": 268,
   "id": "81890974",
   "metadata": {},
   "outputs": [],
   "source": [
    "tree_clf3_uncorr3 = tree.DecisionTreeClassifier(criterion=\"log_loss\",random_state=1).fit(X_train, y_train)\n",
    "y_DTC3_uncorr3 = tree_clf3_uncorr3.predict(X_validation)"
   ]
  },
  {
   "cell_type": "code",
   "execution_count": 269,
   "id": "f618922d",
   "metadata": {},
   "outputs": [
    {
     "name": "stdout",
     "output_type": "stream",
     "text": [
      "The F1 score is: 0.878\n"
     ]
    }
   ],
   "source": [
    "print(f\"The F1 score is: {round(metrics.f1_score(y_DTC3_uncorr3, y_validation, average='macro'),3)}\")"
   ]
  },
  {
   "cell_type": "markdown",
   "id": "88a4e89a",
   "metadata": {},
   "source": [
    "**DecisionTree** with hyperparameters *{'criterion':'gini','max_depth':6}*"
   ]
  },
  {
   "cell_type": "code",
   "execution_count": 270,
   "id": "5940d755",
   "metadata": {},
   "outputs": [],
   "source": [
    "tree_clf2_uncorr3 = tree.DecisionTreeClassifier(criterion=\"gini\",max_depth=6,random_state=1).fit(X_train, y_train)\n",
    "y_DTC2_uncorr3 = tree_clf2_uncorr3.predict(X_validation)"
   ]
  },
  {
   "cell_type": "code",
   "execution_count": 271,
   "id": "c4209200",
   "metadata": {},
   "outputs": [
    {
     "name": "stdout",
     "output_type": "stream",
     "text": [
      "The F1 score is: 0.864\n"
     ]
    }
   ],
   "source": [
    "print(f\"The F1 score is: {round(metrics.f1_score(y_DTC2_uncorr3, y_validation, average='macro'),3)}\")"
   ]
  },
  {
   "cell_type": "markdown",
   "id": "f718b25b",
   "metadata": {},
   "source": [
    "### RandomForest"
   ]
  },
  {
   "cell_type": "code",
   "execution_count": 272,
   "id": "8a8bc72d",
   "metadata": {},
   "outputs": [],
   "source": [
    "parametersRF = dict(criterion=[\"gini\",\"entropy\",\"log_loss\",],\n",
    "                    n_estimators=[10,50,100],\n",
    "                    max_depth=[None, 6, 20])"
   ]
  },
  {
   "cell_type": "code",
   "execution_count": 273,
   "id": "a6bc27ce",
   "metadata": {},
   "outputs": [],
   "source": [
    "rf_clf_uncorr3 = RandomForestClassifier(random_state=1)\n",
    "rf_Grid_uncorr3 = GridSearchCV(rf_clf_uncorr3, parametersRF, scoring=\"f1_macro\").fit(X_train, y_train)"
   ]
  },
  {
   "cell_type": "code",
   "execution_count": 274,
   "id": "451dd03b",
   "metadata": {},
   "outputs": [
    {
     "name": "stdout",
     "output_type": "stream",
     "text": [
      "{'criterion': 'entropy', 'max_depth': None, 'n_estimators': 100}\n",
      "0.841\n"
     ]
    }
   ],
   "source": [
    "print(rf_Grid_uncorr3.best_params_)\n",
    "print(round(metrics.f1_score(rf_Grid_uncorr3.best_estimator_.predict(X_validation), y_validation, average=\"macro\"), 3))"
   ]
  },
  {
   "cell_type": "code",
   "execution_count": 275,
   "id": "360c2a56",
   "metadata": {},
   "outputs": [
    {
     "name": "stdout",
     "output_type": "stream",
     "text": [
      "R2: 0.3916666666666666\n"
     ]
    }
   ],
   "source": [
    "print(\"R2:\", metrics.r2_score(y_validation, rf_Grid_uncorr3.best_estimator_.predict(X_validation)))"
   ]
  },
  {
   "cell_type": "markdown",
   "id": "e1cd1063",
   "metadata": {},
   "source": [
    "**RandomForest** with *{'n_estimators'=50,'criterion'='log_loss'}*"
   ]
  },
  {
   "cell_type": "code",
   "execution_count": 276,
   "id": "1bf09158",
   "metadata": {},
   "outputs": [],
   "source": [
    "rf1_uncorr3 = RandomForestClassifier(n_estimators=50, random_state=1, criterion=\"log_loss\").fit(X_train, y_train)\n",
    "y_rf1_uncorr3 = rf1_uncorr3.predict(X_validation)"
   ]
  },
  {
   "cell_type": "code",
   "execution_count": 277,
   "id": "7a7491d0",
   "metadata": {
    "scrolled": true
   },
   "outputs": [
    {
     "name": "stdout",
     "output_type": "stream",
     "text": [
      "The F1 score is: 0.841\n"
     ]
    }
   ],
   "source": [
    "print(f\"The F1 score is: {round(metrics.f1_score(y_rf1_uncorr3, y_validation, average='macro'),3)}\")"
   ]
  },
  {
   "cell_type": "markdown",
   "id": "df807c48",
   "metadata": {},
   "source": [
    "**RandomForest** with *{'n_estimator'=25, 'random_state'=1}*"
   ]
  },
  {
   "cell_type": "code",
   "execution_count": 278,
   "id": "ba41c622",
   "metadata": {},
   "outputs": [],
   "source": [
    "rf2_uncorr3 = RandomForestClassifier(n_estimators=25, random_state=1).fit(X_train, y_train)\n",
    "y_rf2_uncorr3 = rf2_uncorr3.predict(X_validation)"
   ]
  },
  {
   "cell_type": "code",
   "execution_count": 279,
   "id": "d9705331",
   "metadata": {},
   "outputs": [
    {
     "name": "stdout",
     "output_type": "stream",
     "text": [
      "The F1 score is: 0.841\n"
     ]
    }
   ],
   "source": [
    "print(f\"The F1 score is: {round(metrics.f1_score(y_rf2_uncorr3, y_validation, average='macro'),3)}\")"
   ]
  },
  {
   "cell_type": "markdown",
   "id": "d11d0969",
   "metadata": {},
   "source": [
    "**RandomForest** with *{'n_estimator'=50,'max_depth'=6,'criterion'='entropy','random_state'=1}*"
   ]
  },
  {
   "cell_type": "code",
   "execution_count": 280,
   "id": "8e690e27",
   "metadata": {},
   "outputs": [],
   "source": [
    "rf3_uncorr3 = RandomForestClassifier(n_estimators=50, max_depth=6, criterion='entropy',random_state=1).fit(X_train, y_train)\n",
    "y_rf3_uncorr3 = rf3_uncorr3.predict(X_validation)"
   ]
  },
  {
   "cell_type": "code",
   "execution_count": 281,
   "id": "edaa1cc2",
   "metadata": {},
   "outputs": [
    {
     "name": "stdout",
     "output_type": "stream",
     "text": [
      "The F1 score is: 0.841\n"
     ]
    }
   ],
   "source": [
    "print(f\"The F1 score is: {round(metrics.f1_score(y_rf3_uncorr3, y_validation, average='macro'),3)}\")"
   ]
  },
  {
   "cell_type": "markdown",
   "id": "bda7e2cf",
   "metadata": {},
   "source": [
    "### Neural Networks"
   ]
  },
  {
   "cell_type": "code",
   "execution_count": 282,
   "id": "d4b63659",
   "metadata": {},
   "outputs": [],
   "source": [
    "parametersNN = dict(activation=[\"relu\",\"logistic\",\"tanh\",\"identity\"],\n",
    "                    learning_rate_init=[0.001,0.01,0.05],\n",
    "                    solver=[\"adam\", \"sgd\", \"lbfgs\"],\n",
    "                    max_iter=[200, 800, 1400],\n",
    "                    hidden_layer_sizes=[(10),(5,5),(5,5,5)])"
   ]
  },
  {
   "cell_type": "code",
   "execution_count": 283,
   "id": "205f363b",
   "metadata": {},
   "outputs": [],
   "source": [
    "mlp_clf_uncorr3 = MLPClassifier(random_state=1)\n",
    "mlp_Grid_uncorr3 = GridSearchCV(mlp_clf_uncorr3, parametersNN, scoring=\"f1_macro\").fit(X_train, y_train)"
   ]
  },
  {
   "cell_type": "code",
   "execution_count": 284,
   "id": "47e252be",
   "metadata": {},
   "outputs": [
    {
     "name": "stdout",
     "output_type": "stream",
     "text": [
      "{'activation': 'relu', 'hidden_layer_sizes': (5, 5), 'learning_rate_init': 0.01, 'max_iter': 800, 'solver': 'adam'}\n",
      "0.91\n"
     ]
    }
   ],
   "source": [
    "print(mlp_Grid_uncorr3.best_params_)\n",
    "print(round(metrics.f1_score(mlp_Grid_uncorr3.best_estimator_.predict(X_validation), y_validation, average=\"macro\"), 3))"
   ]
  },
  {
   "cell_type": "code",
   "execution_count": 285,
   "id": "a3fd7ed1",
   "metadata": {},
   "outputs": [
    {
     "name": "stdout",
     "output_type": "stream",
     "text": [
      "R2: 0.635\n"
     ]
    }
   ],
   "source": [
    "print(\"R2:\", metrics.r2_score(y_validation, mlp_Grid_uncorr3.best_estimator_.predict(X_validation)))"
   ]
  },
  {
   "cell_type": "markdown",
   "id": "9d4d0dce",
   "metadata": {},
   "source": [
    "**Manual Search** of hyperparameter"
   ]
  },
  {
   "cell_type": "markdown",
   "id": "6fcf9890",
   "metadata": {},
   "source": [
    "**MLPClassifier** with hyperparameters *{'solver':'adam','hidden_layer_sizes':(5,5),'max_iter':2000,'activations':'logistic'}*"
   ]
  },
  {
   "cell_type": "code",
   "execution_count": 286,
   "id": "8ed78555",
   "metadata": {},
   "outputs": [],
   "source": [
    "mlp1_uncorr3 = MLPClassifier(solver='adam', hidden_layer_sizes=(5,5), max_iter=2000, activation='logistic', random_state=1).fit(X_train, y_train)\n",
    "y_MLP1_uncorr3 = mlp1_uncorr3.predict(X_validation)"
   ]
  },
  {
   "cell_type": "code",
   "execution_count": 287,
   "id": "dc1414c6",
   "metadata": {},
   "outputs": [
    {
     "name": "stdout",
     "output_type": "stream",
     "text": [
      "The F1 score is: 0.876\n"
     ]
    }
   ],
   "source": [
    "print(f\"The F1 score is: {round(metrics.f1_score(y_MLP1_uncorr3, y_validation, average='macro'),3)}\")"
   ]
  },
  {
   "cell_type": "markdown",
   "id": "7d87ca46",
   "metadata": {},
   "source": [
    "**MLPClassifier** with hyperparameters *{'solver':'relu','hidden_layer_sizes':(10),'activation':'logistic'}*"
   ]
  },
  {
   "cell_type": "code",
   "execution_count": 288,
   "id": "505f4d3b",
   "metadata": {},
   "outputs": [],
   "source": [
    "mlp2_uncorr3 = MLPClassifier(solver='adam', hidden_layer_sizes=(10), activation='relu', random_state=1).fit(X_train, y_train)\n",
    "y_MLP2_uncorr3 = mlp2_uncorr3.predict(X_validation)"
   ]
  },
  {
   "cell_type": "code",
   "execution_count": 289,
   "id": "9b8d7b15",
   "metadata": {},
   "outputs": [
    {
     "name": "stdout",
     "output_type": "stream",
     "text": [
      "The F1 score is: 0.859\n"
     ]
    }
   ],
   "source": [
    "print(f\"The F1 score is: {round(metrics.f1_score(y_MLP2_uncorr3, y_validation, average='macro'),3)}\")"
   ]
  },
  {
   "cell_type": "markdown",
   "id": "40607fad",
   "metadata": {},
   "source": [
    "**MLPClassifer** with hyperparameters *{'solver':'lbfgs','hidden_layer_sizes':10,'activation':'relu', 'learning_rate_init':0.01}*"
   ]
  },
  {
   "cell_type": "code",
   "execution_count": 291,
   "id": "dba41c06",
   "metadata": {},
   "outputs": [],
   "source": [
    "mlp3_uncorr3 = MLPClassifier(solver='lbfgs', hidden_layer_sizes=(10), activation='relu', learning_rate_init= 0.01, random_state=1).fit(X_train, y_train)\n",
    "y_MLP3_uncorr3 = mlp3_uncorr3.predict(X_validation)"
   ]
  },
  {
   "cell_type": "code",
   "execution_count": 292,
   "id": "7f4ca5f9",
   "metadata": {},
   "outputs": [
    {
     "name": "stdout",
     "output_type": "stream",
     "text": [
      "The F1 score is: 0.881\n"
     ]
    }
   ],
   "source": [
    "print(f\"The F1 score is: {round(metrics.f1_score(y_MLP3_uncorr3, y_validation, average='macro'),3)}\")"
   ]
  },
  {
   "cell_type": "markdown",
   "id": "7504519d",
   "metadata": {},
   "source": [
    "## Best model for data without *rain* and *c.score*\n",
    "\n",
    "The best model I could find for the data without the column *rain* and *c.score* is **MLPClassifier** with the following hyperparameters:\n",
    " - 'solver'= 'relu'\n",
    " - 'activation'='logistic'\n",
    " - 'hidden_layer_sizes'=(10)\n",
    "\n",
    "To see if the model chosen is actually as good as it seems I will use it to predict the test data and see how good its prediction power."
   ]
  },
  {
   "cell_type": "markdown",
   "id": "239959e9",
   "metadata": {},
   "source": [
    "As the **MLPClassifier** does not accept null values natively, I will perform the same modification on the test dataset to the one performed to the training and test datasets."
   ]
  },
  {
   "cell_type": "code",
   "execution_count": 293,
   "id": "61876bad",
   "metadata": {},
   "outputs": [],
   "source": [
    "y_test = y_test[X_test[\"l.score\"].notnull()]\n",
    "y_test = y_test[X_test[\"tree.age\"].notnull()]\n",
    "y_test = y_test[X_test[\"wind.intensity\"].notnull()]\n",
    "y_test = y_test[X_test[\"humidity\"].notnull()]\n",
    "X_test.dropna(inplace=True)"
   ]
  },
  {
   "cell_type": "code",
   "execution_count": 294,
   "id": "8275f68c",
   "metadata": {},
   "outputs": [],
   "source": [
    "mm_scaler = MinMaxScaler()\n",
    "X_test = pd.DataFrame(mm_scaler.fit_transform(X_test), columns=X_test.columns)"
   ]
  },
  {
   "cell_type": "code",
   "execution_count": 295,
   "id": "35167e40",
   "metadata": {},
   "outputs": [],
   "source": [
    "y_uncorr3_Best = mlp_Grid_uncorr3.best_estimator_.predict(X_test)"
   ]
  },
  {
   "cell_type": "code",
   "execution_count": 296,
   "id": "255f964b",
   "metadata": {},
   "outputs": [
    {
     "name": "stdout",
     "output_type": "stream",
     "text": [
      "0.909\n"
     ]
    }
   ],
   "source": [
    "print(round(metrics.f1_score(y_uncorr3_Best, y_test, average='macro'),3))"
   ]
  },
  {
   "cell_type": "code",
   "execution_count": 297,
   "id": "4d08324a",
   "metadata": {},
   "outputs": [
    {
     "name": "stdout",
     "output_type": "stream",
     "text": [
      "R2: 0.6356275303643724\n"
     ]
    }
   ],
   "source": [
    "print(\"R2:\", metrics.r2_score(y_test, y_uncorr3_Best))"
   ]
  },
  {
   "cell_type": "markdown",
   "id": "2a03a375",
   "metadata": {},
   "source": [
    "It's predictive performance actually worsen a little bit, which could mean that the model was slightly overfitted. This could mean that removing both variables might not be a good approach.\n",
    "\n",
    "As the dataset with the highest predictive perfomance highest was with all the variables, from now on no high-correlated variable will be removed from the dataset.\n",
    "\n",
    "---"
   ]
  },
  {
   "cell_type": "markdown",
   "id": "e42e2e46",
   "metadata": {},
   "source": [
    "## Data without the variable *month*\n",
    "\n",
    "Although the variable *month* was lowly correlated with the variable *c.score* (which we have already decided to remove in further steps), I will now try to remove the former and check if there is any improvement"
   ]
  },
  {
   "cell_type": "code",
   "execution_count": 298,
   "id": "1ba42c0b",
   "metadata": {},
   "outputs": [],
   "source": [
    "targetName = \"fire\"\n",
    "allFeatureNames = df.columns[df.columns != targetName]\n",
    "allFeatureNames = allFeatureNames[allFeatureNames != \"collector.id\"]\n",
    "allFeatureNames = allFeatureNames[allFeatureNames != \"month\"]\n",
    "X = df[allFeatureNames]\n",
    "y = df[targetName]"
   ]
  },
  {
   "cell_type": "code",
   "execution_count": 299,
   "id": "a42b56db",
   "metadata": {},
   "outputs": [],
   "source": [
    "X_train, X_test, y_train, y_test = train_test_split(X, y, test_size=0.2, random_state=1)"
   ]
  },
  {
   "cell_type": "code",
   "execution_count": 300,
   "id": "8c64d5f4",
   "metadata": {},
   "outputs": [],
   "source": [
    "X_train, X_validation, y_train, y_validation = train_test_split(X_train, y_train, test_size=0.2, random_state=1)"
   ]
  },
  {
   "cell_type": "code",
   "execution_count": 301,
   "id": "6fcf4521",
   "metadata": {},
   "outputs": [],
   "source": [
    "y_train = y_train[X_train[\"l.score\"].notnull()]\n",
    "y_train = y_train[X_train[\"rain\"].notnull()]\n",
    "y_train = y_train[X_train[\"tree.age\"].notnull()]\n",
    "y_train = y_train[X_train[\"wind.intensity\"].notnull()]\n",
    "y_train = y_train[X_train[\"humidity\"].notnull()]\n",
    "X_train.dropna(inplace=True)"
   ]
  },
  {
   "cell_type": "code",
   "execution_count": 302,
   "id": "a36a4785",
   "metadata": {},
   "outputs": [],
   "source": [
    "y_train = y_train[X_train[\"c.score\"]<100] \n",
    "X_train = X_train[X_train[\"c.score\"]<100]\n",
    "y_train = y_train[X_train[\"tree.age\"]<200] \n",
    "X_train = X_train[X_train[\"tree.age\"]<200]"
   ]
  },
  {
   "cell_type": "code",
   "execution_count": 303,
   "id": "b4a5f070",
   "metadata": {},
   "outputs": [],
   "source": [
    "mm_scaler = MinMaxScaler()\n",
    "X_train = pd.DataFrame(mm_scaler.fit_transform(X_train), columns=X_train.columns)"
   ]
  },
  {
   "cell_type": "markdown",
   "id": "ea975b45",
   "metadata": {},
   "source": [
    "### Logistic Regression"
   ]
  },
  {
   "cell_type": "code",
   "execution_count": 304,
   "id": "6c623e0b",
   "metadata": {},
   "outputs": [],
   "source": [
    "parametersLR = dict(solver=[\"liblinear\",\"lbfgs\",\"sag\",],\n",
    "                    penalty=['l2'],\n",
    "                    max_iter=[None, 2000, 5000])"
   ]
  },
  {
   "cell_type": "code",
   "execution_count": 305,
   "id": "8792dbea",
   "metadata": {},
   "outputs": [],
   "source": [
    "lR_uncorr4 = LogisticRegression(random_state=1)\n",
    "lR_clf_uncorr4 = GridSearchCV(lR_uncorr4, parametersLR, scoring=\"f1_macro\").fit(X_train, y_train)"
   ]
  },
  {
   "cell_type": "code",
   "execution_count": 306,
   "id": "35eed7d1",
   "metadata": {},
   "outputs": [],
   "source": [
    "y_validation = y_validation[X_validation[\"l.score\"].notnull()]\n",
    "y_validation = y_validation[X_validation[\"rain\"].notnull()]\n",
    "y_validation = y_validation[X_validation[\"tree.age\"].notnull()]\n",
    "y_validation = y_validation[X_validation[\"wind.intensity\"].notnull()]\n",
    "y_validation = y_validation[X_validation[\"humidity\"].notnull()]\n",
    "X_validation.dropna(inplace=True)"
   ]
  },
  {
   "cell_type": "code",
   "execution_count": 307,
   "id": "72c1c379",
   "metadata": {},
   "outputs": [],
   "source": [
    "y_validation = y_validation[X_validation[\"c.score\"]<100] \n",
    "X_validation = X_validation[X_validation[\"c.score\"]<100]\n",
    "y_validation = y_validation[X_validation[\"tree.age\"]<200]\n",
    "X_validation = X_validation[X_validation[\"tree.age\"]<200]"
   ]
  },
  {
   "cell_type": "code",
   "execution_count": 308,
   "id": "03fbf429",
   "metadata": {},
   "outputs": [],
   "source": [
    "mm_scaler = MinMaxScaler()\n",
    "X_validation = pd.DataFrame(mm_scaler.fit_transform(X_validation), columns=X_validation.columns)"
   ]
  },
  {
   "cell_type": "code",
   "execution_count": 309,
   "id": "bf130b6e",
   "metadata": {},
   "outputs": [
    {
     "name": "stdout",
     "output_type": "stream",
     "text": [
      "{'max_iter': 2000, 'penalty': 'l2', 'solver': 'lbfgs'}\n",
      "0.841\n"
     ]
    }
   ],
   "source": [
    "print(lR_clf_uncorr4.best_params_)\n",
    "print(round(metrics.f1_score(lR_clf_uncorr4.best_estimator_.predict(X_validation), y_validation, average=\"macro\"), 3))"
   ]
  },
  {
   "cell_type": "code",
   "execution_count": 310,
   "id": "334cdd18",
   "metadata": {},
   "outputs": [
    {
     "name": "stdout",
     "output_type": "stream",
     "text": [
      "R2: 0.3916666666666666\n"
     ]
    }
   ],
   "source": [
    "print(\"R2:\", metrics.r2_score(y_validation, lR_clf_uncorr4.best_estimator_.predict(X_validation)))"
   ]
  },
  {
   "cell_type": "markdown",
   "id": "1a1f25b5",
   "metadata": {},
   "source": [
    "**Manual Search** of hyperparameters"
   ]
  },
  {
   "cell_type": "markdown",
   "id": "d1976034",
   "metadata": {},
   "source": [
    "**Logistic Regression** with *{'solver':'sag','penalty':'l2','max_iter':5000}*"
   ]
  },
  {
   "cell_type": "code",
   "execution_count": 311,
   "id": "496d9503",
   "metadata": {},
   "outputs": [],
   "source": [
    "lR2_uncorr4 = LogisticRegression(solver='sag', penalty='l2', max_iter=5000, random_state=1).fit(X_train, y_train)\n",
    "y_lR2_uncorr4 = lR2_uncorr4.predict_proba(X_validation)[:,1]\n",
    "y_lR2_uncorr4 = [round(y) for y in y_lR2_uncorr4]"
   ]
  },
  {
   "cell_type": "code",
   "execution_count": 312,
   "id": "5ad68aeb",
   "metadata": {
    "scrolled": true
   },
   "outputs": [
    {
     "name": "stdout",
     "output_type": "stream",
     "text": [
      "The F1 score is: 0.841\n"
     ]
    }
   ],
   "source": [
    "print(f\"The F1 score is: {round(metrics.f1_score(y_lR2_uncorr4, y_validation, average='macro'),3)}\")"
   ]
  },
  {
   "cell_type": "markdown",
   "id": "2ba2c69b",
   "metadata": {},
   "source": [
    "**Logistic Regression** with *{'solver':'liblinear','penalty':'l2'}*"
   ]
  },
  {
   "cell_type": "code",
   "execution_count": 313,
   "id": "f0ef4906",
   "metadata": {},
   "outputs": [],
   "source": [
    "lR3_uncorr4 = LogisticRegression(solver='liblinear', penalty='l2', random_state=1).fit(X_train, y_train)\n",
    "y_lR3_uncorr4 = lR3_uncorr4.predict_proba(X_validation)[:,1]\n",
    "y_lR3_uncorr4 = [round(y) for y in y_lR3_uncorr4]"
   ]
  },
  {
   "cell_type": "code",
   "execution_count": 314,
   "id": "1a45511f",
   "metadata": {},
   "outputs": [
    {
     "name": "stdout",
     "output_type": "stream",
     "text": [
      "The F1 score is: 0.859\n"
     ]
    }
   ],
   "source": [
    "print(f\"The F1 score is: {round(metrics.f1_score(y_lR3_uncorr4, y_validation, average='macro'),3)}\")"
   ]
  },
  {
   "cell_type": "markdown",
   "id": "30b1073f",
   "metadata": {},
   "source": [
    "**Logistic Regression** with default hyperparameters (*{'penalty':'l2','solver':'lbfgs','max_iter':100}*)"
   ]
  },
  {
   "cell_type": "code",
   "execution_count": 315,
   "id": "5bc0bb15",
   "metadata": {},
   "outputs": [],
   "source": [
    "lR4_uncorr4 = LogisticRegression(random_state=1).fit(X_train, y_train)\n",
    "y_lR4_uncorr4 = lR4_uncorr4.predict_proba(X_validation)[:,1]\n",
    "y_lR4_uncorr4 = [round(y) for y in y_lR4_uncorr4]"
   ]
  },
  {
   "cell_type": "code",
   "execution_count": 316,
   "id": "d9677ac8",
   "metadata": {},
   "outputs": [
    {
     "name": "stdout",
     "output_type": "stream",
     "text": [
      "The F1 score is: 0.841\n"
     ]
    }
   ],
   "source": [
    "print(f\"The F1 score is: {round(metrics.f1_score(y_lR4_uncorr4, y_validation, average='macro'),3)}\")"
   ]
  },
  {
   "cell_type": "markdown",
   "id": "1cf061cc",
   "metadata": {},
   "source": [
    "### Decision Tree"
   ]
  },
  {
   "cell_type": "code",
   "execution_count": 317,
   "id": "5acd2437",
   "metadata": {},
   "outputs": [],
   "source": [
    "parametersDT = dict(criterion=[\"gini\",\"entropy\",\"log_loss\",],\n",
    "                    max_depth=[None, 6, 20])"
   ]
  },
  {
   "cell_type": "code",
   "execution_count": 318,
   "id": "976eff07",
   "metadata": {},
   "outputs": [],
   "source": [
    "tree_clf_uncorr4 = tree.DecisionTreeClassifier(random_state=1)\n",
    "tree_Grid_uncorr4 = GridSearchCV(tree_clf_uncorr4, parametersDT, scoring=\"f1_macro\").fit(X_train, y_train)"
   ]
  },
  {
   "cell_type": "code",
   "execution_count": 319,
   "id": "cf71df61",
   "metadata": {},
   "outputs": [
    {
     "name": "stdout",
     "output_type": "stream",
     "text": [
      "{'criterion': 'entropy', 'max_depth': 6}\n",
      "0.778\n"
     ]
    }
   ],
   "source": [
    "print(tree_Grid_uncorr4.best_params_)\n",
    "print(round(metrics.f1_score(tree_Grid_uncorr4.best_estimator_.predict(X_validation), y_validation, average=\"macro\"), 3))"
   ]
  },
  {
   "cell_type": "code",
   "execution_count": 320,
   "id": "a6609759",
   "metadata": {},
   "outputs": [
    {
     "name": "stdout",
     "output_type": "stream",
     "text": [
      "R2: 0.08749999999999991\n"
     ]
    }
   ],
   "source": [
    "print(\"R2:\", metrics.r2_score(y_validation, tree_Grid_uncorr4.best_estimator_.predict(X_validation)))"
   ]
  },
  {
   "cell_type": "markdown",
   "id": "77f21b0e",
   "metadata": {},
   "source": [
    "**Manual Search** of hyperparameters"
   ]
  },
  {
   "cell_type": "markdown",
   "id": "b47468a5",
   "metadata": {},
   "source": [
    "**DecisionTree** with hyperparameters *{'criterion':'gini'}*"
   ]
  },
  {
   "cell_type": "code",
   "execution_count": 321,
   "id": "ab5830b6",
   "metadata": {},
   "outputs": [],
   "source": [
    "tree_clf1_uncorr4 = tree.DecisionTreeClassifier(criterion=\"gini\",random_state=1).fit(X_train, y_train)\n",
    "y_DTC1_uncorr4 = tree_clf1_uncorr4.predict(X_validation)"
   ]
  },
  {
   "cell_type": "code",
   "execution_count": 322,
   "id": "aec6de91",
   "metadata": {},
   "outputs": [
    {
     "name": "stdout",
     "output_type": "stream",
     "text": [
      "The F1 score is: 0.845\n"
     ]
    }
   ],
   "source": [
    "print(f\"The F1 score is: {round(metrics.f1_score(y_DTC1_uncorr4, y_validation, average='macro'),3)}\")"
   ]
  },
  {
   "cell_type": "markdown",
   "id": "783736e6",
   "metadata": {},
   "source": [
    "**DecisionTree** with hyperparameters *{'criterion':'log_loss'}*"
   ]
  },
  {
   "cell_type": "code",
   "execution_count": 323,
   "id": "43c5059a",
   "metadata": {},
   "outputs": [],
   "source": [
    "tree_clf3_uncorr4 = tree.DecisionTreeClassifier(criterion=\"log_loss\",random_state=1).fit(X_train, y_train)\n",
    "y_DTC3_uncorr4 = tree_clf3_uncorr4.predict(X_validation)"
   ]
  },
  {
   "cell_type": "code",
   "execution_count": 324,
   "id": "853ebf18",
   "metadata": {},
   "outputs": [
    {
     "name": "stdout",
     "output_type": "stream",
     "text": [
      "The F1 score is: 0.787\n"
     ]
    }
   ],
   "source": [
    "print(f\"The F1 score is: {round(metrics.f1_score(y_DTC3_uncorr4, y_validation, average='macro'),3)}\")"
   ]
  },
  {
   "cell_type": "markdown",
   "id": "faa38ba3",
   "metadata": {},
   "source": [
    "**DecisionTree** with hyperparameters *{'criterion':'gini','max_depth':6}*"
   ]
  },
  {
   "cell_type": "code",
   "execution_count": 325,
   "id": "ba79e3a9",
   "metadata": {},
   "outputs": [],
   "source": [
    "tree_clf2_uncorr4 = tree.DecisionTreeClassifier(criterion=\"gini\",max_depth=6,random_state=1).fit(X_train, y_train)\n",
    "y_DTC2_uncorr4 = tree_clf2_uncorr4.predict(X_validation)"
   ]
  },
  {
   "cell_type": "code",
   "execution_count": 326,
   "id": "fa75156d",
   "metadata": {},
   "outputs": [
    {
     "name": "stdout",
     "output_type": "stream",
     "text": [
      "The F1 score is: 0.851\n"
     ]
    }
   ],
   "source": [
    "print(f\"The F1 score is: {round(metrics.f1_score(y_DTC2_uncorr4, y_validation, average='macro'),3)}\")"
   ]
  },
  {
   "cell_type": "markdown",
   "id": "8469259c",
   "metadata": {},
   "source": [
    "### RandomForest"
   ]
  },
  {
   "cell_type": "code",
   "execution_count": 327,
   "id": "c4b5b864",
   "metadata": {},
   "outputs": [],
   "source": [
    "parametersRF = dict(criterion=[\"gini\",\"entropy\",\"log_loss\",],\n",
    "                    n_estimators=[10,50,100],\n",
    "                    max_depth=[None, 6, 20])"
   ]
  },
  {
   "cell_type": "code",
   "execution_count": 328,
   "id": "190951ef",
   "metadata": {},
   "outputs": [],
   "source": [
    "rf_clf_uncorr4 = RandomForestClassifier(random_state=1)\n",
    "rf_Grid_uncorr4 = GridSearchCV(rf_clf_uncorr4, parametersRF, scoring=\"f1_macro\").fit(X_train, y_train)"
   ]
  },
  {
   "cell_type": "code",
   "execution_count": 329,
   "id": "08fcf8df",
   "metadata": {},
   "outputs": [
    {
     "name": "stdout",
     "output_type": "stream",
     "text": [
      "{'criterion': 'gini', 'max_depth': None, 'n_estimators': 50}\n",
      "0.841\n"
     ]
    }
   ],
   "source": [
    "print(rf_Grid_uncorr4.best_params_)\n",
    "print(round(metrics.f1_score(rf_Grid_uncorr4.best_estimator_.predict(X_validation), y_validation, average=\"macro\"), 3))"
   ]
  },
  {
   "cell_type": "code",
   "execution_count": 330,
   "id": "58a63a01",
   "metadata": {},
   "outputs": [
    {
     "name": "stdout",
     "output_type": "stream",
     "text": [
      "R2: 0.3916666666666666\n"
     ]
    }
   ],
   "source": [
    "print(\"R2:\", metrics.r2_score(y_validation, rf_Grid_uncorr4.best_estimator_.predict(X_validation)))"
   ]
  },
  {
   "cell_type": "markdown",
   "id": "cc07d63e",
   "metadata": {},
   "source": [
    "**RandomForest** with *{'n_estimators'=50,'criterion'='log_loss'}*"
   ]
  },
  {
   "cell_type": "code",
   "execution_count": 331,
   "id": "2f912114",
   "metadata": {},
   "outputs": [],
   "source": [
    "rf1_uncorr4 = RandomForestClassifier(n_estimators=50, random_state=1, criterion=\"log_loss\").fit(X_train, y_train)\n",
    "y_rf1_uncorr4 = rf1_uncorr4.predict(X_validation)"
   ]
  },
  {
   "cell_type": "code",
   "execution_count": 332,
   "id": "9137d163",
   "metadata": {
    "scrolled": true
   },
   "outputs": [
    {
     "name": "stdout",
     "output_type": "stream",
     "text": [
      "The F1 score is: 0.841\n"
     ]
    }
   ],
   "source": [
    "print(f\"The F1 score is: {round(metrics.f1_score(y_rf1_uncorr4, y_validation, average='macro'),3)}\")"
   ]
  },
  {
   "cell_type": "markdown",
   "id": "8dce6135",
   "metadata": {},
   "source": [
    "**RandomForest** with *{'n_estimator'=25, 'random_state'=1}*"
   ]
  },
  {
   "cell_type": "code",
   "execution_count": 333,
   "id": "433f814e",
   "metadata": {},
   "outputs": [],
   "source": [
    "rf2_uncorr4 = RandomForestClassifier(n_estimators=25, random_state=1).fit(X_train, y_train)\n",
    "y_rf2_uncorr4 = rf2_uncorr4.predict(X_validation)"
   ]
  },
  {
   "cell_type": "code",
   "execution_count": 334,
   "id": "99dcf6fb",
   "metadata": {},
   "outputs": [
    {
     "name": "stdout",
     "output_type": "stream",
     "text": [
      "The F1 score is: 0.859\n"
     ]
    }
   ],
   "source": [
    "print(f\"The F1 score is: {round(metrics.f1_score(y_rf2_uncorr4, y_validation, average='macro'),3)}\")"
   ]
  },
  {
   "cell_type": "markdown",
   "id": "82395df2",
   "metadata": {},
   "source": [
    "**RandomForest** with *{'n_estimator'=50,'max_depth'=6,'criterion'='entropy','random_state'=1}*"
   ]
  },
  {
   "cell_type": "code",
   "execution_count": 335,
   "id": "d41e705c",
   "metadata": {},
   "outputs": [],
   "source": [
    "rf3_uncorr4 = RandomForestClassifier(n_estimators=50, max_depth=6, criterion='entropy',random_state=1).fit(X_train, y_train)\n",
    "y_rf3_uncorr4 = rf3_uncorr4.predict(X_validation)"
   ]
  },
  {
   "cell_type": "code",
   "execution_count": 336,
   "id": "599d3957",
   "metadata": {},
   "outputs": [
    {
     "name": "stdout",
     "output_type": "stream",
     "text": [
      "The F1 score is: 0.841\n"
     ]
    }
   ],
   "source": [
    "print(f\"The F1 score is: {round(metrics.f1_score(y_rf3_uncorr4, y_validation, average='macro'),3)}\")"
   ]
  },
  {
   "cell_type": "markdown",
   "id": "825139d8",
   "metadata": {},
   "source": [
    "### Neural Networks"
   ]
  },
  {
   "cell_type": "code",
   "execution_count": 337,
   "id": "c3d7932e",
   "metadata": {},
   "outputs": [],
   "source": [
    "parametersNN = dict(activation=[\"relu\",\"logistic\",\"tanh\",\"identity\"],\n",
    "                    learning_rate_init=[0.001,0.01,0.05],\n",
    "                    solver=[\"adam\", \"sgd\", \"lbfgs\"],\n",
    "                    max_iter=[200, 800, 1400],\n",
    "                    hidden_layer_sizes=[(10),(5,5),(5,5,5)])"
   ]
  },
  {
   "cell_type": "code",
   "execution_count": 338,
   "id": "c27a5507",
   "metadata": {},
   "outputs": [],
   "source": [
    "mlp_clf_uncorr4 = MLPClassifier(random_state=1)\n",
    "mlp_Grid_uncorr4 = GridSearchCV(mlp_clf_uncorr4, parametersNN, scoring=\"f1_macro\").fit(X_train, y_train)"
   ]
  },
  {
   "cell_type": "code",
   "execution_count": 339,
   "id": "9fff05bd",
   "metadata": {},
   "outputs": [
    {
     "name": "stdout",
     "output_type": "stream",
     "text": [
      "{'activation': 'logistic', 'hidden_layer_sizes': 10, 'learning_rate_init': 0.01, 'max_iter': 800, 'solver': 'adam'}\n",
      "0.841\n"
     ]
    }
   ],
   "source": [
    "print(mlp_Grid_uncorr4.best_params_)\n",
    "print(round(metrics.f1_score(mlp_Grid_uncorr4.best_estimator_.predict(X_validation), y_validation, average=\"macro\"), 3))"
   ]
  },
  {
   "cell_type": "code",
   "execution_count": 340,
   "id": "8e05f81d",
   "metadata": {},
   "outputs": [
    {
     "name": "stdout",
     "output_type": "stream",
     "text": [
      "R2: 0.3916666666666666\n"
     ]
    }
   ],
   "source": [
    "print(\"R2:\", metrics.r2_score(y_validation, mlp_Grid_uncorr4.best_estimator_.predict(X_validation)))"
   ]
  },
  {
   "cell_type": "markdown",
   "id": "69b4280e",
   "metadata": {},
   "source": [
    "**Manual Search** of hyperparameter"
   ]
  },
  {
   "cell_type": "markdown",
   "id": "63b0f333",
   "metadata": {},
   "source": [
    "**MLPClassifier** with hyperparameters *{'solver':'adam','hidden_layer_sizes':(5,5),'max_iter':2000,'activations':'logistic'}*"
   ]
  },
  {
   "cell_type": "code",
   "execution_count": 341,
   "id": "f4fb136a",
   "metadata": {},
   "outputs": [],
   "source": [
    "mlp1_uncorr4 = MLPClassifier(solver='adam', hidden_layer_sizes=(5,5), max_iter=2000, activation='logistic', random_state=1).fit(X_train, y_train)\n",
    "y_MLP1_uncorr4 = mlp1_uncorr4.predict(X_validation)"
   ]
  },
  {
   "cell_type": "code",
   "execution_count": 342,
   "id": "df2042d2",
   "metadata": {},
   "outputs": [
    {
     "name": "stdout",
     "output_type": "stream",
     "text": [
      "The F1 score is: 0.859\n"
     ]
    }
   ],
   "source": [
    "print(f\"The F1 score is: {round(metrics.f1_score(y_MLP1_uncorr4, y_validation, average='macro'),3)}\")"
   ]
  },
  {
   "cell_type": "markdown",
   "id": "8d4ffb01",
   "metadata": {},
   "source": [
    "**MLPClassifier** with hyperparameters *{'solver':'relu','hidden_layer_sizes':(10),'activation':'logistic'}*"
   ]
  },
  {
   "cell_type": "code",
   "execution_count": 343,
   "id": "36f6eeb4",
   "metadata": {},
   "outputs": [],
   "source": [
    "mlp2_uncorr4 = MLPClassifier(solver='adam', hidden_layer_sizes=(10), activation='relu', random_state=1).fit(X_train, y_train)\n",
    "y_MLP2_uncorr4 = mlp2_uncorr4.predict(X_validation)"
   ]
  },
  {
   "cell_type": "code",
   "execution_count": 344,
   "id": "571c4757",
   "metadata": {},
   "outputs": [
    {
     "name": "stdout",
     "output_type": "stream",
     "text": [
      "The F1 score is: 0.859\n"
     ]
    }
   ],
   "source": [
    "print(f\"The F1 score is: {round(metrics.f1_score(y_MLP2_uncorr4, y_validation, average='macro'),3)}\")"
   ]
  },
  {
   "cell_type": "markdown",
   "id": "09696885",
   "metadata": {},
   "source": [
    "**MLPClassifer** with hyperparameters *{'solver':'lbfgs','hidden_layer_sizes':10,'activation':'relu', 'learning_rate_init':0.01}*"
   ]
  },
  {
   "cell_type": "code",
   "execution_count": 345,
   "id": "26d9bfba",
   "metadata": {},
   "outputs": [],
   "source": [
    "mlp3_uncorr4 = MLPClassifier(solver='lbfgs', hidden_layer_sizes=(10), activation='relu', learning_rate_init= 0.01, random_state=1).fit(X_train, y_train)\n",
    "y_MLP3_uncorr4 = mlp3_uncorr4.predict(X_validation)"
   ]
  },
  {
   "cell_type": "code",
   "execution_count": 346,
   "id": "8ee31aa3",
   "metadata": {},
   "outputs": [
    {
     "name": "stdout",
     "output_type": "stream",
     "text": [
      "The F1 score is: 0.876\n"
     ]
    }
   ],
   "source": [
    "print(f\"The F1 score is: {round(metrics.f1_score(y_MLP3_uncorr4, y_validation, average='macro'),3)}\")"
   ]
  },
  {
   "cell_type": "markdown",
   "id": "cfb7708a",
   "metadata": {},
   "source": [
    "## Best model for data without *month*\n",
    "\n",
    "The best model I could find for the data without the column *month* is **MLPClassifier** with the following hyperparameters:\n",
    " - 'solver'= 'lbfgs'\n",
    " - 'hidden_layer_sizes'=10\n",
    " - 'activation'='relu'\n",
    " - 'learning_rate_init':0.01\n",
    "\n",
    "To see if the model chosen is actually as good as it seems I will use it to predict the test data and see how good its prediction power."
   ]
  },
  {
   "cell_type": "code",
   "execution_count": 347,
   "id": "0735d612",
   "metadata": {},
   "outputs": [],
   "source": [
    "y_test = y_test[X_test[\"l.score\"].notnull()]\n",
    "y_test = y_test[X_test[\"rain\"].notnull()]\n",
    "y_test = y_test[X_test[\"tree.age\"].notnull()]\n",
    "y_test = y_test[X_test[\"wind.intensity\"].notnull()]\n",
    "y_test = y_test[X_test[\"humidity\"].notnull()]\n",
    "X_test.dropna(inplace=True)"
   ]
  },
  {
   "cell_type": "code",
   "execution_count": 348,
   "id": "a6a47417",
   "metadata": {},
   "outputs": [],
   "source": [
    "mm_scaler = MinMaxScaler()\n",
    "X_test = pd.DataFrame(mm_scaler.fit_transform(X_test), columns=X_test.columns)"
   ]
  },
  {
   "cell_type": "code",
   "execution_count": 349,
   "id": "3fcdc4e6",
   "metadata": {},
   "outputs": [],
   "source": [
    "y_uncorr4_Best = mlp3_uncorr4.predict(X_test)"
   ]
  },
  {
   "cell_type": "code",
   "execution_count": 350,
   "id": "f2b946f7",
   "metadata": {},
   "outputs": [
    {
     "name": "stdout",
     "output_type": "stream",
     "text": [
      "0.881\n"
     ]
    }
   ],
   "source": [
    "print(round(metrics.f1_score(y_uncorr4_Best, y_test, average='macro'),3))"
   ]
  },
  {
   "cell_type": "code",
   "execution_count": 351,
   "id": "bd68b61d",
   "metadata": {},
   "outputs": [
    {
     "name": "stdout",
     "output_type": "stream",
     "text": [
      "R2: 0.5374220374220375\n"
     ]
    }
   ],
   "source": [
    "print(\"R2:\", metrics.r2_score(y_test, y_uncorr4_Best))"
   ]
  },
  {
   "cell_type": "markdown",
   "id": "204dc793",
   "metadata": {},
   "source": [
    "The model performance on the test data was better than the one with the validation dataset. Although there was an improvement in the performance, it's still not as good as the model with all the variables, therefore the variable *month* should not be removed."
   ]
  },
  {
   "cell_type": "markdown",
   "id": "543ee6f5",
   "metadata": {},
   "source": [
    "## Data without the variable *humidity*\n",
    "\n",
    "Although the variable *humidity* was lowly correlated with the variable *c.score* (which we have already decided to remove in further steps), I will now try to remove the former and check if there is any improvement."
   ]
  },
  {
   "cell_type": "code",
   "execution_count": 352,
   "id": "d0ad1491",
   "metadata": {},
   "outputs": [],
   "source": [
    "targetName = \"fire\"\n",
    "allFeatureNames = df.columns[df.columns != targetName]\n",
    "allFeatureNames = allFeatureNames[allFeatureNames != \"collector.id\"]\n",
    "allFeatureNames = allFeatureNames[allFeatureNames != \"humidity\"]\n",
    "X = df[allFeatureNames]\n",
    "y = df[targetName]"
   ]
  },
  {
   "cell_type": "code",
   "execution_count": 353,
   "id": "20b2bd7b",
   "metadata": {},
   "outputs": [],
   "source": [
    "X_train, X_test, y_train, y_test = train_test_split(X, y, test_size=0.2, random_state=1)"
   ]
  },
  {
   "cell_type": "code",
   "execution_count": 354,
   "id": "6ff64946",
   "metadata": {},
   "outputs": [],
   "source": [
    "X_train, X_validation, y_train, y_validation = train_test_split(X_train, y_train, test_size=0.2, random_state=1)"
   ]
  },
  {
   "cell_type": "code",
   "execution_count": 355,
   "id": "c0f55a0f",
   "metadata": {},
   "outputs": [],
   "source": [
    "y_train = y_train[X_train[\"l.score\"].notnull()]\n",
    "y_train = y_train[X_train[\"rain\"].notnull()]\n",
    "y_train = y_train[X_train[\"tree.age\"].notnull()]\n",
    "y_train = y_train[X_train[\"wind.intensity\"].notnull()]\n",
    "X_train.dropna(inplace=True)"
   ]
  },
  {
   "cell_type": "code",
   "execution_count": 356,
   "id": "0a5bfd5a",
   "metadata": {},
   "outputs": [],
   "source": [
    "y_train = y_train[X_train[\"c.score\"]<100] \n",
    "X_train = X_train[X_train[\"c.score\"]<100]\n",
    "y_train = y_train[X_train[\"tree.age\"]<200] \n",
    "X_train = X_train[X_train[\"tree.age\"]<200]"
   ]
  },
  {
   "cell_type": "code",
   "execution_count": 357,
   "id": "4a3984e1",
   "metadata": {},
   "outputs": [],
   "source": [
    "mm_scaler = MinMaxScaler()\n",
    "X_train = pd.DataFrame(mm_scaler.fit_transform(X_train), columns=X_train.columns)"
   ]
  },
  {
   "cell_type": "markdown",
   "id": "dac1729a",
   "metadata": {},
   "source": [
    "### Logistic Regression"
   ]
  },
  {
   "cell_type": "code",
   "execution_count": 358,
   "id": "af9bda0c",
   "metadata": {},
   "outputs": [],
   "source": [
    "parametersLR = dict(solver=[\"liblinear\",\"lbfgs\",\"sag\",],\n",
    "                    penalty=['l2'],\n",
    "                    max_iter=[None, 2000, 5000])"
   ]
  },
  {
   "cell_type": "code",
   "execution_count": 359,
   "id": "ea333ba6",
   "metadata": {},
   "outputs": [],
   "source": [
    "lR_uncorr5 = LogisticRegression(random_state=1)\n",
    "lR_clf_uncorr5 = GridSearchCV(lR_uncorr5, parametersLR, scoring=\"f1_macro\").fit(X_train, y_train)"
   ]
  },
  {
   "cell_type": "code",
   "execution_count": 360,
   "id": "af3ff8ad",
   "metadata": {},
   "outputs": [],
   "source": [
    "y_validation = y_validation[X_validation[\"l.score\"].notnull()]\n",
    "y_validation = y_validation[X_validation[\"rain\"].notnull()]\n",
    "y_validation = y_validation[X_validation[\"tree.age\"].notnull()]\n",
    "y_validation = y_validation[X_validation[\"wind.intensity\"].notnull()]\n",
    "X_validation.dropna(inplace=True)"
   ]
  },
  {
   "cell_type": "code",
   "execution_count": 361,
   "id": "c294c154",
   "metadata": {},
   "outputs": [],
   "source": [
    "y_validation = y_validation[X_validation[\"c.score\"]<100] \n",
    "X_validation = X_validation[X_validation[\"c.score\"]<100]\n",
    "y_validation = y_validation[X_validation[\"tree.age\"]<200]\n",
    "X_validation = X_validation[X_validation[\"tree.age\"]<200]"
   ]
  },
  {
   "cell_type": "code",
   "execution_count": 362,
   "id": "a93551c8",
   "metadata": {},
   "outputs": [],
   "source": [
    "mm_scaler = MinMaxScaler()\n",
    "X_validation = pd.DataFrame(mm_scaler.fit_transform(X_validation), columns=X_validation.columns)"
   ]
  },
  {
   "cell_type": "code",
   "execution_count": 363,
   "id": "c58d6f0a",
   "metadata": {},
   "outputs": [
    {
     "name": "stdout",
     "output_type": "stream",
     "text": [
      "{'max_iter': 2000, 'penalty': 'l2', 'solver': 'lbfgs'}\n",
      "0.841\n"
     ]
    }
   ],
   "source": [
    "print(lR_clf_uncorr5.best_params_)\n",
    "print(round(metrics.f1_score(lR_clf_uncorr5.best_estimator_.predict(X_validation), y_validation, average=\"macro\"), 3))"
   ]
  },
  {
   "cell_type": "code",
   "execution_count": 364,
   "id": "4c7d429a",
   "metadata": {},
   "outputs": [
    {
     "name": "stdout",
     "output_type": "stream",
     "text": [
      "R2: 0.3916666666666666\n"
     ]
    }
   ],
   "source": [
    "print(\"R2:\", metrics.r2_score(y_validation, lR_clf_uncorr5.best_estimator_.predict(X_validation)))"
   ]
  },
  {
   "cell_type": "markdown",
   "id": "c3bc3a41",
   "metadata": {},
   "source": [
    "**Manual Search** of hyperparameters"
   ]
  },
  {
   "cell_type": "markdown",
   "id": "0d6bd10c",
   "metadata": {},
   "source": [
    "**Logistic Regression** with *{'solver':'sag','penalty':'l2','max_iter':5000}*"
   ]
  },
  {
   "cell_type": "code",
   "execution_count": 365,
   "id": "3593ba62",
   "metadata": {},
   "outputs": [],
   "source": [
    "lR2_uncorr5 = LogisticRegression(solver='sag', penalty='l2', max_iter=5000, random_state=1).fit(X_train, y_train)\n",
    "y_lR2_uncorr5 = lR2_uncorr5.predict_proba(X_validation)[:,1]\n",
    "y_lR2_uncorr5 = [round(y) for y in y_lR2_uncorr5]"
   ]
  },
  {
   "cell_type": "code",
   "execution_count": 366,
   "id": "dfc7a704",
   "metadata": {
    "scrolled": true
   },
   "outputs": [
    {
     "name": "stdout",
     "output_type": "stream",
     "text": [
      "The F1 score is: 0.841\n"
     ]
    }
   ],
   "source": [
    "print(f\"The F1 score is: {round(metrics.f1_score(y_lR2_uncorr5, y_validation, average='macro'),3)}\")"
   ]
  },
  {
   "cell_type": "markdown",
   "id": "52597daa",
   "metadata": {},
   "source": [
    "**Logistic Regression** with *{'solver':'liblinear','penalty':'l2'}*"
   ]
  },
  {
   "cell_type": "code",
   "execution_count": 367,
   "id": "c0c47858",
   "metadata": {},
   "outputs": [],
   "source": [
    "lR3_uncorr5 = LogisticRegression(solver='liblinear', penalty='l2', random_state=1).fit(X_train, y_train)\n",
    "y_lR3_uncorr5 = lR3_uncorr5.predict_proba(X_validation)[:,1]\n",
    "y_lR3_uncorr5 = [round(y) for y in y_lR3_uncorr5]"
   ]
  },
  {
   "cell_type": "code",
   "execution_count": 368,
   "id": "1e2f299b",
   "metadata": {},
   "outputs": [
    {
     "name": "stdout",
     "output_type": "stream",
     "text": [
      "The F1 score is: 0.841\n"
     ]
    }
   ],
   "source": [
    "print(f\"The F1 score is: {round(metrics.f1_score(y_lR3_uncorr5, y_validation, average='macro'),3)}\")"
   ]
  },
  {
   "cell_type": "markdown",
   "id": "3223d7b3",
   "metadata": {},
   "source": [
    "**Logistic Regression** with default hyperparameters (*{'penalty':'l2','solver':'lbfgs','max_iter':100}*)"
   ]
  },
  {
   "cell_type": "code",
   "execution_count": 369,
   "id": "08f06ef3",
   "metadata": {},
   "outputs": [],
   "source": [
    "lR4_uncorr5 = LogisticRegression(random_state=1).fit(X_train, y_train)\n",
    "y_lR4_uncorr5 = lR4_uncorr5.predict_proba(X_validation)[:,1]\n",
    "y_lR4_uncorr5 = [round(y) for y in y_lR4_uncorr5]"
   ]
  },
  {
   "cell_type": "code",
   "execution_count": 370,
   "id": "2e244c43",
   "metadata": {},
   "outputs": [
    {
     "name": "stdout",
     "output_type": "stream",
     "text": [
      "The F1 score is: 0.841\n"
     ]
    }
   ],
   "source": [
    "print(f\"The F1 score is: {round(metrics.f1_score(y_lR4_uncorr5, y_validation, average='macro'),3)}\")"
   ]
  },
  {
   "cell_type": "markdown",
   "id": "1e287cd5",
   "metadata": {},
   "source": [
    "### Decision Tree"
   ]
  },
  {
   "cell_type": "code",
   "execution_count": 371,
   "id": "93889645",
   "metadata": {},
   "outputs": [],
   "source": [
    "parametersDT = dict(criterion=[\"gini\",\"entropy\",\"log_loss\",],\n",
    "                    max_depth=[None, 6, 20])"
   ]
  },
  {
   "cell_type": "code",
   "execution_count": 372,
   "id": "c5569493",
   "metadata": {},
   "outputs": [],
   "source": [
    "tree_clf_uncorr5 = tree.DecisionTreeClassifier(random_state=1)\n",
    "tree_Grid_uncorr5 = GridSearchCV(tree_clf_uncorr5, parametersDT, scoring=\"f1_macro\").fit(X_train, y_train)"
   ]
  },
  {
   "cell_type": "code",
   "execution_count": 373,
   "id": "2c73823e",
   "metadata": {},
   "outputs": [
    {
     "name": "stdout",
     "output_type": "stream",
     "text": [
      "{'criterion': 'entropy', 'max_depth': 6}\n",
      "0.892\n"
     ]
    }
   ],
   "source": [
    "print(tree_Grid_uncorr5.best_params_)\n",
    "print(round(metrics.f1_score(tree_Grid_uncorr5.best_estimator_.predict(X_validation), y_validation, average=\"macro\"), 3))"
   ]
  },
  {
   "cell_type": "code",
   "execution_count": 374,
   "id": "f23e076f",
   "metadata": {},
   "outputs": [
    {
     "name": "stdout",
     "output_type": "stream",
     "text": [
      "R2: 0.5741666666666666\n"
     ]
    }
   ],
   "source": [
    "print(\"R2:\", metrics.r2_score(y_validation, tree_Grid_uncorr5.best_estimator_.predict(X_validation)))"
   ]
  },
  {
   "cell_type": "markdown",
   "id": "cfdc53c6",
   "metadata": {},
   "source": [
    "**Manual Search** of hyperparameters"
   ]
  },
  {
   "cell_type": "markdown",
   "id": "f7fe0b4b",
   "metadata": {},
   "source": [
    "**DecisionTree** with hyperparameters *{'criterion':'gini'}*"
   ]
  },
  {
   "cell_type": "code",
   "execution_count": 375,
   "id": "48f179f6",
   "metadata": {},
   "outputs": [],
   "source": [
    "tree_clf1_uncorr5 = tree.DecisionTreeClassifier(criterion=\"gini\",random_state=1).fit(X_train, y_train)\n",
    "y_DTC1_uncorr5 = tree_clf1_uncorr5.predict(X_validation)"
   ]
  },
  {
   "cell_type": "code",
   "execution_count": 376,
   "id": "b1a562a2",
   "metadata": {},
   "outputs": [
    {
     "name": "stdout",
     "output_type": "stream",
     "text": [
      "The F1 score is: 0.873\n"
     ]
    }
   ],
   "source": [
    "print(f\"The F1 score is: {round(metrics.f1_score(y_DTC1_uncorr5, y_validation, average='macro'),3)}\")"
   ]
  },
  {
   "cell_type": "markdown",
   "id": "c10911b0",
   "metadata": {},
   "source": [
    "**DecisionTree** with hyperparameters *{'criterion':'log_loss'}*"
   ]
  },
  {
   "cell_type": "code",
   "execution_count": 377,
   "id": "3b4f5d65",
   "metadata": {},
   "outputs": [],
   "source": [
    "tree_clf3_uncorr5 = tree.DecisionTreeClassifier(criterion=\"log_loss\",random_state=1).fit(X_train, y_train)\n",
    "y_DTC3_uncorr5 = tree_clf3_uncorr5.predict(X_validation)"
   ]
  },
  {
   "cell_type": "code",
   "execution_count": 378,
   "id": "803d3044",
   "metadata": {},
   "outputs": [
    {
     "name": "stdout",
     "output_type": "stream",
     "text": [
      "The F1 score is: 0.892\n"
     ]
    }
   ],
   "source": [
    "print(f\"The F1 score is: {round(metrics.f1_score(y_DTC3_uncorr5, y_validation, average='macro'),3)}\")"
   ]
  },
  {
   "cell_type": "markdown",
   "id": "fc6a1ec0",
   "metadata": {},
   "source": [
    "**DecisionTree** with hyperparameters *{'criterion':'gini','max_depth':6}*"
   ]
  },
  {
   "cell_type": "code",
   "execution_count": 379,
   "id": "c7435a02",
   "metadata": {},
   "outputs": [],
   "source": [
    "tree_clf2_uncorr5 = tree.DecisionTreeClassifier(criterion=\"gini\",max_depth=6,random_state=1).fit(X_train, y_train)\n",
    "y_DTC2_uncorr5 = tree_clf2_uncorr5.predict(X_validation)"
   ]
  },
  {
   "cell_type": "code",
   "execution_count": 380,
   "id": "8732f6b2",
   "metadata": {},
   "outputs": [
    {
     "name": "stdout",
     "output_type": "stream",
     "text": [
      "The F1 score is: 0.873\n"
     ]
    }
   ],
   "source": [
    "print(f\"The F1 score is: {round(metrics.f1_score(y_DTC2_uncorr5, y_validation, average='macro'),3)}\")"
   ]
  },
  {
   "cell_type": "markdown",
   "id": "6986aad1",
   "metadata": {},
   "source": [
    "### RandomForest"
   ]
  },
  {
   "cell_type": "code",
   "execution_count": 381,
   "id": "c28ecdc6",
   "metadata": {},
   "outputs": [],
   "source": [
    "parametersRF = dict(criterion=[\"gini\",\"entropy\",\"log_loss\",],\n",
    "                    n_estimators=[10,50,100],\n",
    "                    max_depth=[None, 6, 20])"
   ]
  },
  {
   "cell_type": "code",
   "execution_count": 382,
   "id": "542bb6b7",
   "metadata": {},
   "outputs": [],
   "source": [
    "rf_clf_uncorr5 = RandomForestClassifier(random_state=1)\n",
    "rf_Grid_uncorr5 = GridSearchCV(rf_clf_uncorr5, parametersRF, scoring=\"f1_macro\").fit(X_train, y_train)"
   ]
  },
  {
   "cell_type": "code",
   "execution_count": 383,
   "id": "a4b23bb0",
   "metadata": {},
   "outputs": [
    {
     "name": "stdout",
     "output_type": "stream",
     "text": [
      "{'criterion': 'entropy', 'max_depth': None, 'n_estimators': 100}\n",
      "0.855\n"
     ]
    }
   ],
   "source": [
    "print(rf_Grid_uncorr5.best_params_)\n",
    "print(round(metrics.f1_score(rf_Grid_uncorr5.best_estimator_.predict(X_validation), y_validation, average=\"macro\"), 3))"
   ]
  },
  {
   "cell_type": "code",
   "execution_count": 384,
   "id": "76fd497c",
   "metadata": {},
   "outputs": [
    {
     "name": "stdout",
     "output_type": "stream",
     "text": [
      "R2: 0.4524999999999999\n"
     ]
    }
   ],
   "source": [
    "print(\"R2:\", metrics.r2_score(y_validation, rf_Grid_uncorr5.best_estimator_.predict(X_validation)))"
   ]
  },
  {
   "cell_type": "markdown",
   "id": "d0de6d18",
   "metadata": {},
   "source": [
    "**RandomForest** with *{'n_estimators'=50,'criterion'='log_loss'}*"
   ]
  },
  {
   "cell_type": "code",
   "execution_count": 385,
   "id": "c146eb33",
   "metadata": {},
   "outputs": [],
   "source": [
    "rf1_uncorr5 = RandomForestClassifier(n_estimators=50, random_state=1, criterion=\"log_loss\").fit(X_train, y_train)\n",
    "y_rf1_uncorr5 = rf1_uncorr5.predict(X_validation)"
   ]
  },
  {
   "cell_type": "code",
   "execution_count": 386,
   "id": "34b58d8a",
   "metadata": {
    "scrolled": true
   },
   "outputs": [
    {
     "name": "stdout",
     "output_type": "stream",
     "text": [
      "The F1 score is: 0.855\n"
     ]
    }
   ],
   "source": [
    "print(f\"The F1 score is: {round(metrics.f1_score(y_rf1_uncorr5, y_validation, average='macro'),3)}\")"
   ]
  },
  {
   "cell_type": "markdown",
   "id": "ccd5d9da",
   "metadata": {},
   "source": [
    "**RandomForest** with *{'n_estimator'=25, 'random_state'=1}*"
   ]
  },
  {
   "cell_type": "code",
   "execution_count": 387,
   "id": "4633804a",
   "metadata": {},
   "outputs": [],
   "source": [
    "rf2_uncorr5 = RandomForestClassifier(n_estimators=25, random_state=1).fit(X_train, y_train)\n",
    "y_rf2_uncorr5 = rf2_uncorr5.predict(X_validation)"
   ]
  },
  {
   "cell_type": "code",
   "execution_count": 388,
   "id": "2977b306",
   "metadata": {},
   "outputs": [
    {
     "name": "stdout",
     "output_type": "stream",
     "text": [
      "The F1 score is: 0.855\n"
     ]
    }
   ],
   "source": [
    "print(f\"The F1 score is: {round(metrics.f1_score(y_rf2_uncorr5, y_validation, average='macro'),3)}\")"
   ]
  },
  {
   "cell_type": "markdown",
   "id": "64dbbfcc",
   "metadata": {},
   "source": [
    "**RandomForest** with *{'n_estimator'=50,'max_depth'=6,'criterion'='entropy','random_state'=1}*"
   ]
  },
  {
   "cell_type": "code",
   "execution_count": 389,
   "id": "626d72c3",
   "metadata": {},
   "outputs": [],
   "source": [
    "rf3_uncorr5 = RandomForestClassifier(n_estimators=50, max_depth=6, criterion='entropy',random_state=1).fit(X_train, y_train)\n",
    "y_rf3_uncorr5 = rf3_uncorr5.predict(X_validation)"
   ]
  },
  {
   "cell_type": "code",
   "execution_count": 390,
   "id": "b32697bb",
   "metadata": {},
   "outputs": [
    {
     "name": "stdout",
     "output_type": "stream",
     "text": [
      "The F1 score is: 0.841\n",
      "The F1 score is: 0.841\n"
     ]
    }
   ],
   "source": [
    "print(f\"The F1 score is: {round(metrics.f1_score(y_rf3_uncorr5, y_validation, average='macro'),3)}\")"
   ]
  },
  {
   "cell_type": "markdown",
   "id": "01d18af0",
   "metadata": {},
   "source": [
    "### Neural Networks"
   ]
  },
  {
   "cell_type": "code",
   "execution_count": null,
   "id": "bf5eb0a7",
   "metadata": {},
   "outputs": [],
   "source": [
    "parametersNN = dict(activation=[\"relu\",\"logistic\",\"tanh\",\"identity\"],\n",
    "                    learning_rate_init=[0.001,0.01,0.05],\n",
    "                    solver=[\"adam\", \"sgd\", \"lbfgs\"],\n",
    "                    max_iter=[200, 800, 1400],\n",
    "                    hidden_layer_sizes=[(10),(5,5),(5,5,5)])"
   ]
  },
  {
   "cell_type": "code",
   "execution_count": 392,
   "id": "43abea80",
   "metadata": {},
   "outputs": [],
   "source": [
    "mlp_clf_uncorr5 = MLPClassifier(random_state=1)\n",
    "mlp_Grid_uncorr5 = GridSearchCV(mlp_clf_uncorr5, parametersNN, scoring=\"f1_macro\").fit(X_train, y_train)"
   ]
  },
  {
   "cell_type": "code",
   "execution_count": 393,
   "id": "3220ae48",
   "metadata": {},
   "outputs": [
    {
     "name": "stdout",
     "output_type": "stream",
     "text": [
      "{'activation': 'identity', 'hidden_layer_sizes': 10, 'learning_rate_init': 0.05, 'max_iter': 200, 'solver': 'sgd'}\n",
      "0.841\n"
     ]
    }
   ],
   "source": [
    "print(mlp_Grid_uncorr5.best_params_)\n",
    "print(round(metrics.f1_score(mlp_Grid_uncorr5.best_estimator_.predict(X_validation), y_validation, average=\"macro\"), 3))"
   ]
  },
  {
   "cell_type": "code",
   "execution_count": 394,
   "id": "40cdee36",
   "metadata": {},
   "outputs": [
    {
     "name": "stdout",
     "output_type": "stream",
     "text": [
      "R2: 0.3916666666666666\n"
     ]
    }
   ],
   "source": [
    "print(\"R2:\", metrics.r2_score(y_validation, mlp_Grid_uncorr5.best_estimator_.predict(X_validation)))"
   ]
  },
  {
   "cell_type": "markdown",
   "id": "5e34fefc",
   "metadata": {},
   "source": [
    "**Manual Search** of hyperparameter"
   ]
  },
  {
   "cell_type": "markdown",
   "id": "10fb15ff",
   "metadata": {},
   "source": [
    "**MLPClassifier** with hyperparameters *{'solver':'adam','hidden_layer_sizes':(5,5),'max_iter':2000,'activations':'logistic'}*"
   ]
  },
  {
   "cell_type": "code",
   "execution_count": 395,
   "id": "229980f3",
   "metadata": {},
   "outputs": [],
   "source": [
    "mlp1_uncorr5 = MLPClassifier(solver='adam', hidden_layer_sizes=(5,5), max_iter=2000, activation='logistic', random_state=1).fit(X_train, y_train)\n",
    "y_MLP1_uncorr5 = mlp1_uncorr5.predict(X_validation)"
   ]
  },
  {
   "cell_type": "code",
   "execution_count": 396,
   "id": "7fd946f0",
   "metadata": {},
   "outputs": [
    {
     "name": "stdout",
     "output_type": "stream",
     "text": [
      "The F1 score is: 0.859\n"
     ]
    }
   ],
   "source": [
    "print(f\"The F1 score is: {round(metrics.f1_score(y_MLP1_uncorr5, y_validation, average='macro'),3)}\")"
   ]
  },
  {
   "cell_type": "markdown",
   "id": "b651770a",
   "metadata": {},
   "source": [
    "**MLPClassifier** with hyperparameters *{'solver':'relu','hidden_layer_sizes':(10),'activation':'logistic'}*"
   ]
  },
  {
   "cell_type": "code",
   "execution_count": 397,
   "id": "393290d8",
   "metadata": {},
   "outputs": [],
   "source": [
    "mlp2_uncorr5 = MLPClassifier(solver='adam', hidden_layer_sizes=(10), activation='relu', random_state=1).fit(X_train, y_train)\n",
    "y_MLP2_uncorr5 = mlp2_uncorr5.predict(X_validation)"
   ]
  },
  {
   "cell_type": "code",
   "execution_count": 398,
   "id": "1a0847c5",
   "metadata": {},
   "outputs": [
    {
     "name": "stdout",
     "output_type": "stream",
     "text": [
      "The F1 score is: 0.859\n"
     ]
    }
   ],
   "source": [
    "print(f\"The F1 score is: {round(metrics.f1_score(y_MLP2_uncorr5, y_validation, average='macro'),3)}\")"
   ]
  },
  {
   "cell_type": "markdown",
   "id": "5f6e71cd",
   "metadata": {},
   "source": [
    "**MLPClassifer** with hyperparameters *{'solver':'lbfgs','hidden_layer_sizes':10,'activation':'relu', 'learning_rate_init':0.01}*"
   ]
  },
  {
   "cell_type": "code",
   "execution_count": 399,
   "id": "53f64012",
   "metadata": {},
   "outputs": [],
   "source": [
    "mlp3_uncorr5 = MLPClassifier(solver='lbfgs', hidden_layer_sizes=(10), activation='relu', learning_rate_init= 0.01, random_state=1).fit(X_train, y_train)\n",
    "y_MLP3_uncorr5 = mlp3_uncorr5.predict(X_validation)"
   ]
  },
  {
   "cell_type": "code",
   "execution_count": 400,
   "id": "3cc654e9",
   "metadata": {},
   "outputs": [
    {
     "name": "stdout",
     "output_type": "stream",
     "text": [
      "The F1 score is: 0.895\n"
     ]
    }
   ],
   "source": [
    "print(f\"The F1 score is: {round(metrics.f1_score(y_MLP3_uncorr5, y_validation, average='macro'),3)}\")"
   ]
  },
  {
   "cell_type": "markdown",
   "id": "93baac21",
   "metadata": {},
   "source": [
    "## Best model for data without *humidity*\n",
    "\n",
    "The best model I could find for the data without the column *humidity* is **MLPClassifier** with the following hyperparameters:\n",
    " - 'activation'= 'relu'\n",
    " - 'hidden_layer_sizes'=(10)\n",
    " - 'learning_rate_init':0.01\n",
    " - 'solver':'lbfgs'\n",
    "\n",
    "To see if the model chosen is actually as good as it seems I will use it to predict the test data and see how good its prediction power."
   ]
  },
  {
   "cell_type": "code",
   "execution_count": 401,
   "id": "f230f58c",
   "metadata": {},
   "outputs": [],
   "source": [
    "y_test = y_test[X_test[\"l.score\"].notnull()]\n",
    "y_test = y_test[X_test[\"rain\"].notnull()]\n",
    "y_test = y_test[X_test[\"tree.age\"].notnull()]\n",
    "y_test = y_test[X_test[\"wind.intensity\"].notnull()]\n",
    "X_test.dropna(inplace=True)"
   ]
  },
  {
   "cell_type": "code",
   "execution_count": 402,
   "id": "f0ea87f3",
   "metadata": {},
   "outputs": [],
   "source": [
    "mm_scaler = MinMaxScaler()\n",
    "X_test = pd.DataFrame(mm_scaler.fit_transform(X_test), columns=X_test.columns)"
   ]
  },
  {
   "cell_type": "code",
   "execution_count": 403,
   "id": "067432fa",
   "metadata": {},
   "outputs": [],
   "source": [
    "y_uncorr5_Best = mlp3_uncorr5.predict(X_test)"
   ]
  },
  {
   "cell_type": "code",
   "execution_count": 404,
   "id": "c475cf09",
   "metadata": {},
   "outputs": [
    {
     "name": "stdout",
     "output_type": "stream",
     "text": [
      "0.942\n"
     ]
    }
   ],
   "source": [
    "print(round(metrics.f1_score(y_uncorr5_Best, y_test, average='macro'),3))"
   ]
  },
  {
   "cell_type": "code",
   "execution_count": 405,
   "id": "01da0130",
   "metadata": {},
   "outputs": [
    {
     "name": "stdout",
     "output_type": "stream",
     "text": [
      "R2: 0.7705252422233554\n"
     ]
    }
   ],
   "source": [
    "print(\"R2:\", metrics.r2_score(y_test, y_uncorr5_Best))"
   ]
  },
  {
   "cell_type": "markdown",
   "id": "55a234e8",
   "metadata": {},
   "source": [
    "It's predictive performance actually improved, but the score obtained for the chosen metric is not better that the one with all the variables.\n",
    "\n",
    "The last thing I will try in this section will be removing both variables (*rain* and *humidity*) and see if I can create a better model."
   ]
  },
  {
   "cell_type": "markdown",
   "id": "d4ba53d3",
   "metadata": {},
   "source": [
    "## Data without the variables *humidity* and *rain*\n",
    "\n",
    "As the models created without each variable produced pretty good models, I will try removing both and see if I can produce an even better model"
   ]
  },
  {
   "cell_type": "code",
   "execution_count": 406,
   "id": "7329409e",
   "metadata": {},
   "outputs": [],
   "source": [
    "targetName = \"fire\"\n",
    "allFeatureNames = df.columns[df.columns != targetName]\n",
    "allFeatureNames = allFeatureNames[allFeatureNames != \"collector.id\"]\n",
    "allFeatureNames = allFeatureNames[allFeatureNames != \"rain\"]\n",
    "allFeatureNames = allFeatureNames[allFeatureNames != \"humidity\"]\n",
    "X = df[allFeatureNames]\n",
    "y = df[targetName]"
   ]
  },
  {
   "cell_type": "code",
   "execution_count": 407,
   "id": "0c4c11f9",
   "metadata": {},
   "outputs": [],
   "source": [
    "X_train, X_test, y_train, y_test = train_test_split(X, y, test_size=0.2, random_state=1)"
   ]
  },
  {
   "cell_type": "code",
   "execution_count": 408,
   "id": "68e6f6e4",
   "metadata": {},
   "outputs": [],
   "source": [
    "X_train, X_validation, y_train, y_validation = train_test_split(X_train, y_train, test_size=0.2, random_state=1)"
   ]
  },
  {
   "cell_type": "code",
   "execution_count": 409,
   "id": "5e9f58eb",
   "metadata": {},
   "outputs": [],
   "source": [
    "y_train = y_train[X_train[\"l.score\"].notnull()]\n",
    "y_train = y_train[X_train[\"tree.age\"].notnull()]\n",
    "y_train = y_train[X_train[\"wind.intensity\"].notnull()]\n",
    "X_train.dropna(inplace=True)"
   ]
  },
  {
   "cell_type": "code",
   "execution_count": 410,
   "id": "e95bb131",
   "metadata": {},
   "outputs": [],
   "source": [
    "y_train = y_train[X_train[\"c.score\"]<100] \n",
    "X_train = X_train[X_train[\"c.score\"]<100]\n",
    "y_train = y_train[X_train[\"tree.age\"]<200] \n",
    "X_train = X_train[X_train[\"tree.age\"]<200]"
   ]
  },
  {
   "cell_type": "code",
   "execution_count": 411,
   "id": "97cfbfd7",
   "metadata": {},
   "outputs": [],
   "source": [
    "mm_scaler = MinMaxScaler()\n",
    "X_train = pd.DataFrame(mm_scaler.fit_transform(X_train), columns=X_train.columns)"
   ]
  },
  {
   "cell_type": "markdown",
   "id": "4d76a192",
   "metadata": {},
   "source": [
    "### Logistic Regression"
   ]
  },
  {
   "cell_type": "code",
   "execution_count": 412,
   "id": "df08de6c",
   "metadata": {},
   "outputs": [],
   "source": [
    "parametersLR = dict(solver=[\"liblinear\",\"lbfgs\",\"sag\",],\n",
    "                    penalty=['l2'],\n",
    "                    max_iter=[None, 2000, 5000])"
   ]
  },
  {
   "cell_type": "code",
   "execution_count": 413,
   "id": "2e8d2e71",
   "metadata": {},
   "outputs": [],
   "source": [
    "lR_uncorr6 = LogisticRegression(random_state=1)\n",
    "lR_clf_uncorr6 = GridSearchCV(lR_uncorr6, parametersLR, scoring=\"f1_macro\").fit(X_train, y_train)"
   ]
  },
  {
   "cell_type": "code",
   "execution_count": 414,
   "id": "66d2ddac",
   "metadata": {},
   "outputs": [],
   "source": [
    "y_validation = y_validation[X_validation[\"l.score\"].notnull()]\n",
    "y_validation = y_validation[X_validation[\"tree.age\"].notnull()]\n",
    "y_validation = y_validation[X_validation[\"wind.intensity\"].notnull()]\n",
    "X_validation.dropna(inplace=True)"
   ]
  },
  {
   "cell_type": "code",
   "execution_count": 415,
   "id": "e9fd8ce4",
   "metadata": {},
   "outputs": [],
   "source": [
    "y_validation = y_validation[X_validation[\"c.score\"]<100] \n",
    "X_validation = X_validation[X_validation[\"c.score\"]<100]\n",
    "y_validation = y_validation[X_validation[\"tree.age\"]<200]\n",
    "X_validation = X_validation[X_validation[\"tree.age\"]<200]"
   ]
  },
  {
   "cell_type": "code",
   "execution_count": 416,
   "id": "a044de65",
   "metadata": {},
   "outputs": [],
   "source": [
    "mm_scaler = MinMaxScaler()\n",
    "X_validation = pd.DataFrame(mm_scaler.fit_transform(X_validation), columns=X_validation.columns)"
   ]
  },
  {
   "cell_type": "code",
   "execution_count": 417,
   "id": "c92cddae",
   "metadata": {},
   "outputs": [
    {
     "name": "stdout",
     "output_type": "stream",
     "text": [
      "{'max_iter': 2000, 'penalty': 'l2', 'solver': 'lbfgs'}\n",
      "0.841\n"
     ]
    }
   ],
   "source": [
    "print(lR_clf_uncorr6.best_params_)\n",
    "print(round(metrics.f1_score(lR_clf_uncorr6.best_estimator_.predict(X_validation), y_validation, average=\"macro\"), 3))"
   ]
  },
  {
   "cell_type": "code",
   "execution_count": 418,
   "id": "2dd73dea",
   "metadata": {},
   "outputs": [
    {
     "name": "stdout",
     "output_type": "stream",
     "text": [
      "R2: 0.3916666666666666\n"
     ]
    }
   ],
   "source": [
    "print(\"R2:\", metrics.r2_score(y_validation, lR_clf_uncorr6.best_estimator_.predict(X_validation)))"
   ]
  },
  {
   "cell_type": "markdown",
   "id": "7c80a986",
   "metadata": {},
   "source": [
    "**Manual Search** of hyperparameters"
   ]
  },
  {
   "cell_type": "markdown",
   "id": "120ec199",
   "metadata": {},
   "source": [
    "**Logistic Regression** with *{'solver':'sag','penalty':'l2','max_iter':5000}*"
   ]
  },
  {
   "cell_type": "code",
   "execution_count": 419,
   "id": "b8f4550e",
   "metadata": {},
   "outputs": [],
   "source": [
    "lR2_uncorr6 = LogisticRegression(solver='sag', penalty='l2', max_iter=5000, random_state=1).fit(X_train, y_train)\n",
    "y_lR2_uncorr6 = lR2_uncorr6.predict_proba(X_validation)[:,1]\n",
    "y_lR2_uncorr6 = [round(y) for y in y_lR2_uncorr6]"
   ]
  },
  {
   "cell_type": "code",
   "execution_count": 420,
   "id": "4f20cab7",
   "metadata": {
    "scrolled": true
   },
   "outputs": [
    {
     "name": "stdout",
     "output_type": "stream",
     "text": [
      "The F1 score is: 0.841\n"
     ]
    }
   ],
   "source": [
    "print(f\"The F1 score is: {round(metrics.f1_score(y_lR2_uncorr6, y_validation, average='macro'),3)}\")"
   ]
  },
  {
   "cell_type": "markdown",
   "id": "0e12371f",
   "metadata": {},
   "source": [
    "**Logistic Regression** with *{'solver':'liblinear','penalty':'l2'}*"
   ]
  },
  {
   "cell_type": "code",
   "execution_count": 421,
   "id": "6e16d110",
   "metadata": {},
   "outputs": [],
   "source": [
    "lR3_uncorr6 = LogisticRegression(solver='liblinear', penalty='l2', random_state=1).fit(X_train, y_train)\n",
    "y_lR3_uncorr6 = lR3_uncorr6.predict_proba(X_validation)[:,1]\n",
    "y_lR3_uncorr6 = [round(y) for y in y_lR3_uncorr6]"
   ]
  },
  {
   "cell_type": "code",
   "execution_count": 422,
   "id": "b2d49677",
   "metadata": {},
   "outputs": [
    {
     "name": "stdout",
     "output_type": "stream",
     "text": [
      "The F1 score is: 0.841\n"
     ]
    }
   ],
   "source": [
    "print(f\"The F1 score is: {round(metrics.f1_score(y_lR3_uncorr6, y_validation, average='macro'),3)}\")"
   ]
  },
  {
   "cell_type": "markdown",
   "id": "414dd240",
   "metadata": {},
   "source": [
    "**Logistic Regression** with default hyperparameters (*{'penalty':'l2','solver':'lbfgs','max_iter':100}*)"
   ]
  },
  {
   "cell_type": "code",
   "execution_count": 423,
   "id": "adc1f78c",
   "metadata": {},
   "outputs": [],
   "source": [
    "lR4_uncorr6 = LogisticRegression(random_state=1).fit(X_train, y_train)\n",
    "y_lR4_uncorr6 = lR4_uncorr6.predict_proba(X_validation)[:,1]\n",
    "y_lR4_uncorr6 = [round(y) for y in y_lR4_uncorr6]"
   ]
  },
  {
   "cell_type": "code",
   "execution_count": 424,
   "id": "258f2c7b",
   "metadata": {},
   "outputs": [
    {
     "name": "stdout",
     "output_type": "stream",
     "text": [
      "The F1 score is: 0.841\n"
     ]
    }
   ],
   "source": [
    "print(f\"The F1 score is: {round(metrics.f1_score(y_lR4_uncorr6, y_validation, average='macro'),3)}\")"
   ]
  },
  {
   "cell_type": "markdown",
   "id": "2e49d92d",
   "metadata": {},
   "source": [
    "### Decision Tree"
   ]
  },
  {
   "cell_type": "code",
   "execution_count": 425,
   "id": "68466ff1",
   "metadata": {},
   "outputs": [],
   "source": [
    "parametersDT = dict(criterion=[\"gini\",\"entropy\",\"log_loss\",],\n",
    "                    max_depth=[None, 6, 20])"
   ]
  },
  {
   "cell_type": "code",
   "execution_count": 426,
   "id": "48953677",
   "metadata": {},
   "outputs": [],
   "source": [
    "tree_clf_uncorr6 = tree.DecisionTreeClassifier(random_state=1)\n",
    "tree_Grid_uncorr6 = GridSearchCV(tree_clf_uncorr6, parametersDT, scoring=\"f1_macro\").fit(X_train, y_train)"
   ]
  },
  {
   "cell_type": "code",
   "execution_count": 427,
   "id": "2eff070e",
   "metadata": {},
   "outputs": [
    {
     "name": "stdout",
     "output_type": "stream",
     "text": [
      "{'criterion': 'gini', 'max_depth': 6}\n",
      "0.89\n"
     ]
    }
   ],
   "source": [
    "print(tree_Grid_uncorr6.best_params_)\n",
    "print(round(metrics.f1_score(tree_Grid_uncorr6.best_estimator_.predict(X_validation), y_validation, average=\"macro\"), 3))"
   ]
  },
  {
   "cell_type": "code",
   "execution_count": 428,
   "id": "06e71764",
   "metadata": {},
   "outputs": [
    {
     "name": "stdout",
     "output_type": "stream",
     "text": [
      "R2: 0.5741666666666666\n"
     ]
    }
   ],
   "source": [
    "print(\"R2:\", metrics.r2_score(y_validation, tree_Grid_uncorr6.best_estimator_.predict(X_validation)))"
   ]
  },
  {
   "cell_type": "markdown",
   "id": "4711d448",
   "metadata": {},
   "source": [
    "**Manual Search** of hyperparameters"
   ]
  },
  {
   "cell_type": "markdown",
   "id": "2c434026",
   "metadata": {},
   "source": [
    "**DecisionTree** with hyperparameters *{'criterion':'gini'}*"
   ]
  },
  {
   "cell_type": "code",
   "execution_count": 429,
   "id": "3869a51e",
   "metadata": {},
   "outputs": [],
   "source": [
    "tree_clf1_uncorr6 = tree.DecisionTreeClassifier(criterion=\"gini\",random_state=1).fit(X_train, y_train)\n",
    "y_DTC1_uncorr6 = tree_clf1_uncorr6.predict(X_validation)"
   ]
  },
  {
   "cell_type": "code",
   "execution_count": 430,
   "id": "043c7a93",
   "metadata": {},
   "outputs": [
    {
     "name": "stdout",
     "output_type": "stream",
     "text": [
      "The F1 score is: 0.907\n"
     ]
    }
   ],
   "source": [
    "print(f\"The F1 score is: {round(metrics.f1_score(y_DTC1_uncorr6, y_validation, average='macro'),3)}\")"
   ]
  },
  {
   "cell_type": "markdown",
   "id": "4f380b87",
   "metadata": {},
   "source": [
    "**DecisionTree** with hyperparameters *{'criterion':'log_loss'}*"
   ]
  },
  {
   "cell_type": "code",
   "execution_count": 431,
   "id": "4a71c008",
   "metadata": {},
   "outputs": [],
   "source": [
    "tree_clf3_uncorr6 = tree.DecisionTreeClassifier(criterion=\"log_loss\",random_state=1).fit(X_train, y_train)\n",
    "y_DTC3_uncorr6 = tree_clf3_uncorr6.predict(X_validation)"
   ]
  },
  {
   "cell_type": "code",
   "execution_count": 432,
   "id": "6bb4e199",
   "metadata": {},
   "outputs": [
    {
     "name": "stdout",
     "output_type": "stream",
     "text": [
      "The F1 score is: 0.892\n"
     ]
    }
   ],
   "source": [
    "print(f\"The F1 score is: {round(metrics.f1_score(y_DTC3_uncorr6, y_validation, average='macro'),3)}\")"
   ]
  },
  {
   "cell_type": "markdown",
   "id": "15c6c5c4",
   "metadata": {},
   "source": [
    "**DecisionTree** with hyperparameters *{'criterion':'gini','max_depth':6}*"
   ]
  },
  {
   "cell_type": "code",
   "execution_count": 433,
   "id": "7f85ac3b",
   "metadata": {},
   "outputs": [],
   "source": [
    "tree_clf2_uncorr6 = tree.DecisionTreeClassifier(criterion=\"gini\",max_depth=6,random_state=1).fit(X_train, y_train)\n",
    "y_DTC2_uncorr6 = tree_clf2_uncorr6.predict(X_validation)"
   ]
  },
  {
   "cell_type": "code",
   "execution_count": 434,
   "id": "507e5da4",
   "metadata": {},
   "outputs": [
    {
     "name": "stdout",
     "output_type": "stream",
     "text": [
      "The F1 score is: 0.89\n"
     ]
    }
   ],
   "source": [
    "print(f\"The F1 score is: {round(metrics.f1_score(y_DTC2_uncorr6, y_validation, average='macro'),3)}\")"
   ]
  },
  {
   "cell_type": "markdown",
   "id": "c1f2f42b",
   "metadata": {},
   "source": [
    "### RandomForest"
   ]
  },
  {
   "cell_type": "code",
   "execution_count": 435,
   "id": "6d7e9721",
   "metadata": {},
   "outputs": [],
   "source": [
    "parametersRF = dict(criterion=[\"gini\",\"entropy\",\"log_loss\",],\n",
    "                    n_estimators=[10,50,100],\n",
    "                    max_depth=[None, 6, 20])"
   ]
  },
  {
   "cell_type": "code",
   "execution_count": 436,
   "id": "6406ee86",
   "metadata": {},
   "outputs": [],
   "source": [
    "rf_clf_uncorr6 = RandomForestClassifier(random_state=1)\n",
    "rf_Grid_uncorr6 = GridSearchCV(rf_clf_uncorr6, parametersRF, scoring=\"f1_macro\").fit(X_train, y_train)"
   ]
  },
  {
   "cell_type": "code",
   "execution_count": 437,
   "id": "d7deb2b3",
   "metadata": {},
   "outputs": [
    {
     "name": "stdout",
     "output_type": "stream",
     "text": [
      "{'criterion': 'entropy', 'max_depth': 6, 'n_estimators': 50}\n",
      "0.841\n"
     ]
    }
   ],
   "source": [
    "print(rf_Grid_uncorr6.best_params_)\n",
    "print(round(metrics.f1_score(rf_Grid_uncorr6.best_estimator_.predict(X_validation), y_validation, average=\"macro\"), 3))"
   ]
  },
  {
   "cell_type": "code",
   "execution_count": 438,
   "id": "ef8e487e",
   "metadata": {},
   "outputs": [
    {
     "name": "stdout",
     "output_type": "stream",
     "text": [
      "R2: 0.3916666666666666\n"
     ]
    }
   ],
   "source": [
    "print(\"R2:\", metrics.r2_score(y_validation, rf_Grid_uncorr6.best_estimator_.predict(X_validation)))"
   ]
  },
  {
   "cell_type": "markdown",
   "id": "a5d94c16",
   "metadata": {},
   "source": [
    "**RandomForest** with *{'n_estimators'=50,'criterion'='log_loss'}*"
   ]
  },
  {
   "cell_type": "code",
   "execution_count": 439,
   "id": "c79dac84",
   "metadata": {},
   "outputs": [],
   "source": [
    "rf1_uncorr6 = RandomForestClassifier(n_estimators=50, random_state=1, criterion=\"log_loss\").fit(X_train, y_train)\n",
    "y_rf1_uncorr6 = rf1_uncorr6.predict(X_validation)"
   ]
  },
  {
   "cell_type": "code",
   "execution_count": 440,
   "id": "282b25f2",
   "metadata": {
    "scrolled": true
   },
   "outputs": [
    {
     "name": "stdout",
     "output_type": "stream",
     "text": [
      "The F1 score is: 0.841\n"
     ]
    }
   ],
   "source": [
    "print(f\"The F1 score is: {round(metrics.f1_score(y_rf1_uncorr6, y_validation, average='macro'),3)}\")"
   ]
  },
  {
   "cell_type": "markdown",
   "id": "77a8f5be",
   "metadata": {},
   "source": [
    "**RandomForest** with *{'n_estimator'=25, 'random_state'=1}*"
   ]
  },
  {
   "cell_type": "code",
   "execution_count": 441,
   "id": "8e095f5f",
   "metadata": {},
   "outputs": [],
   "source": [
    "rf2_uncorr6 = RandomForestClassifier(n_estimators=25, random_state=1).fit(X_train, y_train)\n",
    "y_rf2_uncorr6 = rf2_uncorr6.predict(X_validation)"
   ]
  },
  {
   "cell_type": "code",
   "execution_count": 442,
   "id": "6b3cec4b",
   "metadata": {},
   "outputs": [
    {
     "name": "stdout",
     "output_type": "stream",
     "text": [
      "The F1 score is: 0.841\n"
     ]
    }
   ],
   "source": [
    "print(f\"The F1 score is: {round(metrics.f1_score(y_rf2_uncorr6, y_validation, average='macro'),3)}\")"
   ]
  },
  {
   "cell_type": "markdown",
   "id": "8825ae68",
   "metadata": {},
   "source": [
    "**RandomForest** with *{'n_estimator'=50,'max_depth'=6,'criterion'='entropy','random_state'=1}*"
   ]
  },
  {
   "cell_type": "code",
   "execution_count": 443,
   "id": "bee55254",
   "metadata": {},
   "outputs": [],
   "source": [
    "rf3_uncorr6 = RandomForestClassifier(n_estimators=50, max_depth=6, criterion='entropy',random_state=1).fit(X_train, y_train)\n",
    "y_rf3_uncorr6 = rf3_uncorr6.predict(X_validation)"
   ]
  },
  {
   "cell_type": "code",
   "execution_count": 444,
   "id": "3eb258c2",
   "metadata": {},
   "outputs": [
    {
     "name": "stdout",
     "output_type": "stream",
     "text": [
      "The F1 score is: 0.841\n"
     ]
    }
   ],
   "source": [
    "print(f\"The F1 score is: {round(metrics.f1_score(y_rf3_uncorr6, y_validation, average='macro'),3)}\")"
   ]
  },
  {
   "cell_type": "markdown",
   "id": "34160750",
   "metadata": {},
   "source": [
    "### Neural Networks"
   ]
  },
  {
   "cell_type": "code",
   "execution_count": 445,
   "id": "142a27d1",
   "metadata": {},
   "outputs": [],
   "source": [
    "parametersNN = dict(activation=[\"relu\",\"logistic\",\"tanh\",\"identity\"],\n",
    "                    learning_rate_init=[0.001,0.01,0.05],\n",
    "                    solver=[\"adam\", \"sgd\", \"lbfgs\"],\n",
    "                    max_iter=[200, 800, 1400],\n",
    "                    hidden_layer_sizes=[(10),(5,5),(5,5,5)])"
   ]
  },
  {
   "cell_type": "code",
   "execution_count": 446,
   "id": "b88e9242",
   "metadata": {},
   "outputs": [],
   "source": [
    "mlp_clf_uncorr6 = MLPClassifier(random_state=1)\n",
    "mlp_Grid_uncorr6 = GridSearchCV(mlp_clf_uncorr6, parametersNN, scoring=\"f1_macro\").fit(X_train, y_train)"
   ]
  },
  {
   "cell_type": "code",
   "execution_count": 447,
   "id": "54d07ba4",
   "metadata": {},
   "outputs": [
    {
     "name": "stdout",
     "output_type": "stream",
     "text": [
      "{'activation': 'logistic', 'hidden_layer_sizes': (5, 5, 5), 'learning_rate_init': 0.001, 'max_iter': 200, 'solver': 'lbfgs'}\n",
      "0.91\n"
     ]
    }
   ],
   "source": [
    "print(mlp_Grid_uncorr6.best_params_)\n",
    "print(round(metrics.f1_score(mlp_Grid_uncorr6.best_estimator_.predict(X_validation), y_validation, average=\"macro\"), 3))"
   ]
  },
  {
   "cell_type": "code",
   "execution_count": 448,
   "id": "ee8944a9",
   "metadata": {},
   "outputs": [
    {
     "name": "stdout",
     "output_type": "stream",
     "text": [
      "R2: 0.635\n"
     ]
    }
   ],
   "source": [
    "print(\"R2:\", metrics.r2_score(y_validation, mlp_Grid_uncorr6.best_estimator_.predict(X_validation)))"
   ]
  },
  {
   "cell_type": "markdown",
   "id": "e78a0405",
   "metadata": {},
   "source": [
    "**Manual Search** of hyperparameter"
   ]
  },
  {
   "cell_type": "markdown",
   "id": "2a56c75e",
   "metadata": {},
   "source": [
    "**MLPClassifier** with hyperparameters *{'solver':'adam','hidden_layer_sizes':(5,5),'max_iter':2000,'activations':'logistic'}*"
   ]
  },
  {
   "cell_type": "code",
   "execution_count": 449,
   "id": "6e52d108",
   "metadata": {},
   "outputs": [],
   "source": [
    "mlp1_uncorr6 = MLPClassifier(solver='adam', hidden_layer_sizes=(5,5), max_iter=2000, activation='logistic', random_state=1).fit(X_train, y_train)\n",
    "y_MLP1_uncorr6 = mlp1_uncorr6.predict(X_validation)"
   ]
  },
  {
   "cell_type": "code",
   "execution_count": 450,
   "id": "6b233266",
   "metadata": {},
   "outputs": [
    {
     "name": "stdout",
     "output_type": "stream",
     "text": [
      "The F1 score is: 0.859\n"
     ]
    }
   ],
   "source": [
    "print(f\"The F1 score is: {round(metrics.f1_score(y_MLP1_uncorr6, y_validation, average='macro'),3)}\")"
   ]
  },
  {
   "cell_type": "markdown",
   "id": "f088b4f1",
   "metadata": {},
   "source": [
    "**MLPClassifier** with hyperparameters *{'solver':'relu','hidden_layer_sizes':(10),'activation':'logistic'}*"
   ]
  },
  {
   "cell_type": "code",
   "execution_count": 451,
   "id": "6d1e1542",
   "metadata": {},
   "outputs": [],
   "source": [
    "mlp2_uncorr6 = MLPClassifier(solver='adam', hidden_layer_sizes=(10), activation='relu', random_state=1).fit(X_train, y_train)\n",
    "y_MLP2_uncorr6 = mlp2_uncorr6.predict(X_validation)"
   ]
  },
  {
   "cell_type": "code",
   "execution_count": 452,
   "id": "8f8ae408",
   "metadata": {},
   "outputs": [
    {
     "name": "stdout",
     "output_type": "stream",
     "text": [
      "The F1 score is: 0.841\n"
     ]
    }
   ],
   "source": [
    "print(f\"The F1 score is: {round(metrics.f1_score(y_MLP2_uncorr6, y_validation, average='macro'),3)}\")"
   ]
  },
  {
   "cell_type": "markdown",
   "id": "0078ab8c",
   "metadata": {},
   "source": [
    "**MLPClassifer** with hyperparameters *{'solver':'lbfgs','hidden_layer_sizes':10,'activation':'relu', 'learning_rate_init':0.01}*"
   ]
  },
  {
   "cell_type": "code",
   "execution_count": 453,
   "id": "3d12d99c",
   "metadata": {},
   "outputs": [],
   "source": [
    "mlp3_uncorr6 = MLPClassifier(solver='lbfgs', hidden_layer_sizes=(10), activation='relu', learning_rate_init= 0.01, random_state=1).fit(X_train, y_train)\n",
    "y_MLP3_uncorr6 = mlp3_uncorr6.predict(X_validation)"
   ]
  },
  {
   "cell_type": "code",
   "execution_count": 454,
   "id": "73a9c1ef",
   "metadata": {},
   "outputs": [
    {
     "name": "stdout",
     "output_type": "stream",
     "text": [
      "The F1 score is: 0.925\n"
     ]
    }
   ],
   "source": [
    "print(f\"The F1 score is: {round(metrics.f1_score(y_MLP3_uncorr6, y_validation, average='macro'),3)}\")"
   ]
  },
  {
   "cell_type": "markdown",
   "id": "213923d0",
   "metadata": {},
   "source": [
    "## Best model for data without *rain* and *humidity*\n",
    "\n",
    "The best model I could find for the data without the column *month* is **MLPClassifier** with the following hyperparameters:\n",
    " - 'solver'= 'lbfgs'\n",
    " - 'hidden_layer_sizes'=10\n",
    " - 'activation'='relu'\n",
    " - 'learning_rate_init':0.01\n",
    "\n",
    "To see if the model chosen is actually as good as it seems I will use it to predict the test data and see how good its prediction power."
   ]
  },
  {
   "cell_type": "code",
   "execution_count": 455,
   "id": "2b689aae",
   "metadata": {},
   "outputs": [],
   "source": [
    "y_test = y_test[X_test[\"l.score\"].notnull()]\n",
    "y_test = y_test[X_test[\"tree.age\"].notnull()]\n",
    "y_test = y_test[X_test[\"wind.intensity\"].notnull()]\n",
    "X_test.dropna(inplace=True)"
   ]
  },
  {
   "cell_type": "code",
   "execution_count": 456,
   "id": "76502941",
   "metadata": {},
   "outputs": [],
   "source": [
    "mm_scaler = MinMaxScaler()\n",
    "X_test = pd.DataFrame(mm_scaler.fit_transform(X_test), columns=X_test.columns)"
   ]
  },
  {
   "cell_type": "code",
   "execution_count": 457,
   "id": "43c160df",
   "metadata": {},
   "outputs": [],
   "source": [
    "y_uncorr6_Best = mlp3_uncorr6.predict(X_test)"
   ]
  },
  {
   "cell_type": "code",
   "execution_count": 458,
   "id": "319f4c2b",
   "metadata": {},
   "outputs": [
    {
     "name": "stdout",
     "output_type": "stream",
     "text": [
      "0.954\n"
     ]
    }
   ],
   "source": [
    "print(round(metrics.f1_score(y_uncorr6_Best, y_test, average='macro'),3))"
   ]
  },
  {
   "cell_type": "code",
   "execution_count": 459,
   "id": "4fce0d83",
   "metadata": {},
   "outputs": [
    {
     "name": "stdout",
     "output_type": "stream",
     "text": [
      "R2: 0.8192651439920556\n"
     ]
    }
   ],
   "source": [
    "print(\"R2:\", metrics.r2_score(y_test, y_uncorr6_Best))"
   ]
  },
  {
   "cell_type": "markdown",
   "id": "2ab9fc10",
   "metadata": {},
   "source": [
    "As the model's predictive perfomance actually improved, I will remove both variables in following steps."
   ]
  },
  {
   "cell_type": "markdown",
   "id": "fdd6b2a9",
   "metadata": {},
   "source": [
    "---\n",
    "# Dealing with unbalanced data\n",
    "\n",
    "As observed at the beginning of this notebook, the data in the target variable is not equally represented (as there are more records for the 0 value than for the 1 value) which could translate into a bias towards the most populated class, and therefore worsening the predictive power of the models built with such data. In this step, the models will be built from data after some balancing operation has been performed.\n",
    "\n",
    "To balance the data I will use the **SMOTE** (*Synthetic Minority Oversampling Technique*) technique to balance the data.\n",
    "\n",
    "**Undersampling** (which is removing some observations of the majority class so that both classes have the same number of records) is not an option here due to the size of the dataset we are working. Undersampling would imply reducing the number of records for the 0 class from nearly 300 to nearly 150. In other words, we would be loosing one third of the population (as the data is roughly 460 records) which could lead into a bigger loose of predictive performance."
   ]
  },
  {
   "cell_type": "code",
   "execution_count": 460,
   "id": "bdd65155",
   "metadata": {},
   "outputs": [
    {
     "data": {
      "text/plain": [
       "<Axes: >"
      ]
     },
     "execution_count": 460,
     "metadata": {},
     "output_type": "execute_result"
    },
    {
     "data": {
      "image/png": "[encoded data removed]",
      "text/plain": [
       "<Figure size 640x480 with 1 Axes>"
      ]
     },
     "metadata": {},
     "output_type": "display_data"
    }
   ],
   "source": [
    "df[\"fire\"].hist()"
   ]
  },
  {
   "cell_type": "code",
   "execution_count": 461,
   "id": "14f5e2a6",
   "metadata": {},
   "outputs": [],
   "source": [
    "targetName = \"fire\"\n",
    "allFeatureNames = df.columns[df.columns != targetName]\n",
    "allFeatureNames = allFeatureNames[allFeatureNames != \"collector.id\"]\n",
    "allFeatureNames = allFeatureNames[allFeatureNames != \"rain\"]\n",
    "allFeatureNames = allFeatureNames[allFeatureNames != \"humidity\"]\n",
    "X = df[allFeatureNames]\n",
    "y = df[targetName]"
   ]
  },
  {
   "cell_type": "code",
   "execution_count": 462,
   "id": "33530024",
   "metadata": {},
   "outputs": [],
   "source": [
    "X_train, X_test, y_train, y_test = train_test_split(X, y, test_size=0.2, random_state=1)"
   ]
  },
  {
   "cell_type": "code",
   "execution_count": 463,
   "id": "13bdbd96",
   "metadata": {},
   "outputs": [],
   "source": [
    "X_train, X_validation, y_train, y_validation = train_test_split(X_train, y_train, test_size=0.2, random_state=1)"
   ]
  },
  {
   "cell_type": "code",
   "execution_count": 464,
   "id": "4884e337",
   "metadata": {},
   "outputs": [],
   "source": [
    "y_train = y_train[X_train[\"l.score\"].notnull()]\n",
    "y_train = y_train[X_train[\"tree.age\"].notnull()]\n",
    "y_train = y_train[X_train[\"wind.intensity\"].notnull()]\n",
    "X_train.dropna(inplace=True)"
   ]
  },
  {
   "cell_type": "code",
   "execution_count": 465,
   "id": "214db89e",
   "metadata": {},
   "outputs": [],
   "source": [
    "y_train = y_train[X_train[\"c.score\"]<100] \n",
    "X_train = X_train[X_train[\"c.score\"]<100]\n",
    "y_train = y_train[X_train[\"tree.age\"]<200] \n",
    "X_train = X_train[X_train[\"tree.age\"]<200]"
   ]
  },
  {
   "cell_type": "code",
   "execution_count": 466,
   "id": "c0b28a6c",
   "metadata": {},
   "outputs": [],
   "source": [
    "mm_scaler = MinMaxScaler()\n",
    "X_train = pd.DataFrame(mm_scaler.fit_transform(X_train), columns=X_train.columns)"
   ]
  },
  {
   "cell_type": "code",
   "execution_count": 467,
   "id": "68897dd6",
   "metadata": {},
   "outputs": [],
   "source": [
    "oversample = over_sampling.SMOTE(random_state=1)\n",
    "X_train_balanced, y_train_balanced = oversample.fit_resample(X_train, y_train)"
   ]
  },
  {
   "cell_type": "markdown",
   "id": "c7de7a46",
   "metadata": {},
   "source": [
    "### Logistic Regression"
   ]
  },
  {
   "cell_type": "code",
   "execution_count": 468,
   "id": "24e49497",
   "metadata": {},
   "outputs": [],
   "source": [
    "parametersLR = dict(solver=[\"liblinear\",\"lbfgs\",\"sag\",],\n",
    "                    penalty=['l2'],\n",
    "                    max_iter=[None, 2000, 5000])"
   ]
  },
  {
   "cell_type": "code",
   "execution_count": 469,
   "id": "ea3c05b5",
   "metadata": {},
   "outputs": [],
   "source": [
    "lR_balanced = LogisticRegression(random_state=1)\n",
    "lR_clf_balanced = GridSearchCV(lR_balanced, parametersLR, scoring=\"f1_macro\").fit(X_train_balanced, y_train_balanced)"
   ]
  },
  {
   "cell_type": "code",
   "execution_count": 470,
   "id": "fbc5833b",
   "metadata": {},
   "outputs": [],
   "source": [
    "y_validation = y_validation[X_validation[\"l.score\"].notnull()]\n",
    "y_validation = y_validation[X_validation[\"tree.age\"].notnull()]\n",
    "y_validation = y_validation[X_validation[\"wind.intensity\"].notnull()]\n",
    "X_validation.dropna(inplace=True)"
   ]
  },
  {
   "cell_type": "code",
   "execution_count": 471,
   "id": "4bfb1cd4",
   "metadata": {},
   "outputs": [],
   "source": [
    "y_validation = y_validation[X_validation[\"c.score\"]<100] \n",
    "X_validation = X_validation[X_validation[\"c.score\"]<100]\n",
    "y_validation = y_validation[X_validation[\"tree.age\"]<200]\n",
    "X_validation = X_validation[X_validation[\"tree.age\"]<200]"
   ]
  },
  {
   "cell_type": "code",
   "execution_count": 472,
   "id": "17520178",
   "metadata": {},
   "outputs": [],
   "source": [
    "mm_scaler = MinMaxScaler()\n",
    "X_validation = pd.DataFrame(mm_scaler.fit_transform(X_validation), columns=X_validation.columns)"
   ]
  },
  {
   "cell_type": "code",
   "execution_count": 473,
   "id": "32743c72",
   "metadata": {},
   "outputs": [],
   "source": [
    "oversample = over_sampling.SMOTE(random_state=1)\n",
    "X_validation_balanced, y_validation_balanced = oversample.fit_resample(X_validation, y_validation)"
   ]
  },
  {
   "cell_type": "code",
   "execution_count": 474,
   "id": "a3ca1133",
   "metadata": {},
   "outputs": [
    {
     "name": "stdout",
     "output_type": "stream",
     "text": [
      "{'max_iter': 2000, 'penalty': 'l2', 'solver': 'lbfgs'}\n",
      "0.853\n"
     ]
    }
   ],
   "source": [
    "print(lR_clf_balanced.best_params_)\n",
    "print(round(metrics.f1_score(lR_clf_balanced.best_estimator_.predict(X_validation_balanced), y_validation_balanced, average=\"macro\"), 3))"
   ]
  },
  {
   "cell_type": "code",
   "execution_count": 475,
   "id": "dad5fe3d",
   "metadata": {},
   "outputs": [
    {
     "name": "stdout",
     "output_type": "stream",
     "text": [
      "R2: 0.41666666666666663\n"
     ]
    }
   ],
   "source": [
    "print(\"R2:\", metrics.r2_score(y_validation_balanced, lR_clf_balanced.best_estimator_.predict(X_validation_balanced)))"
   ]
  },
  {
   "cell_type": "markdown",
   "id": "84680912",
   "metadata": {},
   "source": [
    "**Manual Search** of hyperparameters"
   ]
  },
  {
   "cell_type": "markdown",
   "id": "c5c602f1",
   "metadata": {},
   "source": [
    "**Logistic Regression** with *{'solver':'sag','penalty':'l2','max_iter':5000}*"
   ]
  },
  {
   "cell_type": "code",
   "execution_count": 476,
   "id": "a7d6fce5",
   "metadata": {},
   "outputs": [],
   "source": [
    "lR2_balanced = LogisticRegression(solver='sag', penalty='l2', max_iter=5000, random_state=1).fit(X_train_balanced, y_train_balanced)\n",
    "y_lR2_balanced = lR2_balanced.predict_proba(X_validation_balanced)[:,1]\n",
    "y_lR2_balanced = [round(y) for y in y_lR2_balanced]"
   ]
  },
  {
   "cell_type": "code",
   "execution_count": 477,
   "id": "371d7eef",
   "metadata": {
    "scrolled": true
   },
   "outputs": [
    {
     "name": "stdout",
     "output_type": "stream",
     "text": [
      "The F1 score is: 0.853\n"
     ]
    }
   ],
   "source": [
    "print(f\"The F1 score is: {round(metrics.f1_score(y_lR2_balanced, y_validation_balanced, average='macro'),3)}\")"
   ]
  },
  {
   "cell_type": "markdown",
   "id": "5f8aa5c0",
   "metadata": {},
   "source": [
    "**Logistic Regression** with *{'solver':'liblinear','penalty':'l2'}*"
   ]
  },
  {
   "cell_type": "code",
   "execution_count": 478,
   "id": "350dc9b0",
   "metadata": {},
   "outputs": [],
   "source": [
    "lR3_balanced = LogisticRegression(solver='liblinear', penalty='l2', random_state=1).fit(X_train_balanced, y_train_balanced)\n",
    "y_lR3_balanced = lR3_balanced.predict_proba(X_validation_balanced)[:,1]\n",
    "y_lR3_balanced = [round(y) for y in y_lR3_balanced]"
   ]
  },
  {
   "cell_type": "code",
   "execution_count": 479,
   "id": "62f02ed3",
   "metadata": {},
   "outputs": [
    {
     "name": "stdout",
     "output_type": "stream",
     "text": [
      "The F1 score is: 0.853\n"
     ]
    }
   ],
   "source": [
    "print(f\"The F1 score is: {round(metrics.f1_score(y_lR3_balanced, y_validation_balanced, average='macro'),3)}\")"
   ]
  },
  {
   "cell_type": "markdown",
   "id": "7ec0968f",
   "metadata": {},
   "source": [
    "**Logistic Regression** with default hyperparameters (*{'penalty':'l2','solver':'lbfgs','max_iter':100}*)"
   ]
  },
  {
   "cell_type": "code",
   "execution_count": 480,
   "id": "302a4da5",
   "metadata": {},
   "outputs": [],
   "source": [
    "lR4_balanced = LogisticRegression(random_state=1).fit(X_train_balanced, y_train_balanced)\n",
    "y_lR4_balanced = lR4_balanced.predict_proba(X_validation_balanced)[:,1]\n",
    "y_lR4_balanced = [round(y) for y in y_lR4_balanced]"
   ]
  },
  {
   "cell_type": "code",
   "execution_count": 481,
   "id": "71c15551",
   "metadata": {},
   "outputs": [
    {
     "name": "stdout",
     "output_type": "stream",
     "text": [
      "The F1 score is: 0.853\n"
     ]
    }
   ],
   "source": [
    "print(f\"The F1 score is: {round(metrics.f1_score(y_lR4_balanced, y_validation_balanced, average='macro'),3)}\")"
   ]
  },
  {
   "cell_type": "markdown",
   "id": "47b94157",
   "metadata": {},
   "source": [
    "### Decision Tree"
   ]
  },
  {
   "cell_type": "code",
   "execution_count": 482,
   "id": "c94841d0",
   "metadata": {},
   "outputs": [],
   "source": [
    "parametersDT = dict(criterion=[\"gini\",\"entropy\",\"log_loss\",],\n",
    "                    max_depth=[None, 6, 20])"
   ]
  },
  {
   "cell_type": "code",
   "execution_count": 483,
   "id": "12f6bc45",
   "metadata": {},
   "outputs": [],
   "source": [
    "tree_clf_balanced = tree.DecisionTreeClassifier(random_state=1)\n",
    "tree_Grid_balanced = GridSearchCV(tree_clf_balanced, parametersDT, scoring=\"f1_macro\").fit(X_train_balanced, y_train_balanced)"
   ]
  },
  {
   "cell_type": "code",
   "execution_count": 484,
   "id": "730df4ba",
   "metadata": {},
   "outputs": [
    {
     "name": "stdout",
     "output_type": "stream",
     "text": [
      "{'criterion': 'entropy', 'max_depth': None}\n",
      "0.833\n"
     ]
    }
   ],
   "source": [
    "print(tree_Grid_balanced.best_params_)\n",
    "print(round(metrics.f1_score(tree_Grid_balanced.best_estimator_.predict(X_validation_balanced), y_validation_balanced, average=\"macro\"), 3))"
   ]
  },
  {
   "cell_type": "code",
   "execution_count": 485,
   "id": "949bc1c4",
   "metadata": {},
   "outputs": [
    {
     "name": "stdout",
     "output_type": "stream",
     "text": [
      "R2: 0.33333333333333337\n"
     ]
    }
   ],
   "source": [
    "print(\"R2:\", metrics.r2_score(y_validation_balanced, tree_Grid_balanced.best_estimator_.predict(X_validation_balanced)))"
   ]
  },
  {
   "cell_type": "markdown",
   "id": "35a8eb61",
   "metadata": {},
   "source": [
    "**Manual Search** of hyperparameters"
   ]
  },
  {
   "cell_type": "markdown",
   "id": "eff35018",
   "metadata": {},
   "source": [
    "**DecisionTree** with hyperparameters *{'criterion':'gini'}*"
   ]
  },
  {
   "cell_type": "code",
   "execution_count": 486,
   "id": "551b8b6c",
   "metadata": {},
   "outputs": [],
   "source": [
    "tree_clf1_balanced = tree.DecisionTreeClassifier(criterion=\"gini\",random_state=1).fit(X_train_balanced, y_train_balanced)\n",
    "y_DTC1_balanced = tree_clf1_balanced.predict(X_validation_balanced)"
   ]
  },
  {
   "cell_type": "code",
   "execution_count": 487,
   "id": "4794e734",
   "metadata": {},
   "outputs": [
    {
     "name": "stdout",
     "output_type": "stream",
     "text": [
      "The F1 score is: 0.885\n"
     ]
    }
   ],
   "source": [
    "print(f\"The F1 score is: {round(metrics.f1_score(y_DTC1_balanced, y_validation_balanced, average='macro'),3)}\")"
   ]
  },
  {
   "cell_type": "markdown",
   "id": "4af577a0",
   "metadata": {},
   "source": [
    "**DecisionTree** with hyperparameters *{'criterion':'log_loss'}*"
   ]
  },
  {
   "cell_type": "code",
   "execution_count": 488,
   "id": "0c7af550",
   "metadata": {},
   "outputs": [],
   "source": [
    "tree_clf3_balanced = tree.DecisionTreeClassifier(criterion=\"log_loss\",random_state=1).fit(X_train_balanced, y_train_balanced)\n",
    "y_DTC3_balanced = tree_clf3_balanced.predict(X_validation_balanced)"
   ]
  },
  {
   "cell_type": "code",
   "execution_count": 489,
   "id": "7d3a8ffd",
   "metadata": {},
   "outputs": [
    {
     "name": "stdout",
     "output_type": "stream",
     "text": [
      "The F1 score is: 0.833\n"
     ]
    }
   ],
   "source": [
    "print(f\"The F1 score is: {round(metrics.f1_score(y_DTC3_balanced, y_validation_balanced, average='macro'),3)}\")"
   ]
  },
  {
   "cell_type": "markdown",
   "id": "f7a132c5",
   "metadata": {},
   "source": [
    "**DecisionTree** with hyperparameters *{'criterion':'gini','max_depth':6}*"
   ]
  },
  {
   "cell_type": "code",
   "execution_count": 490,
   "id": "3bacad55",
   "metadata": {},
   "outputs": [],
   "source": [
    "tree_clf2_balanced = tree.DecisionTreeClassifier(criterion=\"gini\",max_depth=6,random_state=1).fit(X_train_balanced, y_train_balanced)\n",
    "y_DTC2_balanced = tree_clf2_balanced.predict(X_validation_balanced)"
   ]
  },
  {
   "cell_type": "code",
   "execution_count": 491,
   "id": "f96e0150",
   "metadata": {},
   "outputs": [
    {
     "name": "stdout",
     "output_type": "stream",
     "text": [
      "The F1 score is: 0.885\n"
     ]
    }
   ],
   "source": [
    "print(f\"The F1 score is: {round(metrics.f1_score(y_DTC2_balanced, y_validation_balanced, average='macro'),3)}\")"
   ]
  },
  {
   "cell_type": "markdown",
   "id": "9c278834",
   "metadata": {},
   "source": [
    "### RandomForest"
   ]
  },
  {
   "cell_type": "code",
   "execution_count": 492,
   "id": "02051df5",
   "metadata": {},
   "outputs": [],
   "source": [
    "parametersRF = dict(criterion=[\"gini\",\"entropy\",\"log_loss\",],\n",
    "                    n_estimators=[10,50,100],\n",
    "                    max_depth=[None, 6, 20])"
   ]
  },
  {
   "cell_type": "code",
   "execution_count": 493,
   "id": "884efbcc",
   "metadata": {},
   "outputs": [],
   "source": [
    "rf_clf_balanced = RandomForestClassifier(random_state=1)\n",
    "rf_Grid_balanced = GridSearchCV(rf_clf_balanced, parametersRF, scoring=\"f1_macro\").fit(X_train_balanced, y_train_balanced)"
   ]
  },
  {
   "cell_type": "code",
   "execution_count": 494,
   "id": "fbf05002",
   "metadata": {},
   "outputs": [
    {
     "name": "stdout",
     "output_type": "stream",
     "text": [
      "{'criterion': 'entropy', 'max_depth': None, 'n_estimators': 50}\n",
      "0.853\n"
     ]
    }
   ],
   "source": [
    "print(rf_Grid_balanced.best_params_)\n",
    "print(round(metrics.f1_score(rf_Grid_balanced.best_estimator_.predict(X_validation_balanced), y_validation_balanced, average=\"macro\"), 3))"
   ]
  },
  {
   "cell_type": "code",
   "execution_count": 495,
   "id": "f1a60478",
   "metadata": {},
   "outputs": [
    {
     "name": "stdout",
     "output_type": "stream",
     "text": [
      "R2: 0.41666666666666663\n"
     ]
    }
   ],
   "source": [
    "print(\"R2:\", metrics.r2_score(y_validation_balanced, rf_Grid_balanced.best_estimator_.predict(X_validation_balanced)))"
   ]
  },
  {
   "cell_type": "markdown",
   "id": "a0bd59de",
   "metadata": {},
   "source": [
    "**RandomForest** with *{'n_estimators'=50,'criterion'='log_loss'}*"
   ]
  },
  {
   "cell_type": "code",
   "execution_count": 496,
   "id": "d4fe2587",
   "metadata": {},
   "outputs": [],
   "source": [
    "rf1_balanced = RandomForestClassifier(n_estimators=50, random_state=1, criterion=\"log_loss\").fit(X_train_balanced, y_train_balanced)\n",
    "y_rf1_balanced = rf1_balanced.predict(X_validation_balanced)"
   ]
  },
  {
   "cell_type": "code",
   "execution_count": 497,
   "id": "c63e644f",
   "metadata": {
    "scrolled": true
   },
   "outputs": [
    {
     "name": "stdout",
     "output_type": "stream",
     "text": [
      "The F1 score is: 0.853\n"
     ]
    }
   ],
   "source": [
    "print(f\"The F1 score is: {round(metrics.f1_score(y_rf1_balanced, y_validation_balanced, average='macro'),3)}\")"
   ]
  },
  {
   "cell_type": "markdown",
   "id": "fd55f5ac",
   "metadata": {},
   "source": [
    "**RandomForest** with *{'n_estimator'=25, 'random_state'=1}*"
   ]
  },
  {
   "cell_type": "code",
   "execution_count": 498,
   "id": "5514da5f",
   "metadata": {},
   "outputs": [],
   "source": [
    "rf2_balanced = RandomForestClassifier(n_estimators=25, random_state=1).fit(X_train_balanced, y_train_balanced)\n",
    "y_rf2_balanced = rf2_balanced.predict(X_validation_balanced)"
   ]
  },
  {
   "cell_type": "code",
   "execution_count": 499,
   "id": "45a9169a",
   "metadata": {},
   "outputs": [
    {
     "name": "stdout",
     "output_type": "stream",
     "text": [
      "The F1 score is: 0.853\n"
     ]
    }
   ],
   "source": [
    "print(f\"The F1 score is: {round(metrics.f1_score(y_rf2_balanced, y_validation_balanced, average='macro'),3)}\")"
   ]
  },
  {
   "cell_type": "markdown",
   "id": "b101d72b",
   "metadata": {},
   "source": [
    "**RandomForest** with *{'n_estimator'=50,'max_depth'=6,'criterion'='entropy','random_state'=1}*"
   ]
  },
  {
   "cell_type": "code",
   "execution_count": 500,
   "id": "6ebd756d",
   "metadata": {},
   "outputs": [],
   "source": [
    "rf3_balanced = RandomForestClassifier(n_estimators=50, max_depth=6, criterion='entropy',random_state=1).fit(X_train_balanced, y_train_balanced)\n",
    "y_rf3_balanced = rf3_balanced.predict(X_validation_balanced)"
   ]
  },
  {
   "cell_type": "code",
   "execution_count": 501,
   "id": "a29a1c1b",
   "metadata": {},
   "outputs": [
    {
     "name": "stdout",
     "output_type": "stream",
     "text": [
      "The F1 score is: 0.853\n"
     ]
    }
   ],
   "source": [
    "print(f\"The F1 score is: {round(metrics.f1_score(y_rf3_balanced, y_validation_balanced, average='macro'),3)}\")"
   ]
  },
  {
   "cell_type": "markdown",
   "id": "9b100a2f",
   "metadata": {},
   "source": [
    "### Neural Networks"
   ]
  },
  {
   "cell_type": "code",
   "execution_count": 502,
   "id": "f404246a",
   "metadata": {},
   "outputs": [],
   "source": [
    "parametersNN = dict(activation=[\"relu\",\"logistic\",\"tanh\",\"identity\"],\n",
    "                    learning_rate_init=[0.001,0.01,0.05],\n",
    "                    solver=[\"adam\", \"sgd\", \"lbfgs\"],\n",
    "                    max_iter=[200, 800, 1400],\n",
    "                    hidden_layer_sizes=[(10),(5,5),(5,5,5)])"
   ]
  },
  {
   "cell_type": "code",
   "execution_count": 503,
   "id": "dc3d1f33",
   "metadata": {},
   "outputs": [],
   "source": [
    "mlp_clf_balanced = MLPClassifier(random_state=1)\n",
    "mlp_Grid_balanced = GridSearchCV(mlp_clf_balanced, parametersNN, scoring=\"f1_macro\").fit(X_train_balanced, y_train_balanced)"
   ]
  },
  {
   "cell_type": "code",
   "execution_count": 504,
   "id": "5cce6ae0",
   "metadata": {},
   "outputs": [
    {
     "name": "stdout",
     "output_type": "stream",
     "text": [
      "{'activation': 'relu', 'hidden_layer_sizes': (5, 5, 5), 'learning_rate_init': 0.01, 'max_iter': 200, 'solver': 'adam'}\n",
      "0.864\n"
     ]
    }
   ],
   "source": [
    "print(mlp_Grid_balanced.best_params_)\n",
    "print(round(metrics.f1_score(mlp_Grid_balanced.best_estimator_.predict(X_validation_balanced), y_validation_balanced, average=\"macro\"), 3))"
   ]
  },
  {
   "cell_type": "code",
   "execution_count": 505,
   "id": "88f9786e",
   "metadata": {},
   "outputs": [
    {
     "name": "stdout",
     "output_type": "stream",
     "text": [
      "R2: 0.45833333333333337\n"
     ]
    }
   ],
   "source": [
    "print(\"R2:\", metrics.r2_score(y_validation_balanced, mlp_Grid_balanced.best_estimator_.predict(X_validation_balanced)))"
   ]
  },
  {
   "cell_type": "markdown",
   "id": "d83f0c45",
   "metadata": {},
   "source": [
    "**Manual Search** of hyperparameter"
   ]
  },
  {
   "cell_type": "markdown",
   "id": "14119e93",
   "metadata": {},
   "source": [
    "**MLPClassifier** with hyperparameters *{'solver':'adam','hidden_layer_sizes':(5,5),'max_iter':2000,'activations':'logistic'}*"
   ]
  },
  {
   "cell_type": "code",
   "execution_count": 506,
   "id": "fe72a3a6",
   "metadata": {},
   "outputs": [],
   "source": [
    "mlp1_balanced = MLPClassifier(solver='adam', hidden_layer_sizes=(5,5), max_iter=2000, activation='logistic', random_state=1).fit(X_train_balanced, y_train_balanced)\n",
    "y_MLP1_balanced = mlp1_balanced.predict(X_validation_balanced)"
   ]
  },
  {
   "cell_type": "code",
   "execution_count": 507,
   "id": "79adecf9",
   "metadata": {},
   "outputs": [
    {
     "name": "stdout",
     "output_type": "stream",
     "text": [
      "The F1 score is: 0.875\n"
     ]
    }
   ],
   "source": [
    "print(f\"The F1 score is: {round(metrics.f1_score(y_MLP1_balanced, y_validation_balanced, average='macro'),3)}\")"
   ]
  },
  {
   "cell_type": "markdown",
   "id": "d6ef005d",
   "metadata": {},
   "source": [
    "**MLPClassifier** with hyperparameters *{'solver':'relu','hidden_layer_sizes':(10),'activation':'logistic'}*"
   ]
  },
  {
   "cell_type": "code",
   "execution_count": 508,
   "id": "f5a312cb",
   "metadata": {},
   "outputs": [],
   "source": [
    "mlp2_balanced = MLPClassifier(solver='adam', hidden_layer_sizes=(10), activation='relu', random_state=1).fit(X_train_balanced, y_train_balanced)\n",
    "y_MLP2_balanced = mlp2_balanced.predict(X_validation_balanced)"
   ]
  },
  {
   "cell_type": "code",
   "execution_count": 509,
   "id": "8b38deb8",
   "metadata": {},
   "outputs": [
    {
     "name": "stdout",
     "output_type": "stream",
     "text": [
      "The F1 score is: 0.875\n"
     ]
    }
   ],
   "source": [
    "print(f\"The F1 score is: {round(metrics.f1_score(y_MLP2_balanced, y_validation_balanced, average='macro'),3)}\")"
   ]
  },
  {
   "cell_type": "markdown",
   "id": "ee53f341",
   "metadata": {},
   "source": [
    "**MLPClassifer** with hyperparameters *{'solver':'lbfgs','hidden_layer_sizes':10,'activation':'relu', 'learning_rate_init':0.01}*"
   ]
  },
  {
   "cell_type": "code",
   "execution_count": 510,
   "id": "bf7b7955",
   "metadata": {},
   "outputs": [],
   "source": [
    "mlp3_balanced = MLPClassifier(solver='lbfgs', hidden_layer_sizes=(10), activation='relu', learning_rate_init= 0.01, random_state=1).fit(X_train_balanced, y_train_balanced)\n",
    "y_MLP3_balanced = mlp3_balanced.predict(X_validation_balanced)"
   ]
  },
  {
   "cell_type": "code",
   "execution_count": 511,
   "id": "b4556377",
   "metadata": {
    "scrolled": true
   },
   "outputs": [
    {
     "name": "stdout",
     "output_type": "stream",
     "text": [
      "The F1 score is: 0.896\n"
     ]
    }
   ],
   "source": [
    "print(f\"The F1 score is: {round(metrics.f1_score(y_MLP3_balanced, y_validation_balanced, average='macro'),3)}\")"
   ]
  },
  {
   "cell_type": "markdown",
   "id": "bb731c11",
   "metadata": {},
   "source": [
    "## Best model for balanced data\n",
    "\n",
    "The best model I could find for the balanced data via *SMOTE* is **MLPClassifier** with the following hyperparameters:\n",
    " - 'solver'='lbfgs'\n",
    " - 'hidden_layer_sizes'=(10)\n",
    " - 'activation'='relu'\n",
    " - 'learning_rate_init': 0.001\n",
    " - 'max_iter': 200\n",
    "\n",
    "To see if the model chosen is actually as good as it seems I will use it to predict the test data and see how good its prediction power."
   ]
  },
  {
   "cell_type": "markdown",
   "id": "f882fc91",
   "metadata": {},
   "source": [
    "As the **MLPClassifier** does not accept null values natively, I will perform the same modification on the test dataset to the one performed to the training and test datasets."
   ]
  },
  {
   "cell_type": "code",
   "execution_count": 512,
   "id": "81cce6ca",
   "metadata": {},
   "outputs": [],
   "source": [
    "y_test = y_test[X_test[\"l.score\"].notnull()]\n",
    "y_test = y_test[X_test[\"tree.age\"].notnull()]\n",
    "y_test = y_test[X_test[\"wind.intensity\"].notnull()]\n",
    "X_test.dropna(inplace=True)"
   ]
  },
  {
   "cell_type": "code",
   "execution_count": 513,
   "id": "2ba0f3d7",
   "metadata": {},
   "outputs": [],
   "source": [
    "mm_scaler = MinMaxScaler()\n",
    "X_test = pd.DataFrame(mm_scaler.fit_transform(X_test), columns=X_test.columns)"
   ]
  },
  {
   "cell_type": "code",
   "execution_count": 514,
   "id": "e6a4c266",
   "metadata": {},
   "outputs": [],
   "source": [
    "y_balanced_Best = mlp3_balanced.predict(X_test)"
   ]
  },
  {
   "cell_type": "code",
   "execution_count": 515,
   "id": "01ed9702",
   "metadata": {},
   "outputs": [
    {
     "name": "stdout",
     "output_type": "stream",
     "text": [
      "0.932\n"
     ]
    }
   ],
   "source": [
    "print(round(metrics.f1_score(y_balanced_Best, y_test, average='macro'),3))"
   ]
  },
  {
   "cell_type": "code",
   "execution_count": 516,
   "id": "49f99c5d",
   "metadata": {},
   "outputs": [
    {
     "name": "stdout",
     "output_type": "stream",
     "text": [
      "R2: 0.7288977159880834\n"
     ]
    }
   ],
   "source": [
    "print(\"R2:\", metrics.r2_score(y_test, y_balanced_Best))"
   ]
  },
  {
   "cell_type": "markdown",
   "id": "8cb85936",
   "metadata": {},
   "source": [
    "As the best model is the one without the variables *rain* and *humidity*, I will now plot its respective confussion matrix.\n",
    "\n",
    "**Note**: The model with all the variables and the data normalised it's slightly better (by 0.001), but I have chosen the former one following the KISS principle, which aims to always go for the most simple model, which I feel in this case is the one with less variables."
   ]
  },
  {
   "cell_type": "code",
   "execution_count": 517,
   "id": "36d5b9bc",
   "metadata": {},
   "outputs": [
    {
     "data": {
      "image/png": "[encoded data removed]",
      "text/plain": [
       "<Figure size 640x480 with 2 Axes>"
      ]
     },
     "metadata": {},
     "output_type": "display_data"
    }
   ],
   "source": [
    "from sklearn.metrics import confusion_matrix\n",
    "import matplotlib.pyplot as plt\n",
    "\n",
    "confusion_matrix = confusion_matrix(y_test, y_uncorr6_Best)\n",
    "cm_display = metrics.ConfusionMatrixDisplay(confusion_matrix = confusion_matrix, display_labels = [False, True])\n",
    "\n",
    "cm_display.plot()\n",
    "plt.show()"
   ]
  },
  {
   "cell_type": "markdown",
   "id": "ee6ac89f",
   "metadata": {},
   "source": [
    "# Conclussion\n",
    "\n",
    "After applying various modifications to the dataset and training different models with them, the best model obtained was an *MLPClassifier* (a Neural Network) with the following as its hyperparameters:\n",
    " - 'solver'='lbfgs'\n",
    " - 'hidden_layer_sizes'=(10)\n",
    " - 'activation'='relu'\n",
    " - 'learning_rate_init': 0.001\n",
    " - 'max_iter': 200\n",
    "\n",
    "The score of the metric used (*F1 Score*) was of 93.7% with the validation set and 95.5% with the testing dataset. \n",
    "\n",
    "The modifications perfomed over the dataset used to train this model were the following:\n",
    "- Removing the columns \"*c.score*\" and \"*collector.id*\"\n",
    "- Filling the null values of the columns with their respective mean. **Note**: This was done after perfoming the train-validation-test split.\n",
    "- Remove the existant outliers of the column \"*tree.age*\".\n",
    "- Perfoming *SMOTE* over the target feature. "
   ]
  }
 ],
 "metadata": {
  "kernelspec": {
   "display_name": "Python 3 (ipykernel)",
   "language": "python",
   "name": "python3"
  },
  "language_info": {
   "codemirror_mode": {
    "name": "ipython",
    "version": 3
   },
   "file_extension": ".py",
   "mimetype": "text/x-python",
   "name": "python",
   "nbconvert_exporter": "python",
   "pygments_lexer": "ipython3",
   "version": "3.8.2"
  }
 },
 "nbformat": 4,
 "nbformat_minor": 5
}
