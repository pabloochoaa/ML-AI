{
  "cells": [
    {
      "cell_type": "markdown",
      "metadata": {
        "id": "view-in-github",
        "colab_type": "text"
      },
      "source": [
        "<a href=\"https://colab.research.google.com/github/IA2122/practica-4-paochoa/blob/main/practica4_parte2.ipynb\" target=\"_parent\"><img src=\"https://colab.research.google.com/assets/colab-badge.svg\" alt=\"Open In Colab\"/></a>"
      ]
    },
    {
      "cell_type": "markdown",
      "metadata": {
        "id": "9GId-1w5Wvg5"
      },
      "source": [
        "# Práctica 4 Parte II. Clustering jerárquico en sklearn"
      ]
    },
    {
      "cell_type": "markdown",
      "metadata": {
        "id": "i9zInh3kWvg9"
      },
      "source": [
        "Antes de empezar a ver cómo funciona el clustering jerárquico en la librería sklearn, vamos a fijar la notación:\n",
        "- Tenemos n instancias con m descriptores cada una, almacenadas en X\n",
        "- Llamaremos Z al vector que contiene la información de enlazamiento\n",
        "\n",
        "El proceso de clústering jerárquico en sklearn consta de dos partes. En la primera se calcula el dendograma para ver cuántos clústeres hay en el dataset. En la segunda se lleva a cabo el proceso de clustering."
      ]
    },
    {
      "cell_type": "markdown",
      "metadata": {
        "id": "GcHpwtl2WvhA"
      },
      "source": [
        "## Generando el dendograma\n",
        "\n",
        "Comenzamos importando las librerías que vamos a utilizar."
      ]
    },
    {
      "cell_type": "code",
      "execution_count": null,
      "metadata": {
        "id": "qFPgath2WvhF"
      },
      "outputs": [],
      "source": [
        "from matplotlib import pyplot as plt\n",
        "import matplotlib.cm as cm\n",
        "from scipy.cluster.hierarchy import dendrogram, linkage\n",
        "from sklearn.cluster import AgglomerativeClustering\n",
        "import numpy as np\n",
        "%matplotlib inline"
      ]
    },
    {
      "cell_type": "markdown",
      "metadata": {
        "id": "EUUGRHxbWvhM"
      },
      "source": [
        "A continuación vamos a generar los datos de nuestra muestra. Como existe una componente aleatoria a la hora de generar la muestra, vamos a fijar la semilla para poder reproducir los resultados"
      ]
    },
    {
      "cell_type": "code",
      "execution_count": null,
      "metadata": {
        "id": "wczgpW0VWvhP"
      },
      "outputs": [],
      "source": [
        "np.random.seed(4711)"
      ]
    },
    {
      "cell_type": "markdown",
      "metadata": {
        "id": "DdLikNb3WvhX"
      },
      "source": [
        "Vamos a generar dos clusters: el clúster a con 100 puntos y el clúster b con 50. Generamos 100 puntos aleatorios siguiendo una distribución normal. El primer valor que le pasamos ([10,0]) indica la coordenada donde es más probable que se generen los puntos de la muestra. El siguiente valor ([[3, 1], [1, 4]]) indica la covarianza. Más información sobre esta manera de generar puntos aleatorios viene descrita en https://docs.scipy.org/doc/numpy/reference/generated/numpy.random.multivariate_normal.html"
      ]
    },
    {
      "cell_type": "code",
      "execution_count": null,
      "metadata": {
        "id": "S61NiCJbWvhY"
      },
      "outputs": [],
      "source": [
        "a = np.random.multivariate_normal([10, 0], [[3, 1], [1, 4]], size=[100,])"
      ]
    },
    {
      "cell_type": "markdown",
      "metadata": {
        "id": "MWDGwjjzWvhe"
      },
      "source": [
        "Generamos 50 puntos aleatorios siguiendo una distribución normal"
      ]
    },
    {
      "cell_type": "code",
      "execution_count": null,
      "metadata": {
        "id": "imf26uXiWvhh"
      },
      "outputs": [],
      "source": [
        "b = np.random.multivariate_normal([0, 20], [[3, 1], [1, 4]], size=[50,])"
      ]
    },
    {
      "cell_type": "markdown",
      "metadata": {
        "id": "Ixv-WVHbWvhm"
      },
      "source": [
        "Concatenamos ambos datasets."
      ]
    },
    {
      "cell_type": "code",
      "execution_count": null,
      "metadata": {
        "id": "gTRznRbSWvhs"
      },
      "outputs": [],
      "source": [
        "X = np.concatenate((a, b),)"
      ]
    },
    {
      "cell_type": "markdown",
      "metadata": {
        "id": "vBON1vm7Wvhw"
      },
      "source": [
        "Veamos el dataset que hemos generado"
      ]
    },
    {
      "cell_type": "code",
      "execution_count": null,
      "metadata": {
        "colab": {
          "base_uri": "https://localhost:8080/",
          "height": 266
        },
        "id": "oTzjukW3Wvhy",
        "outputId": "c5c9b50b-e982-4719-854e-55ac1f6979d9"
      },
      "outputs": [
        {
          "output_type": "display_data",
          "data": {
            "text/plain": [
              "<Figure size 432x288 with 1 Axes>"
            ],
            "image/png": "[encoded data removed]"
          },
          "metadata": {
            "needs_background": "light"
          }
        }
      ],
      "source": [
        "plt.scatter(X[:,0], X[:,1])\n",
        "plt.show()"
      ]
    },
    {
      "cell_type": "markdown",
      "metadata": {
        "id": "bAdHdCcOWvh-"
      },
      "source": [
        "Veámos ahora como se realiza el clustering jerárquico. El primer paso consiste en definir el enlazado. En este caso utilizaremos ward como método de enlazado. Además de ward se pueden utilizar los valores 'single', 'complete', y 'average'."
      ]
    },
    {
      "cell_type": "code",
      "execution_count": null,
      "metadata": {
        "id": "-KjvZhEXWviE"
      },
      "outputs": [],
      "source": [
        "Z = linkage(X,'ward')"
      ]
    },
    {
      "cell_type": "markdown",
      "metadata": {
        "id": "AiFiDXG-WviI"
      },
      "source": [
        "Veámos ahora el dendograma que se genera utilizando el enlazado de Ward. "
      ]
    },
    {
      "cell_type": "code",
      "execution_count": null,
      "metadata": {
        "colab": {
          "base_uri": "https://localhost:8080/",
          "height": 301
        },
        "id": "v_qxn8qwWviJ",
        "outputId": "442659b6-cb5f-4807-d6ce-80d9762071dd"
      },
      "outputs": [
        {
          "output_type": "display_data",
          "data": {
            "text/plain": [
              "<Figure size 432x288 with 1 Axes>"
            ],
            "image/png": "[encoded data removed]"
          },
          "metadata": {
            "needs_background": "light"
          }
        }
      ],
      "source": [
        "plt.title('Clustering jerarquico usando Ward')\n",
        "plt.xlabel('indice de la muestra')\n",
        "plt.ylabel('distancia')\n",
        "dendrogram(\n",
        "    Z,\n",
        "    leaf_rotation=90.,\n",
        "    leaf_font_size=8.,\n",
        ")\n",
        "plt.show()"
      ]
    },
    {
      "cell_type": "markdown",
      "metadata": {
        "id": "_ZYqDTYyWviQ"
      },
      "source": [
        "***\n",
        "### Ejercicio \n",
        "Utilizando los datos almacenados en X, genera los dendrogramas utilizando los métodos de enlazado 'single', 'complete', y 'average'.\n",
        "\n"
      ]
    },
    {
      "cell_type": "code",
      "source": [
        "# La diferencia entre estos métodos de clustering y los otro (KMeans, DBScan,..) es la forma en la que se construyen. \n",
        "# Estos se van construyendo como se forman los dendogramas, a pares, por eso es posible luego representarlos de esa forma. \n",
        "# Sin embargo, los otros no se crean así, por lo que no pueden ser representados de esa forma)\n",
        "# Que la distancia sea mayor o menor no indica que sea mejor o peor el método (no hay nada que indique si son mejor o peor)\n",
        "# Sólo es que usan medidas distintas para calcular la distancia"
      ],
      "metadata": {
        "id": "Ou8u0VSVCC18"
      },
      "execution_count": null,
      "outputs": []
    },
    {
      "cell_type": "code",
      "execution_count": null,
      "metadata": {
        "colab": {
          "base_uri": "https://localhost:8080/",
          "height": 301
        },
        "id": "6-BSpkNZWviS",
        "outputId": "f3dc1b42-b477-4f98-e047-8a30b6bcca58"
      },
      "outputs": [
        {
          "output_type": "display_data",
          "data": {
            "text/plain": [
              "<Figure size 432x288 with 1 Axes>"
            ],
            "image/png": "[encoded data removed]"
          },
          "metadata": {
            "needs_background": "light"
          }
        }
      ],
      "source": [
        "S = linkage(X,'single')\n",
        "plt.title('Clustering jerarquico usando Single')\n",
        "plt.xlabel('indice de la muestra')\n",
        "plt.ylabel('distancia')\n",
        "dendrogram(\n",
        "    S,\n",
        "    leaf_rotation=90.,\n",
        "    leaf_font_size=8.,\n",
        ")\n",
        "plt.show()"
      ]
    },
    {
      "cell_type": "code",
      "source": [
        "C = linkage(X,'complete')\n",
        "plt.title('Clustering jerarquico usando Single')\n",
        "plt.xlabel('indice de la muestra')\n",
        "plt.ylabel('distancia')\n",
        "dendrogram(\n",
        "    C,\n",
        "    leaf_rotation=90.,\n",
        "    leaf_font_size=8.,\n",
        ")\n",
        "plt.show()"
      ],
      "metadata": {
        "id": "OTs4Rso6TUXW",
        "outputId": "91950cda-c650-49d8-a12a-17636ca28564",
        "colab": {
          "base_uri": "https://localhost:8080/",
          "height": 301
        }
      },
      "execution_count": null,
      "outputs": [
        {
          "output_type": "display_data",
          "data": {
            "text/plain": [
              "<Figure size 432x288 with 1 Axes>"
            ],
            "image/png": "[encoded data removed]"
          },
          "metadata": {
            "needs_background": "light"
          }
        }
      ]
    },
    {
      "cell_type": "code",
      "source": [
        "A = linkage(X,'average')\n",
        "plt.title('Clustering jerarquico usando Single')\n",
        "plt.xlabel('indice de la muestra')\n",
        "plt.ylabel('distancia')\n",
        "dendrogram(\n",
        "    A,\n",
        "    leaf_rotation=90.,\n",
        "    leaf_font_size=8.,\n",
        ")\n",
        "plt.show()"
      ],
      "metadata": {
        "id": "8UpRO_L9Ta9a",
        "outputId": "5d074455-fcd8-4487-ccf2-83fff402be0f",
        "colab": {
          "base_uri": "https://localhost:8080/",
          "height": 301
        }
      },
      "execution_count": null,
      "outputs": [
        {
          "output_type": "display_data",
          "data": {
            "text/plain": [
              "<Figure size 432x288 with 1 Axes>"
            ],
            "image/png": "[encoded data removed]"
          },
          "metadata": {
            "needs_background": "light"
          }
        }
      ]
    },
    {
      "cell_type": "markdown",
      "metadata": {
        "id": "B3jnra-sWviX"
      },
      "source": [
        "***"
      ]
    },
    {
      "cell_type": "markdown",
      "metadata": {
        "id": "dMbY0t0PWvia"
      },
      "source": [
        "## Construyendo los clústeres\n",
        "\n",
        "Pasamos ahora a construir los clústeres. En el dendograma generado utilizando Ward, hemos visto que hay claramente dos clústeres, por lo que podemos pasar a utilizar el clústering jerárquico para agrupar los puntos. Para ello debemos construir una instancia de la clase ```AgglomerativeClustering``` a la cual le pasamos el método de enlazado y el número de clústeres."
      ]
    },
    {
      "cell_type": "code",
      "execution_count": null,
      "metadata": {
        "id": "ujPIBBi9Wvid"
      },
      "outputs": [],
      "source": [
        "clustering = AgglomerativeClustering(linkage='ward', n_clusters=2)"
      ]
    },
    {
      "cell_type": "markdown",
      "metadata": {
        "id": "_fBoRCVrWvii"
      },
      "source": [
        "Ahora podemos agrupar los clústeres usando el método fit como vimos con los otros algoritmos de clustering."
      ]
    },
    {
      "cell_type": "code",
      "execution_count": null,
      "metadata": {
        "id": "EbE1yyYxWvij"
      },
      "outputs": [],
      "source": [
        "clusters = clustering.fit(X)\n",
        "labels = clusters.labels_"
      ]
    },
    {
      "cell_type": "markdown",
      "metadata": {
        "id": "XI4gVUWAWviq"
      },
      "source": [
        "Finalmente, el siguiente código nos sirve para visualizar los clústeres. "
      ]
    },
    {
      "cell_type": "code",
      "execution_count": null,
      "metadata": {
        "id": "9tdCT6ZuWvir"
      },
      "outputs": [],
      "source": [
        "def plot_clusters(X,labels):\n",
        "    colors = cm.rainbow(np.linspace(0, 1, len(np.unique(labels))))\n",
        "    for i,l in enumerate(np.unique(labels)):\n",
        "        Y = np.array([list(X[j]) for j,a in enumerate(labels) if a == l])\n",
        "        plt.scatter(Y[:,0], Y[:,1],color=colors[i])\n",
        "    plt.show()    "
      ]
    },
    {
      "cell_type": "code",
      "execution_count": null,
      "metadata": {
        "colab": {
          "base_uri": "https://localhost:8080/",
          "height": 266
        },
        "id": "TdFKIniRWviy",
        "outputId": "cef8117b-fbbc-4431-94f7-39028e720d69"
      },
      "outputs": [
        {
          "output_type": "display_data",
          "data": {
            "text/plain": [
              "<Figure size 432x288 with 1 Axes>"
            ],
            "image/png": "[encoded data removed]"
          },
          "metadata": {
            "needs_background": "light"
          }
        }
      ],
      "source": [
        "plot_clusters(X,labels)"
      ]
    },
    {
      "cell_type": "markdown",
      "metadata": {
        "id": "Xq6z1B3EWvi3"
      },
      "source": [
        "### Ejercicio\n",
        "\n",
        "¿Se obtienen los mismos resultados si utilizamos los otros enlazados?\n",
        "\n",
        "Respuesta: Sí"
      ]
    },
    {
      "cell_type": "code",
      "execution_count": null,
      "metadata": {
        "colab": {
          "base_uri": "https://localhost:8080/",
          "height": 266
        },
        "id": "pYMw3bWNWvi6",
        "outputId": "31f1de49-3d1f-4a20-de3b-ddbeedab7ddc"
      },
      "outputs": [
        {
          "output_type": "display_data",
          "data": {
            "text/plain": [
              "<Figure size 432x288 with 1 Axes>"
            ],
            "image/png": "[encoded data removed]"
          },
          "metadata": {
            "needs_background": "light"
          }
        }
      ],
      "source": [
        "clusteringS = AgglomerativeClustering(linkage='single', n_clusters=2)\n",
        "clustersS = clusteringS.fit(X)\n",
        "labelsS = clustersS.labels_\n",
        "plot_clusters(X,labelsS)"
      ]
    },
    {
      "cell_type": "code",
      "source": [
        "clusteringC = AgglomerativeClustering(linkage='complete', n_clusters=2)\n",
        "clustersC = clusteringC.fit(X)\n",
        "labelsC = clustersC.labels_\n",
        "plot_clusters(X,labelsC)"
      ],
      "metadata": {
        "id": "JTyr65WqUiO6",
        "outputId": "7ba2fe35-8fd9-4877-fd46-2f2f29a9536b",
        "colab": {
          "base_uri": "https://localhost:8080/",
          "height": 266
        }
      },
      "execution_count": null,
      "outputs": [
        {
          "output_type": "display_data",
          "data": {
            "text/plain": [
              "<Figure size 432x288 with 1 Axes>"
            ],
            "image/png": "[encoded data removed]"
          },
          "metadata": {
            "needs_background": "light"
          }
        }
      ]
    },
    {
      "cell_type": "code",
      "source": [
        "clusteringA = AgglomerativeClustering(linkage='average', n_clusters=2)\n",
        "clustersA = clusteringA.fit(X)\n",
        "labelsA = clustersA.labels_\n",
        "plot_clusters(X,labelsA)"
      ],
      "metadata": {
        "id": "I_lWZSypUo4a",
        "outputId": "df48b5b8-c375-4fc0-b4a0-4735a7153911",
        "colab": {
          "base_uri": "https://localhost:8080/",
          "height": 266
        }
      },
      "execution_count": null,
      "outputs": [
        {
          "output_type": "display_data",
          "data": {
            "text/plain": [
              "<Figure size 432x288 with 1 Axes>"
            ],
            "image/png": "[encoded data removed]"
          },
          "metadata": {
            "needs_background": "light"
          }
        }
      ]
    },
    {
      "cell_type": "markdown",
      "metadata": {
        "id": "gveKXYWcWvjB"
      },
      "source": [
        "*** \n",
        "\n",
        "### Ejercicio \n",
        "\n",
        "Repite lo que hemos hecho hasta ahora para el dataset de iris que vimos en la práctica anterior. Debido a que en el dataset iris, las instancias se representan con 4 descriptores, no será posible visualizar los clústeres con la función ```plot_clusters```. "
      ]
    },
    {
      "cell_type": "code",
      "execution_count": null,
      "metadata": {
        "colab": {
          "base_uri": "https://localhost:8080/"
        },
        "id": "rEQxfH3EWvjC",
        "outputId": "a9ce27fc-a7fe-4af3-a0db-bf4448361820"
      },
      "outputs": [
        {
          "output_type": "stream",
          "name": "stdout",
          "text": [
            "--2022-03-16 15:23:59--  https://raw.githubusercontent.com/IA1819/Datasets/master/iris.csv\n",
            "Resolving raw.githubusercontent.com (raw.githubusercontent.com)... 185.199.111.133, 185.199.108.133, 185.199.109.133, ...\n",
            "Connecting to raw.githubusercontent.com (raw.githubusercontent.com)|185.199.111.133|:443... connected.\n",
            "HTTP request sent, awaiting response... 200 OK\n",
            "Length: 4606 (4.5K) [text/plain]\n",
            "Saving to: ‘iris.csv’\n",
            "\n",
            "\riris.csv              0%[                    ]       0  --.-KB/s               \riris.csv            100%[===================>]   4.50K  --.-KB/s    in 0s      \n",
            "\n",
            "2022-03-16 15:24:00 (33.0 MB/s) - ‘iris.csv’ saved [4606/4606]\n",
            "\n"
          ]
        }
      ],
      "source": [
        "!wget https://raw.githubusercontent.com/IA1819/Datasets/master/iris.csv -O iris.csv"
      ]
    },
    {
      "cell_type": "code",
      "source": [
        "import pandas as pd\n",
        "df = pd.read_csv('iris.csv')\n",
        "df"
      ],
      "metadata": {
        "id": "qlE1lvpIVC8M",
        "outputId": "f5bc3e4d-c198-46fb-82ed-068120ce4886",
        "colab": {
          "base_uri": "https://localhost:8080/",
          "height": 424
        }
      },
      "execution_count": null,
      "outputs": [
        {
          "output_type": "execute_result",
          "data": {
            "text/plain": [
              "     sepal_length  sepal_width  petal_length  petal_width           class\n",
              "0             5.1          3.5           1.4          0.2     Iris-setosa\n",
              "1             4.9          3.0           1.4          0.2     Iris-setosa\n",
              "2             4.7          3.2           1.3          0.2     Iris-setosa\n",
              "3             4.6          3.1           1.5          0.2     Iris-setosa\n",
              "4             5.0          3.6           1.4          0.2     Iris-setosa\n",
              "..            ...          ...           ...          ...             ...\n",
              "145           6.7          3.0           5.2          2.3  Iris-virginica\n",
              "146           6.3          2.5           5.0          1.9  Iris-virginica\n",
              "147           6.5          3.0           5.2          2.0  Iris-virginica\n",
              "148           6.2          3.4           5.4          2.3  Iris-virginica\n",
              "149           5.9          3.0           5.1          1.8  Iris-virginica\n",
              "\n",
              "[150 rows x 5 columns]"
            ],
            "text/html": [
              "\n",
              "  <div id=\"df-a74cfa55-d76c-4ee7-8dda-75d4c0ef62db\">\n",
              "    <div class=\"colab-df-container\">\n",
              "      <div>\n",
              "<style scoped>\n",
              "    .dataframe tbody tr th:only-of-type {\n",
              "        vertical-align: middle;\n",
              "    }\n",
              "\n",
              "    .dataframe tbody tr th {\n",
              "        vertical-align: top;\n",
              "    }\n",
              "\n",
              "    .dataframe thead th {\n",
              "        text-align: right;\n",
              "    }\n",
              "</style>\n",
              "<table border=\"1\" class=\"dataframe\">\n",
              "  <thead>\n",
              "    <tr style=\"text-align: right;\">\n",
              "      <th></th>\n",
              "      <th>sepal_length</th>\n",
              "      <th>sepal_width</th>\n",
              "      <th>petal_length</th>\n",
              "      <th>petal_width</th>\n",
              "      <th>class</th>\n",
              "    </tr>\n",
              "  </thead>\n",
              "  <tbody>\n",
              "    <tr>\n",
              "      <th>0</th>\n",
              "      <td>5.1</td>\n",
              "      <td>3.5</td>\n",
              "      <td>1.4</td>\n",
              "      <td>0.2</td>\n",
              "      <td>Iris-setosa</td>\n",
              "    </tr>\n",
              "    <tr>\n",
              "      <th>1</th>\n",
              "      <td>4.9</td>\n",
              "      <td>3.0</td>\n",
              "      <td>1.4</td>\n",
              "      <td>0.2</td>\n",
              "      <td>Iris-setosa</td>\n",
              "    </tr>\n",
              "    <tr>\n",
              "      <th>2</th>\n",
              "      <td>4.7</td>\n",
              "      <td>3.2</td>\n",
              "      <td>1.3</td>\n",
              "      <td>0.2</td>\n",
              "      <td>Iris-setosa</td>\n",
              "    </tr>\n",
              "    <tr>\n",
              "      <th>3</th>\n",
              "      <td>4.6</td>\n",
              "      <td>3.1</td>\n",
              "      <td>1.5</td>\n",
              "      <td>0.2</td>\n",
              "      <td>Iris-setosa</td>\n",
              "    </tr>\n",
              "    <tr>\n",
              "      <th>4</th>\n",
              "      <td>5.0</td>\n",
              "      <td>3.6</td>\n",
              "      <td>1.4</td>\n",
              "      <td>0.2</td>\n",
              "      <td>Iris-setosa</td>\n",
              "    </tr>\n",
              "    <tr>\n",
              "      <th>...</th>\n",
              "      <td>...</td>\n",
              "      <td>...</td>\n",
              "      <td>...</td>\n",
              "      <td>...</td>\n",
              "      <td>...</td>\n",
              "    </tr>\n",
              "    <tr>\n",
              "      <th>145</th>\n",
              "      <td>6.7</td>\n",
              "      <td>3.0</td>\n",
              "      <td>5.2</td>\n",
              "      <td>2.3</td>\n",
              "      <td>Iris-virginica</td>\n",
              "    </tr>\n",
              "    <tr>\n",
              "      <th>146</th>\n",
              "      <td>6.3</td>\n",
              "      <td>2.5</td>\n",
              "      <td>5.0</td>\n",
              "      <td>1.9</td>\n",
              "      <td>Iris-virginica</td>\n",
              "    </tr>\n",
              "    <tr>\n",
              "      <th>147</th>\n",
              "      <td>6.5</td>\n",
              "      <td>3.0</td>\n",
              "      <td>5.2</td>\n",
              "      <td>2.0</td>\n",
              "      <td>Iris-virginica</td>\n",
              "    </tr>\n",
              "    <tr>\n",
              "      <th>148</th>\n",
              "      <td>6.2</td>\n",
              "      <td>3.4</td>\n",
              "      <td>5.4</td>\n",
              "      <td>2.3</td>\n",
              "      <td>Iris-virginica</td>\n",
              "    </tr>\n",
              "    <tr>\n",
              "      <th>149</th>\n",
              "      <td>5.9</td>\n",
              "      <td>3.0</td>\n",
              "      <td>5.1</td>\n",
              "      <td>1.8</td>\n",
              "      <td>Iris-virginica</td>\n",
              "    </tr>\n",
              "  </tbody>\n",
              "</table>\n",
              "<p>150 rows × 5 columns</p>\n",
              "</div>\n",
              "      <button class=\"colab-df-convert\" onclick=\"convertToInteractive('df-a74cfa55-d76c-4ee7-8dda-75d4c0ef62db')\"\n",
              "              title=\"Convert this dataframe to an interactive table.\"\n",
              "              style=\"display:none;\">\n",
              "        \n",
              "  <svg xmlns=\"http://www.w3.org/2000/svg\" height=\"24px\"viewBox=\"0 0 24 24\"\n",
              "       width=\"24px\">\n",
              "    <path d=\"M0 0h24v24H0V0z\" fill=\"none\"/>\n",
              "    <path d=\"M18.56 5.44l.94 2.06.94-2.06 2.06-.94-2.06-.94-.94-2.06-.94 2.06-2.06.94zm-11 1L8.5 8.5l.94-2.06 2.06-.94-2.06-.94L8.5 2.5l-.94 2.06-2.06.94zm10 10l.94 2.06.94-2.06 2.06-.94-2.06-.94-.94-2.06-.94 2.06-2.06.94z\"/><path d=\"M17.41 7.96l-1.37-1.37c-.4-.4-.92-.59-1.43-.59-.52 0-1.04.2-1.43.59L10.3 9.45l-7.72 7.72c-.78.78-.78 2.05 0 2.83L4 21.41c.39.39.9.59 1.41.59.51 0 1.02-.2 1.41-.59l7.78-7.78 2.81-2.81c.8-.78.8-2.07 0-2.86zM5.41 20L4 18.59l7.72-7.72 1.47 1.35L5.41 20z\"/>\n",
              "  </svg>\n",
              "      </button>\n",
              "      \n",
              "  <style>\n",
              "    .colab-df-container {\n",
              "      display:flex;\n",
              "      flex-wrap:wrap;\n",
              "      gap: 12px;\n",
              "    }\n",
              "\n",
              "    .colab-df-convert {\n",
              "      background-color: #E8F0FE;\n",
              "      border: none;\n",
              "      border-radius: 50%;\n",
              "      cursor: pointer;\n",
              "      display: none;\n",
              "      fill: #1967D2;\n",
              "      height: 32px;\n",
              "      padding: 0 0 0 0;\n",
              "      width: 32px;\n",
              "    }\n",
              "\n",
              "    .colab-df-convert:hover {\n",
              "      background-color: #E2EBFA;\n",
              "      box-shadow: 0px 1px 2px rgba(60, 64, 67, 0.3), 0px 1px 3px 1px rgba(60, 64, 67, 0.15);\n",
              "      fill: #174EA6;\n",
              "    }\n",
              "\n",
              "    [theme=dark] .colab-df-convert {\n",
              "      background-color: #3B4455;\n",
              "      fill: #D2E3FC;\n",
              "    }\n",
              "\n",
              "    [theme=dark] .colab-df-convert:hover {\n",
              "      background-color: #434B5C;\n",
              "      box-shadow: 0px 1px 3px 1px rgba(0, 0, 0, 0.15);\n",
              "      filter: drop-shadow(0px 1px 2px rgba(0, 0, 0, 0.3));\n",
              "      fill: #FFFFFF;\n",
              "    }\n",
              "  </style>\n",
              "\n",
              "      <script>\n",
              "        const buttonEl =\n",
              "          document.querySelector('#df-a74cfa55-d76c-4ee7-8dda-75d4c0ef62db button.colab-df-convert');\n",
              "        buttonEl.style.display =\n",
              "          google.colab.kernel.accessAllowed ? 'block' : 'none';\n",
              "\n",
              "        async function convertToInteractive(key) {\n",
              "          const element = document.querySelector('#df-a74cfa55-d76c-4ee7-8dda-75d4c0ef62db');\n",
              "          const dataTable =\n",
              "            await google.colab.kernel.invokeFunction('convertToInteractive',\n",
              "                                                     [key], {});\n",
              "          if (!dataTable) return;\n",
              "\n",
              "          const docLinkHtml = 'Like what you see? Visit the ' +\n",
              "            '<a target=\"_blank\" href=https://colab.research.google.com/notebooks/data_table.ipynb>data table notebook</a>'\n",
              "            + ' to learn more about interactive tables.';\n",
              "          element.innerHTML = '';\n",
              "          dataTable['output_type'] = 'display_data';\n",
              "          await google.colab.output.renderOutput(dataTable, element);\n",
              "          const docLink = document.createElement('div');\n",
              "          docLink.innerHTML = docLinkHtml;\n",
              "          element.appendChild(docLink);\n",
              "        }\n",
              "      </script>\n",
              "    </div>\n",
              "  </div>\n",
              "  "
            ]
          },
          "metadata": {},
          "execution_count": 21
        }
      ]
    },
    {
      "cell_type": "code",
      "source": [
        "clusteringIW = AgglomerativeClustering(linkage='ward', n_clusters=3)\n",
        "clustersIW = clusteringIW.fit(X)\n",
        "labelsIW = clustersC.labels_\n",
        "labelsIW"
      ],
      "metadata": {
        "id": "0cdtePY6VPla",
        "outputId": "dce398a5-5b2a-4a96-f9e4-dfa3ce327194",
        "colab": {
          "base_uri": "https://localhost:8080/"
        }
      },
      "execution_count": null,
      "outputs": [
        {
          "output_type": "execute_result",
          "data": {
            "text/plain": [
              "array([0, 0, 0, 0, 0, 0, 0, 0, 0, 0, 0, 0, 0, 0, 0, 0, 0, 0, 0, 0, 0, 0,\n",
              "       0, 0, 0, 0, 0, 0, 0, 0, 0, 0, 0, 0, 0, 0, 0, 0, 0, 0, 0, 0, 0, 0,\n",
              "       0, 0, 0, 0, 0, 0, 0, 0, 0, 0, 0, 0, 0, 0, 0, 0, 0, 0, 0, 0, 0, 0,\n",
              "       0, 0, 0, 0, 0, 0, 0, 0, 0, 0, 0, 0, 0, 0, 0, 0, 0, 0, 0, 0, 0, 0,\n",
              "       0, 0, 0, 0, 0, 0, 0, 0, 0, 0, 0, 0, 1, 1, 1, 1, 1, 1, 1, 1, 1, 1,\n",
              "       1, 1, 1, 1, 1, 1, 1, 1, 1, 1, 1, 1, 1, 1, 1, 1, 1, 1, 1, 1, 1, 1,\n",
              "       1, 1, 1, 1, 1, 1, 1, 1, 1, 1, 1, 1, 1, 1, 1, 1, 1, 1])"
            ]
          },
          "metadata": {},
          "execution_count": 22
        }
      ]
    },
    {
      "cell_type": "code",
      "source": [
        "clusteringIS = AgglomerativeClustering(linkage='single', n_clusters=3)\n",
        "clustersIS = clusteringIS.fit(X)\n",
        "labelsIS = clustersIS.labels_\n",
        "labelsIS"
      ],
      "metadata": {
        "id": "cIM4ElUJVQMy",
        "outputId": "34a6139a-bc51-49ba-dd13-3182449d18d3",
        "colab": {
          "base_uri": "https://localhost:8080/"
        }
      },
      "execution_count": null,
      "outputs": [
        {
          "output_type": "execute_result",
          "data": {
            "text/plain": [
              "array([0, 0, 0, 0, 0, 0, 0, 0, 0, 0, 0, 0, 0, 0, 0, 0, 0, 0, 0, 0, 0, 0,\n",
              "       0, 0, 0, 0, 0, 0, 0, 0, 0, 0, 0, 0, 0, 0, 0, 0, 0, 0, 2, 0, 0, 0,\n",
              "       0, 0, 0, 0, 0, 0, 0, 0, 0, 0, 0, 0, 0, 0, 0, 0, 0, 0, 0, 0, 0, 0,\n",
              "       0, 0, 0, 0, 0, 0, 0, 0, 0, 0, 0, 0, 0, 0, 0, 0, 0, 0, 0, 0, 0, 0,\n",
              "       0, 0, 0, 0, 0, 0, 0, 0, 0, 0, 0, 0, 1, 1, 1, 1, 1, 1, 1, 1, 1, 1,\n",
              "       1, 1, 1, 1, 1, 1, 1, 1, 1, 1, 1, 1, 1, 1, 1, 1, 1, 1, 1, 1, 1, 1,\n",
              "       1, 1, 1, 1, 1, 1, 1, 1, 1, 1, 1, 1, 1, 1, 1, 1, 1, 1])"
            ]
          },
          "metadata": {},
          "execution_count": 23
        }
      ]
    },
    {
      "cell_type": "code",
      "source": [
        "clusteringIC = AgglomerativeClustering(linkage='complete', n_clusters=3)\n",
        "clustersIC = clusteringIC.fit(X)\n",
        "labelsIC = clustersIC.labels_\n",
        "labelsIC"
      ],
      "metadata": {
        "id": "aKSpG8dPVQkq",
        "outputId": "bc6c8e4d-5d9e-4d4a-ab6b-49e3c71fc8ae",
        "colab": {
          "base_uri": "https://localhost:8080/"
        }
      },
      "execution_count": null,
      "outputs": [
        {
          "output_type": "execute_result",
          "data": {
            "text/plain": [
              "array([0, 0, 0, 0, 2, 0, 0, 2, 0, 0, 0, 0, 0, 0, 0, 0, 0, 0, 0, 0, 0, 0,\n",
              "       0, 0, 0, 0, 0, 2, 0, 0, 0, 0, 0, 0, 0, 0, 0, 0, 2, 0, 0, 0, 0, 0,\n",
              "       0, 2, 0, 0, 0, 0, 0, 2, 0, 0, 2, 0, 0, 0, 0, 0, 2, 0, 0, 0, 2, 0,\n",
              "       0, 0, 0, 0, 0, 0, 0, 0, 0, 0, 0, 0, 0, 0, 0, 0, 0, 0, 0, 0, 0, 2,\n",
              "       0, 0, 0, 0, 2, 0, 0, 0, 0, 2, 0, 0, 1, 1, 1, 1, 1, 1, 1, 1, 1, 1,\n",
              "       1, 1, 1, 1, 1, 1, 1, 1, 1, 1, 1, 1, 1, 1, 1, 1, 1, 1, 1, 1, 1, 1,\n",
              "       1, 1, 1, 1, 1, 1, 1, 1, 1, 1, 1, 1, 1, 1, 1, 1, 1, 1])"
            ]
          },
          "metadata": {},
          "execution_count": 24
        }
      ]
    },
    {
      "cell_type": "code",
      "source": [
        "clusteringIA = AgglomerativeClustering(linkage='average', n_clusters=3)\n",
        "clustersIA = clusteringIA.fit(X)\n",
        "labelsIA = clustersIA.labels_\n",
        "labelsIA"
      ],
      "metadata": {
        "id": "oaE3PRfsVQ_Z",
        "outputId": "f35e3382-077c-4731-a05b-4f4e81244ac9",
        "colab": {
          "base_uri": "https://localhost:8080/"
        }
      },
      "execution_count": null,
      "outputs": [
        {
          "output_type": "execute_result",
          "data": {
            "text/plain": [
              "array([0, 0, 0, 0, 0, 0, 0, 0, 0, 0, 0, 0, 0, 0, 0, 0, 0, 0, 0, 0, 0, 0,\n",
              "       0, 0, 0, 0, 0, 0, 0, 0, 0, 0, 0, 0, 0, 0, 0, 0, 0, 0, 2, 0, 0, 0,\n",
              "       0, 0, 0, 0, 0, 0, 0, 0, 0, 0, 0, 0, 0, 0, 0, 0, 0, 0, 0, 0, 0, 0,\n",
              "       0, 0, 0, 0, 0, 0, 0, 0, 0, 0, 0, 0, 0, 0, 0, 0, 0, 0, 0, 0, 0, 0,\n",
              "       0, 0, 0, 0, 0, 0, 0, 0, 0, 0, 0, 0, 1, 1, 1, 1, 1, 1, 1, 1, 1, 1,\n",
              "       1, 1, 1, 1, 1, 1, 1, 1, 1, 1, 1, 1, 1, 1, 1, 1, 1, 1, 1, 1, 1, 1,\n",
              "       1, 1, 1, 1, 1, 1, 1, 1, 1, 1, 1, 1, 1, 1, 1, 1, 1, 1])"
            ]
          },
          "metadata": {},
          "execution_count": 25
        }
      ]
    },
    {
      "cell_type": "markdown",
      "metadata": {
        "id": "hkc-Uu8oWvjN"
      },
      "source": [
        "***\n",
        "\n",
        "## Entrega\n",
        "\n",
        "Recuerda guardar tus cambios en tu repositorio utilizando la opción \"Save File in GitHub...\" del menú File."
      ]
    }
  ],
  "metadata": {
    "colab": {
      "name": "practica4_parte2.ipynb",
      "provenance": [],
      "include_colab_link": true
    },
    "kernelspec": {
      "display_name": "Python 3",
      "language": "python",
      "name": "python3"
    },
    "language_info": {
      "codemirror_mode": {
        "name": "ipython",
        "version": 3
      },
      "file_extension": ".py",
      "mimetype": "text/x-python",
      "name": "python",
      "nbconvert_exporter": "python",
      "pygments_lexer": "ipython3",
      "version": "3.6.8"
    }
  },
  "nbformat": 4,
  "nbformat_minor": 0
}