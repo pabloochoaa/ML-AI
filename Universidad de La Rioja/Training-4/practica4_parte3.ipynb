{
  "cells": [
    {
      "cell_type": "markdown",
      "metadata": {
        "id": "view-in-github",
        "colab_type": "text"
      },
      "source": [
        "<a href=\"https://colab.research.google.com/github/IA2122/practica-4-paochoa/blob/main/practica4_parte3.ipynb\" target=\"_parent\"><img src=\"https://colab.research.google.com/assets/colab-badge.svg\" alt=\"Open In Colab\"/></a>"
      ]
    },
    {
      "cell_type": "markdown",
      "metadata": {
        "id": "DLqZeLRaXrIY"
      },
      "source": [
        "# Práctica 4 Parte III. Reducción de la dimensionalidad"
      ]
    },
    {
      "cell_type": "markdown",
      "metadata": {
        "id": "_Awr0NXAXrId"
      },
      "source": [
        "Vamos a ver cómo funciona el algoritmo de PCA utilizado un dataset muy conocido en el mundo del aprendizaje automático: el dataset de los dígitos. \n",
        "\n",
        "El dataset de los dígitos está compuesto por 1797 imágenes de dígitos manuscritos de tamaño 8x8. Este dataset se utiliza normalmente para algoritmos de clasificación (que veremos más adelante), pero también es un buen ejemplo para ver los algoritmos de clustering y de reducción de dimensionalidad. \n",
        "\n",
        "Cada dígito viene representado por un vector de 64 componentes que corresponden a los valores de cada pixel del dígito. Para más información sobre este dataset ver: http://scikit-learn.org/stable/auto_examples/datasets/plot_digits_last_image.html."
      ]
    },
    {
      "cell_type": "markdown",
      "metadata": {
        "id": "VdD3C9U-XrIf"
      },
      "source": [
        "En esta parte de la práctica compararemos los resultados que se obtienen utilizando K-means y K-means combinado con PCA. Para ello empezamos cargando las librerías necesarias. "
      ]
    },
    {
      "cell_type": "code",
      "execution_count": 1,
      "metadata": {
        "id": "YiyWYyD0XrIk"
      },
      "outputs": [],
      "source": [
        "from sklearn.cluster import KMeans\n",
        "from sklearn.datasets import load_digits\n",
        "from sklearn.decomposition import PCA\n",
        "from sklearn.preprocessing import scale\n",
        "import numpy as np\n",
        "from matplotlib import pyplot as plt\n",
        "%matplotlib inline"
      ]
    },
    {
      "cell_type": "markdown",
      "metadata": {
        "id": "XrXHTdjRXrIs"
      },
      "source": [
        "Fijamos la semilla para obtener siempre los mismos resultados."
      ]
    },
    {
      "cell_type": "code",
      "execution_count": 2,
      "metadata": {
        "id": "JsEgWUotXrIu"
      },
      "outputs": [],
      "source": [
        "np.random.seed(42)"
      ]
    },
    {
      "cell_type": "markdown",
      "metadata": {
        "id": "5oEH3Gn7XrI1"
      },
      "source": [
        "Cargamos el dataset de los dígitos."
      ]
    },
    {
      "cell_type": "code",
      "execution_count": 3,
      "metadata": {
        "id": "OcVDnEAMXrI3"
      },
      "outputs": [],
      "source": [
        "digits = load_digits()"
      ]
    },
    {
      "cell_type": "markdown",
      "metadata": {
        "id": "rPzQSmokXrI-"
      },
      "source": [
        "Obtenemos los descriptores de las instancias y estandarizamos (veremos en qué consiste este proceso más adelante) el dataset."
      ]
    },
    {
      "cell_type": "code",
      "execution_count": 4,
      "metadata": {
        "id": "6Vouy_G_XrJA"
      },
      "outputs": [],
      "source": [
        "data = scale(digits.data)"
      ]
    },
    {
      "cell_type": "markdown",
      "metadata": {
        "id": "iPVwzx52XrJF"
      },
      "source": [
        "Mostramos el número de instancias del dataset y el número de descriptores."
      ]
    },
    {
      "cell_type": "code",
      "execution_count": 5,
      "metadata": {
        "colab": {
          "base_uri": "https://localhost:8080/"
        },
        "id": "TPg1y-0eXrJK",
        "outputId": "4b8b40e9-178a-494a-f213-4f8dddec4ee7"
      },
      "outputs": [
        {
          "output_type": "stream",
          "name": "stdout",
          "text": [
            "n_instancias 1797, n_descriptores 64\n"
          ]
        }
      ],
      "source": [
        "n_instancias, n_descriptores = data.shape\n",
        "print(\"n_instancias %d, n_descriptores %d\" % (n_instancias, n_descriptores))"
      ]
    },
    {
      "cell_type": "markdown",
      "metadata": {
        "id": "a5zIfm68XrJQ"
      },
      "source": [
        "Construimos el estimador K-means. Tenemos 10 clusters ya que de antemano sabemos que hay 10 posibles dígitos y por lo tanto 10 posibles grupos."
      ]
    },
    {
      "cell_type": "code",
      "execution_count": 6,
      "metadata": {
        "id": "GFpDQecsXrJS"
      },
      "outputs": [],
      "source": [
        "estimator = KMeans(n_clusters=10)"
      ]
    },
    {
      "cell_type": "markdown",
      "metadata": {
        "id": "N4UCohQlXrJZ"
      },
      "source": [
        "Realizamos la agrupación por clusters y mostramos el tiempo necesario"
      ]
    },
    {
      "cell_type": "code",
      "execution_count": 7,
      "metadata": {
        "colab": {
          "base_uri": "https://localhost:8080/"
        },
        "id": "xEZRwKPpXrJc",
        "outputId": "6870e98a-2163-4372-cf98-4894334e5970"
      },
      "outputs": [
        {
          "output_type": "stream",
          "name": "stdout",
          "text": [
            "CPU times: user 1.13 s, sys: 355 ms, total: 1.48 s\n",
            "Wall time: 930 ms\n"
          ]
        },
        {
          "output_type": "execute_result",
          "data": {
            "text/plain": [
              "KMeans(n_clusters=10)"
            ]
          },
          "metadata": {},
          "execution_count": 7
        }
      ],
      "source": [
        "%%time \n",
        "estimator.fit(data)"
      ]
    },
    {
      "cell_type": "markdown",
      "metadata": {
        "id": "amED7EAqXrJi"
      },
      "source": [
        "Ahora definimos una función que nos indica para cada clase la distribución en clusters. Notad que los clusters no están ordenados."
      ]
    },
    {
      "cell_type": "code",
      "execution_count": 8,
      "metadata": {
        "id": "XFj54cqtXrJk"
      },
      "outputs": [],
      "source": [
        "def valida_digits(etiquetas_esperadas, etiquetas_obtenidas):\n",
        "    for i in range(0,10):\n",
        "        res = np.zeros(10).astype(\"uint8\")\n",
        "        for j,etiqueta in enumerate(etiquetas_esperadas):\n",
        "            if(etiqueta==i):\n",
        "                res[etiquetas_obtenidas[j]]+=1\n",
        "        print(\"Dígito \" + str(i) + \": \")\n",
        "        print(res)"
      ]
    },
    {
      "cell_type": "markdown",
      "metadata": {
        "id": "7Gcp_VAiXrJq"
      },
      "source": [
        "Mostramos la distribución de los dígitos (en los 10 clusteres distintos).\n",
        "\n"
      ]
    },
    {
      "cell_type": "code",
      "execution_count": 9,
      "metadata": {
        "colab": {
          "base_uri": "https://localhost:8080/"
        },
        "id": "vdbje5V1XrJr",
        "outputId": "839b7fd9-7970-4adb-bab8-48dd529729a8"
      },
      "outputs": [
        {
          "output_type": "stream",
          "name": "stdout",
          "text": [
            "Dígito 0: \n",
            "[177   0   0   0   1   0   0   0   0   0]\n",
            "Dígito 1: \n",
            "[ 0  0  0 96  1  0 27  0  0 58]\n",
            "Dígito 2: \n",
            "[ 0  0  2 34  0  0 48  6 82  5]\n",
            "Dígito 3: \n",
            "[  0   0   8   9   0   0   1 152  13   0]\n",
            "Dígito 4: \n",
            "[  0   0   4   3 157   9   0   0   0   8]\n",
            "Dígito 5: \n",
            "[ 0  2  2 59  2  0  0 72 43  2]\n",
            "Dígito 6: \n",
            "[  1 175   0   4   0   0   0   0   0   1]\n",
            "Dígito 7: \n",
            "[  0   0 150   0   0  18   0   0   8   3]\n",
            "Dígito 8: \n",
            "[ 0  3  2 99  0  0  0 46  9 15]\n",
            "Dígito 9: \n",
            "[  0   0   8   5   0   3   0 145   0  19]\n"
          ]
        }
      ],
      "source": [
        "valida_digits(digits.target,estimator.labels_)"
      ]
    },
    {
      "cell_type": "markdown",
      "metadata": {
        "id": "pEtkDeQGXrJw"
      },
      "source": [
        "Repetimos el proceso pero esta vez aplicando el algoritmo de PCA tomando 20 componentes principales"
      ]
    },
    {
      "cell_type": "code",
      "execution_count": 10,
      "metadata": {
        "colab": {
          "base_uri": "https://localhost:8080/"
        },
        "id": "fZAdRnxYXrJy",
        "outputId": "dd0b5c82-c9cf-4579-8ac7-177538bc50be"
      },
      "outputs": [
        {
          "output_type": "stream",
          "name": "stdout",
          "text": [
            "CPU times: user 584 ms, sys: 269 ms, total: 853 ms\n",
            "Wall time: 470 ms\n"
          ]
        }
      ],
      "source": [
        "%%time \n",
        "pca = PCA(n_components=20).fit(data) # para reducir la dimensionalidad de 64 a 20\n",
        "data_r = pca.transform(data)\n",
        "estimator = KMeans(n_clusters=10)\n",
        "estimator.fit(data_r)"
      ]
    },
    {
      "cell_type": "code",
      "execution_count": 11,
      "metadata": {
        "colab": {
          "base_uri": "https://localhost:8080/"
        },
        "id": "FgkSQYYsXrJ6",
        "outputId": "ace51dad-bd14-4efd-d74c-809a7a4910f7"
      },
      "outputs": [
        {
          "output_type": "stream",
          "name": "stdout",
          "text": [
            "Dígito 0: \n",
            "[  0   0 177   0   0   0   0   1   0   0]\n",
            "Dígito 1: \n",
            "[58  0  0 96  0  0 27  0  0  1]\n",
            "Dígito 2: \n",
            "[ 6 78  0 36  0  0 51  0  4  2]\n",
            "Dígito 3: \n",
            "[  0  13   0   8   0   0   2   0 151   9]\n",
            "Dígito 4: \n",
            "[  7   0   0   4   9   0   0 157   0   4]\n",
            "Dígito 5: \n",
            "[ 2 42  0 61  0  3  0  2 70  2]\n",
            "Dígito 6: \n",
            "[  1   0   1   4   0 172   3   0   0   0]\n",
            "Dígito 7: \n",
            "[  3   8   0   0  17   0   0   1   0 150]\n",
            "Dígito 8: \n",
            "[16  8  0 97  0  3  0  0 47  3]\n",
            "Dígito 9: \n",
            "[ 19   0   0   4   3   0   3   0 142   9]\n"
          ]
        }
      ],
      "source": [
        "valida_digits(digits.target,estimator.labels_)"
      ]
    },
    {
      "cell_type": "markdown",
      "metadata": {
        "id": "Z8KQ5drNXrJ-"
      },
      "source": [
        "***\n",
        "## Ejercicio \n",
        "Compara los resultados tanto en tiempo, como en distribución de los clusters utilizando PCA y sin utilizarlo."
      ]
    },
    {
      "cell_type": "markdown",
      "source": [
        "En cuanto a los tiempos, el uso de PCA hace que vaya un pelín más rápido (ya que aunque el tiempo final es mayor (porque le costará más mostrarlo), el tiempo usado por el sistema es menor).\n",
        "En cuanto a la distribución, se puede observar que la forma en la que distribuye los valores a través de los clústeres es muy similar en ambos casos."
      ],
      "metadata": {
        "id": "A39IQutZZXjQ"
      }
    },
    {
      "cell_type": "code",
      "source": [
        "%%time\n",
        "estimator = KMeans(n_clusters=10)\n",
        "sin = estimator.fit(data)"
      ],
      "metadata": {
        "id": "867BF8iBZf2A",
        "outputId": "948ef3b0-03b8-4371-e0a2-c5c166cd35db",
        "colab": {
          "base_uri": "https://localhost:8080/"
        }
      },
      "execution_count": 12,
      "outputs": [
        {
          "output_type": "stream",
          "name": "stdout",
          "text": [
            "CPU times: user 1.73 s, sys: 441 ms, total: 2.17 s\n",
            "Wall time: 1.73 s\n"
          ]
        }
      ]
    },
    {
      "cell_type": "code",
      "source": [
        "valida_digits(digits.target,sin.labels_)"
      ],
      "metadata": {
        "id": "HTdYYdTAZtdY",
        "outputId": "25f97dc0-7420-4a2e-c32c-8be0048aa7ef",
        "colab": {
          "base_uri": "https://localhost:8080/"
        }
      },
      "execution_count": 13,
      "outputs": [
        {
          "output_type": "stream",
          "name": "stdout",
          "text": [
            "Dígito 0: \n",
            "[  0   0   0   0 177   0   0   0   0   1]\n",
            "Dígito 1: \n",
            "[ 0 58  0 96  0  1  0 27  0  0]\n",
            "Dígito 2: \n",
            "[ 7  5  1 38  0 82  0 44  0  0]\n",
            "Dígito 3: \n",
            "[160   0   7   8   0   7   0   1   0   0]\n",
            "Dígito 4: \n",
            "[  0   7   4   2   0   1   9   0   0 158]\n",
            "Dígito 5: \n",
            "[77  4  4 14  0 76  0  0  4  3]\n",
            "Dígito 6: \n",
            "[  0   1   0   4   1   0   0   0 175   0]\n",
            "Dígito 7: \n",
            "[  0   3 152   0   0   6  18   0   0   0]\n",
            "Dígito 8: \n",
            "[44 15  2 99  0 11  0  0  3  0]\n",
            "Dígito 9: \n",
            "[146  19   8   2   0   2   3   0   0   0]\n"
          ]
        }
      ]
    },
    {
      "cell_type": "code",
      "execution_count": 14,
      "metadata": {
        "colab": {
          "base_uri": "https://localhost:8080/"
        },
        "id": "pIxR75i_XrJ_",
        "outputId": "11085910-983a-4c3f-dad2-1d755242840b"
      },
      "outputs": [
        {
          "output_type": "stream",
          "name": "stdout",
          "text": [
            "CPU times: user 717 ms, sys: 228 ms, total: 945 ms\n",
            "Wall time: 800 ms\n"
          ]
        }
      ],
      "source": [
        "%%time\n",
        "estimator = KMeans(n_clusters=10)\n",
        "con = estimator.fit(data_r)"
      ]
    },
    {
      "cell_type": "code",
      "source": [
        "valida_digits(digits.target,con.labels_)"
      ],
      "metadata": {
        "id": "IBsF29w1Zxhn",
        "outputId": "c58639a0-6cd2-4b68-f3a3-1d05f85473ed",
        "colab": {
          "base_uri": "https://localhost:8080/"
        }
      },
      "execution_count": 15,
      "outputs": [
        {
          "output_type": "stream",
          "name": "stdout",
          "text": [
            "Dígito 0: \n",
            "[  0   0   0   0   0   0 177   0   0   1]\n",
            "Dígito 1: \n",
            "[97  0  0 58  0  0  0 27  0  0]\n",
            "Dígito 2: \n",
            "[36  4  0  4  0 80  0 49  4  0]\n",
            "Dígito 3: \n",
            "[  5 149   0   0   0  12   0   2  15   0]\n",
            "Dígito 4: \n",
            "[  0   0   0   7   9   0   0   0   6 159]\n",
            "Dígito 5: \n",
            "[ 5 64  3  1  0 45  0  0 62  2]\n",
            "Dígito 6: \n",
            "[  4   0 172   1   0   0   1   3   0   0]\n",
            "Dígito 7: \n",
            "[ 11   0   0   2  17   8   0   0 139   2]\n",
            "Dígito 8: \n",
            "[81 47  3 12  0 10  0  0 21  0]\n",
            "Dígito 9: \n",
            "[  0 142   0  18   3   0   0   3  14   0]\n"
          ]
        }
      ]
    },
    {
      "cell_type": "markdown",
      "metadata": {
        "id": "22bvfaYBXrKH"
      },
      "source": [
        "***"
      ]
    },
    {
      "cell_type": "markdown",
      "metadata": {
        "id": "ytIGSw97XrKI"
      },
      "source": [
        "Utilizando los siguientes comandos podemos ver el porcentaje de varianza explicado por cada una de las componentes de PCA y el total."
      ]
    },
    {
      "cell_type": "code",
      "execution_count": 16,
      "metadata": {
        "colab": {
          "base_uri": "https://localhost:8080/"
        },
        "id": "Ryk8rfnJXrKK",
        "outputId": "74c0cf57-2a7b-4f1b-caaa-45e133e1c034"
      },
      "outputs": [
        {
          "output_type": "stream",
          "name": "stdout",
          "text": [
            "[0.12033916 0.09561054 0.08444415 0.06498408 0.04860155 0.0421412\n",
            " 0.03942083 0.0338938  0.02998218 0.02931999 0.02781802 0.02577053\n",
            " 0.0227529  0.02227158 0.02165106 0.01913676 0.01775422 0.01637672\n",
            " 0.01596214 0.01488264]\n",
            "Varianza total: 79.31140439157602%\n"
          ]
        }
      ],
      "source": [
        "print(pca.explained_variance_ratio_)\n",
        "print(\"Varianza total: \" + str(100*np.sum(pca.explained_variance_ratio_))+ \"%\")"
      ]
    },
    {
      "cell_type": "markdown",
      "metadata": {
        "id": "HtV3KN4bXrKQ"
      },
      "source": [
        "La siguiente función nos genera un gráfico mostrando la varianza acumulada y la varianza individual que se obtiene al considerar distintos valores como componentes principales (en concreto va tomando valores entre 1 y el número de descriptores). Además esta función muestra la varianza total para cada caso."
      ]
    },
    {
      "cell_type": "code",
      "execution_count": 17,
      "metadata": {
        "id": "RDm3uR0_XrKS"
      },
      "outputs": [],
      "source": [
        "def drawVarianza(data):\n",
        "    pcas = [PCA(n_components=k).fit(data) for k in range(1,len(data[0]))]\n",
        "    var = [pca.explained_variance_ratio_[-1] for pca in pcas]\n",
        "    varianzas = [np.sum(pca.explained_variance_ratio_) for pca in pcas]\n",
        "    for k in range(1,len(data[0])):\n",
        "        print(\"Varianza total (%s componentes): %s\" % (k,str(100 * varianzas[k-1])))\n",
        "    plt.clf()\n",
        "\n",
        "    plt.step(range(1,len(data[0])),varianzas,where='mid',label='varianza acumulada')\n",
        "    plt.bar(range(1,len(data[0])),var,alpha=0.5,align='center',label='varianza individual')\n",
        "    plt.xlabel('Componentes principales')\n",
        "    plt.ylabel('Ratio de varianza explicada')\n",
        "    plt.show()"
      ]
    },
    {
      "cell_type": "code",
      "execution_count": 18,
      "metadata": {
        "colab": {
          "base_uri": "https://localhost:8080/",
          "height": 1000
        },
        "id": "SMSbcFAvXrKc",
        "outputId": "41e67559-29d0-4711-f419-5fdd4449f54b"
      },
      "outputs": [
        {
          "output_type": "stream",
          "name": "stdout",
          "text": [
            "Varianza total (1 componentes): 12.033916093972726\n",
            "Varianza total (2 componentes): 21.594970489164183\n",
            "Varianza total (3 componentes): 30.039385369382245\n",
            "Varianza total (4 componentes): 36.53779328880836\n",
            "Varianza total (5 componentes): 41.39793959620735\n",
            "Varianza total (6 componentes): 45.61205197045041\n",
            "Varianza total (7 componentes): 49.553258208997306\n",
            "Varianza total (8 componentes): 52.94116055872705\n",
            "Varianza total (9 componentes): 55.93746404560943\n",
            "Varianza total (10 componentes): 58.87007641976633\n",
            "Varianza total (11 componentes): 61.653633915471865\n",
            "Varianza total (12 componentes): 64.22922289836183\n",
            "Varianza total (13 componentes): 66.50129552419773\n",
            "Varianza total (14 componentes): 68.73196423342954\n",
            "Varianza total (15 componentes): 70.89793472153085\n",
            "Varianza total (16 componentes): 72.81060891286444\n",
            "Varianza total (17 componentes): 74.58904715185597\n",
            "Varianza total (18 componentes): 76.2226509081915\n",
            "Varianza total (19 componentes): 77.81404426013836\n",
            "Varianza total (20 componentes): 79.3030053216092\n",
            "Varianza total (21 componentes): 80.66011392782795\n",
            "Varianza total (22 componentes): 81.92633810964264\n",
            "Varianza total (23 componentes): 83.09516328181276\n",
            "Varianza total (24 componentes): 84.15374810901028\n",
            "Varianza total (25 componentes): 85.12736691990966\n",
            "Varianza total (26 componentes): 86.07443061162844\n",
            "Varianza total (27 componentes): 86.9331311970431\n",
            "Varianza total (28 componentes): 87.77281731270116\n",
            "Varianza total (29 componentes): 88.56755753953692\n",
            "Varianza total (30 componentes): 89.31654992886072\n",
            "Varianza total (31 componentes): 90.0432657248006\n",
            "Varianza total (32 componentes): 90.73561219664403\n",
            "Varianza total (33 componentes): 91.38360687109518\n",
            "Varianza total (34 componentes): 92.02522244369766\n",
            "Varianza total (35 componentes): 92.61724681831537\n",
            "Varianza total (36 componentes): 93.19275540874987\n",
            "Varianza total (37 componentes): 93.71725577618177\n",
            "Varianza total (38 componentes): 94.19987929238538\n",
            "Varianza total (39 componentes): 94.65296525603983\n",
            "Varianza total (40 componentes): 95.07604426350674\n",
            "Varianza total (41 componentes): 95.48188459834586\n",
            "Varianza total (42 componentes): 95.87942212114935\n",
            "Varianza total (43 componentes): 96.23697995907285\n",
            "Varianza total (44 componentes): 96.57724881182992\n",
            "Varianza total (45 componentes): 96.90489333772193\n",
            "Varianza total (46 componentes): 97.21384185907897\n",
            "Varianza total (47 componentes): 97.50547019920674\n",
            "Varianza total (48 componentes): 97.78183255872761\n",
            "Varianza total (49 componentes): 98.04137700310328\n",
            "Varianza total (50 componentes): 98.27587759016255\n",
            "Varianza total (51 componentes): 98.49417631792726\n",
            "Varianza total (52 componentes): 98.6977739524527\n",
            "Varianza total (53 componentes): 98.89328637847252\n",
            "Varianza total (54 componentes): 99.07660487766971\n",
            "Varianza total (55 componentes): 99.2445512651653\n",
            "Varianza total (56 componentes): 99.40578732742202\n",
            "Varianza total (57 componentes): 99.55355002152811\n",
            "Varianza total (58 componentes): 99.6886684328652\n",
            "Varianza total (59 componentes): 99.8137691753625\n",
            "Varianza total (60 componentes): 99.91746490551822\n",
            "Varianza total (61 componentes): 100.00000000000003\n",
            "Varianza total (62 componentes): 100.00000000000003\n",
            "Varianza total (63 componentes): 100.00000000000003\n"
          ]
        },
        {
          "output_type": "display_data",
          "data": {
            "text/plain": [
              "<Figure size 432x288 with 1 Axes>"
            ],
            "image/png": "[encoded data removed]"
          },
          "metadata": {
            "needs_background": "light"
          }
        }
      ],
      "source": [
        "drawVarianza(data)"
      ]
    },
    {
      "cell_type": "markdown",
      "metadata": {
        "id": "3nS8SrouXrKl"
      },
      "source": [
        "*** \n",
        "## Ejercicio\n",
        "En clase hemos visto que para elegir el número de componentes k, debemos tomar el menor k tal que la varianza total sea mayor que el 99%. En nuestro caso, ¿qué valor deberíamos tomar?"
      ]
    },
    {
      "cell_type": "markdown",
      "source": [
        "Con 54 componentes se conseguiría un 99%"
      ],
      "metadata": {
        "id": "QCLfQFnz4clF"
      }
    },
    {
      "cell_type": "markdown",
      "metadata": {
        "id": "rQfBJTZxXrKt"
      },
      "source": [
        "***"
      ]
    },
    {
      "cell_type": "markdown",
      "metadata": {
        "id": "R02t6x4zXrKu"
      },
      "source": [
        "## Ejercicio adicional\n",
        "Recupera los ficheros de la práctica 3 y repite el análisis hecho para el dataset de los dígitos, pero esta vez utilizando el dataset iris.csv.\n"
      ]
    },
    {
      "cell_type": "code",
      "execution_count": 19,
      "metadata": {
        "id": "2C3rL00SXrKv",
        "outputId": "bf72d299-9a99-4f56-a798-29a22a137e74",
        "colab": {
          "base_uri": "https://localhost:8080/"
        }
      },
      "outputs": [
        {
          "output_type": "stream",
          "name": "stdout",
          "text": [
            "--2022-03-21 15:48:10--  https://raw.githubusercontent.com/IA1819/Datasets/master/iris.csv\n",
            "Resolving raw.githubusercontent.com (raw.githubusercontent.com)... 185.199.108.133, 185.199.109.133, 185.199.111.133, ...\n",
            "Connecting to raw.githubusercontent.com (raw.githubusercontent.com)|185.199.108.133|:443... connected.\n",
            "HTTP request sent, awaiting response... 200 OK\n",
            "Length: 4606 (4.5K) [text/plain]\n",
            "Saving to: ‘iris.csv’\n",
            "\n",
            "\riris.csv              0%[                    ]       0  --.-KB/s               \riris.csv            100%[===================>]   4.50K  --.-KB/s    in 0s      \n",
            "\n",
            "2022-03-21 15:48:10 (34.2 MB/s) - ‘iris.csv’ saved [4606/4606]\n",
            "\n"
          ]
        }
      ],
      "source": [
        "!wget https://raw.githubusercontent.com/IA1819/Datasets/master/iris.csv -O iris.csv"
      ]
    },
    {
      "cell_type": "code",
      "source": [
        "def valida_iris(etiquetas_esperadas, etiquetas_obtenidas):\n",
        "    for i,nom in enumerate([\"Iris-setosa\", \"Iris-versicolor\", \"Iris-virginica\"]):\n",
        "        res = np.zeros(3).astype(\"uint8\")\n",
        "        for j,etiqueta in enumerate(etiquetas_esperadas):\n",
        "            if(etiqueta==nom):\n",
        "                res[etiquetas_obtenidas[j]]+=1\n",
        "        print(nom + \": \")\n",
        "        print(res)"
      ],
      "metadata": {
        "id": "NEIfDpvsDquU"
      },
      "execution_count": 20,
      "outputs": []
    },
    {
      "cell_type": "code",
      "source": [
        "import pandas as pd\n",
        "\n",
        "df_Iris = pd.read_csv('iris.csv')\n",
        "dataIris = scale(df_Iris.iloc[:,:-1].values) # para normalizar el dataset (poner los datos en el mismo rango)\n",
        "pcaIris = PCA(n_components=3).fit(dataIris)\n",
        "datapca_Iris = pcaIris.transform(dataIris)\n",
        "estimatorIris = KMeans(n_clusters=3)\n",
        "aux = estimatorIris.fit(datapca_Iris)"
      ],
      "metadata": {
        "id": "TRsoh2Ny5N3O"
      },
      "execution_count": 23,
      "outputs": []
    },
    {
      "cell_type": "code",
      "source": [
        "estimatorIris.labels_"
      ],
      "metadata": {
        "id": "evKe5pFNGL04",
        "outputId": "54e8fdd8-a59b-46f5-ec5d-eb5282226874",
        "colab": {
          "base_uri": "https://localhost:8080/"
        }
      },
      "execution_count": 24,
      "outputs": [
        {
          "output_type": "execute_result",
          "data": {
            "text/plain": [
              "array([1, 1, 1, 1, 1, 1, 1, 1, 1, 1, 1, 1, 1, 1, 1, 1, 1, 1, 1, 1, 1, 1,\n",
              "       1, 1, 1, 1, 1, 1, 1, 1, 1, 1, 1, 1, 1, 1, 1, 1, 1, 1, 1, 1, 1, 1,\n",
              "       1, 1, 1, 1, 1, 1, 2, 2, 2, 0, 0, 0, 2, 0, 0, 0, 0, 0, 0, 0, 0, 2,\n",
              "       0, 0, 0, 0, 2, 0, 0, 0, 0, 2, 2, 2, 0, 0, 0, 0, 0, 0, 0, 2, 2, 0,\n",
              "       0, 0, 0, 0, 0, 0, 0, 0, 0, 0, 0, 0, 2, 0, 2, 2, 2, 2, 0, 2, 2, 2,\n",
              "       2, 2, 2, 0, 0, 2, 2, 2, 2, 0, 2, 0, 2, 0, 2, 2, 0, 2, 2, 2, 2, 2,\n",
              "       2, 0, 0, 2, 2, 2, 0, 2, 2, 2, 0, 2, 2, 2, 0, 2, 2, 0], dtype=int32)"
            ]
          },
          "metadata": {},
          "execution_count": 24
        }
      ]
    },
    {
      "cell_type": "code",
      "source": [
        "valida_iris(df_Iris.iloc[:,-1].values,estimatorIris.labels_)"
      ],
      "metadata": {
        "id": "Ns1Im9bnFV0o",
        "outputId": "f4d28c17-3dad-48f3-b08d-f228935b1b9e",
        "colab": {
          "base_uri": "https://localhost:8080/"
        }
      },
      "execution_count": 25,
      "outputs": [
        {
          "output_type": "stream",
          "name": "stdout",
          "text": [
            "Iris-setosa: \n",
            "[ 0 50  0]\n",
            "Iris-versicolor: \n",
            "[39  0 11]\n",
            "Iris-virginica: \n",
            "[14  0 36]\n"
          ]
        }
      ]
    },
    {
      "cell_type": "code",
      "source": [
        "print(pcaIris.explained_variance_ratio_)\n",
        "print(\"Varianza total: \" + str(100*np.sum(pcaIris.explained_variance_ratio_))+ \"%\")"
      ],
      "metadata": {
        "id": "o-x__rNdHWkq",
        "outputId": "caefa839-7786-421a-db3e-da42603730ff",
        "colab": {
          "base_uri": "https://localhost:8080/"
        }
      },
      "execution_count": 26,
      "outputs": [
        {
          "output_type": "stream",
          "name": "stdout",
          "text": [
            "[0.72770452 0.23030523 0.03683832]\n",
            "Varianza total: 99.48480731910936%\n"
          ]
        }
      ]
    },
    {
      "cell_type": "code",
      "source": [
        "drawVarianza(dataIris)"
      ],
      "metadata": {
        "id": "q_C-LcFuJ2a5",
        "outputId": "1c81e9a5-e835-4a3e-a2c8-cb6a50bdac22",
        "colab": {
          "base_uri": "https://localhost:8080/",
          "height": 331
        }
      },
      "execution_count": 27,
      "outputs": [
        {
          "output_type": "stream",
          "name": "stdout",
          "text": [
            "Varianza total (1 componentes): 72.77045209380132\n",
            "Varianza total (2 componentes): 95.80097536148196\n",
            "Varianza total (3 componentes): 99.48480731910936\n"
          ]
        },
        {
          "output_type": "display_data",
          "data": {
            "text/plain": [
              "<Figure size 432x288 with 1 Axes>"
            ],
            "image/png": "[encoded data removed]"
          },
          "metadata": {
            "needs_background": "light"
          }
        }
      ]
    },
    {
      "cell_type": "markdown",
      "metadata": {
        "id": "2I2SsoPzXszp"
      },
      "source": [
        "## Entrega\n",
        "\n",
        "Recuerda guardar tus cambios en tu repositorio utilizando la opción \"Save a copy in GitHub...\" del menú File."
      ]
    }
  ],
  "metadata": {
    "colab": {
      "name": "practica4_parte3.ipynb",
      "provenance": [],
      "include_colab_link": true
    },
    "kernelspec": {
      "display_name": "Python 3",
      "language": "python",
      "name": "python3"
    },
    "language_info": {
      "codemirror_mode": {
        "name": "ipython",
        "version": 3
      },
      "file_extension": ".py",
      "mimetype": "text/x-python",
      "name": "python",
      "nbconvert_exporter": "python",
      "pygments_lexer": "ipython3",
      "version": "3.6.7"
    }
  },
  "nbformat": 4,
  "nbformat_minor": 0
}