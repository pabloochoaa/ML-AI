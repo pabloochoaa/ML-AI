{
  "nbformat": 4,
  "nbformat_minor": 0,
  "metadata": {
    "colab": {
      "name": "practica3_parte1.ipynb",
      "provenance": [],
      "include_colab_link": true
    },
    "kernelspec": {
      "display_name": "Python 3",
      "language": "python",
      "name": "python3"
    },
    "language_info": {
      "codemirror_mode": {
        "name": "ipython",
        "version": 3
      },
      "file_extension": ".py",
      "mimetype": "text/x-python",
      "name": "python",
      "nbconvert_exporter": "python",
      "pygments_lexer": "ipython3",
      "version": "3.6.7"
    }
  },
  "cells": [
    {
      "cell_type": "markdown",
      "metadata": {
        "id": "view-in-github",
        "colab_type": "text"
      },
      "source": [
        "<a href=\"https://colab.research.google.com/github/IA2122/entregable-1-paochoa/blob/main/Proyecto1_AED.ipynb\" target=\"_parent\"><img src=\"https://colab.research.google.com/assets/colab-badge.svg\" alt=\"Open In Colab\"/></a>"
      ]
    },
    {
      "cell_type": "markdown",
      "source": [
        "Antes de empezar cargaré todas las librerias que iré a usar para que sea más limpio el resto del código"
      ],
      "metadata": {
        "id": "yH-mNBpLAk3b"
      }
    },
    {
      "cell_type": "code",
      "metadata": {
        "id": "Zk6hHjvOJy5I"
      },
      "source": [
        "# Tratamiento de datos\n",
        "# ==============================================================================\n",
        "import pandas as pd\n",
        "import numpy as np\n",
        "\n",
        "# Gráficos\n",
        "# ==============================================================================\n",
        "import matplotlib.pyplot as plt\n",
        "from matplotlib import style\n",
        "import seaborn as sns\n",
        "\n",
        "# Preprocesado y modelado\n",
        "# ==============================================================================\n",
        "from scipy.stats import pearsonr\n",
        "from sklearn.linear_model import LinearRegression\n",
        "from sklearn.model_selection import train_test_split\n",
        "from sklearn.metrics import r2_score\n",
        "from sklearn.metrics import mean_squared_error\n",
        "import statsmodels.api as sm\n",
        "import statsmodels.formula.api as smf\n",
        "\n",
        "# Configuración matplotlib\n",
        "# ==============================================================================\n",
        "plt.rcParams['image.cmap'] = \"bwr\"\n",
        "#plt.rcParams['figure.dpi'] = \"100\"\n",
        "plt.rcParams['savefig.bbox'] = \"tight\"\n",
        "style.use('ggplot') or plt.style.use('ggplot')\n",
        "\n",
        "# Configuración warnings\n",
        "# ==============================================================================\n",
        "import warnings\n",
        "warnings.filterwarnings('ignore')\n",
        "from scipy.io import arff"
      ],
      "execution_count": 42,
      "outputs": []
    },
    {
      "cell_type": "markdown",
      "metadata": {
        "id": "fsFiBvtJJy5O"
      },
      "source": [
        "Cargamos los datos de entrenamiento, usando la función `read_csv` y almacenando el resultado en un DataFrame llamado `df_train`. A continuación mostramos las 10 primeras instancias del dataset usando el método `head` de la DataFrame para ver como son dichos datos:"
      ]
    },
    {
      "cell_type": "markdown",
      "source": [
        "Se intenta predecir la actividad que estaba realizando un paciente a partir de distinta información como el nivel de azúcar o el pulso.\n",
        "\n",
        "0- De pie 1- Caminando 2- Sentado 3- Cayendo 4- Con calambres 5- Corriendo\n",
        "\n",
        "Las columnas indican:\n",
        "\n",
        "*   SL: nivel de azucar\n",
        "\n",
        "*   EEG: ratio monitor EEG\n",
        "\n",
        "*   BP: presión en sangre\n",
        "\n",
        "*   HR: ratio de latidos\n",
        "\n",
        "*   CIRCULATION: circulación de sangre"
      ],
      "metadata": {
        "id": "87mR-2IX4WyR"
      }
    },
    {
      "cell_type": "code",
      "metadata": {
        "id": "FRL7b8R8Jy5P",
        "colab": {
          "base_uri": "https://localhost:8080/",
          "height": 363
        },
        "outputId": "19189fdc-c963-47e2-960a-ff22549344d7"
      },
      "source": [
        "df_train = pd.read_csv('train.csv')\n",
        "df_train.head(10)"
      ],
      "execution_count": 43,
      "outputs": [
        {
          "output_type": "execute_result",
          "data": {
            "text/plain": [
              "          SL      EEG  BP   HR  CIRCULATION  ACTIVITY\n",
              "0    4019.64 -1600.00  13   79          317         3\n",
              "1    2191.03 -1146.08  20   54          165         2\n",
              "2    2787.99 -1263.38  46   67          224         2\n",
              "3    9545.98 -2848.93  26  138          554         4\n",
              "4   14148.80 -2381.15  85  120          809         4\n",
              "5    7336.79 -1699.80  22   95          427         5\n",
              "6   24949.90 -3198.06  35  157         1519         3\n",
              "7   39245.50 -2590.00  15  196         1885         3\n",
              "8   59742.00 -5101.00  56  249         2826         0\n",
              "9  140950.00 -1410.00  82  315         5844         4"
            ],
            "text/html": [
              "\n",
              "  <div id=\"df-bcd370ff-abbc-4474-8e0e-e2d9ce995a39\">\n",
              "    <div class=\"colab-df-container\">\n",
              "      <div>\n",
              "<style scoped>\n",
              "    .dataframe tbody tr th:only-of-type {\n",
              "        vertical-align: middle;\n",
              "    }\n",
              "\n",
              "    .dataframe tbody tr th {\n",
              "        vertical-align: top;\n",
              "    }\n",
              "\n",
              "    .dataframe thead th {\n",
              "        text-align: right;\n",
              "    }\n",
              "</style>\n",
              "<table border=\"1\" class=\"dataframe\">\n",
              "  <thead>\n",
              "    <tr style=\"text-align: right;\">\n",
              "      <th></th>\n",
              "      <th>SL</th>\n",
              "      <th>EEG</th>\n",
              "      <th>BP</th>\n",
              "      <th>HR</th>\n",
              "      <th>CIRCULATION</th>\n",
              "      <th>ACTIVITY</th>\n",
              "    </tr>\n",
              "  </thead>\n",
              "  <tbody>\n",
              "    <tr>\n",
              "      <th>0</th>\n",
              "      <td>4019.64</td>\n",
              "      <td>-1600.00</td>\n",
              "      <td>13</td>\n",
              "      <td>79</td>\n",
              "      <td>317</td>\n",
              "      <td>3</td>\n",
              "    </tr>\n",
              "    <tr>\n",
              "      <th>1</th>\n",
              "      <td>2191.03</td>\n",
              "      <td>-1146.08</td>\n",
              "      <td>20</td>\n",
              "      <td>54</td>\n",
              "      <td>165</td>\n",
              "      <td>2</td>\n",
              "    </tr>\n",
              "    <tr>\n",
              "      <th>2</th>\n",
              "      <td>2787.99</td>\n",
              "      <td>-1263.38</td>\n",
              "      <td>46</td>\n",
              "      <td>67</td>\n",
              "      <td>224</td>\n",
              "      <td>2</td>\n",
              "    </tr>\n",
              "    <tr>\n",
              "      <th>3</th>\n",
              "      <td>9545.98</td>\n",
              "      <td>-2848.93</td>\n",
              "      <td>26</td>\n",
              "      <td>138</td>\n",
              "      <td>554</td>\n",
              "      <td>4</td>\n",
              "    </tr>\n",
              "    <tr>\n",
              "      <th>4</th>\n",
              "      <td>14148.80</td>\n",
              "      <td>-2381.15</td>\n",
              "      <td>85</td>\n",
              "      <td>120</td>\n",
              "      <td>809</td>\n",
              "      <td>4</td>\n",
              "    </tr>\n",
              "    <tr>\n",
              "      <th>5</th>\n",
              "      <td>7336.79</td>\n",
              "      <td>-1699.80</td>\n",
              "      <td>22</td>\n",
              "      <td>95</td>\n",
              "      <td>427</td>\n",
              "      <td>5</td>\n",
              "    </tr>\n",
              "    <tr>\n",
              "      <th>6</th>\n",
              "      <td>24949.90</td>\n",
              "      <td>-3198.06</td>\n",
              "      <td>35</td>\n",
              "      <td>157</td>\n",
              "      <td>1519</td>\n",
              "      <td>3</td>\n",
              "    </tr>\n",
              "    <tr>\n",
              "      <th>7</th>\n",
              "      <td>39245.50</td>\n",
              "      <td>-2590.00</td>\n",
              "      <td>15</td>\n",
              "      <td>196</td>\n",
              "      <td>1885</td>\n",
              "      <td>3</td>\n",
              "    </tr>\n",
              "    <tr>\n",
              "      <th>8</th>\n",
              "      <td>59742.00</td>\n",
              "      <td>-5101.00</td>\n",
              "      <td>56</td>\n",
              "      <td>249</td>\n",
              "      <td>2826</td>\n",
              "      <td>0</td>\n",
              "    </tr>\n",
              "    <tr>\n",
              "      <th>9</th>\n",
              "      <td>140950.00</td>\n",
              "      <td>-1410.00</td>\n",
              "      <td>82</td>\n",
              "      <td>315</td>\n",
              "      <td>5844</td>\n",
              "      <td>4</td>\n",
              "    </tr>\n",
              "  </tbody>\n",
              "</table>\n",
              "</div>\n",
              "      <button class=\"colab-df-convert\" onclick=\"convertToInteractive('df-bcd370ff-abbc-4474-8e0e-e2d9ce995a39')\"\n",
              "              title=\"Convert this dataframe to an interactive table.\"\n",
              "              style=\"display:none;\">\n",
              "        \n",
              "  <svg xmlns=\"http://www.w3.org/2000/svg\" height=\"24px\"viewBox=\"0 0 24 24\"\n",
              "       width=\"24px\">\n",
              "    <path d=\"M0 0h24v24H0V0z\" fill=\"none\"/>\n",
              "    <path d=\"M18.56 5.44l.94 2.06.94-2.06 2.06-.94-2.06-.94-.94-2.06-.94 2.06-2.06.94zm-11 1L8.5 8.5l.94-2.06 2.06-.94-2.06-.94L8.5 2.5l-.94 2.06-2.06.94zm10 10l.94 2.06.94-2.06 2.06-.94-2.06-.94-.94-2.06-.94 2.06-2.06.94z\"/><path d=\"M17.41 7.96l-1.37-1.37c-.4-.4-.92-.59-1.43-.59-.52 0-1.04.2-1.43.59L10.3 9.45l-7.72 7.72c-.78.78-.78 2.05 0 2.83L4 21.41c.39.39.9.59 1.41.59.51 0 1.02-.2 1.41-.59l7.78-7.78 2.81-2.81c.8-.78.8-2.07 0-2.86zM5.41 20L4 18.59l7.72-7.72 1.47 1.35L5.41 20z\"/>\n",
              "  </svg>\n",
              "      </button>\n",
              "      \n",
              "  <style>\n",
              "    .colab-df-container {\n",
              "      display:flex;\n",
              "      flex-wrap:wrap;\n",
              "      gap: 12px;\n",
              "    }\n",
              "\n",
              "    .colab-df-convert {\n",
              "      background-color: #E8F0FE;\n",
              "      border: none;\n",
              "      border-radius: 50%;\n",
              "      cursor: pointer;\n",
              "      display: none;\n",
              "      fill: #1967D2;\n",
              "      height: 32px;\n",
              "      padding: 0 0 0 0;\n",
              "      width: 32px;\n",
              "    }\n",
              "\n",
              "    .colab-df-convert:hover {\n",
              "      background-color: #E2EBFA;\n",
              "      box-shadow: 0px 1px 2px rgba(60, 64, 67, 0.3), 0px 1px 3px 1px rgba(60, 64, 67, 0.15);\n",
              "      fill: #174EA6;\n",
              "    }\n",
              "\n",
              "    [theme=dark] .colab-df-convert {\n",
              "      background-color: #3B4455;\n",
              "      fill: #D2E3FC;\n",
              "    }\n",
              "\n",
              "    [theme=dark] .colab-df-convert:hover {\n",
              "      background-color: #434B5C;\n",
              "      box-shadow: 0px 1px 3px 1px rgba(0, 0, 0, 0.15);\n",
              "      filter: drop-shadow(0px 1px 2px rgba(0, 0, 0, 0.3));\n",
              "      fill: #FFFFFF;\n",
              "    }\n",
              "  </style>\n",
              "\n",
              "      <script>\n",
              "        const buttonEl =\n",
              "          document.querySelector('#df-bcd370ff-abbc-4474-8e0e-e2d9ce995a39 button.colab-df-convert');\n",
              "        buttonEl.style.display =\n",
              "          google.colab.kernel.accessAllowed ? 'block' : 'none';\n",
              "\n",
              "        async function convertToInteractive(key) {\n",
              "          const element = document.querySelector('#df-bcd370ff-abbc-4474-8e0e-e2d9ce995a39');\n",
              "          const dataTable =\n",
              "            await google.colab.kernel.invokeFunction('convertToInteractive',\n",
              "                                                     [key], {});\n",
              "          if (!dataTable) return;\n",
              "\n",
              "          const docLinkHtml = 'Like what you see? Visit the ' +\n",
              "            '<a target=\"_blank\" href=https://colab.research.google.com/notebooks/data_table.ipynb>data table notebook</a>'\n",
              "            + ' to learn more about interactive tables.';\n",
              "          element.innerHTML = '';\n",
              "          dataTable['output_type'] = 'display_data';\n",
              "          await google.colab.output.renderOutput(dataTable, element);\n",
              "          const docLink = document.createElement('div');\n",
              "          docLink.innerHTML = docLinkHtml;\n",
              "          element.appendChild(docLink);\n",
              "        }\n",
              "      </script>\n",
              "    </div>\n",
              "  </div>\n",
              "  "
            ]
          },
          "metadata": {},
          "execution_count": 43
        }
      ]
    },
    {
      "cell_type": "code",
      "metadata": {
        "id": "Q2ddYRGTJy5R",
        "colab": {
          "base_uri": "https://localhost:8080/"
        },
        "outputId": "e4bf7c31-6654-45ac-be90-ed593cffcf35"
      },
      "source": [
        "df_train.shape"
      ],
      "execution_count": 44,
      "outputs": [
        {
          "output_type": "execute_result",
          "data": {
            "text/plain": [
              "(11999, 6)"
            ]
          },
          "metadata": {},
          "execution_count": 44
        }
      ]
    },
    {
      "cell_type": "markdown",
      "metadata": {
        "id": "oDmlegBvJy5U"
      },
      "source": [
        "Como se puede observar a partir de la salida anterior, tenemos un dataset que podría considerarse de tamaño medio ya que tiene 12000 filas."
      ]
    },
    {
      "cell_type": "markdown",
      "source": [
        "------------------------------------------------------------------------------"
      ],
      "metadata": {
        "id": "WKxhFIEkJQHQ"
      }
    },
    {
      "cell_type": "code",
      "metadata": {
        "id": "Kmioa-MSJy5X",
        "colab": {
          "base_uri": "https://localhost:8080/"
        },
        "outputId": "36309463-0800-484c-d2a1-50b2a92652a2"
      },
      "source": [
        "df_train.info()"
      ],
      "execution_count": 45,
      "outputs": [
        {
          "output_type": "stream",
          "name": "stdout",
          "text": [
            "<class 'pandas.core.frame.DataFrame'>\n",
            "RangeIndex: 11999 entries, 0 to 11998\n",
            "Data columns (total 6 columns):\n",
            " #   Column       Non-Null Count  Dtype  \n",
            "---  ------       --------------  -----  \n",
            " 0   SL           11999 non-null  float64\n",
            " 1   EEG          11999 non-null  float64\n",
            " 2   BP           11999 non-null  int64  \n",
            " 3   HR           11999 non-null  int64  \n",
            " 4   CIRCULATION  11999 non-null  int64  \n",
            " 5   ACTIVITY     11999 non-null  int64  \n",
            "dtypes: float64(2), int64(4)\n",
            "memory usage: 562.6 KB\n"
          ]
        }
      ]
    },
    {
      "cell_type": "markdown",
      "source": [
        "Podemos observar que todos los valores son enteros por lo que no habrá problemas de casteo. También se puede observar que no hay ninguna columna que tenga valores nulos.\n",
        "\n",
        "-------------------------------------------------------------------------------"
      ],
      "metadata": {
        "id": "W810pNMH6CGY"
      }
    },
    {
      "cell_type": "code",
      "metadata": {
        "id": "uYRg5FlmJy5f",
        "colab": {
          "base_uri": "https://localhost:8080/",
          "height": 300
        },
        "outputId": "c2d680d1-1fe4-4505-e042-912b74f60dab"
      },
      "source": [
        "df_train.describe()"
      ],
      "execution_count": 46,
      "outputs": [
        {
          "output_type": "execute_result",
          "data": {
            "text/plain": [
              "                 SL           EEG            BP            HR   CIRCULATION  \\\n",
              "count  1.199900e+04  1.199900e+04  11999.000000  11999.000000  11999.000000   \n",
              "mean   7.566022e+04 -2.229112e+04     58.483874    212.415535   2900.695058   \n",
              "std    1.266692e+05  1.284765e+05     48.146245    130.375027   3789.822123   \n",
              "min    4.222420e+01 -3.396800e+06      0.000000     33.000000      5.000000   \n",
              "25%    1.006220e+04 -5.889500e+03     25.000000    120.000000    587.000000   \n",
              "50%    3.243530e+04 -3.498580e+03     45.000000    180.000000   1626.000000   \n",
              "75%    8.156320e+04 -2.290000e+03     79.000000    271.000000   3539.000000   \n",
              "max    2.352450e+06  1.410000e+06    533.000000    981.000000  41819.000000   \n",
              "\n",
              "           ACTIVITY  \n",
              "count  11999.000000  \n",
              "mean       2.368947  \n",
              "std        1.736608  \n",
              "min        0.000000  \n",
              "25%        0.000000  \n",
              "50%        3.000000  \n",
              "75%        4.000000  \n",
              "max        5.000000  "
            ],
            "text/html": [
              "\n",
              "  <div id=\"df-a09c83e4-489b-40c2-833b-3b5d4580fcce\">\n",
              "    <div class=\"colab-df-container\">\n",
              "      <div>\n",
              "<style scoped>\n",
              "    .dataframe tbody tr th:only-of-type {\n",
              "        vertical-align: middle;\n",
              "    }\n",
              "\n",
              "    .dataframe tbody tr th {\n",
              "        vertical-align: top;\n",
              "    }\n",
              "\n",
              "    .dataframe thead th {\n",
              "        text-align: right;\n",
              "    }\n",
              "</style>\n",
              "<table border=\"1\" class=\"dataframe\">\n",
              "  <thead>\n",
              "    <tr style=\"text-align: right;\">\n",
              "      <th></th>\n",
              "      <th>SL</th>\n",
              "      <th>EEG</th>\n",
              "      <th>BP</th>\n",
              "      <th>HR</th>\n",
              "      <th>CIRCULATION</th>\n",
              "      <th>ACTIVITY</th>\n",
              "    </tr>\n",
              "  </thead>\n",
              "  <tbody>\n",
              "    <tr>\n",
              "      <th>count</th>\n",
              "      <td>1.199900e+04</td>\n",
              "      <td>1.199900e+04</td>\n",
              "      <td>11999.000000</td>\n",
              "      <td>11999.000000</td>\n",
              "      <td>11999.000000</td>\n",
              "      <td>11999.000000</td>\n",
              "    </tr>\n",
              "    <tr>\n",
              "      <th>mean</th>\n",
              "      <td>7.566022e+04</td>\n",
              "      <td>-2.229112e+04</td>\n",
              "      <td>58.483874</td>\n",
              "      <td>212.415535</td>\n",
              "      <td>2900.695058</td>\n",
              "      <td>2.368947</td>\n",
              "    </tr>\n",
              "    <tr>\n",
              "      <th>std</th>\n",
              "      <td>1.266692e+05</td>\n",
              "      <td>1.284765e+05</td>\n",
              "      <td>48.146245</td>\n",
              "      <td>130.375027</td>\n",
              "      <td>3789.822123</td>\n",
              "      <td>1.736608</td>\n",
              "    </tr>\n",
              "    <tr>\n",
              "      <th>min</th>\n",
              "      <td>4.222420e+01</td>\n",
              "      <td>-3.396800e+06</td>\n",
              "      <td>0.000000</td>\n",
              "      <td>33.000000</td>\n",
              "      <td>5.000000</td>\n",
              "      <td>0.000000</td>\n",
              "    </tr>\n",
              "    <tr>\n",
              "      <th>25%</th>\n",
              "      <td>1.006220e+04</td>\n",
              "      <td>-5.889500e+03</td>\n",
              "      <td>25.000000</td>\n",
              "      <td>120.000000</td>\n",
              "      <td>587.000000</td>\n",
              "      <td>0.000000</td>\n",
              "    </tr>\n",
              "    <tr>\n",
              "      <th>50%</th>\n",
              "      <td>3.243530e+04</td>\n",
              "      <td>-3.498580e+03</td>\n",
              "      <td>45.000000</td>\n",
              "      <td>180.000000</td>\n",
              "      <td>1626.000000</td>\n",
              "      <td>3.000000</td>\n",
              "    </tr>\n",
              "    <tr>\n",
              "      <th>75%</th>\n",
              "      <td>8.156320e+04</td>\n",
              "      <td>-2.290000e+03</td>\n",
              "      <td>79.000000</td>\n",
              "      <td>271.000000</td>\n",
              "      <td>3539.000000</td>\n",
              "      <td>4.000000</td>\n",
              "    </tr>\n",
              "    <tr>\n",
              "      <th>max</th>\n",
              "      <td>2.352450e+06</td>\n",
              "      <td>1.410000e+06</td>\n",
              "      <td>533.000000</td>\n",
              "      <td>981.000000</td>\n",
              "      <td>41819.000000</td>\n",
              "      <td>5.000000</td>\n",
              "    </tr>\n",
              "  </tbody>\n",
              "</table>\n",
              "</div>\n",
              "      <button class=\"colab-df-convert\" onclick=\"convertToInteractive('df-a09c83e4-489b-40c2-833b-3b5d4580fcce')\"\n",
              "              title=\"Convert this dataframe to an interactive table.\"\n",
              "              style=\"display:none;\">\n",
              "        \n",
              "  <svg xmlns=\"http://www.w3.org/2000/svg\" height=\"24px\"viewBox=\"0 0 24 24\"\n",
              "       width=\"24px\">\n",
              "    <path d=\"M0 0h24v24H0V0z\" fill=\"none\"/>\n",
              "    <path d=\"M18.56 5.44l.94 2.06.94-2.06 2.06-.94-2.06-.94-.94-2.06-.94 2.06-2.06.94zm-11 1L8.5 8.5l.94-2.06 2.06-.94-2.06-.94L8.5 2.5l-.94 2.06-2.06.94zm10 10l.94 2.06.94-2.06 2.06-.94-2.06-.94-.94-2.06-.94 2.06-2.06.94z\"/><path d=\"M17.41 7.96l-1.37-1.37c-.4-.4-.92-.59-1.43-.59-.52 0-1.04.2-1.43.59L10.3 9.45l-7.72 7.72c-.78.78-.78 2.05 0 2.83L4 21.41c.39.39.9.59 1.41.59.51 0 1.02-.2 1.41-.59l7.78-7.78 2.81-2.81c.8-.78.8-2.07 0-2.86zM5.41 20L4 18.59l7.72-7.72 1.47 1.35L5.41 20z\"/>\n",
              "  </svg>\n",
              "      </button>\n",
              "      \n",
              "  <style>\n",
              "    .colab-df-container {\n",
              "      display:flex;\n",
              "      flex-wrap:wrap;\n",
              "      gap: 12px;\n",
              "    }\n",
              "\n",
              "    .colab-df-convert {\n",
              "      background-color: #E8F0FE;\n",
              "      border: none;\n",
              "      border-radius: 50%;\n",
              "      cursor: pointer;\n",
              "      display: none;\n",
              "      fill: #1967D2;\n",
              "      height: 32px;\n",
              "      padding: 0 0 0 0;\n",
              "      width: 32px;\n",
              "    }\n",
              "\n",
              "    .colab-df-convert:hover {\n",
              "      background-color: #E2EBFA;\n",
              "      box-shadow: 0px 1px 2px rgba(60, 64, 67, 0.3), 0px 1px 3px 1px rgba(60, 64, 67, 0.15);\n",
              "      fill: #174EA6;\n",
              "    }\n",
              "\n",
              "    [theme=dark] .colab-df-convert {\n",
              "      background-color: #3B4455;\n",
              "      fill: #D2E3FC;\n",
              "    }\n",
              "\n",
              "    [theme=dark] .colab-df-convert:hover {\n",
              "      background-color: #434B5C;\n",
              "      box-shadow: 0px 1px 3px 1px rgba(0, 0, 0, 0.15);\n",
              "      filter: drop-shadow(0px 1px 2px rgba(0, 0, 0, 0.3));\n",
              "      fill: #FFFFFF;\n",
              "    }\n",
              "  </style>\n",
              "\n",
              "      <script>\n",
              "        const buttonEl =\n",
              "          document.querySelector('#df-a09c83e4-489b-40c2-833b-3b5d4580fcce button.colab-df-convert');\n",
              "        buttonEl.style.display =\n",
              "          google.colab.kernel.accessAllowed ? 'block' : 'none';\n",
              "\n",
              "        async function convertToInteractive(key) {\n",
              "          const element = document.querySelector('#df-a09c83e4-489b-40c2-833b-3b5d4580fcce');\n",
              "          const dataTable =\n",
              "            await google.colab.kernel.invokeFunction('convertToInteractive',\n",
              "                                                     [key], {});\n",
              "          if (!dataTable) return;\n",
              "\n",
              "          const docLinkHtml = 'Like what you see? Visit the ' +\n",
              "            '<a target=\"_blank\" href=https://colab.research.google.com/notebooks/data_table.ipynb>data table notebook</a>'\n",
              "            + ' to learn more about interactive tables.';\n",
              "          element.innerHTML = '';\n",
              "          dataTable['output_type'] = 'display_data';\n",
              "          await google.colab.output.renderOutput(dataTable, element);\n",
              "          const docLink = document.createElement('div');\n",
              "          docLink.innerHTML = docLinkHtml;\n",
              "          element.appendChild(docLink);\n",
              "        }\n",
              "      </script>\n",
              "    </div>\n",
              "  </div>\n",
              "  "
            ]
          },
          "metadata": {},
          "execution_count": 46
        }
      ]
    },
    {
      "cell_type": "markdown",
      "source": [
        "Para ver como están distribuidos los valores de la variable que querremos predecir usaré el método `value_counts` sobre dicha variable"
      ],
      "metadata": {
        "id": "v-3Cxwr9JxHd"
      }
    },
    {
      "cell_type": "code",
      "source": [
        "df_train['ACTIVITY'].value_counts()"
      ],
      "metadata": {
        "id": "TXMe8dVFJDmj",
        "outputId": "dae96997-abd7-4b58-c73c-d5168266ef52",
        "colab": {
          "base_uri": "https://localhost:8080/"
        }
      },
      "execution_count": 47,
      "outputs": [
        {
          "output_type": "execute_result",
          "data": {
            "text/plain": [
              "0    3344\n",
              "3    2625\n",
              "4    2569\n",
              "2    1849\n",
              "5    1241\n",
              "1     371\n",
              "Name: ACTIVITY, dtype: int64"
            ]
          },
          "metadata": {},
          "execution_count": 47
        }
      ]
    },
    {
      "cell_type": "markdown",
      "source": [
        "Como estos datos no son muy representativos a primera vista, calcularé los porcentajes pasandole a la anterior función: `normalize=True`"
      ],
      "metadata": {
        "id": "dM5KUIUKKADi"
      }
    },
    {
      "cell_type": "code",
      "source": [
        "df_train['ACTIVITY'].value_counts(normalize=True)"
      ],
      "metadata": {
        "id": "1eePsO5dKNwJ",
        "outputId": "0cdba0a5-da36-4439-d5fe-ab0c66d79d01",
        "colab": {
          "base_uri": "https://localhost:8080/"
        }
      },
      "execution_count": 48,
      "outputs": [
        {
          "output_type": "execute_result",
          "data": {
            "text/plain": [
              "0    0.278690\n",
              "3    0.218768\n",
              "4    0.214101\n",
              "2    0.154096\n",
              "5    0.103425\n",
              "1    0.030919\n",
              "Name: ACTIVITY, dtype: float64"
            ]
          },
          "metadata": {},
          "execution_count": 48
        }
      ]
    },
    {
      "cell_type": "markdown",
      "source": [
        "--------------------------------------------------------------------------------\n",
        "¿Qué actividad hace el usuario con mayor azucar en sangre?"
      ],
      "metadata": {
        "id": "R_Z9E-toPNp3"
      }
    },
    {
      "cell_type": "code",
      "source": [
        "max_SL = df_train[\"SL\"].max()\n",
        "df_train[df_train[\"SL\"] == max_SL][\"ACTIVITY\"]"
      ],
      "metadata": {
        "id": "OF5Uw__TPRMl",
        "outputId": "a4f3070b-d3f5-48d1-e661-4e4cd32b7982",
        "colab": {
          "base_uri": "https://localhost:8080/"
        }
      },
      "execution_count": 49,
      "outputs": [
        {
          "output_type": "execute_result",
          "data": {
            "text/plain": [
              "6793    0\n",
              "Name: ACTIVITY, dtype: int64"
            ]
          },
          "metadata": {},
          "execution_count": 49
        }
      ]
    },
    {
      "cell_type": "markdown",
      "source": [
        "*RESPUESTA*\n",
        "\n",
        "Está de pie\n",
        "\n",
        "------------------------------------------------------------------------"
      ],
      "metadata": {
        "id": "X2xoEI5WSsPg"
      }
    },
    {
      "cell_type": "markdown",
      "source": [
        "¿Y el que mayor pulsaciones tiene?"
      ],
      "metadata": {
        "id": "nrD--lbwTfAe"
      }
    },
    {
      "cell_type": "code",
      "source": [
        "max_HR = df_train[\"HR\"].max()\n",
        "df_train[df_train[\"HR\"] == max_HR][\"ACTIVITY\"]"
      ],
      "metadata": {
        "id": "TGCKiq2GTlEe",
        "outputId": "b4b2d16f-e5b2-405e-bc5c-0356d0f431d0",
        "colab": {
          "base_uri": "https://localhost:8080/"
        }
      },
      "execution_count": 50,
      "outputs": [
        {
          "output_type": "execute_result",
          "data": {
            "text/plain": [
              "8674    0\n",
              "Name: ACTIVITY, dtype: int64"
            ]
          },
          "metadata": {},
          "execution_count": 50
        }
      ]
    },
    {
      "cell_type": "markdown",
      "source": [
        "*RESPUESTA*\n",
        "\n",
        "El que más HR tiene también está de pie\n",
        "\n",
        "\n",
        "--------------------------------------------------------------------------------"
      ],
      "metadata": {
        "id": "5kNCG1mDTo_0"
      }
    },
    {
      "cell_type": "markdown",
      "source": [
        "La actividad más común es 0 (de pie), pero, ¿como son estos usuarios?"
      ],
      "metadata": {
        "id": "Df2hRpW-MuRe"
      }
    },
    {
      "cell_type": "code",
      "source": [
        "df_train[df_train['ACTIVITY'] == 0].mean()"
      ],
      "metadata": {
        "id": "cISM8lpENABw",
        "outputId": "0b61feb3-75bc-4341-d0e7-7a782b87e87c",
        "colab": {
          "base_uri": "https://localhost:8080/"
        }
      },
      "execution_count": 51,
      "outputs": [
        {
          "output_type": "execute_result",
          "data": {
            "text/plain": [
              "SL             115259.184758\n",
              "EEG            -10439.162174\n",
              "BP                 72.426136\n",
              "HR                259.142644\n",
              "CIRCULATION      4035.958433\n",
              "ACTIVITY            0.000000\n",
              "dtype: float64"
            ]
          },
          "metadata": {},
          "execution_count": 51
        }
      ]
    },
    {
      "cell_type": "markdown",
      "source": [
        "*RESPUESTA*\n",
        "\n",
        "Se puede ver que los usuarios no están muy sanos ya que tienen bastante azúcar en sangre y una presión sanguínea y pulso cardíaco mucho mayores a la media\n",
        "\n",
        "------------------------------------------------------------------------------"
      ],
      "metadata": {
        "id": "FBJ5D8ZKVgV9"
      }
    },
    {
      "cell_type": "markdown",
      "source": [
        "La segunda actividad más común es 1 (Caminando), ¿cómo son estos usuarios?"
      ],
      "metadata": {
        "id": "A9nK6BbYVVMG"
      }
    },
    {
      "cell_type": "code",
      "source": [
        "df_train[df_train['ACTIVITY'] == 1].mean()"
      ],
      "metadata": {
        "id": "pxyw5uiKNEJ9",
        "outputId": "f78d6a07-4f46-4f82-a523-44c219711736",
        "colab": {
          "base_uri": "https://localhost:8080/"
        }
      },
      "execution_count": 52,
      "outputs": [
        {
          "output_type": "execute_result",
          "data": {
            "text/plain": [
              "SL             18772.605988\n",
              "EEG            -4347.166846\n",
              "BP                39.536388\n",
              "HR               117.024259\n",
              "CIRCULATION      927.053908\n",
              "ACTIVITY           1.000000\n",
              "dtype: float64"
            ]
          },
          "metadata": {},
          "execution_count": 52
        }
      ]
    },
    {
      "cell_type": "markdown",
      "source": [
        "*RESPUESTA*\n",
        "\n",
        "Estos usuarios tampoco son muy sanos pero están un poco mejor que el caso anteriormente mencionado.\n",
        "\n",
        "--------------------------------------------------------------------------------"
      ],
      "metadata": {
        "id": "IkTftwabNKyj"
      }
    },
    {
      "cell_type": "markdown",
      "source": [
        "¿Es verdad que correr ayuda más a la circulación que andar?"
      ],
      "metadata": {
        "id": "x3RwPWDqXx3_"
      }
    },
    {
      "cell_type": "code",
      "source": [
        "df_train.loc[(df_train['ACTIVITY'] == 1)]['HR'].mean() < df_train.loc[(df_train['ACTIVITY'] == 5)]['HR'].count()"
      ],
      "metadata": {
        "id": "B_putKZ-YNEY",
        "outputId": "977ea0bf-186d-4797-f944-fa52c2344564",
        "colab": {
          "base_uri": "https://localhost:8080/"
        }
      },
      "execution_count": 53,
      "outputs": [
        {
          "output_type": "execute_result",
          "data": {
            "text/plain": [
              "True"
            ]
          },
          "metadata": {},
          "execution_count": 53
        }
      ]
    },
    {
      "cell_type": "markdown",
      "source": [
        "*RESPUESTA*\n",
        "\n",
        "En promedio, la gente que corre tiene una mejor circulación de la sangre que los que andan\n",
        "\n",
        "-------------------------------------------------------------------------------"
      ],
      "metadata": {
        "id": "M41YbHvBXsGh"
      }
    },
    {
      "cell_type": "markdown",
      "source": [
        "\n",
        "A continuación mostraé los datos ordenados respecto a las variables que más nos interesan: SL y CIRCULATION"
      ],
      "metadata": {
        "id": "b_g0jZN8LJk0"
      }
    },
    {
      "cell_type": "code",
      "source": [
        "df_train.sort_values(by=['SL', 'CIRCULATION'],\n",
        "        ascending=[True, True]).head(10)"
      ],
      "metadata": {
        "id": "-hIbe0N_LYJp",
        "outputId": "c3d77dd3-ce30-46e1-c677-06e63d06b348",
        "colab": {
          "base_uri": "https://localhost:8080/",
          "height": 363
        }
      },
      "execution_count": 54,
      "outputs": [
        {
          "output_type": "execute_result",
          "data": {
            "text/plain": [
              "            SL    EEG  BP  HR  CIRCULATION  ACTIVITY\n",
              "2334   42.2242 -195.0  96  33            5         3\n",
              "10432  43.5905 -637.0  94  33            5         4\n",
              "7125   45.7832 -533.0   6  33            5         2\n",
              "5257   46.0085 -262.0   6  33            5         1\n",
              "11206  46.1404 -492.0   6  33            5         2\n",
              "10126  46.5214 -368.0  96  33            5         4\n",
              "8802   47.4192 -460.0   8  33            5         1\n",
              "446    47.7134 -336.0   6  33            5         1\n",
              "8211   47.8229 -518.0   6  33            5         1\n",
              "3971   47.9959 -283.0  96  33            5         3"
            ],
            "text/html": [
              "\n",
              "  <div id=\"df-bc581331-cece-49a5-8a1b-1b356e81ac7d\">\n",
              "    <div class=\"colab-df-container\">\n",
              "      <div>\n",
              "<style scoped>\n",
              "    .dataframe tbody tr th:only-of-type {\n",
              "        vertical-align: middle;\n",
              "    }\n",
              "\n",
              "    .dataframe tbody tr th {\n",
              "        vertical-align: top;\n",
              "    }\n",
              "\n",
              "    .dataframe thead th {\n",
              "        text-align: right;\n",
              "    }\n",
              "</style>\n",
              "<table border=\"1\" class=\"dataframe\">\n",
              "  <thead>\n",
              "    <tr style=\"text-align: right;\">\n",
              "      <th></th>\n",
              "      <th>SL</th>\n",
              "      <th>EEG</th>\n",
              "      <th>BP</th>\n",
              "      <th>HR</th>\n",
              "      <th>CIRCULATION</th>\n",
              "      <th>ACTIVITY</th>\n",
              "    </tr>\n",
              "  </thead>\n",
              "  <tbody>\n",
              "    <tr>\n",
              "      <th>2334</th>\n",
              "      <td>42.2242</td>\n",
              "      <td>-195.0</td>\n",
              "      <td>96</td>\n",
              "      <td>33</td>\n",
              "      <td>5</td>\n",
              "      <td>3</td>\n",
              "    </tr>\n",
              "    <tr>\n",
              "      <th>10432</th>\n",
              "      <td>43.5905</td>\n",
              "      <td>-637.0</td>\n",
              "      <td>94</td>\n",
              "      <td>33</td>\n",
              "      <td>5</td>\n",
              "      <td>4</td>\n",
              "    </tr>\n",
              "    <tr>\n",
              "      <th>7125</th>\n",
              "      <td>45.7832</td>\n",
              "      <td>-533.0</td>\n",
              "      <td>6</td>\n",
              "      <td>33</td>\n",
              "      <td>5</td>\n",
              "      <td>2</td>\n",
              "    </tr>\n",
              "    <tr>\n",
              "      <th>5257</th>\n",
              "      <td>46.0085</td>\n",
              "      <td>-262.0</td>\n",
              "      <td>6</td>\n",
              "      <td>33</td>\n",
              "      <td>5</td>\n",
              "      <td>1</td>\n",
              "    </tr>\n",
              "    <tr>\n",
              "      <th>11206</th>\n",
              "      <td>46.1404</td>\n",
              "      <td>-492.0</td>\n",
              "      <td>6</td>\n",
              "      <td>33</td>\n",
              "      <td>5</td>\n",
              "      <td>2</td>\n",
              "    </tr>\n",
              "    <tr>\n",
              "      <th>10126</th>\n",
              "      <td>46.5214</td>\n",
              "      <td>-368.0</td>\n",
              "      <td>96</td>\n",
              "      <td>33</td>\n",
              "      <td>5</td>\n",
              "      <td>4</td>\n",
              "    </tr>\n",
              "    <tr>\n",
              "      <th>8802</th>\n",
              "      <td>47.4192</td>\n",
              "      <td>-460.0</td>\n",
              "      <td>8</td>\n",
              "      <td>33</td>\n",
              "      <td>5</td>\n",
              "      <td>1</td>\n",
              "    </tr>\n",
              "    <tr>\n",
              "      <th>446</th>\n",
              "      <td>47.7134</td>\n",
              "      <td>-336.0</td>\n",
              "      <td>6</td>\n",
              "      <td>33</td>\n",
              "      <td>5</td>\n",
              "      <td>1</td>\n",
              "    </tr>\n",
              "    <tr>\n",
              "      <th>8211</th>\n",
              "      <td>47.8229</td>\n",
              "      <td>-518.0</td>\n",
              "      <td>6</td>\n",
              "      <td>33</td>\n",
              "      <td>5</td>\n",
              "      <td>1</td>\n",
              "    </tr>\n",
              "    <tr>\n",
              "      <th>3971</th>\n",
              "      <td>47.9959</td>\n",
              "      <td>-283.0</td>\n",
              "      <td>96</td>\n",
              "      <td>33</td>\n",
              "      <td>5</td>\n",
              "      <td>3</td>\n",
              "    </tr>\n",
              "  </tbody>\n",
              "</table>\n",
              "</div>\n",
              "      <button class=\"colab-df-convert\" onclick=\"convertToInteractive('df-bc581331-cece-49a5-8a1b-1b356e81ac7d')\"\n",
              "              title=\"Convert this dataframe to an interactive table.\"\n",
              "              style=\"display:none;\">\n",
              "        \n",
              "  <svg xmlns=\"http://www.w3.org/2000/svg\" height=\"24px\"viewBox=\"0 0 24 24\"\n",
              "       width=\"24px\">\n",
              "    <path d=\"M0 0h24v24H0V0z\" fill=\"none\"/>\n",
              "    <path d=\"M18.56 5.44l.94 2.06.94-2.06 2.06-.94-2.06-.94-.94-2.06-.94 2.06-2.06.94zm-11 1L8.5 8.5l.94-2.06 2.06-.94-2.06-.94L8.5 2.5l-.94 2.06-2.06.94zm10 10l.94 2.06.94-2.06 2.06-.94-2.06-.94-.94-2.06-.94 2.06-2.06.94z\"/><path d=\"M17.41 7.96l-1.37-1.37c-.4-.4-.92-.59-1.43-.59-.52 0-1.04.2-1.43.59L10.3 9.45l-7.72 7.72c-.78.78-.78 2.05 0 2.83L4 21.41c.39.39.9.59 1.41.59.51 0 1.02-.2 1.41-.59l7.78-7.78 2.81-2.81c.8-.78.8-2.07 0-2.86zM5.41 20L4 18.59l7.72-7.72 1.47 1.35L5.41 20z\"/>\n",
              "  </svg>\n",
              "      </button>\n",
              "      \n",
              "  <style>\n",
              "    .colab-df-container {\n",
              "      display:flex;\n",
              "      flex-wrap:wrap;\n",
              "      gap: 12px;\n",
              "    }\n",
              "\n",
              "    .colab-df-convert {\n",
              "      background-color: #E8F0FE;\n",
              "      border: none;\n",
              "      border-radius: 50%;\n",
              "      cursor: pointer;\n",
              "      display: none;\n",
              "      fill: #1967D2;\n",
              "      height: 32px;\n",
              "      padding: 0 0 0 0;\n",
              "      width: 32px;\n",
              "    }\n",
              "\n",
              "    .colab-df-convert:hover {\n",
              "      background-color: #E2EBFA;\n",
              "      box-shadow: 0px 1px 2px rgba(60, 64, 67, 0.3), 0px 1px 3px 1px rgba(60, 64, 67, 0.15);\n",
              "      fill: #174EA6;\n",
              "    }\n",
              "\n",
              "    [theme=dark] .colab-df-convert {\n",
              "      background-color: #3B4455;\n",
              "      fill: #D2E3FC;\n",
              "    }\n",
              "\n",
              "    [theme=dark] .colab-df-convert:hover {\n",
              "      background-color: #434B5C;\n",
              "      box-shadow: 0px 1px 3px 1px rgba(0, 0, 0, 0.15);\n",
              "      filter: drop-shadow(0px 1px 2px rgba(0, 0, 0, 0.3));\n",
              "      fill: #FFFFFF;\n",
              "    }\n",
              "  </style>\n",
              "\n",
              "      <script>\n",
              "        const buttonEl =\n",
              "          document.querySelector('#df-bc581331-cece-49a5-8a1b-1b356e81ac7d button.colab-df-convert');\n",
              "        buttonEl.style.display =\n",
              "          google.colab.kernel.accessAllowed ? 'block' : 'none';\n",
              "\n",
              "        async function convertToInteractive(key) {\n",
              "          const element = document.querySelector('#df-bc581331-cece-49a5-8a1b-1b356e81ac7d');\n",
              "          const dataTable =\n",
              "            await google.colab.kernel.invokeFunction('convertToInteractive',\n",
              "                                                     [key], {});\n",
              "          if (!dataTable) return;\n",
              "\n",
              "          const docLinkHtml = 'Like what you see? Visit the ' +\n",
              "            '<a target=\"_blank\" href=https://colab.research.google.com/notebooks/data_table.ipynb>data table notebook</a>'\n",
              "            + ' to learn more about interactive tables.';\n",
              "          element.innerHTML = '';\n",
              "          dataTable['output_type'] = 'display_data';\n",
              "          await google.colab.output.renderOutput(dataTable, element);\n",
              "          const docLink = document.createElement('div');\n",
              "          docLink.innerHTML = docLinkHtml;\n",
              "          element.appendChild(docLink);\n",
              "        }\n",
              "      </script>\n",
              "    </div>\n",
              "  </div>\n",
              "  "
            ]
          },
          "metadata": {},
          "execution_count": 54
        }
      ]
    },
    {
      "cell_type": "markdown",
      "source": [
        "Los descriptores estadísticos y todo lo obtenido previamente nos pueden ayudar a entender como son, de una forma más general, los datos. Pero si queremos conocer si siguen una distribución normal, la correlación entre las distintas variables, la detección de posibles valores espurios, .... habría que realizar una serie de diagramas y sus correspondientes análisis.\n",
        "\n"
      ],
      "metadata": {
        "id": "VViUoQlX72V4"
      }
    },
    {
      "cell_type": "markdown",
      "source": [
        "------------------------------------------------------\n",
        "\n",
        "Para empezar este análisis exploratorio, dibujaré los gráfico de distribución para cada variable y compobaré su normalidad"
      ],
      "metadata": {
        "id": "JGmxVmntAQvi"
      }
    },
    {
      "cell_type": "code",
      "source": [
        "for colname in df_train.columns[:]:\n",
        "  sns.distplot(df_train[colname], hist = True, kde = True, bins = 60, color = \"red\", kde_kws = {'linewidth': 3})\n",
        "  plt.show()"
      ],
      "metadata": {
        "id": "OBci3TxMf5Hy",
        "outputId": "68e35cc6-3158-4c53-a967-d24e858607e5",
        "colab": {
          "base_uri": "https://localhost:8080/",
          "height": 1000
        }
      },
      "execution_count": 55,
      "outputs": [
        {
          "output_type": "display_data",
          "data": {
            "text/plain": [
              "<Figure size 432x288 with 1 Axes>"
            ],
            "image/png": "[encoded data removed]"
          },
          "metadata": {}
        },
        {
          "output_type": "display_data",
          "data": {
            "text/plain": [
              "<Figure size 432x288 with 1 Axes>"
            ],
            "image/png": "[encoded data removed]"
          },
          "metadata": {}
        },
        {
          "output_type": "display_data",
          "data": {
            "text/plain": [
              "<Figure size 432x288 with 1 Axes>"
            ],
            "image/png": "[encoded data removed]"
          },
          "metadata": {}
        },
        {
          "output_type": "display_data",
          "data": {
            "text/plain": [
              "<Figure size 432x288 with 1 Axes>"
            ],
            "image/png": "[encoded data removed]"
          },
          "metadata": {}
        },
        {
          "output_type": "display_data",
          "data": {
            "text/plain": [
              "<Figure size 432x288 with 1 Axes>"
            ],
            "image/png": "[encoded data removed]"
          },
          "metadata": {}
        },
        {
          "output_type": "display_data",
          "data": {
            "text/plain": [
              "<Figure size 432x288 with 1 Axes>"
            ],
            "image/png": "[encoded data removed]"
          },
          "metadata": {}
        }
      ]
    },
    {
      "cell_type": "markdown",
      "source": [
        "Tras observar el anterior gráfico, he llegado a la conclusión de que ninguna de las variables sigue una distribución normal. Esto se debe a que su pico de densidad no se encuentra en el punto medio, haciendo que el diagrama fuese simétrico, sino que está, en la mayoría de casos, desplazado a la izquierda.\n",
        "\n",
        "También se puede observar que no hay ningún dato demasiado alejado del resto por lo que la existencia de valores espurios queda descartada."
      ],
      "metadata": {
        "id": "mhJ3yRm2Gr2w"
      }
    },
    {
      "cell_type": "markdown",
      "source": [
        "--------------------------------------------------------------------------------\n",
        "\n",
        "Lo siguiente que estudiaré será la correlación que tienen las distintas variables, ya que en caso de que algunas esten muy correladas entre sí eso podría causar que los modelos no fuesen tan buenos."
      ],
      "metadata": {
        "id": "Jex3C7hGeMTZ"
      }
    },
    {
      "cell_type": "code",
      "source": [
        "# Heatmap matriz de correlaciones\n",
        "# ==============================================================================\n",
        "corr_matrix = df_train.corr(method='pearson')\n",
        "fig, ax = plt.subplots(nrows=1, ncols=1, figsize=(8, 8))\n",
        "\n",
        "sns.heatmap(\n",
        "    corr_matrix,\n",
        "    annot     = True,\n",
        "    cbar      = False,\n",
        "    annot_kws = {\"size\": 8},\n",
        "    vmin      = -1,\n",
        "    vmax      = 1,\n",
        "    center    = 0,\n",
        "    cmap      = sns.diverging_palette(20, 220, n=200),\n",
        "    square    = True,\n",
        "    ax        = ax\n",
        ")\n",
        "\n",
        "ax.set_xticklabels(\n",
        "    ax.get_xticklabels(),\n",
        "    rotation = 45,\n",
        "    horizontalalignment = 'right',\n",
        ")\n",
        "\n",
        "ax.tick_params(labelsize = 10)"
      ],
      "metadata": {
        "id": "5P_3Znl8eiBf",
        "outputId": "6634759a-311e-430c-d03e-1105a91babf7",
        "colab": {
          "base_uri": "https://localhost:8080/",
          "height": 527
        }
      },
      "execution_count": 56,
      "outputs": [
        {
          "output_type": "display_data",
          "data": {
            "text/plain": [
              "<Figure size 576x576 with 1 Axes>"
            ],
            "image/png": "[encoded data removed]"
          },
          "metadata": {}
        }
      ]
    },
    {
      "cell_type": "markdown",
      "source": [
        "Como se puede observar en la anterior matriz, las variables `Cirulation` y `SL` están altamente correladas, más concretamente un 98%.\n",
        "Además `Circulation` está también bastante correlada con `HR`.\n",
        "Esto no es del todo significativo ya que, entendiendo un poco el trasfondo de los datos, tanto el azúcar en sangre como las pulsaciones son en sí conceptos que dependen el uno del otro, por lo que no sería un problema por el que preocuparse."
      ],
      "metadata": {
        "id": "Z739-EkYe1KF"
      }
    }
  ]
}