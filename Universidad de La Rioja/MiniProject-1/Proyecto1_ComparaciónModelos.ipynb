{
  "cells": [
    {
      "cell_type": "markdown",
      "metadata": {
        "id": "view-in-github",
        "colab_type": "text"
      },
      "source": [
        "<a href=\"https://colab.research.google.com/github/IA2122/entregable-1-paochoa/blob/main/Proyecto1_Comparaci%C3%B3nModelos.ipynb\" target=\"_parent\"><img src=\"https://colab.research.google.com/assets/colab-badge.svg\" alt=\"Open In Colab\"/></a>"
      ]
    },
    {
      "cell_type": "code",
      "execution_count": null,
      "metadata": {
        "id": "SJO1_5NaZBfO",
        "outputId": "30ce228f-c27f-4f73-9dfe-3d22e8bddef6",
        "colab": {
          "base_uri": "https://localhost:8080/"
        }
      },
      "outputs": [
        {
          "output_type": "stream",
          "name": "stderr",
          "text": [
            "/usr/local/lib/python3.7/dist-packages/statsmodels/tools/_testing.py:19: FutureWarning: pandas.util.testing is deprecated. Use the functions in the public API at pandas.testing instead.\n",
            "  import pandas.util.testing as tm\n"
          ]
        }
      ],
      "source": [
        "# Tratamiento de datos\n",
        "# ==============================================================================\n",
        "import pandas as pd\n",
        "import numpy as np\n",
        "\n",
        "# Gráficos\n",
        "# ==============================================================================\n",
        "import matplotlib.pyplot as plt\n",
        "from matplotlib import style\n",
        "import seaborn as sns\n",
        "\n",
        "# Preprocesado y modelado\n",
        "# ==============================================================================\n",
        "from scipy.stats import pearsonr\n",
        "from sklearn.linear_model import LinearRegression\n",
        "from sklearn.model_selection import train_test_split\n",
        "from sklearn.metrics import r2_score\n",
        "from sklearn.metrics import mean_squared_error\n",
        "import statsmodels.api as sm\n",
        "import statsmodels.formula.api as smf\n",
        "\n",
        "# Configuración matplotlib\n",
        "# ==============================================================================\n",
        "plt.rcParams['image.cmap'] = \"bwr\"\n",
        "#plt.rcParams['figure.dpi'] = \"100\"\n",
        "plt.rcParams['savefig.bbox'] = \"tight\"\n",
        "style.use('ggplot') or plt.style.use('ggplot')\n",
        "\n",
        "# Configuración warnings\n",
        "# ==============================================================================\n",
        "import warnings\n",
        "warnings.filterwarnings('ignore')\n",
        "from scipy.io import arff\n",
        "\n",
        "# Para dividir el conjunto de datos\n",
        "# ==============================================================================\n",
        "from sklearn.model_selection import train_test_split\n",
        "\n",
        "# Para comprobar como de buenos son los algoritmos\n",
        "# ==============================================================================\n",
        "from sklearn.metrics import classification_report\n",
        "from sklearn.model_selection import cross_val_score\n",
        "from sklearn.model_selection import GridSearchCV\n",
        "from sklearn.model_selection import RandomizedSearchCV\n",
        "from scipy.stats import randint as sp_randint\n",
        "\n",
        "# Algoritmos de los modelos\n",
        "# ==============================================================================\n",
        "from sklearn.neighbors import KNeighborsClassifier\n",
        "from sklearn.tree import DecisionTreeClassifier\n",
        "from sklearn.linear_model import LogisticRegression\n",
        "from sklearn.svm import SVC\n",
        "from sklearn.linear_model import Perceptron\n",
        "from sklearn.neural_network import MLPClassifier"
      ]
    },
    {
      "cell_type": "markdown",
      "source": [
        "Las siguientes funciones las usaré para aplicar a la técnica de validación K-fold esos métodos"
      ],
      "metadata": {
        "id": "6NZDSIvno5MH"
      }
    },
    {
      "cell_type": "code",
      "source": [
        "def gridsearch(model,parameters,scores,k):\n",
        "    for score in scores:\n",
        "        print(\"# Tuning hyper-parameters for %s\" % score)\n",
        "        print()\n",
        "\n",
        "        clf = GridSearchCV(model, parameters, cv=k,\n",
        "                           scoring='%s_macro' % score)\n",
        "        clf.fit(trainData, trainLabels)\n",
        "\n",
        "        print(\"Best parameters set found on development set:\")\n",
        "        print()\n",
        "        print(clf.best_params_)\n",
        "        print()\n",
        "        print(\"Grid scores on development set:\")\n",
        "        print()\n",
        "        means = clf.cv_results_['mean_test_score']\n",
        "        stds = clf.cv_results_['std_test_score']\n",
        "        for mean, std, params in zip(means, stds, clf.cv_results_['params']):\n",
        "            print(\"%0.3f (+/-%0.03f) for %r\"\n",
        "                  % (mean, std * 2, params))\n",
        "        print()"
      ],
      "metadata": {
        "id": "abT-VFkGo2mR"
      },
      "execution_count": null,
      "outputs": []
    },
    {
      "cell_type": "code",
      "source": [
        "def randomsearch(model,parameters,scores,k=5):\n",
        "    for score in scores:  \n",
        "      print(\"# Tuning hyper-parameters for %s\" % score)\n",
        "      print()\n",
        "\n",
        "      clf = RandomizedSearchCV(model, parameters,cv=k)\n",
        "      clf.fit(trainData, trainLabels)\n",
        "\n",
        "      print(\"Best parameters set found on development set:\")\n",
        "      print()\n",
        "      print(clf.best_params_)\n",
        "      print()"
      ],
      "metadata": {
        "id": "l-24KjtnpYIw"
      },
      "execution_count": null,
      "outputs": []
    },
    {
      "cell_type": "markdown",
      "source": [
        "--------------------------------------------------------------------------------"
      ],
      "metadata": {
        "id": "oRMAdIDmpYyd"
      }
    },
    {
      "cell_type": "code",
      "execution_count": null,
      "metadata": {
        "id": "Jt4eLX02ZBfR"
      },
      "outputs": [],
      "source": [
        "df_train = pd.read_csv('train.csv')"
      ]
    },
    {
      "cell_type": "code",
      "execution_count": null,
      "metadata": {
        "collapsed": true,
        "id": "IvEjoJt5ZBfR"
      },
      "outputs": [],
      "source": [
        "X =  df_train.values[:,:-1]\n",
        "Y =  df_train.values[:,-1]\n",
        "\n",
        "\n",
        "trainData, testData, trainLabels, testLabels = train_test_split(X, Y, test_size=0.2, random_state=0, shuffle=True)"
      ]
    },
    {
      "cell_type": "markdown",
      "metadata": {
        "id": "waoSUsuHZBfX"
      },
      "source": [
        "A continuación probaré los siguientes algoritmos para buscar los parámetros que produzcan mayor precisión para los datos de entrenamiento:\n",
        "\n",
        " - KNN\n",
        " - Árboles de decisión\n",
        " - Regresión logística\n",
        " - SVM\n",
        " - Redes neuronales\n",
        "\n",
        " Una vez obtenido dichos parámetros, crearé dicho algoritmo para ver como de bien se ajusta a los datos de testeo."
      ]
    },
    {
      "cell_type": "markdown",
      "source": [
        "--------------------------------------------------------------------------------\n",
        "\n",
        "KNN"
      ],
      "metadata": {
        "id": "XYdP-hygqyo3"
      }
    },
    {
      "cell_type": "code",
      "source": [
        "for k in range(1,10,1):\n",
        "    modelKNN = KNeighborsClassifier(n_neighbors=k)\n",
        "    scores = cross_val_score(modelKNN,trainData,trainLabels,cv=10)\n",
        "    print(\"k=%d, Precisión: %0.2f (+/- %0.2f)\" % (k, scores.mean(), scores.std() * 2))"
      ],
      "metadata": {
        "id": "pZyQ53_1obpp",
        "outputId": "44eefe8e-5a9c-489b-ef95-2e428628eb80",
        "colab": {
          "base_uri": "https://localhost:8080/"
        }
      },
      "execution_count": null,
      "outputs": [
        {
          "output_type": "stream",
          "name": "stdout",
          "text": [
            "k=1, Precisión: 0.59 (+/- 0.02)\n",
            "k=2, Precisión: 0.58 (+/- 0.02)\n",
            "k=3, Precisión: 0.59 (+/- 0.03)\n",
            "k=4, Precisión: 0.59 (+/- 0.04)\n",
            "k=5, Precisión: 0.59 (+/- 0.04)\n",
            "k=6, Precisión: 0.59 (+/- 0.02)\n",
            "k=7, Precisión: 0.60 (+/- 0.02)\n",
            "k=8, Precisión: 0.59 (+/- 0.02)\n",
            "k=9, Precisión: 0.59 (+/- 0.03)\n"
          ]
        }
      ]
    },
    {
      "cell_type": "code",
      "source": [
        "modelKNNBest = KNeighborsClassifier(n_neighbors= 7)\n",
        "modelKNNBest.fit(trainData, trainLabels)\n",
        "predictionsKNNBest = modelKNNBest.predict(testData)\n",
        "print(classification_report(testLabels, predictionsKNNBest))"
      ],
      "metadata": {
        "id": "NsGiuYriqFGG",
        "outputId": "3970806a-73e3-4c89-ff28-fab55330cbd2",
        "colab": {
          "base_uri": "https://localhost:8080/"
        }
      },
      "execution_count": null,
      "outputs": [
        {
          "output_type": "stream",
          "name": "stdout",
          "text": [
            "              precision    recall  f1-score   support\n",
            "\n",
            "         0.0       0.73      0.70      0.71       951\n",
            "         1.0       0.61      0.68      0.65       120\n",
            "         2.0       0.58      0.66      0.62       588\n",
            "         3.0       0.54      0.58      0.56       793\n",
            "         4.0       0.58      0.53      0.55       773\n",
            "         5.0       0.55      0.46      0.50       375\n",
            "\n",
            "    accuracy                           0.60      3600\n",
            "   macro avg       0.60      0.60      0.60      3600\n",
            "weighted avg       0.61      0.60      0.60      3600\n",
            "\n"
          ]
        }
      ]
    },
    {
      "cell_type": "markdown",
      "source": [
        "--------------------------------------------------------------------------------\n",
        "Árboles de decisión"
      ],
      "metadata": {
        "id": "k25E71usq2sQ"
      }
    },
    {
      "cell_type": "code",
      "source": [
        "for samples in range(2,13,1):\n",
        "    modelArbol = DecisionTreeClassifier(random_state=84, min_samples_split=samples)\n",
        "    scores = cross_val_score(modelArbol,trainData,trainLabels,cv=10)\n",
        "    print(\"samples=%d, Precisión: %0.2f (+/- %0.2f)\" % (samples, scores.mean(), scores.std() * 2))\n",
        "\n",
        "modelArbol.fit(trainData, trainLabels)"
      ],
      "metadata": {
        "id": "dYeUTqhTwhhb",
        "outputId": "388ea450-7266-4841-c994-e5ddeb5519cf",
        "colab": {
          "base_uri": "https://localhost:8080/"
        }
      },
      "execution_count": null,
      "outputs": [
        {
          "output_type": "stream",
          "name": "stdout",
          "text": [
            "samples=2, Precisión: 0.67 (+/- 0.02)\n",
            "samples=3, Precisión: 0.67 (+/- 0.03)\n",
            "samples=4, Precisión: 0.67 (+/- 0.03)\n",
            "samples=5, Precisión: 0.67 (+/- 0.03)\n",
            "samples=6, Precisión: 0.67 (+/- 0.03)\n",
            "samples=7, Precisión: 0.67 (+/- 0.02)\n",
            "samples=8, Precisión: 0.67 (+/- 0.02)\n",
            "samples=9, Precisión: 0.67 (+/- 0.03)\n",
            "samples=10, Precisión: 0.67 (+/- 0.02)\n",
            "samples=11, Precisión: 0.67 (+/- 0.02)\n",
            "samples=12, Precisión: 0.67 (+/- 0.03)\n"
          ]
        },
        {
          "output_type": "execute_result",
          "data": {
            "text/plain": [
              "DecisionTreeClassifier(min_samples_split=12, random_state=84)"
            ]
          },
          "metadata": {},
          "execution_count": 19
        }
      ]
    },
    {
      "cell_type": "markdown",
      "source": [
        "Aunque en este caso la variación de min_samples_split no es muy significativa (ya que dan todos una precisión muy similar), no cogeré cualquier número. Esto lo hago ya que siempre es recomendable coger el mejor modelo, pero también el más simple"
      ],
      "metadata": {
        "id": "JGKpjguRsyAI"
      }
    },
    {
      "cell_type": "code",
      "source": [
        "modelArbolBest = DecisionTreeClassifier(random_state=84, min_samples_split=2)\n",
        "modelArbolBest.fit(trainData, trainLabels)\n",
        "predictionsArbolBest = modelArbolBest.predict(testData)\n",
        "print(classification_report(testLabels, predictionsArbolBest))"
      ],
      "metadata": {
        "id": "J0nybGxbq7Op",
        "outputId": "161e99fe-d0b7-4490-f9e7-e2a8ba55d643",
        "colab": {
          "base_uri": "https://localhost:8080/"
        }
      },
      "execution_count": null,
      "outputs": [
        {
          "output_type": "stream",
          "name": "stdout",
          "text": [
            "              precision    recall  f1-score   support\n",
            "\n",
            "         0.0       0.91      0.82      0.86       951\n",
            "         1.0       0.75      0.79      0.77       120\n",
            "         2.0       0.68      0.68      0.68       588\n",
            "         3.0       0.59      0.60      0.59       793\n",
            "         4.0       0.58      0.60      0.59       773\n",
            "         5.0       0.54      0.60      0.56       375\n",
            "\n",
            "    accuracy                           0.68      3600\n",
            "   macro avg       0.67      0.68      0.68      3600\n",
            "weighted avg       0.69      0.68      0.68      3600\n",
            "\n"
          ]
        }
      ]
    },
    {
      "cell_type": "markdown",
      "source": [
        "--------------------------------------------------------------------------------\n",
        "Regresión Lineal\n",
        "\n",
        "\n",
        "Para este usaré el método de GridSearch ya que tiene más de un parámetro que buscar"
      ],
      "metadata": {
        "id": "-OtxzhxCq7l6"
      }
    },
    {
      "cell_type": "code",
      "source": [
        "modelLR = LogisticRegression()\n",
        "tuned_parameters = [{'solver': ['newton-cg', 'lbfgs'],\n",
        "                     'penalty': ['l2', 'none'],\n",
        "                     'C': [0.01, 0.1,1, 10]},\n",
        "                    {'solver': ['liblinear'],\n",
        "                     'penalty': ['l2', 'l1'],\n",
        "                     'C': [0.01, 0.1,1, 10]}]\n",
        "scores = ['precision', 'recall']"
      ],
      "metadata": {
        "id": "5vrbcMFjtZml"
      },
      "execution_count": null,
      "outputs": []
    },
    {
      "cell_type": "code",
      "source": [
        "# Aunque no se le pase nada internamente está entrenando el modelo ya que hace uso de los objetos definidos para el entrenamiento\n",
        "import time\n",
        "%time\n",
        "gridsearch(modelLR,tuned_parameters,scores,5)\n",
        "# le cuesta 8 minutos ejecutarse"
      ],
      "metadata": {
        "id": "7d0Batfet_D3",
        "outputId": "48e7fe8d-2342-4600-90d0-6b1c55cb3c3c",
        "colab": {
          "base_uri": "https://localhost:8080/"
        }
      },
      "execution_count": null,
      "outputs": [
        {
          "output_type": "stream",
          "name": "stdout",
          "text": [
            "CPU times: user 4 µs, sys: 0 ns, total: 4 µs\n",
            "Wall time: 9.3 µs\n",
            "# Tuning hyper-parameters for precision\n",
            "\n",
            "Best parameters set found on development set:\n",
            "\n",
            "{'C': 1, 'penalty': 'l2', 'solver': 'newton-cg'}\n",
            "\n",
            "Grid scores on development set:\n",
            "\n",
            "0.194 (+/-0.019) for {'C': 0.01, 'penalty': 'l2', 'solver': 'newton-cg'}\n",
            "0.179 (+/-0.045) for {'C': 0.01, 'penalty': 'l2', 'solver': 'lbfgs'}\n",
            "0.193 (+/-0.020) for {'C': 0.01, 'penalty': 'none', 'solver': 'newton-cg'}\n",
            "0.171 (+/-0.038) for {'C': 0.01, 'penalty': 'none', 'solver': 'lbfgs'}\n",
            "0.196 (+/-0.027) for {'C': 0.1, 'penalty': 'l2', 'solver': 'newton-cg'}\n",
            "0.171 (+/-0.043) for {'C': 0.1, 'penalty': 'l2', 'solver': 'lbfgs'}\n",
            "0.193 (+/-0.020) for {'C': 0.1, 'penalty': 'none', 'solver': 'newton-cg'}\n",
            "0.171 (+/-0.038) for {'C': 0.1, 'penalty': 'none', 'solver': 'lbfgs'}\n",
            "0.198 (+/-0.031) for {'C': 1, 'penalty': 'l2', 'solver': 'newton-cg'}\n",
            "0.175 (+/-0.035) for {'C': 1, 'penalty': 'l2', 'solver': 'lbfgs'}\n",
            "0.193 (+/-0.020) for {'C': 1, 'penalty': 'none', 'solver': 'newton-cg'}\n",
            "0.171 (+/-0.038) for {'C': 1, 'penalty': 'none', 'solver': 'lbfgs'}\n",
            "0.194 (+/-0.023) for {'C': 10, 'penalty': 'l2', 'solver': 'newton-cg'}\n",
            "0.171 (+/-0.039) for {'C': 10, 'penalty': 'l2', 'solver': 'lbfgs'}\n",
            "0.193 (+/-0.020) for {'C': 10, 'penalty': 'none', 'solver': 'newton-cg'}\n",
            "0.171 (+/-0.038) for {'C': 10, 'penalty': 'none', 'solver': 'lbfgs'}\n",
            "0.182 (+/-0.050) for {'C': 0.01, 'penalty': 'l2', 'solver': 'liblinear'}\n",
            "0.195 (+/-0.033) for {'C': 0.01, 'penalty': 'l1', 'solver': 'liblinear'}\n",
            "0.182 (+/-0.050) for {'C': 0.1, 'penalty': 'l2', 'solver': 'liblinear'}\n",
            "0.196 (+/-0.032) for {'C': 0.1, 'penalty': 'l1', 'solver': 'liblinear'}\n",
            "0.182 (+/-0.050) for {'C': 1, 'penalty': 'l2', 'solver': 'liblinear'}\n",
            "0.196 (+/-0.031) for {'C': 1, 'penalty': 'l1', 'solver': 'liblinear'}\n",
            "0.182 (+/-0.050) for {'C': 10, 'penalty': 'l2', 'solver': 'liblinear'}\n",
            "0.196 (+/-0.030) for {'C': 10, 'penalty': 'l1', 'solver': 'liblinear'}\n",
            "\n",
            "# Tuning hyper-parameters for recall\n",
            "\n",
            "Best parameters set found on development set:\n",
            "\n",
            "{'C': 1, 'penalty': 'l2', 'solver': 'lbfgs'}\n",
            "\n",
            "Grid scores on development set:\n",
            "\n",
            "0.196 (+/-0.018) for {'C': 0.01, 'penalty': 'l2', 'solver': 'newton-cg'}\n",
            "0.201 (+/-0.019) for {'C': 0.01, 'penalty': 'l2', 'solver': 'lbfgs'}\n",
            "0.196 (+/-0.019) for {'C': 0.01, 'penalty': 'none', 'solver': 'newton-cg'}\n",
            "0.200 (+/-0.020) for {'C': 0.01, 'penalty': 'none', 'solver': 'lbfgs'}\n",
            "0.197 (+/-0.027) for {'C': 0.1, 'penalty': 'l2', 'solver': 'newton-cg'}\n",
            "0.200 (+/-0.021) for {'C': 0.1, 'penalty': 'l2', 'solver': 'lbfgs'}\n",
            "0.196 (+/-0.019) for {'C': 0.1, 'penalty': 'none', 'solver': 'newton-cg'}\n",
            "0.200 (+/-0.020) for {'C': 0.1, 'penalty': 'none', 'solver': 'lbfgs'}\n",
            "0.197 (+/-0.026) for {'C': 1, 'penalty': 'l2', 'solver': 'newton-cg'}\n",
            "0.202 (+/-0.021) for {'C': 1, 'penalty': 'l2', 'solver': 'lbfgs'}\n",
            "0.196 (+/-0.019) for {'C': 1, 'penalty': 'none', 'solver': 'newton-cg'}\n",
            "0.200 (+/-0.020) for {'C': 1, 'penalty': 'none', 'solver': 'lbfgs'}\n",
            "0.195 (+/-0.021) for {'C': 10, 'penalty': 'l2', 'solver': 'newton-cg'}\n",
            "0.200 (+/-0.021) for {'C': 10, 'penalty': 'l2', 'solver': 'lbfgs'}\n",
            "0.196 (+/-0.019) for {'C': 10, 'penalty': 'none', 'solver': 'newton-cg'}\n",
            "0.200 (+/-0.020) for {'C': 10, 'penalty': 'none', 'solver': 'lbfgs'}\n",
            "0.191 (+/-0.011) for {'C': 0.01, 'penalty': 'l2', 'solver': 'liblinear'}\n",
            "0.197 (+/-0.027) for {'C': 0.01, 'penalty': 'l1', 'solver': 'liblinear'}\n",
            "0.191 (+/-0.011) for {'C': 0.1, 'penalty': 'l2', 'solver': 'liblinear'}\n",
            "0.196 (+/-0.026) for {'C': 0.1, 'penalty': 'l1', 'solver': 'liblinear'}\n",
            "0.191 (+/-0.011) for {'C': 1, 'penalty': 'l2', 'solver': 'liblinear'}\n",
            "0.196 (+/-0.026) for {'C': 1, 'penalty': 'l1', 'solver': 'liblinear'}\n",
            "0.191 (+/-0.011) for {'C': 10, 'penalty': 'l2', 'solver': 'liblinear'}\n",
            "0.196 (+/-0.026) for {'C': 10, 'penalty': 'l1', 'solver': 'liblinear'}\n",
            "\n"
          ]
        }
      ]
    },
    {
      "cell_type": "code",
      "source": [
        "modelLR = LogisticRegression(random_state=84, C=0.01, penalty='l2', solver='newton-cg')\n",
        "modelLR.fit(trainData, trainLabels)\n",
        "predictionsLR = modelLR.predict(testData)\n",
        "print(classification_report(testLabels, predictionsLR))"
      ],
      "metadata": {
        "id": "bgZeGEgSxh_A",
        "outputId": "12228fb4-0a2d-4969-d7c7-3bc0849f8ddd",
        "colab": {
          "base_uri": "https://localhost:8080/"
        }
      },
      "execution_count": null,
      "outputs": [
        {
          "output_type": "stream",
          "name": "stdout",
          "text": [
            "              precision    recall  f1-score   support\n",
            "\n",
            "         0.0       0.31      0.64      0.41       951\n",
            "         1.0       0.00      0.00      0.00       120\n",
            "         2.0       0.43      0.09      0.15       588\n",
            "         3.0       0.30      0.27      0.29       793\n",
            "         4.0       0.19      0.19      0.19       773\n",
            "         5.0       0.00      0.00      0.00       375\n",
            "\n",
            "    accuracy                           0.28      3600\n",
            "   macro avg       0.21      0.20      0.17      3600\n",
            "weighted avg       0.26      0.28      0.24      3600\n",
            "\n"
          ]
        }
      ]
    },
    {
      "cell_type": "markdown",
      "source": [
        "Debido a los malos resultados que da, el algoritmo de decisiones queda descartado como posible modelo."
      ],
      "metadata": {
        "id": "Ir4Cn2Ni4zx7"
      }
    },
    {
      "cell_type": "markdown",
      "source": [
        "--------------------------------------------------------------------------------\n",
        "SVM linear "
      ],
      "metadata": {
        "id": "ZqJBc-5drCIj"
      }
    },
    {
      "cell_type": "code",
      "source": [
        "for c in [0.1, 1, 10, 100, 1000]:\n",
        "    modelSVMLinear = SVC(kernel=\"linear\",random_state=84, C=c)\n",
        "    scores = cross_val_score(modelSVMLinear,trainData,trainLabels,cv=10)\n",
        "    print(\"c=%0.2f, Precisión: %0.2f (+/- %0.2f)\" % (c, scores.mean(), scores.std() * 2))"
      ],
      "metadata": {
        "id": "dpXA63V0xsuc"
      },
      "execution_count": null,
      "outputs": []
    },
    {
      "cell_type": "code",
      "source": [
        "modelSVMLinealBest = SVC(kernel=\"linear\",random_state=84,C=0.1)\n",
        "modelSVMLinealBest.fit(trainData, trainLabels)\n",
        "predictionSVMLinealBest = modelSVMLinealBest.predict(testData)\n",
        "print(classification_report(testLabels, predictionSVMLinealBest))"
      ],
      "metadata": {
        "id": "0MoOQtdN8Puq"
      },
      "execution_count": null,
      "outputs": []
    },
    {
      "cell_type": "markdown",
      "source": [
        " Debido a lo mucho que le cuesta ejecutarse, he decidido descartarlo como posible algoritmo para realizar los modelos"
      ],
      "metadata": {
        "id": "TboA2hHSIdGX"
      }
    },
    {
      "cell_type": "code",
      "source": [
        "modelSVMLinealBest = SVC(kernel=\"linear\",random_state=84,)\n",
        "modelSVMLinealBest.fit(trainData, trainLabels)\n",
        "predictionSVMLinealBest = modelSVMLinealBest.predict(testData)\n",
        "print(classification_report(testLabels, predictionSVMLinealBest))"
      ],
      "metadata": {
        "id": "8AlPgROUrHCu"
      },
      "execution_count": null,
      "outputs": []
    },
    {
      "cell_type": "markdown",
      "source": [
        "--------------------------------------------------------------------------------\n",
        "SVM sigmoideo"
      ],
      "metadata": {
        "id": "0jng1On0rGwc"
      }
    },
    {
      "cell_type": "code",
      "source": [
        "modelSVMSigmoid = SVC(kernel=\"sigmoid\",random_state=84)\n",
        "tuned_parametersSVM = [{'gamma': [1, 2, 3, 5],\n",
        "                     'coef0': [1, 3, 5, 7],\n",
        "                     'C': [0.01, 0.1,1, 10]}]\n",
        "scoresSVM = ['precision', 'recall']"
      ],
      "metadata": {
        "id": "LosuMxXo1DHH"
      },
      "execution_count": null,
      "outputs": []
    },
    {
      "cell_type": "code",
      "source": [
        "gridsearch(modelSVMSigmoid,tuned_parametersSVM,scoresSVM,5)"
      ],
      "metadata": {
        "id": "so5Be6xV1nLW",
        "outputId": "ff377bd1-6bd4-4c06-9065-532b40fcc19c",
        "colab": {
          "base_uri": "https://localhost:8080/"
        }
      },
      "execution_count": null,
      "outputs": [
        {
          "output_type": "stream",
          "name": "stdout",
          "text": [
            "# Tuning hyper-parameters for precision\n",
            "\n",
            "Best parameters set found on development set:\n",
            "\n",
            "{'C': 0.01, 'coef0': 1, 'gamma': 1}\n",
            "\n",
            "Grid scores on development set:\n",
            "\n",
            "0.047 (+/-0.000) for {'C': 0.01, 'coef0': 1, 'gamma': 1}\n",
            "0.047 (+/-0.000) for {'C': 0.01, 'coef0': 1, 'gamma': 2}\n",
            "0.047 (+/-0.000) for {'C': 0.01, 'coef0': 1, 'gamma': 3}\n",
            "0.047 (+/-0.000) for {'C': 0.01, 'coef0': 1, 'gamma': 5}\n",
            "0.047 (+/-0.000) for {'C': 0.01, 'coef0': 3, 'gamma': 1}\n",
            "0.047 (+/-0.000) for {'C': 0.01, 'coef0': 3, 'gamma': 2}\n",
            "0.047 (+/-0.000) for {'C': 0.01, 'coef0': 3, 'gamma': 3}\n",
            "0.047 (+/-0.000) for {'C': 0.01, 'coef0': 3, 'gamma': 5}\n",
            "0.047 (+/-0.000) for {'C': 0.01, 'coef0': 5, 'gamma': 1}\n",
            "0.047 (+/-0.000) for {'C': 0.01, 'coef0': 5, 'gamma': 2}\n",
            "0.047 (+/-0.000) for {'C': 0.01, 'coef0': 5, 'gamma': 3}\n",
            "0.047 (+/-0.000) for {'C': 0.01, 'coef0': 5, 'gamma': 5}\n",
            "0.047 (+/-0.000) for {'C': 0.01, 'coef0': 7, 'gamma': 1}\n",
            "0.047 (+/-0.000) for {'C': 0.01, 'coef0': 7, 'gamma': 2}\n",
            "0.047 (+/-0.000) for {'C': 0.01, 'coef0': 7, 'gamma': 3}\n",
            "0.047 (+/-0.000) for {'C': 0.01, 'coef0': 7, 'gamma': 5}\n",
            "0.047 (+/-0.000) for {'C': 0.1, 'coef0': 1, 'gamma': 1}\n",
            "0.047 (+/-0.000) for {'C': 0.1, 'coef0': 1, 'gamma': 2}\n",
            "0.047 (+/-0.000) for {'C': 0.1, 'coef0': 1, 'gamma': 3}\n",
            "0.047 (+/-0.000) for {'C': 0.1, 'coef0': 1, 'gamma': 5}\n",
            "0.047 (+/-0.000) for {'C': 0.1, 'coef0': 3, 'gamma': 1}\n",
            "0.047 (+/-0.000) for {'C': 0.1, 'coef0': 3, 'gamma': 2}\n",
            "0.047 (+/-0.000) for {'C': 0.1, 'coef0': 3, 'gamma': 3}\n",
            "0.047 (+/-0.000) for {'C': 0.1, 'coef0': 3, 'gamma': 5}\n",
            "0.047 (+/-0.000) for {'C': 0.1, 'coef0': 5, 'gamma': 1}\n",
            "0.047 (+/-0.000) for {'C': 0.1, 'coef0': 5, 'gamma': 2}\n",
            "0.047 (+/-0.000) for {'C': 0.1, 'coef0': 5, 'gamma': 3}\n",
            "0.047 (+/-0.000) for {'C': 0.1, 'coef0': 5, 'gamma': 5}\n",
            "0.047 (+/-0.000) for {'C': 0.1, 'coef0': 7, 'gamma': 1}\n",
            "0.047 (+/-0.000) for {'C': 0.1, 'coef0': 7, 'gamma': 2}\n",
            "0.047 (+/-0.000) for {'C': 0.1, 'coef0': 7, 'gamma': 3}\n",
            "0.047 (+/-0.000) for {'C': 0.1, 'coef0': 7, 'gamma': 5}\n",
            "0.047 (+/-0.000) for {'C': 1, 'coef0': 1, 'gamma': 1}\n",
            "0.047 (+/-0.000) for {'C': 1, 'coef0': 1, 'gamma': 2}\n",
            "0.047 (+/-0.000) for {'C': 1, 'coef0': 1, 'gamma': 3}\n",
            "0.047 (+/-0.000) for {'C': 1, 'coef0': 1, 'gamma': 5}\n",
            "0.047 (+/-0.000) for {'C': 1, 'coef0': 3, 'gamma': 1}\n",
            "0.047 (+/-0.000) for {'C': 1, 'coef0': 3, 'gamma': 2}\n",
            "0.047 (+/-0.000) for {'C': 1, 'coef0': 3, 'gamma': 3}\n",
            "0.047 (+/-0.000) for {'C': 1, 'coef0': 3, 'gamma': 5}\n",
            "0.047 (+/-0.000) for {'C': 1, 'coef0': 5, 'gamma': 1}\n",
            "0.047 (+/-0.000) for {'C': 1, 'coef0': 5, 'gamma': 2}\n",
            "0.047 (+/-0.000) for {'C': 1, 'coef0': 5, 'gamma': 3}\n",
            "0.047 (+/-0.000) for {'C': 1, 'coef0': 5, 'gamma': 5}\n",
            "0.047 (+/-0.000) for {'C': 1, 'coef0': 7, 'gamma': 1}\n",
            "0.047 (+/-0.000) for {'C': 1, 'coef0': 7, 'gamma': 2}\n",
            "0.047 (+/-0.000) for {'C': 1, 'coef0': 7, 'gamma': 3}\n",
            "0.047 (+/-0.000) for {'C': 1, 'coef0': 7, 'gamma': 5}\n",
            "0.047 (+/-0.000) for {'C': 10, 'coef0': 1, 'gamma': 1}\n",
            "0.047 (+/-0.000) for {'C': 10, 'coef0': 1, 'gamma': 2}\n",
            "0.047 (+/-0.000) for {'C': 10, 'coef0': 1, 'gamma': 3}\n",
            "0.047 (+/-0.000) for {'C': 10, 'coef0': 1, 'gamma': 5}\n",
            "0.047 (+/-0.000) for {'C': 10, 'coef0': 3, 'gamma': 1}\n",
            "0.047 (+/-0.000) for {'C': 10, 'coef0': 3, 'gamma': 2}\n",
            "0.047 (+/-0.000) for {'C': 10, 'coef0': 3, 'gamma': 3}\n",
            "0.047 (+/-0.000) for {'C': 10, 'coef0': 3, 'gamma': 5}\n",
            "0.047 (+/-0.000) for {'C': 10, 'coef0': 5, 'gamma': 1}\n",
            "0.047 (+/-0.000) for {'C': 10, 'coef0': 5, 'gamma': 2}\n",
            "0.047 (+/-0.000) for {'C': 10, 'coef0': 5, 'gamma': 3}\n",
            "0.047 (+/-0.000) for {'C': 10, 'coef0': 5, 'gamma': 5}\n",
            "0.047 (+/-0.000) for {'C': 10, 'coef0': 7, 'gamma': 1}\n",
            "0.047 (+/-0.000) for {'C': 10, 'coef0': 7, 'gamma': 2}\n",
            "0.047 (+/-0.000) for {'C': 10, 'coef0': 7, 'gamma': 3}\n",
            "0.047 (+/-0.000) for {'C': 10, 'coef0': 7, 'gamma': 5}\n",
            "\n",
            "# Tuning hyper-parameters for recall\n",
            "\n",
            "Best parameters set found on development set:\n",
            "\n",
            "{'C': 0.01, 'coef0': 1, 'gamma': 1}\n",
            "\n",
            "Grid scores on development set:\n",
            "\n",
            "0.167 (+/-0.000) for {'C': 0.01, 'coef0': 1, 'gamma': 1}\n",
            "0.167 (+/-0.000) for {'C': 0.01, 'coef0': 1, 'gamma': 2}\n",
            "0.167 (+/-0.000) for {'C': 0.01, 'coef0': 1, 'gamma': 3}\n",
            "0.167 (+/-0.000) for {'C': 0.01, 'coef0': 1, 'gamma': 5}\n",
            "0.167 (+/-0.000) for {'C': 0.01, 'coef0': 3, 'gamma': 1}\n",
            "0.167 (+/-0.000) for {'C': 0.01, 'coef0': 3, 'gamma': 2}\n",
            "0.167 (+/-0.000) for {'C': 0.01, 'coef0': 3, 'gamma': 3}\n",
            "0.167 (+/-0.000) for {'C': 0.01, 'coef0': 3, 'gamma': 5}\n",
            "0.167 (+/-0.000) for {'C': 0.01, 'coef0': 5, 'gamma': 1}\n",
            "0.167 (+/-0.000) for {'C': 0.01, 'coef0': 5, 'gamma': 2}\n",
            "0.167 (+/-0.000) for {'C': 0.01, 'coef0': 5, 'gamma': 3}\n",
            "0.167 (+/-0.000) for {'C': 0.01, 'coef0': 5, 'gamma': 5}\n",
            "0.167 (+/-0.000) for {'C': 0.01, 'coef0': 7, 'gamma': 1}\n",
            "0.167 (+/-0.000) for {'C': 0.01, 'coef0': 7, 'gamma': 2}\n",
            "0.167 (+/-0.000) for {'C': 0.01, 'coef0': 7, 'gamma': 3}\n",
            "0.167 (+/-0.000) for {'C': 0.01, 'coef0': 7, 'gamma': 5}\n",
            "0.167 (+/-0.000) for {'C': 0.1, 'coef0': 1, 'gamma': 1}\n",
            "0.167 (+/-0.000) for {'C': 0.1, 'coef0': 1, 'gamma': 2}\n",
            "0.167 (+/-0.000) for {'C': 0.1, 'coef0': 1, 'gamma': 3}\n",
            "0.167 (+/-0.000) for {'C': 0.1, 'coef0': 1, 'gamma': 5}\n",
            "0.167 (+/-0.000) for {'C': 0.1, 'coef0': 3, 'gamma': 1}\n",
            "0.167 (+/-0.000) for {'C': 0.1, 'coef0': 3, 'gamma': 2}\n",
            "0.167 (+/-0.000) for {'C': 0.1, 'coef0': 3, 'gamma': 3}\n",
            "0.167 (+/-0.000) for {'C': 0.1, 'coef0': 3, 'gamma': 5}\n",
            "0.167 (+/-0.000) for {'C': 0.1, 'coef0': 5, 'gamma': 1}\n",
            "0.167 (+/-0.000) for {'C': 0.1, 'coef0': 5, 'gamma': 2}\n",
            "0.167 (+/-0.000) for {'C': 0.1, 'coef0': 5, 'gamma': 3}\n",
            "0.167 (+/-0.000) for {'C': 0.1, 'coef0': 5, 'gamma': 5}\n",
            "0.167 (+/-0.000) for {'C': 0.1, 'coef0': 7, 'gamma': 1}\n",
            "0.167 (+/-0.000) for {'C': 0.1, 'coef0': 7, 'gamma': 2}\n",
            "0.167 (+/-0.000) for {'C': 0.1, 'coef0': 7, 'gamma': 3}\n",
            "0.167 (+/-0.000) for {'C': 0.1, 'coef0': 7, 'gamma': 5}\n",
            "0.167 (+/-0.000) for {'C': 1, 'coef0': 1, 'gamma': 1}\n",
            "0.167 (+/-0.000) for {'C': 1, 'coef0': 1, 'gamma': 2}\n",
            "0.167 (+/-0.000) for {'C': 1, 'coef0': 1, 'gamma': 3}\n",
            "0.167 (+/-0.000) for {'C': 1, 'coef0': 1, 'gamma': 5}\n",
            "0.167 (+/-0.000) for {'C': 1, 'coef0': 3, 'gamma': 1}\n",
            "0.167 (+/-0.000) for {'C': 1, 'coef0': 3, 'gamma': 2}\n",
            "0.167 (+/-0.000) for {'C': 1, 'coef0': 3, 'gamma': 3}\n",
            "0.167 (+/-0.000) for {'C': 1, 'coef0': 3, 'gamma': 5}\n",
            "0.167 (+/-0.000) for {'C': 1, 'coef0': 5, 'gamma': 1}\n",
            "0.167 (+/-0.000) for {'C': 1, 'coef0': 5, 'gamma': 2}\n",
            "0.167 (+/-0.000) for {'C': 1, 'coef0': 5, 'gamma': 3}\n",
            "0.167 (+/-0.000) for {'C': 1, 'coef0': 5, 'gamma': 5}\n",
            "0.167 (+/-0.000) for {'C': 1, 'coef0': 7, 'gamma': 1}\n",
            "0.167 (+/-0.000) for {'C': 1, 'coef0': 7, 'gamma': 2}\n",
            "0.167 (+/-0.000) for {'C': 1, 'coef0': 7, 'gamma': 3}\n",
            "0.167 (+/-0.000) for {'C': 1, 'coef0': 7, 'gamma': 5}\n",
            "0.167 (+/-0.000) for {'C': 10, 'coef0': 1, 'gamma': 1}\n",
            "0.167 (+/-0.000) for {'C': 10, 'coef0': 1, 'gamma': 2}\n",
            "0.167 (+/-0.000) for {'C': 10, 'coef0': 1, 'gamma': 3}\n",
            "0.167 (+/-0.000) for {'C': 10, 'coef0': 1, 'gamma': 5}\n",
            "0.167 (+/-0.000) for {'C': 10, 'coef0': 3, 'gamma': 1}\n",
            "0.167 (+/-0.000) for {'C': 10, 'coef0': 3, 'gamma': 2}\n",
            "0.167 (+/-0.000) for {'C': 10, 'coef0': 3, 'gamma': 3}\n",
            "0.167 (+/-0.000) for {'C': 10, 'coef0': 3, 'gamma': 5}\n",
            "0.167 (+/-0.000) for {'C': 10, 'coef0': 5, 'gamma': 1}\n",
            "0.167 (+/-0.000) for {'C': 10, 'coef0': 5, 'gamma': 2}\n",
            "0.167 (+/-0.000) for {'C': 10, 'coef0': 5, 'gamma': 3}\n",
            "0.167 (+/-0.000) for {'C': 10, 'coef0': 5, 'gamma': 5}\n",
            "0.167 (+/-0.000) for {'C': 10, 'coef0': 7, 'gamma': 1}\n",
            "0.167 (+/-0.000) for {'C': 10, 'coef0': 7, 'gamma': 2}\n",
            "0.167 (+/-0.000) for {'C': 10, 'coef0': 7, 'gamma': 3}\n",
            "0.167 (+/-0.000) for {'C': 10, 'coef0': 7, 'gamma': 5}\n",
            "\n"
          ]
        }
      ]
    },
    {
      "cell_type": "code",
      "source": [
        "modelSVMSigmoidBest = SVC(kernel=\"sigmoid\", gamma = 1, coef0 = 1, C=0.01)\n",
        "modelSVMSigmoidBest.fit(trainData, trainLabels)\n",
        "predictionsSVMSigmoidBest = modelSVMSigmoidBest.predict(testData)\n",
        "print(classification_report(testLabels, predictionsSVMSigmoidBest))"
      ],
      "metadata": {
        "id": "bM0llb8WrJtE",
        "outputId": "e288bbe8-ef0c-42e7-94e6-3803f6ff11de",
        "colab": {
          "base_uri": "https://localhost:8080/"
        }
      },
      "execution_count": null,
      "outputs": [
        {
          "output_type": "stream",
          "name": "stdout",
          "text": [
            "              precision    recall  f1-score   support\n",
            "\n",
            "         0.0       0.26      1.00      0.42       951\n",
            "         1.0       0.00      0.00      0.00       120\n",
            "         2.0       0.00      0.00      0.00       588\n",
            "         3.0       0.00      0.00      0.00       793\n",
            "         4.0       0.00      0.00      0.00       773\n",
            "         5.0       0.00      0.00      0.00       375\n",
            "\n",
            "    accuracy                           0.26      3600\n",
            "   macro avg       0.04      0.17      0.07      3600\n",
            "weighted avg       0.07      0.26      0.11      3600\n",
            "\n"
          ]
        }
      ]
    },
    {
      "cell_type": "markdown",
      "source": [
        "Como es una precisión todavía menor que en los árboles de decisión, descarto también este algoritmo como posible modelo."
      ],
      "metadata": {
        "id": "LD6K106L-U0T"
      }
    },
    {
      "cell_type": "markdown",
      "source": [
        "--------------------------------------------------------------------------------\n",
        "Perceptron"
      ],
      "metadata": {
        "id": "1Yqnm6CMrKE2"
      }
    },
    {
      "cell_type": "code",
      "source": [
        "modelPerceptron = Perceptron(random_state=84)\n",
        "tuned_parametersPerceptron = [{'max_iter': [10, 100, 1000, 100000],\n",
        "                     'eta0': [0.01, 0.1, 1, 10]}]\n",
        "scoresPerceptron = ['precision', 'recall']"
      ],
      "metadata": {
        "id": "jg4q0GJSx239"
      },
      "execution_count": null,
      "outputs": []
    },
    {
      "cell_type": "code",
      "source": [
        "gridsearch(modelPerceptron,tuned_parametersPerceptron,scoresPerceptron,5)"
      ],
      "metadata": {
        "id": "70WgZIA-npEk",
        "outputId": "a119a5cb-af31-4f48-dd7e-a281eb3cc371",
        "colab": {
          "base_uri": "https://localhost:8080/"
        }
      },
      "execution_count": null,
      "outputs": [
        {
          "output_type": "stream",
          "name": "stdout",
          "text": [
            "# Tuning hyper-parameters for precision\n",
            "\n",
            "Best parameters set found on development set:\n",
            "\n",
            "{'eta0': 0.01, 'max_iter': 10}\n",
            "\n",
            "Grid scores on development set:\n",
            "\n",
            "0.127 (+/-0.126) for {'eta0': 0.01, 'max_iter': 10}\n",
            "0.122 (+/-0.075) for {'eta0': 0.01, 'max_iter': 100}\n",
            "0.122 (+/-0.075) for {'eta0': 0.01, 'max_iter': 1000}\n",
            "0.122 (+/-0.075) for {'eta0': 0.01, 'max_iter': 100000}\n",
            "0.127 (+/-0.126) for {'eta0': 0.1, 'max_iter': 10}\n",
            "0.122 (+/-0.075) for {'eta0': 0.1, 'max_iter': 100}\n",
            "0.122 (+/-0.075) for {'eta0': 0.1, 'max_iter': 1000}\n",
            "0.122 (+/-0.075) for {'eta0': 0.1, 'max_iter': 100000}\n",
            "0.127 (+/-0.126) for {'eta0': 1, 'max_iter': 10}\n",
            "0.122 (+/-0.075) for {'eta0': 1, 'max_iter': 100}\n",
            "0.122 (+/-0.075) for {'eta0': 1, 'max_iter': 1000}\n",
            "0.122 (+/-0.075) for {'eta0': 1, 'max_iter': 100000}\n",
            "0.127 (+/-0.126) for {'eta0': 10, 'max_iter': 10}\n",
            "0.122 (+/-0.075) for {'eta0': 10, 'max_iter': 100}\n",
            "0.122 (+/-0.075) for {'eta0': 10, 'max_iter': 1000}\n",
            "0.122 (+/-0.075) for {'eta0': 10, 'max_iter': 100000}\n",
            "\n",
            "# Tuning hyper-parameters for recall\n",
            "\n",
            "Best parameters set found on development set:\n",
            "\n",
            "{'eta0': 0.01, 'max_iter': 100}\n",
            "\n",
            "Grid scores on development set:\n",
            "\n",
            "0.178 (+/-0.019) for {'eta0': 0.01, 'max_iter': 10}\n",
            "0.191 (+/-0.040) for {'eta0': 0.01, 'max_iter': 100}\n",
            "0.191 (+/-0.040) for {'eta0': 0.01, 'max_iter': 1000}\n",
            "0.191 (+/-0.040) for {'eta0': 0.01, 'max_iter': 100000}\n",
            "0.178 (+/-0.019) for {'eta0': 0.1, 'max_iter': 10}\n",
            "0.191 (+/-0.040) for {'eta0': 0.1, 'max_iter': 100}\n",
            "0.191 (+/-0.040) for {'eta0': 0.1, 'max_iter': 1000}\n",
            "0.191 (+/-0.040) for {'eta0': 0.1, 'max_iter': 100000}\n",
            "0.178 (+/-0.019) for {'eta0': 1, 'max_iter': 10}\n",
            "0.191 (+/-0.040) for {'eta0': 1, 'max_iter': 100}\n",
            "0.191 (+/-0.040) for {'eta0': 1, 'max_iter': 1000}\n",
            "0.191 (+/-0.040) for {'eta0': 1, 'max_iter': 100000}\n",
            "0.178 (+/-0.019) for {'eta0': 10, 'max_iter': 10}\n",
            "0.191 (+/-0.040) for {'eta0': 10, 'max_iter': 100}\n",
            "0.191 (+/-0.040) for {'eta0': 10, 'max_iter': 1000}\n",
            "0.191 (+/-0.040) for {'eta0': 10, 'max_iter': 100000}\n",
            "\n"
          ]
        }
      ]
    },
    {
      "cell_type": "code",
      "source": [
        "modelPerceptronBest = Perceptron(max_iter=100,eta0=0.01,random_state=84)\n",
        "modelPerceptronBest.fit(trainData,trainLabels)\n",
        "predictionPerceptronBest = modelPerceptronBest.predict(testData)\n",
        "print(classification_report(testLabels, predictionPerceptronBest))"
      ],
      "metadata": {
        "id": "m1HfQfsvrSDj",
        "outputId": "b5176824-df32-420e-8786-2cfa6e8da031",
        "colab": {
          "base_uri": "https://localhost:8080/"
        }
      },
      "execution_count": null,
      "outputs": [
        {
          "output_type": "stream",
          "name": "stdout",
          "text": [
            "              precision    recall  f1-score   support\n",
            "\n",
            "         0.0       0.00      0.00      0.00       951\n",
            "         1.0       0.00      0.00      0.00       120\n",
            "         2.0       0.24      0.61      0.34       588\n",
            "         3.0       0.00      0.00      0.00       793\n",
            "         4.0       0.20      0.00      0.01       773\n",
            "         5.0       0.12      0.68      0.21       375\n",
            "\n",
            "    accuracy                           0.17      3600\n",
            "   macro avg       0.09      0.21      0.09      3600\n",
            "weighted avg       0.09      0.17      0.08      3600\n",
            "\n"
          ]
        }
      ]
    },
    {
      "cell_type": "markdown",
      "source": [
        "Ni aún probando valores de eta0 y max_iter todavía más grandes que los puestos en las celdas anteriores se consigue una mayor precisión.\n",
        "Dicho esto, descarto este algoritmo como posible modelo."
      ],
      "metadata": {
        "id": "0ELV-sVdpxBx"
      }
    },
    {
      "cell_type": "markdown",
      "source": [
        "--------------------------------------------------------------------------------\n",
        "Redes neuronales"
      ],
      "metadata": {
        "id": "q3LdP1IvrSTt"
      }
    },
    {
      "cell_type": "markdown",
      "source": [
        "En las redes neuronales, los mejores modelos se crean cuando el número de neuronas de la primera capa es igual al número de variables y el número de neuronas de la última capa es igual al número de salidas posibles. \n",
        "\n",
        "En nuestro caso la primera capa tendrá 5 neuronas ya que nuestro dataset tiene 5 variables de entrada. En cuanto a las neuronas de la última capa, en nuestro caso habrá 6."
      ],
      "metadata": {
        "id": "JhL-ODML8Dbz"
      }
    },
    {
      "cell_type": "code",
      "source": [
        "modelMLP = MLPClassifier()\n",
        "randomsearch(modelMLP, {'hidden_layer_sizes': [(5,6), (5,3,6), (5,2,3,6), (5,4,3,6)],\n",
        "                                         'activation':['identity', 'tanh', 'relu'],\n",
        "                                         'learning_rate_init': [0.001, 0.01, 0.1],\n",
        "                                         'momentum': [0.9, 0.95, 0.99]},scores,5)"
      ],
      "metadata": {
        "id": "IfkXJS2PpsTO",
        "outputId": "596f1ccd-9f71-47e5-f0f4-709210d9d966",
        "colab": {
          "base_uri": "https://localhost:8080/"
        }
      },
      "execution_count": null,
      "outputs": [
        {
          "output_type": "stream",
          "name": "stdout",
          "text": [
            "# Tuning hyper-parameters for precision\n",
            "\n",
            "Best parameters set found on development set:\n",
            "\n",
            "{'momentum': 0.9, 'learning_rate_init': 0.01, 'hidden_layer_sizes': (6, 2, 3, 6), 'activation': 'tanh'}\n",
            "\n",
            "# Tuning hyper-parameters for recall\n",
            "\n",
            "Best parameters set found on development set:\n",
            "\n",
            "{'momentum': 0.9, 'learning_rate_init': 0.001, 'hidden_layer_sizes': (6, 4, 3, 6), 'activation': 'relu'}\n",
            "\n"
          ]
        }
      ]
    },
    {
      "cell_type": "code",
      "source": [
        "modelMLPBest = MLPClassifier(hidden_layer_sizes=(5, 2, 3, 6), learning_rate_init=0.01, momentum=0.9, activation= 'tanh')\n",
        "modelMLPBest.fit(trainData,trainLabels)\n",
        "predictionMLPBest = modelMLPBest.predict(testData)\n",
        "print(classification_report(testLabels, predictionMLPBest))"
      ],
      "metadata": {
        "id": "YMOrZzEMx4ru",
        "outputId": "b601bcaa-7f35-480c-94ff-d4c4a09a07ab",
        "colab": {
          "base_uri": "https://localhost:8080/"
        }
      },
      "execution_count": null,
      "outputs": [
        {
          "output_type": "stream",
          "name": "stdout",
          "text": [
            "              precision    recall  f1-score   support\n",
            "\n",
            "         0.0       0.27      1.00      0.43       951\n",
            "         1.0       0.47      0.14      0.22       120\n",
            "         2.0       0.53      0.07      0.13       588\n",
            "         3.0       0.00      0.00      0.00       793\n",
            "         4.0       0.00      0.00      0.00       773\n",
            "         5.0       0.00      0.00      0.00       375\n",
            "\n",
            "    accuracy                           0.28      3600\n",
            "   macro avg       0.21      0.20      0.13      3600\n",
            "weighted avg       0.17      0.28      0.14      3600\n",
            "\n"
          ]
        }
      ]
    },
    {
      "cell_type": "markdown",
      "source": [
        "Debido a la inestabilidad de los resultados que va dando (debido a que, al no poder fijarse el random_state, los datos se fragmentan de manera distinta cada ejecución) y la precisión tan baja obtenida en la mayoría de los casos, he decidido descartar este modelo."
      ],
      "metadata": {
        "id": "hAGoid4zyAwr"
      }
    },
    {
      "cell_type": "markdown",
      "source": [
        "--------------------------------------------------------------------------------\n",
        "\n",
        "Como el algoritmo con mayor precisión es el de los árboles de decisión intentaré aplicar métodos de ensemble para mejorar aún más los resultados.\n",
        "\n",
        "Los métodos de ensemble son algortimos que utilizan múltiples algoritmos de aprendizaje para obtener un rendimiento predictivo que mejore el que podría obtenerse por medio de cualquiera de los algoritmos de aprendizaje individuales que lo constituyen.\n",
        "\n",
        "Más concretamente para los árboles de decisiones existen los siguientes:\n",
        " - Bagging: Procedimiento utilizado para reducir la varianza de un método de aprendizaje estadístico, usado muy frecuentemente con árboles de decisión\n",
        " - Random Forest\n",
        " - Extreme Trees"
      ],
      "metadata": {
        "id": "hdVyUJxmziMP"
      }
    },
    {
      "cell_type": "code",
      "source": [
        "from sklearn.ensemble import BaggingClassifier\n",
        "mAB = BaggingClassifier(random_state=84)\n",
        "mAB.fit(trainData, trainLabels)\n",
        "aux = mAB.predict(testData)\n",
        "pAB = aux.astype(int)\n",
        "print(classification_report(testLabels, pAB))"
      ],
      "metadata": {
        "id": "lGiK2USo9GuM",
        "outputId": "13b1ab2f-5593-41cb-ced1-3a704379a273",
        "colab": {
          "base_uri": "https://localhost:8080/"
        }
      },
      "execution_count": null,
      "outputs": [
        {
          "output_type": "stream",
          "name": "stdout",
          "text": [
            "              precision    recall  f1-score   support\n",
            "\n",
            "         0.0       0.94      0.91      0.93       646\n",
            "         1.0       0.76      0.76      0.76        70\n",
            "         2.0       0.70      0.75      0.72       402\n",
            "         3.0       0.60      0.64      0.62       518\n",
            "         4.0       0.63      0.62      0.63       501\n",
            "         5.0       0.71      0.61      0.66       263\n",
            "\n",
            "    accuracy                           0.73      2400\n",
            "   macro avg       0.72      0.72      0.72      2400\n",
            "weighted avg       0.73      0.73      0.73      2400\n",
            "\n"
          ]
        }
      ]
    },
    {
      "cell_type": "code",
      "source": [
        "from sklearn.ensemble import RandomForestClassifier\n",
        "mAB = RandomForestClassifier(random_state=84, min_samples_split=2)\n",
        "mAB.fit(trainData, trainLabels)\n",
        "pAB = mAB.predict(testData)\n",
        "print(classification_report(testLabels, pAB))"
      ],
      "metadata": {
        "id": "_yYZ_E1Z4dVr",
        "outputId": "dc706c8a-91ed-45f4-cfb8-4eca9113c00a",
        "colab": {
          "base_uri": "https://localhost:8080/"
        }
      },
      "execution_count": null,
      "outputs": [
        {
          "output_type": "stream",
          "name": "stdout",
          "text": [
            "              precision    recall  f1-score   support\n",
            "\n",
            "         0.0       0.96      0.95      0.95       646\n",
            "         1.0       0.81      0.73      0.77        70\n",
            "         2.0       0.72      0.76      0.74       402\n",
            "         3.0       0.66      0.69      0.68       518\n",
            "         4.0       0.65      0.65      0.65       501\n",
            "         5.0       0.72      0.62      0.67       263\n",
            "\n",
            "    accuracy                           0.76      2400\n",
            "   macro avg       0.75      0.73      0.74      2400\n",
            "weighted avg       0.76      0.76      0.76      2400\n",
            "\n"
          ]
        }
      ]
    },
    {
      "cell_type": "code",
      "source": [
        "from sklearn.ensemble import ExtraTreesClassifier\n",
        "mAB2 = ExtraTreesClassifier(random_state=84, min_samples_split=5)\n",
        "mAB2.fit(trainData, trainLabels)\n",
        "pAB2 = mAB2.predict(testData)\n",
        "print(classification_report(testLabels, pAB2))"
      ],
      "metadata": {
        "id": "wfenKExQ5TfR",
        "outputId": "75ff8c2a-9ced-477f-a62d-510768e3b0b1",
        "colab": {
          "base_uri": "https://localhost:8080/"
        }
      },
      "execution_count": null,
      "outputs": [
        {
          "output_type": "stream",
          "name": "stdout",
          "text": [
            "              precision    recall  f1-score   support\n",
            "\n",
            "         0.0       0.97      0.98      0.97       646\n",
            "         1.0       0.81      0.74      0.78        70\n",
            "         2.0       0.73      0.78      0.76       402\n",
            "         3.0       0.66      0.70      0.68       518\n",
            "         4.0       0.69      0.64      0.66       501\n",
            "         5.0       0.71      0.65      0.68       263\n",
            "\n",
            "    accuracy                           0.77      2400\n",
            "   macro avg       0.76      0.75      0.75      2400\n",
            "weighted avg       0.77      0.77      0.77      2400\n",
            "\n"
          ]
        }
      ]
    },
    {
      "cell_type": "markdown",
      "source": [
        "Como se puede observar el mejor de todos los métodos de ensemble sobre el algoritmo de los árboles de decisión es el de ExtraTrees, por lo que este será el elegido como modelo.\n",
        "\n",
        "A continuación probaré distintos hiperparámetros para intentar mejorar aún más (si fuese posible)"
      ],
      "metadata": {
        "id": "I7hVp51I9Vr8"
      }
    },
    {
      "cell_type": "code",
      "source": [
        "ETC1 = ExtraTreesClassifier(random_state=0, min_samples_split=5, criterion= 'entropy')\n",
        "ETC1.fit(trainData, trainLabels)\n",
        "pETC1 = ETC1.predict(testData)\n",
        "print(classification_report(testLabels, pETC1))"
      ],
      "metadata": {
        "id": "Y040HjAH9mqq",
        "outputId": "76722e8f-df6a-4fe4-da4d-2012e682220b",
        "colab": {
          "base_uri": "https://localhost:8080/"
        }
      },
      "execution_count": null,
      "outputs": [
        {
          "output_type": "stream",
          "name": "stdout",
          "text": [
            "              precision    recall  f1-score   support\n",
            "\n",
            "         0.0       0.97      0.98      0.97       646\n",
            "         1.0       0.81      0.74      0.78        70\n",
            "         2.0       0.74      0.79      0.76       402\n",
            "         3.0       0.66      0.70      0.68       518\n",
            "         4.0       0.69      0.64      0.66       501\n",
            "         5.0       0.72      0.65      0.69       263\n",
            "\n",
            "    accuracy                           0.77      2400\n",
            "   macro avg       0.76      0.75      0.76      2400\n",
            "weighted avg       0.77      0.77      0.77      2400\n",
            "\n"
          ]
        }
      ]
    },
    {
      "cell_type": "markdown",
      "source": [
        "Aunque en un principio pueda parecer que se han obtenido los mismos resultados, si nos fijamos en el desglose de la precisión, se puede observar que en general, tienen menor precisión que en el caso de arriba."
      ],
      "metadata": {
        "id": "KMoTCeEb-IgT"
      }
    },
    {
      "cell_type": "code",
      "source": [
        "#np.setdiff1d(trainData.columns, [\"CIRCULATION\"])\n",
        "ETC1 = ExtraTreesClassifier(random_state=0, min_samples_split=6, criterion= 'entropy', max_features= 'log2', bootstrap= True, oob_score= True)\n",
        "ETC1.fit(trainData, trainLabels)\n",
        "pETC1 = ETC1.predict(testData)\n",
        "print(classification_report(testLabels, pETC1))"
      ],
      "metadata": {
        "id": "9IPt8Jwz92NN",
        "outputId": "01ee95a7-bd80-4481-ebce-72432dc37038",
        "colab": {
          "base_uri": "https://localhost:8080/"
        }
      },
      "execution_count": null,
      "outputs": [
        {
          "output_type": "stream",
          "name": "stdout",
          "text": [
            "              precision    recall  f1-score   support\n",
            "\n",
            "         0.0       0.95      0.98      0.96       646\n",
            "         1.0       0.81      0.80      0.81        70\n",
            "         2.0       0.74      0.79      0.76       402\n",
            "         3.0       0.66      0.71      0.68       518\n",
            "         4.0       0.69      0.63      0.66       501\n",
            "         5.0       0.75      0.64      0.69       263\n",
            "\n",
            "    accuracy                           0.77      2400\n",
            "   macro avg       0.77      0.76      0.76      2400\n",
            "weighted avg       0.77      0.77      0.77      2400\n",
            "\n"
          ]
        }
      ]
    },
    {
      "cell_type": "code",
      "source": [
        "modelETC = ExtraTreesClassifier(random_state=0)\n",
        "scores = ['precision', 'recall']\n",
        "gridsearch(modelETC, {'min_samples_split': [3,4,6,5,7,8],\n",
        "                                         'criterion':['gini', 'entropy'],\n",
        "                                         'min_samples_leaf': [1,2,3,4],\n",
        "                                         'max_features': ['log2', 'auto', 'sqrt']},scores,5)"
      ],
      "metadata": {
        "id": "VH0BYZxd26dJ",
        "outputId": "1fd06c77-ad84-4d06-a100-86478d98bcce",
        "colab": {
          "base_uri": "https://localhost:8080/"
        }
      },
      "execution_count": null,
      "outputs": [
        {
          "output_type": "stream",
          "name": "stdout",
          "text": [
            "# Tuning hyper-parameters for precision\n",
            "\n",
            "Best parameters set found on development set:\n",
            "\n",
            "{'criterion': 'gini', 'max_features': 'log2', 'min_samples_leaf': 1, 'min_samples_split': 7}\n",
            "\n",
            "Grid scores on development set:\n",
            "\n",
            "0.744 (+/-0.018) for {'criterion': 'gini', 'max_features': 'log2', 'min_samples_leaf': 1, 'min_samples_split': 3}\n",
            "0.749 (+/-0.018) for {'criterion': 'gini', 'max_features': 'log2', 'min_samples_leaf': 1, 'min_samples_split': 4}\n",
            "0.748 (+/-0.018) for {'criterion': 'gini', 'max_features': 'log2', 'min_samples_leaf': 1, 'min_samples_split': 6}\n",
            "0.745 (+/-0.021) for {'criterion': 'gini', 'max_features': 'log2', 'min_samples_leaf': 1, 'min_samples_split': 5}\n",
            "0.753 (+/-0.019) for {'criterion': 'gini', 'max_features': 'log2', 'min_samples_leaf': 1, 'min_samples_split': 7}\n",
            "0.749 (+/-0.022) for {'criterion': 'gini', 'max_features': 'log2', 'min_samples_leaf': 1, 'min_samples_split': 8}\n",
            "0.739 (+/-0.021) for {'criterion': 'gini', 'max_features': 'log2', 'min_samples_leaf': 2, 'min_samples_split': 3}\n",
            "0.739 (+/-0.021) for {'criterion': 'gini', 'max_features': 'log2', 'min_samples_leaf': 2, 'min_samples_split': 4}\n",
            "0.735 (+/-0.018) for {'criterion': 'gini', 'max_features': 'log2', 'min_samples_leaf': 2, 'min_samples_split': 6}\n",
            "0.737 (+/-0.015) for {'criterion': 'gini', 'max_features': 'log2', 'min_samples_leaf': 2, 'min_samples_split': 5}\n",
            "0.737 (+/-0.019) for {'criterion': 'gini', 'max_features': 'log2', 'min_samples_leaf': 2, 'min_samples_split': 7}\n",
            "0.736 (+/-0.022) for {'criterion': 'gini', 'max_features': 'log2', 'min_samples_leaf': 2, 'min_samples_split': 8}\n",
            "0.724 (+/-0.025) for {'criterion': 'gini', 'max_features': 'log2', 'min_samples_leaf': 3, 'min_samples_split': 3}\n",
            "0.724 (+/-0.025) for {'criterion': 'gini', 'max_features': 'log2', 'min_samples_leaf': 3, 'min_samples_split': 4}\n",
            "0.724 (+/-0.025) for {'criterion': 'gini', 'max_features': 'log2', 'min_samples_leaf': 3, 'min_samples_split': 6}\n",
            "0.724 (+/-0.025) for {'criterion': 'gini', 'max_features': 'log2', 'min_samples_leaf': 3, 'min_samples_split': 5}\n",
            "0.727 (+/-0.024) for {'criterion': 'gini', 'max_features': 'log2', 'min_samples_leaf': 3, 'min_samples_split': 7}\n",
            "0.725 (+/-0.028) for {'criterion': 'gini', 'max_features': 'log2', 'min_samples_leaf': 3, 'min_samples_split': 8}\n",
            "0.709 (+/-0.022) for {'criterion': 'gini', 'max_features': 'log2', 'min_samples_leaf': 4, 'min_samples_split': 3}\n",
            "0.709 (+/-0.022) for {'criterion': 'gini', 'max_features': 'log2', 'min_samples_leaf': 4, 'min_samples_split': 4}\n",
            "0.709 (+/-0.022) for {'criterion': 'gini', 'max_features': 'log2', 'min_samples_leaf': 4, 'min_samples_split': 6}\n",
            "0.709 (+/-0.022) for {'criterion': 'gini', 'max_features': 'log2', 'min_samples_leaf': 4, 'min_samples_split': 5}\n",
            "0.709 (+/-0.022) for {'criterion': 'gini', 'max_features': 'log2', 'min_samples_leaf': 4, 'min_samples_split': 7}\n",
            "0.709 (+/-0.022) for {'criterion': 'gini', 'max_features': 'log2', 'min_samples_leaf': 4, 'min_samples_split': 8}\n",
            "0.744 (+/-0.018) for {'criterion': 'gini', 'max_features': 'auto', 'min_samples_leaf': 1, 'min_samples_split': 3}\n",
            "0.749 (+/-0.018) for {'criterion': 'gini', 'max_features': 'auto', 'min_samples_leaf': 1, 'min_samples_split': 4}\n",
            "0.748 (+/-0.018) for {'criterion': 'gini', 'max_features': 'auto', 'min_samples_leaf': 1, 'min_samples_split': 6}\n",
            "0.745 (+/-0.021) for {'criterion': 'gini', 'max_features': 'auto', 'min_samples_leaf': 1, 'min_samples_split': 5}\n",
            "0.753 (+/-0.019) for {'criterion': 'gini', 'max_features': 'auto', 'min_samples_leaf': 1, 'min_samples_split': 7}\n",
            "0.749 (+/-0.022) for {'criterion': 'gini', 'max_features': 'auto', 'min_samples_leaf': 1, 'min_samples_split': 8}\n",
            "0.739 (+/-0.021) for {'criterion': 'gini', 'max_features': 'auto', 'min_samples_leaf': 2, 'min_samples_split': 3}\n",
            "0.739 (+/-0.021) for {'criterion': 'gini', 'max_features': 'auto', 'min_samples_leaf': 2, 'min_samples_split': 4}\n",
            "0.735 (+/-0.018) for {'criterion': 'gini', 'max_features': 'auto', 'min_samples_leaf': 2, 'min_samples_split': 6}\n",
            "0.737 (+/-0.015) for {'criterion': 'gini', 'max_features': 'auto', 'min_samples_leaf': 2, 'min_samples_split': 5}\n",
            "0.737 (+/-0.019) for {'criterion': 'gini', 'max_features': 'auto', 'min_samples_leaf': 2, 'min_samples_split': 7}\n",
            "0.736 (+/-0.022) for {'criterion': 'gini', 'max_features': 'auto', 'min_samples_leaf': 2, 'min_samples_split': 8}\n",
            "0.724 (+/-0.025) for {'criterion': 'gini', 'max_features': 'auto', 'min_samples_leaf': 3, 'min_samples_split': 3}\n",
            "0.724 (+/-0.025) for {'criterion': 'gini', 'max_features': 'auto', 'min_samples_leaf': 3, 'min_samples_split': 4}\n",
            "0.724 (+/-0.025) for {'criterion': 'gini', 'max_features': 'auto', 'min_samples_leaf': 3, 'min_samples_split': 6}\n",
            "0.724 (+/-0.025) for {'criterion': 'gini', 'max_features': 'auto', 'min_samples_leaf': 3, 'min_samples_split': 5}\n",
            "0.727 (+/-0.024) for {'criterion': 'gini', 'max_features': 'auto', 'min_samples_leaf': 3, 'min_samples_split': 7}\n",
            "0.725 (+/-0.028) for {'criterion': 'gini', 'max_features': 'auto', 'min_samples_leaf': 3, 'min_samples_split': 8}\n",
            "0.709 (+/-0.022) for {'criterion': 'gini', 'max_features': 'auto', 'min_samples_leaf': 4, 'min_samples_split': 3}\n",
            "0.709 (+/-0.022) for {'criterion': 'gini', 'max_features': 'auto', 'min_samples_leaf': 4, 'min_samples_split': 4}\n",
            "0.709 (+/-0.022) for {'criterion': 'gini', 'max_features': 'auto', 'min_samples_leaf': 4, 'min_samples_split': 6}\n",
            "0.709 (+/-0.022) for {'criterion': 'gini', 'max_features': 'auto', 'min_samples_leaf': 4, 'min_samples_split': 5}\n",
            "0.709 (+/-0.022) for {'criterion': 'gini', 'max_features': 'auto', 'min_samples_leaf': 4, 'min_samples_split': 7}\n",
            "0.709 (+/-0.022) for {'criterion': 'gini', 'max_features': 'auto', 'min_samples_leaf': 4, 'min_samples_split': 8}\n",
            "0.744 (+/-0.018) for {'criterion': 'gini', 'max_features': 'sqrt', 'min_samples_leaf': 1, 'min_samples_split': 3}\n",
            "0.749 (+/-0.018) for {'criterion': 'gini', 'max_features': 'sqrt', 'min_samples_leaf': 1, 'min_samples_split': 4}\n",
            "0.748 (+/-0.018) for {'criterion': 'gini', 'max_features': 'sqrt', 'min_samples_leaf': 1, 'min_samples_split': 6}\n",
            "0.745 (+/-0.021) for {'criterion': 'gini', 'max_features': 'sqrt', 'min_samples_leaf': 1, 'min_samples_split': 5}\n",
            "0.753 (+/-0.019) for {'criterion': 'gini', 'max_features': 'sqrt', 'min_samples_leaf': 1, 'min_samples_split': 7}\n",
            "0.749 (+/-0.022) for {'criterion': 'gini', 'max_features': 'sqrt', 'min_samples_leaf': 1, 'min_samples_split': 8}\n",
            "0.739 (+/-0.021) for {'criterion': 'gini', 'max_features': 'sqrt', 'min_samples_leaf': 2, 'min_samples_split': 3}\n",
            "0.739 (+/-0.021) for {'criterion': 'gini', 'max_features': 'sqrt', 'min_samples_leaf': 2, 'min_samples_split': 4}\n",
            "0.735 (+/-0.018) for {'criterion': 'gini', 'max_features': 'sqrt', 'min_samples_leaf': 2, 'min_samples_split': 6}\n",
            "0.737 (+/-0.015) for {'criterion': 'gini', 'max_features': 'sqrt', 'min_samples_leaf': 2, 'min_samples_split': 5}\n",
            "0.737 (+/-0.019) for {'criterion': 'gini', 'max_features': 'sqrt', 'min_samples_leaf': 2, 'min_samples_split': 7}\n",
            "0.736 (+/-0.022) for {'criterion': 'gini', 'max_features': 'sqrt', 'min_samples_leaf': 2, 'min_samples_split': 8}\n",
            "0.724 (+/-0.025) for {'criterion': 'gini', 'max_features': 'sqrt', 'min_samples_leaf': 3, 'min_samples_split': 3}\n",
            "0.724 (+/-0.025) for {'criterion': 'gini', 'max_features': 'sqrt', 'min_samples_leaf': 3, 'min_samples_split': 4}\n",
            "0.724 (+/-0.025) for {'criterion': 'gini', 'max_features': 'sqrt', 'min_samples_leaf': 3, 'min_samples_split': 6}\n",
            "0.724 (+/-0.025) for {'criterion': 'gini', 'max_features': 'sqrt', 'min_samples_leaf': 3, 'min_samples_split': 5}\n",
            "0.727 (+/-0.024) for {'criterion': 'gini', 'max_features': 'sqrt', 'min_samples_leaf': 3, 'min_samples_split': 7}\n",
            "0.725 (+/-0.028) for {'criterion': 'gini', 'max_features': 'sqrt', 'min_samples_leaf': 3, 'min_samples_split': 8}\n",
            "0.709 (+/-0.022) for {'criterion': 'gini', 'max_features': 'sqrt', 'min_samples_leaf': 4, 'min_samples_split': 3}\n",
            "0.709 (+/-0.022) for {'criterion': 'gini', 'max_features': 'sqrt', 'min_samples_leaf': 4, 'min_samples_split': 4}\n",
            "0.709 (+/-0.022) for {'criterion': 'gini', 'max_features': 'sqrt', 'min_samples_leaf': 4, 'min_samples_split': 6}\n",
            "0.709 (+/-0.022) for {'criterion': 'gini', 'max_features': 'sqrt', 'min_samples_leaf': 4, 'min_samples_split': 5}\n",
            "0.709 (+/-0.022) for {'criterion': 'gini', 'max_features': 'sqrt', 'min_samples_leaf': 4, 'min_samples_split': 7}\n",
            "0.709 (+/-0.022) for {'criterion': 'gini', 'max_features': 'sqrt', 'min_samples_leaf': 4, 'min_samples_split': 8}\n",
            "0.740 (+/-0.024) for {'criterion': 'entropy', 'max_features': 'log2', 'min_samples_leaf': 1, 'min_samples_split': 3}\n",
            "0.742 (+/-0.018) for {'criterion': 'entropy', 'max_features': 'log2', 'min_samples_leaf': 1, 'min_samples_split': 4}\n",
            "0.746 (+/-0.012) for {'criterion': 'entropy', 'max_features': 'log2', 'min_samples_leaf': 1, 'min_samples_split': 6}\n",
            "0.745 (+/-0.021) for {'criterion': 'entropy', 'max_features': 'log2', 'min_samples_leaf': 1, 'min_samples_split': 5}\n",
            "0.750 (+/-0.019) for {'criterion': 'entropy', 'max_features': 'log2', 'min_samples_leaf': 1, 'min_samples_split': 7}\n",
            "0.747 (+/-0.014) for {'criterion': 'entropy', 'max_features': 'log2', 'min_samples_leaf': 1, 'min_samples_split': 8}\n",
            "0.739 (+/-0.022) for {'criterion': 'entropy', 'max_features': 'log2', 'min_samples_leaf': 2, 'min_samples_split': 3}\n",
            "0.739 (+/-0.022) for {'criterion': 'entropy', 'max_features': 'log2', 'min_samples_leaf': 2, 'min_samples_split': 4}\n",
            "0.737 (+/-0.018) for {'criterion': 'entropy', 'max_features': 'log2', 'min_samples_leaf': 2, 'min_samples_split': 6}\n",
            "0.736 (+/-0.019) for {'criterion': 'entropy', 'max_features': 'log2', 'min_samples_leaf': 2, 'min_samples_split': 5}\n",
            "0.734 (+/-0.016) for {'criterion': 'entropy', 'max_features': 'log2', 'min_samples_leaf': 2, 'min_samples_split': 7}\n",
            "0.733 (+/-0.021) for {'criterion': 'entropy', 'max_features': 'log2', 'min_samples_leaf': 2, 'min_samples_split': 8}\n",
            "0.725 (+/-0.023) for {'criterion': 'entropy', 'max_features': 'log2', 'min_samples_leaf': 3, 'min_samples_split': 3}\n",
            "0.725 (+/-0.023) for {'criterion': 'entropy', 'max_features': 'log2', 'min_samples_leaf': 3, 'min_samples_split': 4}\n",
            "0.725 (+/-0.023) for {'criterion': 'entropy', 'max_features': 'log2', 'min_samples_leaf': 3, 'min_samples_split': 6}\n",
            "0.725 (+/-0.023) for {'criterion': 'entropy', 'max_features': 'log2', 'min_samples_leaf': 3, 'min_samples_split': 5}\n",
            "0.725 (+/-0.020) for {'criterion': 'entropy', 'max_features': 'log2', 'min_samples_leaf': 3, 'min_samples_split': 7}\n",
            "0.724 (+/-0.028) for {'criterion': 'entropy', 'max_features': 'log2', 'min_samples_leaf': 3, 'min_samples_split': 8}\n",
            "0.715 (+/-0.016) for {'criterion': 'entropy', 'max_features': 'log2', 'min_samples_leaf': 4, 'min_samples_split': 3}\n",
            "0.715 (+/-0.016) for {'criterion': 'entropy', 'max_features': 'log2', 'min_samples_leaf': 4, 'min_samples_split': 4}\n",
            "0.715 (+/-0.016) for {'criterion': 'entropy', 'max_features': 'log2', 'min_samples_leaf': 4, 'min_samples_split': 6}\n",
            "0.715 (+/-0.016) for {'criterion': 'entropy', 'max_features': 'log2', 'min_samples_leaf': 4, 'min_samples_split': 5}\n",
            "0.715 (+/-0.016) for {'criterion': 'entropy', 'max_features': 'log2', 'min_samples_leaf': 4, 'min_samples_split': 7}\n",
            "0.715 (+/-0.016) for {'criterion': 'entropy', 'max_features': 'log2', 'min_samples_leaf': 4, 'min_samples_split': 8}\n",
            "0.740 (+/-0.024) for {'criterion': 'entropy', 'max_features': 'auto', 'min_samples_leaf': 1, 'min_samples_split': 3}\n",
            "0.742 (+/-0.018) for {'criterion': 'entropy', 'max_features': 'auto', 'min_samples_leaf': 1, 'min_samples_split': 4}\n",
            "0.746 (+/-0.012) for {'criterion': 'entropy', 'max_features': 'auto', 'min_samples_leaf': 1, 'min_samples_split': 6}\n",
            "0.745 (+/-0.021) for {'criterion': 'entropy', 'max_features': 'auto', 'min_samples_leaf': 1, 'min_samples_split': 5}\n",
            "0.750 (+/-0.019) for {'criterion': 'entropy', 'max_features': 'auto', 'min_samples_leaf': 1, 'min_samples_split': 7}\n",
            "0.747 (+/-0.014) for {'criterion': 'entropy', 'max_features': 'auto', 'min_samples_leaf': 1, 'min_samples_split': 8}\n",
            "0.739 (+/-0.022) for {'criterion': 'entropy', 'max_features': 'auto', 'min_samples_leaf': 2, 'min_samples_split': 3}\n",
            "0.739 (+/-0.022) for {'criterion': 'entropy', 'max_features': 'auto', 'min_samples_leaf': 2, 'min_samples_split': 4}\n",
            "0.737 (+/-0.018) for {'criterion': 'entropy', 'max_features': 'auto', 'min_samples_leaf': 2, 'min_samples_split': 6}\n",
            "0.736 (+/-0.019) for {'criterion': 'entropy', 'max_features': 'auto', 'min_samples_leaf': 2, 'min_samples_split': 5}\n",
            "0.734 (+/-0.016) for {'criterion': 'entropy', 'max_features': 'auto', 'min_samples_leaf': 2, 'min_samples_split': 7}\n",
            "0.733 (+/-0.021) for {'criterion': 'entropy', 'max_features': 'auto', 'min_samples_leaf': 2, 'min_samples_split': 8}\n",
            "0.725 (+/-0.023) for {'criterion': 'entropy', 'max_features': 'auto', 'min_samples_leaf': 3, 'min_samples_split': 3}\n",
            "0.725 (+/-0.023) for {'criterion': 'entropy', 'max_features': 'auto', 'min_samples_leaf': 3, 'min_samples_split': 4}\n",
            "0.725 (+/-0.023) for {'criterion': 'entropy', 'max_features': 'auto', 'min_samples_leaf': 3, 'min_samples_split': 6}\n",
            "0.725 (+/-0.023) for {'criterion': 'entropy', 'max_features': 'auto', 'min_samples_leaf': 3, 'min_samples_split': 5}\n",
            "0.725 (+/-0.020) for {'criterion': 'entropy', 'max_features': 'auto', 'min_samples_leaf': 3, 'min_samples_split': 7}\n",
            "0.724 (+/-0.028) for {'criterion': 'entropy', 'max_features': 'auto', 'min_samples_leaf': 3, 'min_samples_split': 8}\n",
            "0.715 (+/-0.016) for {'criterion': 'entropy', 'max_features': 'auto', 'min_samples_leaf': 4, 'min_samples_split': 3}\n",
            "0.715 (+/-0.016) for {'criterion': 'entropy', 'max_features': 'auto', 'min_samples_leaf': 4, 'min_samples_split': 4}\n",
            "0.715 (+/-0.016) for {'criterion': 'entropy', 'max_features': 'auto', 'min_samples_leaf': 4, 'min_samples_split': 6}\n",
            "0.715 (+/-0.016) for {'criterion': 'entropy', 'max_features': 'auto', 'min_samples_leaf': 4, 'min_samples_split': 5}\n",
            "0.715 (+/-0.016) for {'criterion': 'entropy', 'max_features': 'auto', 'min_samples_leaf': 4, 'min_samples_split': 7}\n",
            "0.715 (+/-0.016) for {'criterion': 'entropy', 'max_features': 'auto', 'min_samples_leaf': 4, 'min_samples_split': 8}\n",
            "0.740 (+/-0.024) for {'criterion': 'entropy', 'max_features': 'sqrt', 'min_samples_leaf': 1, 'min_samples_split': 3}\n",
            "0.742 (+/-0.018) for {'criterion': 'entropy', 'max_features': 'sqrt', 'min_samples_leaf': 1, 'min_samples_split': 4}\n",
            "0.746 (+/-0.012) for {'criterion': 'entropy', 'max_features': 'sqrt', 'min_samples_leaf': 1, 'min_samples_split': 6}\n",
            "0.745 (+/-0.021) for {'criterion': 'entropy', 'max_features': 'sqrt', 'min_samples_leaf': 1, 'min_samples_split': 5}\n",
            "0.750 (+/-0.019) for {'criterion': 'entropy', 'max_features': 'sqrt', 'min_samples_leaf': 1, 'min_samples_split': 7}\n",
            "0.747 (+/-0.014) for {'criterion': 'entropy', 'max_features': 'sqrt', 'min_samples_leaf': 1, 'min_samples_split': 8}\n",
            "0.739 (+/-0.022) for {'criterion': 'entropy', 'max_features': 'sqrt', 'min_samples_leaf': 2, 'min_samples_split': 3}\n",
            "0.739 (+/-0.022) for {'criterion': 'entropy', 'max_features': 'sqrt', 'min_samples_leaf': 2, 'min_samples_split': 4}\n",
            "0.737 (+/-0.018) for {'criterion': 'entropy', 'max_features': 'sqrt', 'min_samples_leaf': 2, 'min_samples_split': 6}\n",
            "0.736 (+/-0.019) for {'criterion': 'entropy', 'max_features': 'sqrt', 'min_samples_leaf': 2, 'min_samples_split': 5}\n",
            "0.734 (+/-0.016) for {'criterion': 'entropy', 'max_features': 'sqrt', 'min_samples_leaf': 2, 'min_samples_split': 7}\n",
            "0.733 (+/-0.021) for {'criterion': 'entropy', 'max_features': 'sqrt', 'min_samples_leaf': 2, 'min_samples_split': 8}\n",
            "0.725 (+/-0.023) for {'criterion': 'entropy', 'max_features': 'sqrt', 'min_samples_leaf': 3, 'min_samples_split': 3}\n",
            "0.725 (+/-0.023) for {'criterion': 'entropy', 'max_features': 'sqrt', 'min_samples_leaf': 3, 'min_samples_split': 4}\n",
            "0.725 (+/-0.023) for {'criterion': 'entropy', 'max_features': 'sqrt', 'min_samples_leaf': 3, 'min_samples_split': 6}\n",
            "0.725 (+/-0.023) for {'criterion': 'entropy', 'max_features': 'sqrt', 'min_samples_leaf': 3, 'min_samples_split': 5}\n",
            "0.725 (+/-0.020) for {'criterion': 'entropy', 'max_features': 'sqrt', 'min_samples_leaf': 3, 'min_samples_split': 7}\n",
            "0.724 (+/-0.028) for {'criterion': 'entropy', 'max_features': 'sqrt', 'min_samples_leaf': 3, 'min_samples_split': 8}\n",
            "0.715 (+/-0.016) for {'criterion': 'entropy', 'max_features': 'sqrt', 'min_samples_leaf': 4, 'min_samples_split': 3}\n",
            "0.715 (+/-0.016) for {'criterion': 'entropy', 'max_features': 'sqrt', 'min_samples_leaf': 4, 'min_samples_split': 4}\n",
            "0.715 (+/-0.016) for {'criterion': 'entropy', 'max_features': 'sqrt', 'min_samples_leaf': 4, 'min_samples_split': 6}\n",
            "0.715 (+/-0.016) for {'criterion': 'entropy', 'max_features': 'sqrt', 'min_samples_leaf': 4, 'min_samples_split': 5}\n",
            "0.715 (+/-0.016) for {'criterion': 'entropy', 'max_features': 'sqrt', 'min_samples_leaf': 4, 'min_samples_split': 7}\n",
            "0.715 (+/-0.016) for {'criterion': 'entropy', 'max_features': 'sqrt', 'min_samples_leaf': 4, 'min_samples_split': 8}\n",
            "\n",
            "# Tuning hyper-parameters for recall\n",
            "\n",
            "Best parameters set found on development set:\n",
            "\n",
            "{'criterion': 'gini', 'max_features': 'log2', 'min_samples_leaf': 1, 'min_samples_split': 4}\n",
            "\n",
            "Grid scores on development set:\n",
            "\n",
            "0.732 (+/-0.026) for {'criterion': 'gini', 'max_features': 'log2', 'min_samples_leaf': 1, 'min_samples_split': 3}\n",
            "0.737 (+/-0.018) for {'criterion': 'gini', 'max_features': 'log2', 'min_samples_leaf': 1, 'min_samples_split': 4}\n",
            "0.734 (+/-0.017) for {'criterion': 'gini', 'max_features': 'log2', 'min_samples_leaf': 1, 'min_samples_split': 6}\n",
            "0.734 (+/-0.021) for {'criterion': 'gini', 'max_features': 'log2', 'min_samples_leaf': 1, 'min_samples_split': 5}\n",
            "0.737 (+/-0.022) for {'criterion': 'gini', 'max_features': 'log2', 'min_samples_leaf': 1, 'min_samples_split': 7}\n",
            "0.732 (+/-0.021) for {'criterion': 'gini', 'max_features': 'log2', 'min_samples_leaf': 1, 'min_samples_split': 8}\n",
            "0.716 (+/-0.027) for {'criterion': 'gini', 'max_features': 'log2', 'min_samples_leaf': 2, 'min_samples_split': 3}\n",
            "0.716 (+/-0.027) for {'criterion': 'gini', 'max_features': 'log2', 'min_samples_leaf': 2, 'min_samples_split': 4}\n",
            "0.714 (+/-0.028) for {'criterion': 'gini', 'max_features': 'log2', 'min_samples_leaf': 2, 'min_samples_split': 6}\n",
            "0.718 (+/-0.020) for {'criterion': 'gini', 'max_features': 'log2', 'min_samples_leaf': 2, 'min_samples_split': 5}\n",
            "0.714 (+/-0.028) for {'criterion': 'gini', 'max_features': 'log2', 'min_samples_leaf': 2, 'min_samples_split': 7}\n",
            "0.713 (+/-0.025) for {'criterion': 'gini', 'max_features': 'log2', 'min_samples_leaf': 2, 'min_samples_split': 8}\n",
            "0.692 (+/-0.034) for {'criterion': 'gini', 'max_features': 'log2', 'min_samples_leaf': 3, 'min_samples_split': 3}\n",
            "0.692 (+/-0.034) for {'criterion': 'gini', 'max_features': 'log2', 'min_samples_leaf': 3, 'min_samples_split': 4}\n",
            "0.692 (+/-0.034) for {'criterion': 'gini', 'max_features': 'log2', 'min_samples_leaf': 3, 'min_samples_split': 6}\n",
            "0.692 (+/-0.034) for {'criterion': 'gini', 'max_features': 'log2', 'min_samples_leaf': 3, 'min_samples_split': 5}\n",
            "0.693 (+/-0.032) for {'criterion': 'gini', 'max_features': 'log2', 'min_samples_leaf': 3, 'min_samples_split': 7}\n",
            "0.690 (+/-0.039) for {'criterion': 'gini', 'max_features': 'log2', 'min_samples_leaf': 3, 'min_samples_split': 8}\n",
            "0.659 (+/-0.032) for {'criterion': 'gini', 'max_features': 'log2', 'min_samples_leaf': 4, 'min_samples_split': 3}\n",
            "0.659 (+/-0.032) for {'criterion': 'gini', 'max_features': 'log2', 'min_samples_leaf': 4, 'min_samples_split': 4}\n",
            "0.659 (+/-0.032) for {'criterion': 'gini', 'max_features': 'log2', 'min_samples_leaf': 4, 'min_samples_split': 6}\n",
            "0.659 (+/-0.032) for {'criterion': 'gini', 'max_features': 'log2', 'min_samples_leaf': 4, 'min_samples_split': 5}\n",
            "0.659 (+/-0.032) for {'criterion': 'gini', 'max_features': 'log2', 'min_samples_leaf': 4, 'min_samples_split': 7}\n",
            "0.659 (+/-0.032) for {'criterion': 'gini', 'max_features': 'log2', 'min_samples_leaf': 4, 'min_samples_split': 8}\n",
            "0.732 (+/-0.026) for {'criterion': 'gini', 'max_features': 'auto', 'min_samples_leaf': 1, 'min_samples_split': 3}\n",
            "0.737 (+/-0.018) for {'criterion': 'gini', 'max_features': 'auto', 'min_samples_leaf': 1, 'min_samples_split': 4}\n",
            "0.734 (+/-0.017) for {'criterion': 'gini', 'max_features': 'auto', 'min_samples_leaf': 1, 'min_samples_split': 6}\n",
            "0.734 (+/-0.021) for {'criterion': 'gini', 'max_features': 'auto', 'min_samples_leaf': 1, 'min_samples_split': 5}\n",
            "0.737 (+/-0.022) for {'criterion': 'gini', 'max_features': 'auto', 'min_samples_leaf': 1, 'min_samples_split': 7}\n",
            "0.732 (+/-0.021) for {'criterion': 'gini', 'max_features': 'auto', 'min_samples_leaf': 1, 'min_samples_split': 8}\n",
            "0.716 (+/-0.027) for {'criterion': 'gini', 'max_features': 'auto', 'min_samples_leaf': 2, 'min_samples_split': 3}\n",
            "0.716 (+/-0.027) for {'criterion': 'gini', 'max_features': 'auto', 'min_samples_leaf': 2, 'min_samples_split': 4}\n",
            "0.714 (+/-0.028) for {'criterion': 'gini', 'max_features': 'auto', 'min_samples_leaf': 2, 'min_samples_split': 6}\n",
            "0.718 (+/-0.020) for {'criterion': 'gini', 'max_features': 'auto', 'min_samples_leaf': 2, 'min_samples_split': 5}\n",
            "0.714 (+/-0.028) for {'criterion': 'gini', 'max_features': 'auto', 'min_samples_leaf': 2, 'min_samples_split': 7}\n",
            "0.713 (+/-0.025) for {'criterion': 'gini', 'max_features': 'auto', 'min_samples_leaf': 2, 'min_samples_split': 8}\n",
            "0.692 (+/-0.034) for {'criterion': 'gini', 'max_features': 'auto', 'min_samples_leaf': 3, 'min_samples_split': 3}\n",
            "0.692 (+/-0.034) for {'criterion': 'gini', 'max_features': 'auto', 'min_samples_leaf': 3, 'min_samples_split': 4}\n",
            "0.692 (+/-0.034) for {'criterion': 'gini', 'max_features': 'auto', 'min_samples_leaf': 3, 'min_samples_split': 6}\n",
            "0.692 (+/-0.034) for {'criterion': 'gini', 'max_features': 'auto', 'min_samples_leaf': 3, 'min_samples_split': 5}\n",
            "0.693 (+/-0.032) for {'criterion': 'gini', 'max_features': 'auto', 'min_samples_leaf': 3, 'min_samples_split': 7}\n",
            "0.690 (+/-0.039) for {'criterion': 'gini', 'max_features': 'auto', 'min_samples_leaf': 3, 'min_samples_split': 8}\n",
            "0.659 (+/-0.032) for {'criterion': 'gini', 'max_features': 'auto', 'min_samples_leaf': 4, 'min_samples_split': 3}\n",
            "0.659 (+/-0.032) for {'criterion': 'gini', 'max_features': 'auto', 'min_samples_leaf': 4, 'min_samples_split': 4}\n",
            "0.659 (+/-0.032) for {'criterion': 'gini', 'max_features': 'auto', 'min_samples_leaf': 4, 'min_samples_split': 6}\n",
            "0.659 (+/-0.032) for {'criterion': 'gini', 'max_features': 'auto', 'min_samples_leaf': 4, 'min_samples_split': 5}\n",
            "0.659 (+/-0.032) for {'criterion': 'gini', 'max_features': 'auto', 'min_samples_leaf': 4, 'min_samples_split': 7}\n",
            "0.659 (+/-0.032) for {'criterion': 'gini', 'max_features': 'auto', 'min_samples_leaf': 4, 'min_samples_split': 8}\n",
            "0.732 (+/-0.026) for {'criterion': 'gini', 'max_features': 'sqrt', 'min_samples_leaf': 1, 'min_samples_split': 3}\n",
            "0.737 (+/-0.018) for {'criterion': 'gini', 'max_features': 'sqrt', 'min_samples_leaf': 1, 'min_samples_split': 4}\n",
            "0.734 (+/-0.017) for {'criterion': 'gini', 'max_features': 'sqrt', 'min_samples_leaf': 1, 'min_samples_split': 6}\n",
            "0.734 (+/-0.021) for {'criterion': 'gini', 'max_features': 'sqrt', 'min_samples_leaf': 1, 'min_samples_split': 5}\n",
            "0.737 (+/-0.022) for {'criterion': 'gini', 'max_features': 'sqrt', 'min_samples_leaf': 1, 'min_samples_split': 7}\n",
            "0.732 (+/-0.021) for {'criterion': 'gini', 'max_features': 'sqrt', 'min_samples_leaf': 1, 'min_samples_split': 8}\n",
            "0.716 (+/-0.027) for {'criterion': 'gini', 'max_features': 'sqrt', 'min_samples_leaf': 2, 'min_samples_split': 3}\n",
            "0.716 (+/-0.027) for {'criterion': 'gini', 'max_features': 'sqrt', 'min_samples_leaf': 2, 'min_samples_split': 4}\n",
            "0.714 (+/-0.028) for {'criterion': 'gini', 'max_features': 'sqrt', 'min_samples_leaf': 2, 'min_samples_split': 6}\n",
            "0.718 (+/-0.020) for {'criterion': 'gini', 'max_features': 'sqrt', 'min_samples_leaf': 2, 'min_samples_split': 5}\n",
            "0.714 (+/-0.028) for {'criterion': 'gini', 'max_features': 'sqrt', 'min_samples_leaf': 2, 'min_samples_split': 7}\n",
            "0.713 (+/-0.025) for {'criterion': 'gini', 'max_features': 'sqrt', 'min_samples_leaf': 2, 'min_samples_split': 8}\n",
            "0.692 (+/-0.034) for {'criterion': 'gini', 'max_features': 'sqrt', 'min_samples_leaf': 3, 'min_samples_split': 3}\n",
            "0.692 (+/-0.034) for {'criterion': 'gini', 'max_features': 'sqrt', 'min_samples_leaf': 3, 'min_samples_split': 4}\n",
            "0.692 (+/-0.034) for {'criterion': 'gini', 'max_features': 'sqrt', 'min_samples_leaf': 3, 'min_samples_split': 6}\n",
            "0.692 (+/-0.034) for {'criterion': 'gini', 'max_features': 'sqrt', 'min_samples_leaf': 3, 'min_samples_split': 5}\n",
            "0.693 (+/-0.032) for {'criterion': 'gini', 'max_features': 'sqrt', 'min_samples_leaf': 3, 'min_samples_split': 7}\n",
            "0.690 (+/-0.039) for {'criterion': 'gini', 'max_features': 'sqrt', 'min_samples_leaf': 3, 'min_samples_split': 8}\n",
            "0.659 (+/-0.032) for {'criterion': 'gini', 'max_features': 'sqrt', 'min_samples_leaf': 4, 'min_samples_split': 3}\n",
            "0.659 (+/-0.032) for {'criterion': 'gini', 'max_features': 'sqrt', 'min_samples_leaf': 4, 'min_samples_split': 4}\n",
            "0.659 (+/-0.032) for {'criterion': 'gini', 'max_features': 'sqrt', 'min_samples_leaf': 4, 'min_samples_split': 6}\n",
            "0.659 (+/-0.032) for {'criterion': 'gini', 'max_features': 'sqrt', 'min_samples_leaf': 4, 'min_samples_split': 5}\n",
            "0.659 (+/-0.032) for {'criterion': 'gini', 'max_features': 'sqrt', 'min_samples_leaf': 4, 'min_samples_split': 7}\n",
            "0.659 (+/-0.032) for {'criterion': 'gini', 'max_features': 'sqrt', 'min_samples_leaf': 4, 'min_samples_split': 8}\n",
            "0.732 (+/-0.014) for {'criterion': 'entropy', 'max_features': 'log2', 'min_samples_leaf': 1, 'min_samples_split': 3}\n",
            "0.734 (+/-0.017) for {'criterion': 'entropy', 'max_features': 'log2', 'min_samples_leaf': 1, 'min_samples_split': 4}\n",
            "0.731 (+/-0.019) for {'criterion': 'entropy', 'max_features': 'log2', 'min_samples_leaf': 1, 'min_samples_split': 6}\n",
            "0.733 (+/-0.026) for {'criterion': 'entropy', 'max_features': 'log2', 'min_samples_leaf': 1, 'min_samples_split': 5}\n",
            "0.734 (+/-0.024) for {'criterion': 'entropy', 'max_features': 'log2', 'min_samples_leaf': 1, 'min_samples_split': 7}\n",
            "0.730 (+/-0.019) for {'criterion': 'entropy', 'max_features': 'log2', 'min_samples_leaf': 1, 'min_samples_split': 8}\n",
            "0.716 (+/-0.033) for {'criterion': 'entropy', 'max_features': 'log2', 'min_samples_leaf': 2, 'min_samples_split': 3}\n",
            "0.716 (+/-0.033) for {'criterion': 'entropy', 'max_features': 'log2', 'min_samples_leaf': 2, 'min_samples_split': 4}\n",
            "0.715 (+/-0.030) for {'criterion': 'entropy', 'max_features': 'log2', 'min_samples_leaf': 2, 'min_samples_split': 6}\n",
            "0.715 (+/-0.026) for {'criterion': 'entropy', 'max_features': 'log2', 'min_samples_leaf': 2, 'min_samples_split': 5}\n",
            "0.712 (+/-0.023) for {'criterion': 'entropy', 'max_features': 'log2', 'min_samples_leaf': 2, 'min_samples_split': 7}\n",
            "0.711 (+/-0.025) for {'criterion': 'entropy', 'max_features': 'log2', 'min_samples_leaf': 2, 'min_samples_split': 8}\n",
            "0.691 (+/-0.024) for {'criterion': 'entropy', 'max_features': 'log2', 'min_samples_leaf': 3, 'min_samples_split': 3}\n",
            "0.691 (+/-0.024) for {'criterion': 'entropy', 'max_features': 'log2', 'min_samples_leaf': 3, 'min_samples_split': 4}\n",
            "0.691 (+/-0.024) for {'criterion': 'entropy', 'max_features': 'log2', 'min_samples_leaf': 3, 'min_samples_split': 6}\n",
            "0.691 (+/-0.024) for {'criterion': 'entropy', 'max_features': 'log2', 'min_samples_leaf': 3, 'min_samples_split': 5}\n",
            "0.690 (+/-0.030) for {'criterion': 'entropy', 'max_features': 'log2', 'min_samples_leaf': 3, 'min_samples_split': 7}\n",
            "0.690 (+/-0.036) for {'criterion': 'entropy', 'max_features': 'log2', 'min_samples_leaf': 3, 'min_samples_split': 8}\n",
            "0.667 (+/-0.016) for {'criterion': 'entropy', 'max_features': 'log2', 'min_samples_leaf': 4, 'min_samples_split': 3}\n",
            "0.667 (+/-0.016) for {'criterion': 'entropy', 'max_features': 'log2', 'min_samples_leaf': 4, 'min_samples_split': 4}\n",
            "0.667 (+/-0.016) for {'criterion': 'entropy', 'max_features': 'log2', 'min_samples_leaf': 4, 'min_samples_split': 6}\n",
            "0.667 (+/-0.016) for {'criterion': 'entropy', 'max_features': 'log2', 'min_samples_leaf': 4, 'min_samples_split': 5}\n",
            "0.667 (+/-0.016) for {'criterion': 'entropy', 'max_features': 'log2', 'min_samples_leaf': 4, 'min_samples_split': 7}\n",
            "0.667 (+/-0.016) for {'criterion': 'entropy', 'max_features': 'log2', 'min_samples_leaf': 4, 'min_samples_split': 8}\n",
            "0.732 (+/-0.014) for {'criterion': 'entropy', 'max_features': 'auto', 'min_samples_leaf': 1, 'min_samples_split': 3}\n",
            "0.734 (+/-0.017) for {'criterion': 'entropy', 'max_features': 'auto', 'min_samples_leaf': 1, 'min_samples_split': 4}\n",
            "0.731 (+/-0.019) for {'criterion': 'entropy', 'max_features': 'auto', 'min_samples_leaf': 1, 'min_samples_split': 6}\n",
            "0.733 (+/-0.026) for {'criterion': 'entropy', 'max_features': 'auto', 'min_samples_leaf': 1, 'min_samples_split': 5}\n",
            "0.734 (+/-0.024) for {'criterion': 'entropy', 'max_features': 'auto', 'min_samples_leaf': 1, 'min_samples_split': 7}\n",
            "0.730 (+/-0.019) for {'criterion': 'entropy', 'max_features': 'auto', 'min_samples_leaf': 1, 'min_samples_split': 8}\n",
            "0.716 (+/-0.033) for {'criterion': 'entropy', 'max_features': 'auto', 'min_samples_leaf': 2, 'min_samples_split': 3}\n",
            "0.716 (+/-0.033) for {'criterion': 'entropy', 'max_features': 'auto', 'min_samples_leaf': 2, 'min_samples_split': 4}\n",
            "0.715 (+/-0.030) for {'criterion': 'entropy', 'max_features': 'auto', 'min_samples_leaf': 2, 'min_samples_split': 6}\n",
            "0.715 (+/-0.026) for {'criterion': 'entropy', 'max_features': 'auto', 'min_samples_leaf': 2, 'min_samples_split': 5}\n",
            "0.712 (+/-0.023) for {'criterion': 'entropy', 'max_features': 'auto', 'min_samples_leaf': 2, 'min_samples_split': 7}\n",
            "0.711 (+/-0.025) for {'criterion': 'entropy', 'max_features': 'auto', 'min_samples_leaf': 2, 'min_samples_split': 8}\n",
            "0.691 (+/-0.024) for {'criterion': 'entropy', 'max_features': 'auto', 'min_samples_leaf': 3, 'min_samples_split': 3}\n",
            "0.691 (+/-0.024) for {'criterion': 'entropy', 'max_features': 'auto', 'min_samples_leaf': 3, 'min_samples_split': 4}\n",
            "0.691 (+/-0.024) for {'criterion': 'entropy', 'max_features': 'auto', 'min_samples_leaf': 3, 'min_samples_split': 6}\n",
            "0.691 (+/-0.024) for {'criterion': 'entropy', 'max_features': 'auto', 'min_samples_leaf': 3, 'min_samples_split': 5}\n",
            "0.690 (+/-0.030) for {'criterion': 'entropy', 'max_features': 'auto', 'min_samples_leaf': 3, 'min_samples_split': 7}\n",
            "0.690 (+/-0.036) for {'criterion': 'entropy', 'max_features': 'auto', 'min_samples_leaf': 3, 'min_samples_split': 8}\n",
            "0.667 (+/-0.016) for {'criterion': 'entropy', 'max_features': 'auto', 'min_samples_leaf': 4, 'min_samples_split': 3}\n",
            "0.667 (+/-0.016) for {'criterion': 'entropy', 'max_features': 'auto', 'min_samples_leaf': 4, 'min_samples_split': 4}\n",
            "0.667 (+/-0.016) for {'criterion': 'entropy', 'max_features': 'auto', 'min_samples_leaf': 4, 'min_samples_split': 6}\n",
            "0.667 (+/-0.016) for {'criterion': 'entropy', 'max_features': 'auto', 'min_samples_leaf': 4, 'min_samples_split': 5}\n",
            "0.667 (+/-0.016) for {'criterion': 'entropy', 'max_features': 'auto', 'min_samples_leaf': 4, 'min_samples_split': 7}\n",
            "0.667 (+/-0.016) for {'criterion': 'entropy', 'max_features': 'auto', 'min_samples_leaf': 4, 'min_samples_split': 8}\n",
            "0.732 (+/-0.014) for {'criterion': 'entropy', 'max_features': 'sqrt', 'min_samples_leaf': 1, 'min_samples_split': 3}\n",
            "0.734 (+/-0.017) for {'criterion': 'entropy', 'max_features': 'sqrt', 'min_samples_leaf': 1, 'min_samples_split': 4}\n",
            "0.731 (+/-0.019) for {'criterion': 'entropy', 'max_features': 'sqrt', 'min_samples_leaf': 1, 'min_samples_split': 6}\n",
            "0.733 (+/-0.026) for {'criterion': 'entropy', 'max_features': 'sqrt', 'min_samples_leaf': 1, 'min_samples_split': 5}\n",
            "0.734 (+/-0.024) for {'criterion': 'entropy', 'max_features': 'sqrt', 'min_samples_leaf': 1, 'min_samples_split': 7}\n",
            "0.730 (+/-0.019) for {'criterion': 'entropy', 'max_features': 'sqrt', 'min_samples_leaf': 1, 'min_samples_split': 8}\n",
            "0.716 (+/-0.033) for {'criterion': 'entropy', 'max_features': 'sqrt', 'min_samples_leaf': 2, 'min_samples_split': 3}\n",
            "0.716 (+/-0.033) for {'criterion': 'entropy', 'max_features': 'sqrt', 'min_samples_leaf': 2, 'min_samples_split': 4}\n",
            "0.715 (+/-0.030) for {'criterion': 'entropy', 'max_features': 'sqrt', 'min_samples_leaf': 2, 'min_samples_split': 6}\n",
            "0.715 (+/-0.026) for {'criterion': 'entropy', 'max_features': 'sqrt', 'min_samples_leaf': 2, 'min_samples_split': 5}\n",
            "0.712 (+/-0.023) for {'criterion': 'entropy', 'max_features': 'sqrt', 'min_samples_leaf': 2, 'min_samples_split': 7}\n",
            "0.711 (+/-0.025) for {'criterion': 'entropy', 'max_features': 'sqrt', 'min_samples_leaf': 2, 'min_samples_split': 8}\n",
            "0.691 (+/-0.024) for {'criterion': 'entropy', 'max_features': 'sqrt', 'min_samples_leaf': 3, 'min_samples_split': 3}\n",
            "0.691 (+/-0.024) for {'criterion': 'entropy', 'max_features': 'sqrt', 'min_samples_leaf': 3, 'min_samples_split': 4}\n",
            "0.691 (+/-0.024) for {'criterion': 'entropy', 'max_features': 'sqrt', 'min_samples_leaf': 3, 'min_samples_split': 6}\n",
            "0.691 (+/-0.024) for {'criterion': 'entropy', 'max_features': 'sqrt', 'min_samples_leaf': 3, 'min_samples_split': 5}\n",
            "0.690 (+/-0.030) for {'criterion': 'entropy', 'max_features': 'sqrt', 'min_samples_leaf': 3, 'min_samples_split': 7}\n",
            "0.690 (+/-0.036) for {'criterion': 'entropy', 'max_features': 'sqrt', 'min_samples_leaf': 3, 'min_samples_split': 8}\n",
            "0.667 (+/-0.016) for {'criterion': 'entropy', 'max_features': 'sqrt', 'min_samples_leaf': 4, 'min_samples_split': 3}\n",
            "0.667 (+/-0.016) for {'criterion': 'entropy', 'max_features': 'sqrt', 'min_samples_leaf': 4, 'min_samples_split': 4}\n",
            "0.667 (+/-0.016) for {'criterion': 'entropy', 'max_features': 'sqrt', 'min_samples_leaf': 4, 'min_samples_split': 6}\n",
            "0.667 (+/-0.016) for {'criterion': 'entropy', 'max_features': 'sqrt', 'min_samples_leaf': 4, 'min_samples_split': 5}\n",
            "0.667 (+/-0.016) for {'criterion': 'entropy', 'max_features': 'sqrt', 'min_samples_leaf': 4, 'min_samples_split': 7}\n",
            "0.667 (+/-0.016) for {'criterion': 'entropy', 'max_features': 'sqrt', 'min_samples_leaf': 4, 'min_samples_split': 8}\n",
            "\n"
          ]
        }
      ]
    },
    {
      "cell_type": "code",
      "source": [
        "ETC2 = ExtraTreesClassifier(random_state=0, criterion= 'gini', max_features= 'log2', min_samples_leaf= 1, min_samples_split= 7)\n",
        "ETC2.fit(trainData, trainLabels)\n",
        "pETC2 = ETC2.predict(testData)\n",
        "print(classification_report(testLabels, pETC2))"
      ],
      "metadata": {
        "id": "NIopcb_-5ul5",
        "outputId": "0cd11693-4cd9-40ff-a23e-8818fe3a7572",
        "colab": {
          "base_uri": "https://localhost:8080/"
        }
      },
      "execution_count": null,
      "outputs": [
        {
          "output_type": "stream",
          "name": "stdout",
          "text": [
            "              precision    recall  f1-score   support\n",
            "\n",
            "         0.0       0.96      0.98      0.97       646\n",
            "         1.0       0.82      0.76      0.79        70\n",
            "         2.0       0.73      0.79      0.76       402\n",
            "         3.0       0.67      0.70      0.69       518\n",
            "         4.0       0.68      0.64      0.66       501\n",
            "         5.0       0.75      0.63      0.69       263\n",
            "\n",
            "    accuracy                           0.77      2400\n",
            "   macro avg       0.77      0.75      0.76      2400\n",
            "weighted avg       0.77      0.77      0.77      2400\n",
            "\n"
          ]
        }
      ]
    },
    {
      "cell_type": "markdown",
      "source": [
        "--------------------------------------------------------------------------------\n",
        "A continuación probaré otro método de ensemble de los árboles de decisión llamado xgboost el cuál es uno de los más usados actualmente. Para ello, instalaré e importaré las librerias necesarias"
      ],
      "metadata": {
        "id": "VuBHtPio641n"
      }
    },
    {
      "cell_type": "code",
      "source": [
        "!pip install xgboost"
      ],
      "metadata": {
        "id": "zBsqSZQq3Axi",
        "outputId": "168aed4d-26a8-4150-9583-e847d5847ece",
        "colab": {
          "base_uri": "https://localhost:8080/"
        }
      },
      "execution_count": null,
      "outputs": [
        {
          "output_type": "stream",
          "name": "stdout",
          "text": [
            "Requirement already satisfied: xgboost in /usr/local/lib/python3.7/dist-packages (0.90)\n",
            "Requirement already satisfied: scipy in /usr/local/lib/python3.7/dist-packages (from xgboost) (1.4.1)\n",
            "Requirement already satisfied: numpy in /usr/local/lib/python3.7/dist-packages (from xgboost) (1.21.5)\n"
          ]
        }
      ]
    },
    {
      "cell_type": "code",
      "source": [
        "import xgboost as xgb\n",
        "from numpy import array\n",
        "from sklearn.metrics import confusion_matrix\n",
        "from sklearn.metrics import accuracy_score"
      ],
      "metadata": {
        "id": "Q6r0byBR3M_N"
      },
      "execution_count": null,
      "outputs": []
    },
    {
      "cell_type": "code",
      "source": [
        "train_mat = xgb.DMatrix(trainData, label=trainLabels)\n",
        "test_mat = xgb.DMatrix(testData, label=testLabels)"
      ],
      "metadata": {
        "id": "FEqQpylT4tV2"
      },
      "execution_count": null,
      "outputs": []
    },
    {
      "cell_type": "markdown",
      "source": [
        " - booster: El tipo de modelo de clasificación usado, por defecto gbtree.\n",
        "\n",
        " \n",
        " - objective: El tipo de tarea de clasificación que realizaremos. Para clasificación binaria, nuestro caso, especificamos binary:logistic.\n",
        "\n",
        "\n",
        " - max_depth: “Profundidad” o número de nodos de bifurcación de los árboles de decisión usados en el entrenamiento. Aunque una mayor profundidad puede devolver mejores resultados, también puede resultar en overfitting (sobre ajuste).\n",
        "\n",
        "\n",
        " - eta: La tasa de aprendizaje del modelo. Un mayor valor llega más rápidamente al mínimo de la función objetivo, es decir, a un “mejor modelo”, pero puede “pasarse” de su valor óptimo. En cambio, un valor pequeño puede nunca llegar al valor óptimo de la función objetivo, incluso después de muchas iteraciones. En ambos casos, esto afecta el desempeño de nuestros modelos con nuevos.\n",
        "\n",
        "\n",
        " - nthread: El número de hilos computacionales que serán usados en el proceso de entrenamiento. Generalmente se refiere a los núcleos del procesador de tu equipo de cómputo, local o remoto, pero también pueden ser los núcleos de un GPU.\n",
        "\n",
        "\n",
        " - nround: El número de iteraciones que se realizarán antes de detener el proceso de ajuste. Un mayor número de iteraciones generalmente devuelve mejores resultados de predicción, pero necesita más tiempo de entrenamiento y conlleva un riesgo de sobre ajuste si son demasiadas rondas."
      ],
      "metadata": {
        "id": "XP6B2yR75VZj"
      }
    },
    {
      "cell_type": "code",
      "source": [
        "parametros = {\"booster\":\"gbtree\", \"max_depth\": 2, \"eta\": 0.3, \"objective\": \"reg:squarederror\", \"nthread\":2}\n",
        "rondas = 10\n",
        "evaluacion = [(test_mat, \"eval\"), (train_mat, \"train\")]"
      ],
      "metadata": {
        "id": "zQDSkab45Qcn"
      },
      "execution_count": null,
      "outputs": []
    },
    {
      "cell_type": "code",
      "source": [
        "modelo = xgb.train(parametros, train_mat, rondas, evaluacion)"
      ],
      "metadata": {
        "id": "YIkLLSLk5vYi",
        "outputId": "3c79d3bc-db05-4f28-c4c8-8344cb9b838d",
        "colab": {
          "base_uri": "https://localhost:8080/"
        }
      },
      "execution_count": null,
      "outputs": [
        {
          "output_type": "stream",
          "name": "stdout",
          "text": [
            "[0]\teval-rmse:2.14218\ttrain-rmse:2.13628\n",
            "[1]\teval-rmse:1.89334\ttrain-rmse:1.89632\n",
            "[2]\teval-rmse:1.75371\ttrain-rmse:1.75856\n",
            "[3]\teval-rmse:1.67555\ttrain-rmse:1.68499\n",
            "[4]\teval-rmse:1.62466\ttrain-rmse:1.63813\n",
            "[5]\teval-rmse:1.59575\ttrain-rmse:1.61244\n",
            "[6]\teval-rmse:1.57699\ttrain-rmse:1.5927\n",
            "[7]\teval-rmse:1.56608\ttrain-rmse:1.58288\n",
            "[8]\teval-rmse:1.54855\ttrain-rmse:1.56808\n",
            "[9]\teval-rmse:1.54109\ttrain-rmse:1.56075\n"
          ]
        }
      ]
    },
    {
      "cell_type": "code",
      "source": [
        "def metricas(objetivo, prediccion):\n",
        "    matriz_conf = confusion_matrix(objetivo, prediccion)\n",
        "    score = accuracy_score(objetivo, prediccion)\n",
        "    reporte = classification_report(objetivo, prediccion)\n",
        "    metricas = [matriz_conf, score, reporte]\n",
        "    return(metricas)"
      ],
      "metadata": {
        "id": "Yf9wUlLK7hh4"
      },
      "execution_count": null,
      "outputs": []
    },
    {
      "cell_type": "code",
      "source": [
        "prediccion = modelo.predict(test_mat)\n",
        "pred = prediccion.astype(int)"
      ],
      "metadata": {
        "id": "BgIUz9kH7z9Q"
      },
      "execution_count": null,
      "outputs": []
    },
    {
      "cell_type": "code",
      "source": [
        "metricas = metricas(testLabels, pred)\n",
        "[print(i) for i in metricas]"
      ],
      "metadata": {
        "id": "MQ3bqin970TJ",
        "outputId": "e2918b40-7c9b-479d-b80a-ac5eb74bea0e",
        "colab": {
          "base_uri": "https://localhost:8080/"
        }
      },
      "execution_count": null,
      "outputs": [
        {
          "output_type": "stream",
          "name": "stdout",
          "text": [
            "[[110 400 416  25   0   0]\n",
            " [  0  13 107   0   0   0]\n",
            " [  0  77 461  50   0   0]\n",
            " [  2 105 551 135   0   0]\n",
            " [  0  69 550 154   0   0]\n",
            " [  0  43 260  72   0   0]]\n",
            "0.19972222222222222\n",
            "              precision    recall  f1-score   support\n",
            "\n",
            "         0.0       0.98      0.12      0.21       951\n",
            "         1.0       0.02      0.11      0.03       120\n",
            "         2.0       0.20      0.78      0.31       588\n",
            "         3.0       0.31      0.17      0.22       793\n",
            "         4.0       0.00      0.00      0.00       773\n",
            "         5.0       0.00      0.00      0.00       375\n",
            "\n",
            "    accuracy                           0.20      3600\n",
            "   macro avg       0.25      0.20      0.13      3600\n",
            "weighted avg       0.36      0.20      0.16      3600\n",
            "\n"
          ]
        },
        {
          "output_type": "execute_result",
          "data": {
            "text/plain": [
              "[None, None, None]"
            ]
          },
          "metadata": {},
          "execution_count": 60
        }
      ]
    },
    {
      "cell_type": "markdown",
      "source": [
        "Como la precisión lo mejora la obtenida con ExtraTreesClassifier, este algoritmo queda descartado como posible solución."
      ],
      "metadata": {
        "id": "D44HEHgm9NZW"
      }
    }
  ],
  "metadata": {
    "kernelspec": {
      "display_name": "Python 3",
      "language": "python",
      "name": "python3"
    },
    "language_info": {
      "codemirror_mode": {
        "name": "ipython",
        "version": 3
      },
      "file_extension": ".py",
      "mimetype": "text/x-python",
      "name": "python",
      "nbconvert_exporter": "python",
      "pygments_lexer": "ipython3",
      "version": "3.6.7"
    },
    "colab": {
      "name": "practica6.ipynb",
      "provenance": [],
      "include_colab_link": true
    },
    "accelerator": "GPU"
  },
  "nbformat": 4,
  "nbformat_minor": 0
}