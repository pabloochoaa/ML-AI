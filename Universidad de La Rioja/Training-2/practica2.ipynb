{
  "cells": [
    {
      "cell_type": "markdown",
      "metadata": {
        "id": "view-in-github",
        "colab_type": "text"
      },
      "source": [
        "<a href=\"https://colab.research.google.com/github/IA2122/practica-2-paochoa/blob/main/practica2.ipynb\" target=\"_parent\"><img src=\"https://colab.research.google.com/assets/colab-badge.svg\" alt=\"Open In Colab\"/></a>"
      ]
    },
    {
      "cell_type": "markdown",
      "metadata": {
        "id": "OgLp1Gtc1s2k"
      },
      "source": [
        "# Práctica 2. Introducción a Python II\n",
        "\n",
        "Objetivos de la práctica:\n",
        "* Seguir aprendiendo el uso de Python.\n",
        "    - Listas por comprensión.\n",
        "    - Uso de ficheros.\n",
        "    - Funciones de orden superior\n",
        "    - Clases.\n",
        "\n",
        "Si estás utilizando Colab para interactuar con estos notebooks, para que los cambios realizados se almacenen en el repositorio debes usar la opción Save a copy in GitHub... del menú File. \n",
        "\n",
        "A lo largo de la práctica se proporcionan una serie de tests para que compruebes tus soluciones. También puedes añadir las celdas que consideres necesarias para comprobar los métodos que definas. "
      ]
    },
    {
      "cell_type": "markdown",
      "metadata": {
        "id": "D71waoUK1s2r"
      },
      "source": [
        "## Ejercicios mínimos (6 puntos)\n",
        "\n",
        "### Ejercicio 1\n",
        "\n",
        "Escribir una función cuadrados que recibiendo una secuencia de números, devuelve la lista de los cuadrados de estos números. Ejemplo. Dada la lista ``[4,1,5.2,3,8]``, la función produce como resultado ``[16, 1, 27.040000000000003, 9, 64]``. Implementa dos versiones: una usando un bucle y otra mediante listas por comprensión."
      ]
    },
    {
      "cell_type": "code",
      "source": [
        "!pip install mypy\n",
        "!wget https://raw.githubusercontent.com/IA1920/Utils/master/typecheck.py"
      ],
      "metadata": {
        "id": "Q9mJULHmmXAw",
        "outputId": "6b40c493-0fb9-4fd4-b10e-598c6abfc637",
        "colab": {
          "base_uri": "https://localhost:8080/"
        }
      },
      "execution_count": 47,
      "outputs": [
        {
          "output_type": "stream",
          "name": "stdout",
          "text": [
            "Requirement already satisfied: mypy in /usr/local/lib/python3.7/dist-packages (0.931)\n",
            "Requirement already satisfied: typing-extensions>=3.10 in /usr/local/lib/python3.7/dist-packages (from mypy) (3.10.0.2)\n",
            "Requirement already satisfied: mypy-extensions>=0.4.3 in /usr/local/lib/python3.7/dist-packages (from mypy) (0.4.3)\n",
            "Requirement already satisfied: tomli>=1.1.0 in /usr/local/lib/python3.7/dist-packages (from mypy) (2.0.1)\n",
            "Requirement already satisfied: typed-ast<2,>=1.4.0 in /usr/local/lib/python3.7/dist-packages (from mypy) (1.5.2)\n",
            "--2022-03-07 15:05:29--  https://raw.githubusercontent.com/IA1920/Utils/master/typecheck.py\n",
            "Resolving raw.githubusercontent.com (raw.githubusercontent.com)... 185.199.108.133, 185.199.109.133, 185.199.110.133, ...\n",
            "Connecting to raw.githubusercontent.com (raw.githubusercontent.com)|185.199.108.133|:443... connected.\n",
            "HTTP request sent, awaiting response... 200 OK\n",
            "Length: 1633 (1.6K) [text/plain]\n",
            "Saving to: ‘typecheck.py.1’\n",
            "\n",
            "typecheck.py.1      100%[===================>]   1.59K  --.-KB/s    in 0s      \n",
            "\n",
            "2022-03-07 15:05:30 (25.2 MB/s) - ‘typecheck.py.1’ saved [1633/1633]\n",
            "\n"
          ]
        }
      ]
    },
    {
      "cell_type": "code",
      "source": [
        "from typecheck import *"
      ],
      "metadata": {
        "id": "mrWIZXdLmNXs"
      },
      "execution_count": 48,
      "outputs": []
    },
    {
      "cell_type": "code",
      "execution_count": 49,
      "metadata": {
        "id": "4O65rYfF1s2v",
        "outputId": "4e7efeaf-741a-4326-a0f0-e0bb7b1f19bf",
        "colab": {
          "base_uri": "https://localhost:8080/"
        }
      },
      "outputs": [
        {
          "output_type": "stream",
          "name": "stdout",
          "text": [
            "Success: no issues found in 1 source file\n",
            "\n"
          ]
        }
      ],
      "source": [
        "%%typecheck\n",
        "from typing import List\n",
        "def cuadrados_bucle(l: List[int])->List[int]:\n",
        "    '''\n",
        "    >>> cuadrados_bucle([1,2,3,4])\n",
        "    [1, 4, 9, 16]\n",
        "    >>> cuadrados_bucle([4,1,5.2,3,8]) \n",
        "    [16, 1, 27.040000000000003, 9, 64]\n",
        "    >>> cuadrados_bucle([1, 2, 3, 4, 5])\n",
        "    [1, 4, 9, 16, 25]\n",
        "    '''\n",
        "    lista = []\n",
        "    for x in l:\n",
        "      lista.append(x ** 2)\n",
        "    return lista"
      ]
    },
    {
      "cell_type": "code",
      "execution_count": 50,
      "metadata": {
        "id": "paAPtfRW1s29",
        "outputId": "ac30e6ff-539a-401f-d55f-10d4a08ef78b",
        "colab": {
          "base_uri": "https://localhost:8080/"
        }
      },
      "outputs": [
        {
          "output_type": "stream",
          "name": "stdout",
          "text": [
            "Success: no issues found in 1 source file\n",
            "\n"
          ]
        }
      ],
      "source": [
        "%%typecheck\n",
        "from typing import List\n",
        "def cuadrados_comprension(l: List[int])->List[int]:\n",
        "    '''\n",
        "    >>> cuadrados_comprension([1,2,3,4])\n",
        "    [1, 4, 9, 16]\n",
        "    >>> cuadrados_comprension([4,1,5.2,3,8])\n",
        "    [16, 1, 27.040000000000003, 9, 64]\n",
        "    >>> cuadrados_comprension([1, 2, 3, 4, 5])\n",
        "    [1, 4, 9, 16, 25]\n",
        "    '''\n",
        "    return [x ** 2 for x in l]"
      ]
    },
    {
      "cell_type": "markdown",
      "metadata": {
        "id": "rkFL4Evo1s3F"
      },
      "source": [
        "Comprueba los tests."
      ]
    },
    {
      "cell_type": "code",
      "execution_count": 51,
      "metadata": {
        "colab": {
          "base_uri": "https://localhost:8080/"
        },
        "id": "OxmNo6SB1s3H",
        "outputId": "1661cb37-9553-4bbe-a673-8083c2230b8b"
      },
      "outputs": [
        {
          "output_type": "execute_result",
          "data": {
            "text/plain": [
              "TestResults(failed=0, attempted=64)"
            ]
          },
          "metadata": {},
          "execution_count": 51
        }
      ],
      "source": [
        "import doctest\n",
        "doctest.testmod()"
      ]
    },
    {
      "cell_type": "markdown",
      "metadata": {
        "id": "wxoUuMFn1s3P"
      },
      "source": [
        "A partir de ahora en los siguientes ejercicios deberás usar como técnica principal la definición de listas por comprensión.\n",
        "\n",
        "### Ejercicio 2\n",
        "\n",
        "Dada una lista de números naturales, devuelve la suma de los cuadrados de los números pares de la lista. \n",
        "\n",
        "Pista: busca que hace la función ``sum``."
      ]
    },
    {
      "cell_type": "code",
      "execution_count": 52,
      "metadata": {
        "id": "EZIVut3g1s3Q",
        "outputId": "7bbf7e79-f2e9-41a2-9855-f147aeebe1da",
        "colab": {
          "base_uri": "https://localhost:8080/"
        }
      },
      "outputs": [
        {
          "output_type": "stream",
          "name": "stdout",
          "text": [
            "Success: no issues found in 1 source file\n",
            "\n"
          ]
        }
      ],
      "source": [
        "%%typecheck\n",
        "from typing import List\n",
        "def suma_cuadrados(lista: List[int])->int:\n",
        "    '''\n",
        "    >>> suma_cuadrados([9,4,2,6,8,1])\n",
        "    120\n",
        "    >>> suma_cuadrados([])\n",
        "    0\n",
        "    >>> suma_cuadrados([9, 4, 6, 8]) \n",
        "    116\n",
        "    '''\n",
        "    return sum(x ** 2 for x in lista if x%2 == 0)"
      ]
    },
    {
      "cell_type": "markdown",
      "metadata": {
        "id": "vmpahQeC1s3Y"
      },
      "source": [
        "Comprueba los tests."
      ]
    },
    {
      "cell_type": "code",
      "execution_count": 53,
      "metadata": {
        "colab": {
          "base_uri": "https://localhost:8080/"
        },
        "id": "r40lPr7O1s3Z",
        "outputId": "cef97763-92e0-45b7-a152-5ba17c0b3532"
      },
      "outputs": [
        {
          "output_type": "execute_result",
          "data": {
            "text/plain": [
              "TestResults(failed=0, attempted=64)"
            ]
          },
          "metadata": {},
          "execution_count": 53
        }
      ],
      "source": [
        "doctest.testmod()"
      ]
    },
    {
      "cell_type": "markdown",
      "metadata": {
        "id": "Cn9opW_b1s3f"
      },
      "source": [
        "### Ejercicio 3\n",
        "\n",
        "Devuelve una lista con los números divisibles por 3 y por 5 entre los números 100 y 500."
      ]
    },
    {
      "cell_type": "code",
      "execution_count": 54,
      "metadata": {
        "id": "gixZyimd1s3h",
        "outputId": "6bd1308e-4ff2-430b-cf94-cbd42762483d",
        "colab": {
          "base_uri": "https://localhost:8080/"
        }
      },
      "outputs": [
        {
          "output_type": "stream",
          "name": "stdout",
          "text": [
            "Success: no issues found in 1 source file\n",
            "\n"
          ]
        }
      ],
      "source": [
        "%%typecheck\n",
        "from typing import List\n",
        "def entre_100_y_500()->List[int]:\n",
        "    '''\n",
        "    >>> entre_100_y_500()\n",
        "    [105, 120, 135, 150, 165, 180, 195, 210, 225, 240, 255, 270, 285, 300, 315, 330, 345, 360, 375, 390, 405, 420, 435, 450, 465, 480, 495]\n",
        "    '''\n",
        "    return [x for x in range(100, 500) if x%3 == 0 and x%5 == 0]"
      ]
    },
    {
      "cell_type": "markdown",
      "metadata": {
        "id": "yNQVwlp21s3p"
      },
      "source": [
        "Comprueba los tests."
      ]
    },
    {
      "cell_type": "code",
      "execution_count": 55,
      "metadata": {
        "colab": {
          "base_uri": "https://localhost:8080/"
        },
        "id": "fCTHU47Z1s3s",
        "outputId": "54273156-a8ff-488a-df06-baf635cc0bd9"
      },
      "outputs": [
        {
          "output_type": "execute_result",
          "data": {
            "text/plain": [
              "TestResults(failed=0, attempted=64)"
            ]
          },
          "metadata": {},
          "execution_count": 55
        }
      ],
      "source": [
        "doctest.testmod()"
      ]
    },
    {
      "cell_type": "markdown",
      "metadata": {
        "id": "-u46C5Ou1s3w"
      },
      "source": [
        "### Ejercicio 4\n",
        "\n",
        "Dada una lista de números $l=[a(1),...,a(n)]$, calcular el sumatorio $\\sum\\limits_{i=1}^n i \\times a(i)$."
      ]
    },
    {
      "cell_type": "code",
      "execution_count": 56,
      "metadata": {
        "id": "-l-eGloV1s3y",
        "outputId": "35dfaa3f-c77b-4d83-a292-7d4655a5f6ca",
        "colab": {
          "base_uri": "https://localhost:8080/"
        }
      },
      "outputs": [
        {
          "output_type": "stream",
          "name": "stdout",
          "text": [
            "Success: no issues found in 1 source file\n",
            "\n"
          ]
        }
      ],
      "source": [
        "%%typecheck\n",
        "from typing import List\n",
        "def suma_formula(lista: List[int])->int:\n",
        "    '''\n",
        "    >>> suma_formula([2,4,6,8,10])\n",
        "    110\n",
        "    >>> suma_formula([])\n",
        "    0\n",
        "    '''\n",
        "    return sum((i+1) * x for i,x in enumerate(lista)) # la función lista.index(x) funcionaría pero devolvería el primer elemento que coincidiese"
      ]
    },
    {
      "cell_type": "markdown",
      "metadata": {
        "id": "Cu_O1Yu-1s35"
      },
      "source": [
        "Comprueba los tests."
      ]
    },
    {
      "cell_type": "code",
      "execution_count": 57,
      "metadata": {
        "colab": {
          "base_uri": "https://localhost:8080/"
        },
        "id": "XoTG2nEY1s37",
        "outputId": "e83587b7-3795-454c-84e8-103fe0f50f00"
      },
      "outputs": [
        {
          "output_type": "execute_result",
          "data": {
            "text/plain": [
              "TestResults(failed=0, attempted=64)"
            ]
          },
          "metadata": {},
          "execution_count": 57
        }
      ],
      "source": [
        "doctest.testmod()"
      ]
    },
    {
      "cell_type": "markdown",
      "metadata": {
        "id": "y2ezd-Ex1s4B"
      },
      "source": [
        "### Ejercicio 5\n",
        "\n",
        "Dadas dos listas de la misma longitud, representando dos puntos n-dimensionales, calcular la distancia euclídea entre ellos. \n",
        "\n",
        "Ayuda: puede que necesites importar el módulo ``math``."
      ]
    },
    {
      "cell_type": "code",
      "execution_count": 58,
      "metadata": {
        "id": "bE8TmeYy1s4D",
        "outputId": "821e1c5d-d054-464e-8615-19c3cffff073",
        "colab": {
          "base_uri": "https://localhost:8080/"
        }
      },
      "outputs": [
        {
          "output_type": "stream",
          "name": "stdout",
          "text": [
            "Success: no issues found in 1 source file\n",
            "\n"
          ]
        }
      ],
      "source": [
        "%%typecheck\n",
        "from typing import List\n",
        "from math import sqrt\n",
        "def distancia(lista1: List[int],lista2: List[int])->float:\n",
        "    '''\n",
        "    >>> distancia([3,1,2],[1,2,1])\n",
        "    2.449489742783178\n",
        "    >>> distancia([5,3],[4,2])\n",
        "    1.4142135623730951\n",
        "    >>> distancia([5,3],[5,3])\n",
        "    0.0\n",
        "    '''\n",
        "    return sqrt(sum((p - q) ** 2.0 for p, q in zip(lista1, lista2)))"
      ]
    },
    {
      "cell_type": "markdown",
      "metadata": {
        "id": "uKuX4hWm1s4I"
      },
      "source": [
        "Comprueba los tests."
      ]
    },
    {
      "cell_type": "code",
      "execution_count": 59,
      "metadata": {
        "colab": {
          "base_uri": "https://localhost:8080/"
        },
        "id": "EEJgmtfE1s4K",
        "outputId": "51206c72-fe0f-449a-8f1b-033527565e52"
      },
      "outputs": [
        {
          "output_type": "execute_result",
          "data": {
            "text/plain": [
              "TestResults(failed=0, attempted=64)"
            ]
          },
          "metadata": {},
          "execution_count": 59
        }
      ],
      "source": [
        "doctest.testmod()"
      ]
    },
    {
      "cell_type": "markdown",
      "metadata": {
        "id": "7dD1dMCF1s4Q"
      },
      "source": [
        "### Ejercicio 6\n",
        "\n",
        "Dada una lista y una función que toma un argumento, devolver la lista de los resultados de aplicar la función a cada elemento de la lista.\n",
        "\n",
        "Ejemplo. ``map_mio(abs,[-2,-3,-4,-1])`` devuelve ``[2, 3, 4, 1]``."
      ]
    },
    {
      "cell_type": "code",
      "execution_count": 60,
      "metadata": {
        "id": "NlusXd261s4R",
        "outputId": "493c8059-7304-40a0-bdf2-3483203176eb",
        "colab": {
          "base_uri": "https://localhost:8080/"
        }
      },
      "outputs": [
        {
          "output_type": "stream",
          "name": "stdout",
          "text": [
            "Success: no issues found in 1 source file\n",
            "\n"
          ]
        }
      ],
      "source": [
        "%%typecheck\n",
        "from typing import List\n",
        "import math\n",
        "\n",
        "def map_mio(fun,lista: List[int])->List[int]:\n",
        "    '''\n",
        "    >>> map_mio(abs,[-2,-3,-4,-1])\n",
        "    [2, 3, 4, 1]\n",
        "    >>> map_mio(math.ceil,[-2.4,3.1,-4.7,5.8])\n",
        "    [-2, 4, -4, 6]\n",
        "    >>> map_mio(math.floor, [-2.4, 3.1, -4.7, 5.8])\n",
        "    [-3, 3, -5, 5]\n",
        "    '''\n",
        "    return [fun(x) for x in lista]"
      ]
    },
    {
      "cell_type": "markdown",
      "metadata": {
        "id": "9rNRtP8R1s4W"
      },
      "source": [
        "Comprueba los tests."
      ]
    },
    {
      "cell_type": "code",
      "execution_count": 61,
      "metadata": {
        "colab": {
          "base_uri": "https://localhost:8080/"
        },
        "id": "ysymWXOg1s4X",
        "outputId": "349d02e5-f5b6-45a9-a60f-5a99e990a137"
      },
      "outputs": [
        {
          "output_type": "execute_result",
          "data": {
            "text/plain": [
              "TestResults(failed=0, attempted=64)"
            ]
          },
          "metadata": {},
          "execution_count": 61
        }
      ],
      "source": [
        "doctest.testmod()"
      ]
    },
    {
      "cell_type": "markdown",
      "metadata": {
        "id": "T6ERhyBx1s4c"
      },
      "source": [
        "### Ejercicio 7\n",
        "\n",
        "Dadas un par de listas de la misma longitud y una función que toma dos argumentos, devolver la lista de los resultados de aplicar la función a cada par de elementos que ocupan la misma posición en las listas de entrada.\n",
        "\n",
        "Ejemplo. ``map2_mio((lambda x,y: x+y) ,[1,2,3,4],[5,2,7,9])`` devuelve ``[6, 4, 10, 13]``."
      ]
    },
    {
      "cell_type": "code",
      "execution_count": 62,
      "metadata": {
        "id": "AbPOK9HX1s4e",
        "outputId": "910c6faa-69a6-4a4d-bc24-b4cf145c4560",
        "colab": {
          "base_uri": "https://localhost:8080/"
        }
      },
      "outputs": [
        {
          "output_type": "stream",
          "name": "stdout",
          "text": [
            "Success: no issues found in 1 source file\n",
            "\n"
          ]
        }
      ],
      "source": [
        "%%typecheck\n",
        "from typing import List\n",
        "def map2_mio(fun,lista1: List[int],lista2: List[int])->List[int]:\n",
        "    '''\n",
        "    >>> map2_mio((lambda x,y: x+y) ,[1,2,3,4],[5,2,7,9])\n",
        "    [6, 4, 10, 13]\n",
        "    >>> map2_mio((lambda x,y: x*y) ,[1,2,3,4],[5,2,7,9])\n",
        "    [5, 4, 21, 36]\n",
        "    '''\n",
        "    return [fun(x, y) for x,y in zip(lista1, lista2)]"
      ]
    },
    {
      "cell_type": "markdown",
      "metadata": {
        "id": "iRh7kymF1s4j"
      },
      "source": [
        "Comprueba los tests."
      ]
    },
    {
      "cell_type": "code",
      "execution_count": 63,
      "metadata": {
        "colab": {
          "base_uri": "https://localhost:8080/"
        },
        "id": "AjfUtyaR1s4k",
        "outputId": "57e4fd02-dddc-4fc0-ffe5-6bb98d52b235"
      },
      "outputs": [
        {
          "output_type": "execute_result",
          "data": {
            "text/plain": [
              "TestResults(failed=0, attempted=64)"
            ]
          },
          "metadata": {},
          "execution_count": 63
        }
      ],
      "source": [
        "doctest.testmod()"
      ]
    },
    {
      "cell_type": "markdown",
      "metadata": {
        "id": "5SsWTBUJ1s4r"
      },
      "source": [
        "### Ejercicio 8\n",
        "\n",
        "Dadas dos listas de la misma longitud, contar el número de posiciones en las que coinciden los elementos de ambas  listas."
      ]
    },
    {
      "cell_type": "code",
      "execution_count": 64,
      "metadata": {
        "id": "Dd9kfg_i1s4t",
        "outputId": "3ed84db3-d1dd-47e5-c220-ab8eb9fdde40",
        "colab": {
          "base_uri": "https://localhost:8080/"
        }
      },
      "outputs": [
        {
          "output_type": "stream",
          "name": "stdout",
          "text": [
            "Success: no issues found in 1 source file\n",
            "\n"
          ]
        }
      ],
      "source": [
        "%%typecheck\n",
        "from typing import List\n",
        "def cuenta_coincidentes(lista1: List[int],lista2: List[int])->int:\n",
        "    '''\n",
        "    >>> cuenta_coincidentes([4,2,6,8,9,3],[3,2,1,8,9,6])\n",
        "    3\n",
        "    >>> cuenta_coincidentes([5,1,7,9,7,1],[3,2,1,8,9,6])\n",
        "    0\n",
        "    '''\n",
        "    return sum(1 for x,y in zip(lista1, lista2) if x == y)"
      ]
    },
    {
      "cell_type": "markdown",
      "metadata": {
        "id": "Sqa1vUNY1s4z"
      },
      "source": [
        "Comprueba los tests."
      ]
    },
    {
      "cell_type": "code",
      "execution_count": 65,
      "metadata": {
        "colab": {
          "base_uri": "https://localhost:8080/"
        },
        "id": "q3_9fejl1s40",
        "outputId": "c5e6d874-d862-4ebe-88b7-93cb7b015be9"
      },
      "outputs": [
        {
          "output_type": "execute_result",
          "data": {
            "text/plain": [
              "TestResults(failed=0, attempted=64)"
            ]
          },
          "metadata": {},
          "execution_count": 65
        }
      ],
      "source": [
        "doctest.testmod()"
      ]
    },
    {
      "cell_type": "markdown",
      "metadata": {
        "id": "O-s37Eyt1s44"
      },
      "source": [
        "### Ejercicio 9\n",
        "\n",
        "Dadas dos listas de la misma longitud, devolver un diccionario que tiene como claves las posiciones en las que coinciden los elementos de ambas listas, y como valor de esas claves, el elemento coincidente."
      ]
    },
    {
      "cell_type": "code",
      "execution_count": 66,
      "metadata": {
        "id": "9bzm97bC1s45",
        "outputId": "fc1aab4f-38a8-4994-80f8-23201e3e62e7",
        "colab": {
          "base_uri": "https://localhost:8080/"
        }
      },
      "outputs": [
        {
          "output_type": "stream",
          "name": "stdout",
          "text": [
            "Success: no issues found in 1 source file\n",
            "\n"
          ]
        }
      ],
      "source": [
        "%%typecheck\n",
        "from typing import List, Dict\n",
        "def dic_posiciones_coincidentes(lista1: List[int],lista2: List[int])->Dict[int, int]:\n",
        "    '''\n",
        "    >>> dic_posiciones_coincidentes([4,2,6,8,9,3],[3,2,1,8,9,6])\n",
        "    {1: 2, 3: 8, 4: 9}\n",
        "    >>> dic_posiciones_coincidentes([2,8,1,2,1,3],[1,8,1,2,1,6])\n",
        "    {1: 8, 2: 1, 3: 2, 4: 1}\n",
        "    '''\n",
        "    dicc: Dict[int, int] = {}\n",
        "    return {i: x for i,(x,y) in enumerate(zip(lista1, lista2)) if x == y}"
      ]
    },
    {
      "cell_type": "markdown",
      "metadata": {
        "id": "umWUrPFt1s4-"
      },
      "source": [
        "Comprueba los tests."
      ]
    },
    {
      "cell_type": "code",
      "execution_count": 67,
      "metadata": {
        "colab": {
          "base_uri": "https://localhost:8080/"
        },
        "id": "pzPUpX8e1s4_",
        "outputId": "c41df979-6597-4525-9174-7f8a789096a5"
      },
      "outputs": [
        {
          "output_type": "execute_result",
          "data": {
            "text/plain": [
              "TestResults(failed=0, attempted=64)"
            ]
          },
          "metadata": {},
          "execution_count": 67
        }
      ],
      "source": [
        "doctest.testmod()"
      ]
    },
    {
      "cell_type": "markdown",
      "metadata": {
        "id": "IBHSWmsp1s5C"
      },
      "source": [
        "### Ejercicio 10\n",
        "\n",
        "Un número es perfecto si es la suma de todos sus divisores (excepto él mismo). Definir una función ``filtra_perfectos(n,m,p)`` que devuelve una lista con todos los números perfectos entre ``n`` y ``m`` que cumplen la condición ``p``."
      ]
    },
    {
      "cell_type": "code",
      "execution_count": 68,
      "metadata": {
        "id": "K0842Ag21s5D",
        "outputId": "1162bfa3-69cf-46dc-a152-ec8a39c1d0ac",
        "colab": {
          "base_uri": "https://localhost:8080/"
        }
      },
      "outputs": [
        {
          "output_type": "stream",
          "name": "stdout",
          "text": [
            "Success: no issues found in 1 source file\n",
            "\n"
          ]
        }
      ],
      "source": [
        "%%typecheck\n",
        "from typing import List\n",
        "def filtra_perfectos(n: int,m: int,p)->List[int]:\n",
        "    '''\n",
        "    >>> filtra_perfectos(3,500, lambda x: True)\n",
        "    [6, 28, 496]\n",
        "    >>> filtra_perfectos(3, 500, lambda x: (x%7==0))\n",
        "    [28]\n",
        "    '''\n",
        "    return [x for x in range(n, m) if (sum(a for a in range(1, x) if (x%a == 0))== x and p(x))]"
      ]
    },
    {
      "cell_type": "markdown",
      "metadata": {
        "id": "JXmsJONG1s5G"
      },
      "source": [
        "Comprueba los tests."
      ]
    },
    {
      "cell_type": "code",
      "execution_count": 69,
      "metadata": {
        "colab": {
          "base_uri": "https://localhost:8080/"
        },
        "id": "GGx6icZQ1s5I",
        "outputId": "f245bdec-4e3f-4116-ebdb-5d3870ea0396"
      },
      "outputs": [
        {
          "output_type": "execute_result",
          "data": {
            "text/plain": [
              "TestResults(failed=0, attempted=64)"
            ]
          },
          "metadata": {},
          "execution_count": 69
        }
      ],
      "source": [
        "doctest.testmod()"
      ]
    },
    {
      "cell_type": "markdown",
      "metadata": {
        "id": "vD61iXz61s5M"
      },
      "source": [
        "### Ejercicio 11\n",
        "\n",
        "Define una función que tome como parámetros un fichero, que por defecto será el fichero 'alice.txt' y una palabra, y cuente el número de apariciones de dicha palabra en el texto. El conteo no será sensible a mayúsculas y minúsculas, es decir Alice y alice se consideran la misma palabra. \n",
        "\n",
        "Como primer paso es necesario reemplazar en el texto todas las ocurrencias de los caracteres de la lista ``['\\'', '`', ',', '?', '!', ')', '(', '--', '.', ';',':','\\n','-']`` por un espacio en blanco.\n",
        "\n",
        "Para este ejercicio no es necesario que uses listas por comprensión."
      ]
    },
    {
      "cell_type": "code",
      "execution_count": 70,
      "metadata": {
        "id": "sFJ8BlkE1s5P",
        "outputId": "0ae5c576-5d1e-41b6-f102-fb693ffb7a03",
        "colab": {
          "base_uri": "https://localhost:8080/"
        }
      },
      "outputs": [
        {
          "output_type": "stream",
          "name": "stdout",
          "text": [
            "Success: no issues found in 1 source file\n",
            "\n"
          ]
        }
      ],
      "source": [
        "%%typecheck\n",
        "def cuenta_palabras(palabra: str,fichero:str =\"alice.txt\")->int:\n",
        "    '''\n",
        "    >>> cuenta_palabras('alice')\n",
        "    399\n",
        "    >>> cuenta_palabras('rabbit')\n",
        "    52\n",
        "    '''\n",
        "    #el test tenía que había 51 rabbit pero he entrado al repositorio y aparece 52 veces, por eso está cambiado\n",
        "    num = 0\n",
        "    with open(fichero, 'r') as file :\n",
        "      filedata = file.read()\n",
        "\n",
        "    l = ['\\'', '`', ',', '?', '!', ')', '(', '--', '.', ';',':','\\n','-']\n",
        "    for i in l:\n",
        "      filedata = filedata.replace(i, \" \")\n",
        "\n",
        "    return filedata.lower().count(palabra)"
      ]
    },
    {
      "cell_type": "markdown",
      "metadata": {
        "id": "eY79VYbz1s5T"
      },
      "source": [
        "Con el siguiente comando se descarga el fichero de ``alice.txt`` desde el repositorio de GitHub."
      ]
    },
    {
      "cell_type": "code",
      "execution_count": 71,
      "metadata": {
        "id": "lGN0K06_1s5U",
        "outputId": "c70a83e0-0ddf-4569-8833-7fff969140d2",
        "colab": {
          "base_uri": "https://localhost:8080/"
        }
      },
      "outputs": [
        {
          "output_type": "stream",
          "name": "stdout",
          "text": [
            "--2022-03-07 15:05:34--  https://raw.githubusercontent.com/IA1920/Utils/master/alice.txt\n",
            "Resolving raw.githubusercontent.com (raw.githubusercontent.com)... 185.199.108.133, 185.199.109.133, 185.199.110.133, ...\n",
            "Connecting to raw.githubusercontent.com (raw.githubusercontent.com)|185.199.108.133|:443... connected.\n",
            "HTTP request sent, awaiting response... 200 OK\n",
            "Length: 148575 (145K) [text/plain]\n",
            "Saving to: ‘alice.txt.1’\n",
            "\n",
            "alice.txt.1         100%[===================>] 145.09K  --.-KB/s    in 0.01s   \n",
            "\n",
            "2022-03-07 15:05:34 (10.4 MB/s) - ‘alice.txt.1’ saved [148575/148575]\n",
            "\n"
          ]
        }
      ],
      "source": [
        "!wget https://raw.githubusercontent.com/IA1920/Utils/master/alice.txt"
      ]
    },
    {
      "cell_type": "markdown",
      "metadata": {
        "id": "BqxCNQJs1s5X"
      },
      "source": [
        "Comprueba los tests."
      ]
    },
    {
      "cell_type": "code",
      "execution_count": 72,
      "metadata": {
        "id": "B66MJViz1s5Z",
        "outputId": "e3fd8af2-9c69-4499-8b5f-7b9741e2deae",
        "colab": {
          "base_uri": "https://localhost:8080/"
        }
      },
      "outputs": [
        {
          "output_type": "execute_result",
          "data": {
            "text/plain": [
              "TestResults(failed=0, attempted=64)"
            ]
          },
          "metadata": {},
          "execution_count": 72
        }
      ],
      "source": [
        "doctest.testmod()"
      ]
    },
    {
      "cell_type": "markdown",
      "metadata": {
        "id": "xD9hRwvr1s5c"
      },
      "source": [
        "### Ejercicio 12\n",
        "\n",
        "Define una clase Rectangulo que toma como parámetros del constructor la tupla ``(x,y)``, que indican la posición de la esquina superior izquierda, y dos reales ``w`` y ``h`` que proporcionan respectivamente la anchura y la altura del rectángulo. La clase ``Rectangulo`` debe implementar los métodos: area, perimetro y redefinir el método ``__eq__`` de la clase object."
      ]
    },
    {
      "cell_type": "code",
      "execution_count": 73,
      "metadata": {
        "id": "Xk-Pjka91s5d",
        "outputId": "278165e7-b095-454f-a546-4ff8510ae622",
        "colab": {
          "base_uri": "https://localhost:8080/"
        }
      },
      "outputs": [
        {
          "output_type": "stream",
          "name": "stdout",
          "text": [
            "Success: no issues found in 1 source file\n",
            "\n"
          ]
        }
      ],
      "source": [
        "%%typecheck\n",
        "class Rectangulo(object):\n",
        "    \n",
        "    def __init__(self, xy: tuple, w: int, h: int):\n",
        "      if type(xy) != tuple:\n",
        "        raise TypeError(\"la posición de la esquina superior (1 param) debe ser una tupla\")\n",
        "\n",
        "      self.xy = xy\n",
        "      self.w = w\n",
        "      self.h = h\n",
        "    \n",
        "    def area(self)->int:\n",
        "      return self.w * self.h\n",
        "\n",
        "    def perimetro(self)->int:\n",
        "      return 2 * self.w + 2 * self.h\n",
        "\n",
        "    def __eq__(self, other)->bool:\n",
        "       return self.xy==other.xy and self.w==other.w and self.h==other.h"
      ]
    },
    {
      "cell_type": "markdown",
      "metadata": {
        "id": "cgIsyxx31s5h"
      },
      "source": [
        "Comprueba los tests. Si al ejecutar la siguiente celda no se muestra nada, eso significa que se pasan los tests."
      ]
    },
    {
      "cell_type": "code",
      "execution_count": 74,
      "metadata": {
        "id": "B8ZJdHQU1s5i"
      },
      "outputs": [],
      "source": [
        "r1 = Rectangulo((0,0),5,5)\n",
        "r2 = Rectangulo((0, 0), 5, 10)\n",
        "assert(r1.area() == 25)\n",
        "assert(r1.perimetro() == 20)\n",
        "assert(not(r1 ==r2))"
      ]
    },
    {
      "cell_type": "markdown",
      "metadata": {
        "id": "dFyvr0pf1s5m"
      },
      "source": [
        "## Ejercicios de ampliación I (1.5 puntos)\n",
        "\n"
      ]
    },
    {
      "cell_type": "markdown",
      "metadata": {
        "id": "orx1E3C_1s5o"
      },
      "source": [
        "En los siguientes ejercicios debes utilizar listas por comprensión. \n",
        "\n",
        "### Ejercicio 13\n",
        "\n",
        "Define una función que cree un diccionario a partir de un string donde las claves del diccionario sean las letras\n",
        "del alfabeto, y el valor para cada una de esas claves es el número de ocurrencias de esa letra en el string sin \n",
        "distinguir entre mayúsculas y minúsculas."
      ]
    },
    {
      "cell_type": "code",
      "execution_count": 75,
      "metadata": {
        "id": "O-wxChOO1s5o",
        "outputId": "95f7ac30-b98c-4c28-acb0-5f50987dca28",
        "colab": {
          "base_uri": "https://localhost:8080/"
        }
      },
      "outputs": [
        {
          "output_type": "stream",
          "name": "stdout",
          "text": [
            "Success: no issues found in 1 source file\n",
            "\n"
          ]
        }
      ],
      "source": [
        "%%typecheck\n",
        "from typing import Dict\n",
        "def crear_diccionario_de_string(s: str)->Dict[str, int]:\n",
        "    s = s.lower().replace(\" \", \"\")\n",
        "    li = list(s + (\"abcdefghijklmnopqrstuvwxyz\"))\n",
        "    return {l: s.count(l) for i,l in enumerate(li)} #como se podría hacer para que con las letras repetidas no sobreescribiese?"
      ]
    },
    {
      "cell_type": "markdown",
      "metadata": {
        "id": "f2UL6x1E1s5s"
      },
      "source": [
        "Comprueba los tests."
      ]
    },
    {
      "cell_type": "code",
      "execution_count": 76,
      "metadata": {
        "id": "Zd8CFKeQ1s5t"
      },
      "outputs": [],
      "source": [
        "dic2=crear_diccionario_de_string(\"hola adios\")\n",
        "assert(dic2['a'] == 2)\n",
        "assert(dic2['b'] == 0)\n",
        "assert(dic2['h'] == 1)\n",
        "assert(dic2['o'] == 2)\n",
        "assert(dic2['l'] == 1)\n",
        "assert(dic2['z'] == 0)"
      ]
    },
    {
      "cell_type": "markdown",
      "metadata": {
        "id": "gUiaKTUh1s5w"
      },
      "source": [
        "### Ejercicio 14\n",
        "\n",
        "Define una función por comprensión que devuelve el número de apariciones de un elemento x en la lista l."
      ]
    },
    {
      "cell_type": "code",
      "execution_count": 77,
      "metadata": {
        "id": "iJHrZlKJ1s5x",
        "outputId": "fe94dc68-81c9-4bb0-b3c3-08e9ab2c0a4d",
        "colab": {
          "base_uri": "https://localhost:8080/"
        }
      },
      "outputs": [
        {
          "output_type": "stream",
          "name": "stdout",
          "text": [
            "Success: no issues found in 1 source file\n",
            "\n"
          ]
        }
      ],
      "source": [
        "%%typecheck\n",
        "from typing import List\n",
        "def incidencias(x: int,l: List[int])->int:\n",
        "    '''\n",
        "    >>> incidencias(0,[])\n",
        "    0\n",
        "    >>> incidencias(0, [0,1,0,10,0])\n",
        "    3\n",
        "    >>> incidencias(1, [0, 1, 0, 10, 0])\n",
        "    1\n",
        "    >>> incidencias(10, [0, 1, 0, 10, 0])\n",
        "    1\n",
        "    '''\n",
        "    return len([a for a in l if a == x])"
      ]
    },
    {
      "cell_type": "markdown",
      "metadata": {
        "id": "f3MJEx_I1s50"
      },
      "source": [
        "Comprueba los tests. "
      ]
    },
    {
      "cell_type": "code",
      "execution_count": 78,
      "metadata": {
        "id": "Tt84Ka3U1s51",
        "outputId": "1f28da04-aae5-4b2b-f350-dd89ab05cc08",
        "colab": {
          "base_uri": "https://localhost:8080/"
        }
      },
      "outputs": [
        {
          "output_type": "execute_result",
          "data": {
            "text/plain": [
              "TestResults(failed=0, attempted=64)"
            ]
          },
          "metadata": {},
          "execution_count": 78
        }
      ],
      "source": [
        "doctest.testmod()"
      ]
    },
    {
      "cell_type": "markdown",
      "metadata": {
        "id": "Och14nQ01s54"
      },
      "source": [
        "### Ejercicio 15\n",
        "\n",
        "Define una función por comprensión que devuelve verdad si todos los elementos de una lista son pares y falso en caso contrario. En caso de que la lista este vacía, devolverá verdad."
      ]
    },
    {
      "cell_type": "code",
      "execution_count": 79,
      "metadata": {
        "id": "wx3DhTFm1s55",
        "outputId": "7d1b6956-3b0f-4159-8173-bab19414795c",
        "colab": {
          "base_uri": "https://localhost:8080/"
        }
      },
      "outputs": [
        {
          "output_type": "stream",
          "name": "stdout",
          "text": [
            "Success: no issues found in 1 source file\n",
            "\n"
          ]
        }
      ],
      "source": [
        "%%typecheck\n",
        "from typing import List\n",
        "def todos_pares(l: List[int])->bool:\n",
        "    '''\n",
        "    >>> todos_pares([])\n",
        "    True\n",
        "    >>> todos_pares([1])\n",
        "    False\n",
        "    >>> todos_pares([2,4,6,8,10,1])\n",
        "    False\n",
        "    >>> todos_pares([2, 4, 6, 8, 10])\n",
        "    True\n",
        "    '''\n",
        "    try:\n",
        "      [True if x%2 == 0 else False for x in l].index(False)\n",
        "      return False\n",
        "    except ValueError:\n",
        "      return True"
      ]
    },
    {
      "cell_type": "markdown",
      "metadata": {
        "id": "Y5SZkx5K1s6C"
      },
      "source": [
        "Comprueba los tests."
      ]
    },
    {
      "cell_type": "code",
      "execution_count": 80,
      "metadata": {
        "id": "rU4HnkZ81s6C",
        "outputId": "589d510d-dadd-4bfd-e04c-25decf0bb702",
        "colab": {
          "base_uri": "https://localhost:8080/"
        }
      },
      "outputs": [
        {
          "output_type": "execute_result",
          "data": {
            "text/plain": [
              "TestResults(failed=0, attempted=64)"
            ]
          },
          "metadata": {},
          "execution_count": 80
        }
      ],
      "source": [
        "doctest.testmod()"
      ]
    },
    {
      "cell_type": "markdown",
      "metadata": {
        "id": "FWNPvl0G1s6G"
      },
      "source": [
        "### Ejercicio 16\n",
        "\n",
        "Define una función por comprensión que devuelve verdad si algún elemento de una lista es impar y falso\n",
        "en caso contrario. En caso de que la lista este vacía, devolverá falso."
      ]
    },
    {
      "cell_type": "code",
      "execution_count": 81,
      "metadata": {
        "id": "XO_BGLTk1s6G",
        "outputId": "d34d5dc5-04ea-431d-a68c-9ec94e35dcac",
        "colab": {
          "base_uri": "https://localhost:8080/"
        }
      },
      "outputs": [
        {
          "output_type": "stream",
          "name": "stdout",
          "text": [
            "Success: no issues found in 1 source file\n",
            "\n"
          ]
        }
      ],
      "source": [
        "%%typecheck\n",
        "from typing import List\n",
        "def algun_impar(l: List[int])->bool:\n",
        "    '''\n",
        "    >>> algun_impar([])\n",
        "    False\n",
        "    >>> algun_impar([1])\n",
        "    True\n",
        "    >>> algun_impar([2,4,6,8,10,1])\n",
        "    True\n",
        "    >>> algun_impar([2, 4, 6, 8, 10])\n",
        "    False\n",
        "    '''\n",
        "    try:\n",
        "      [True if x%2 == 0 else False for x in l].index(False)\n",
        "      return True\n",
        "    except ValueError:\n",
        "      return False\n",
        "    "
      ]
    },
    {
      "cell_type": "markdown",
      "metadata": {
        "id": "GtQlkVDn1s6N"
      },
      "source": [
        "Comprueba los tests."
      ]
    },
    {
      "cell_type": "code",
      "execution_count": 82,
      "metadata": {
        "id": "glXYH3hm1s6O",
        "outputId": "a497500d-7da9-4eb9-ac20-06ea163241c1",
        "colab": {
          "base_uri": "https://localhost:8080/"
        }
      },
      "outputs": [
        {
          "output_type": "execute_result",
          "data": {
            "text/plain": [
              "TestResults(failed=0, attempted=64)"
            ]
          },
          "metadata": {},
          "execution_count": 82
        }
      ],
      "source": [
        "doctest.testmod()"
      ]
    },
    {
      "cell_type": "markdown",
      "metadata": {
        "id": "jz6oxDBY1s6Y"
      },
      "source": [
        "## Ejercicios de ampliación II (2 puntos)\n",
        "\n",
        "Retomamos nuestro ejemplo del código genético visto en la práctica 1.\n",
        "\n",
        "Recupera el método que dada una secuencia de ADN (un string) que contiene las letras A, C, G, y T  nos devuelve cuántas veces aparece una cierta base en dicha secuencia."
      ]
    },
    {
      "cell_type": "code",
      "execution_count": 83,
      "metadata": {
        "id": "-lh1ztjV1s6Z",
        "outputId": "bc15a9f2-0c13-44fd-823a-57df080eb125",
        "colab": {
          "base_uri": "https://localhost:8080/"
        }
      },
      "outputs": [
        {
          "output_type": "stream",
          "name": "stdout",
          "text": [
            "Success: no issues found in 1 source file\n",
            "\n"
          ]
        }
      ],
      "source": [
        "%%typecheck\n",
        "def cuenta(adn: str, base: str)->int:\n",
        "    '''\n",
        "    >>> cuenta('ATGGCATTA', 'A')\n",
        "    3\n",
        "    >>> cuenta('ATGGCATTA', 'T')\n",
        "    3\n",
        "    >>> cuenta('ATGGCATTA', 'G')\n",
        "    2\n",
        "    >>> cuenta('ATGGCATTA', 'C') \n",
        "    1\n",
        "    >>> cuenta('ATGGCATTA', 'D')\n",
        "    0\n",
        "    >>> cuenta('', 'C') \n",
        "    0\n",
        "    >>> cuenta('AAATTTGGGCCCCGTA', 'A')\n",
        "    4\n",
        "    >>> cuenta('AAATTTGGGCCCCGTA', 'C')\n",
        "    4\n",
        "    >>> cuenta('AAATTTGGGCCCCGTA', 'G')\n",
        "    4\n",
        "    >>> cuenta('AAATTTGGGCCCCGTA', 'T')\n",
        "    4\n",
        "    '''\n",
        "    count = 0\n",
        "    for a in adn:\n",
        "      if a == base:\n",
        "        count += 1\n",
        "    return count"
      ]
    },
    {
      "cell_type": "markdown",
      "metadata": {
        "id": "Uxf52UGk1s6c"
      },
      "source": [
        "Comprueba los tests."
      ]
    },
    {
      "cell_type": "code",
      "execution_count": 84,
      "metadata": {
        "id": "xIlYDW5B1s6d",
        "outputId": "a782c672-321f-4897-e0ce-b987f50f11c0",
        "colab": {
          "base_uri": "https://localhost:8080/"
        }
      },
      "outputs": [
        {
          "output_type": "execute_result",
          "data": {
            "text/plain": [
              "TestResults(failed=0, attempted=64)"
            ]
          },
          "metadata": {},
          "execution_count": 84
        }
      ],
      "source": [
        "doctest.testmod()"
      ]
    },
    {
      "cell_type": "markdown",
      "metadata": {
        "id": "FhQ98gAw1s6g"
      },
      "source": [
        "Define una función con un comportamiento análogo al anterior pero utilizando listas por comprensión."
      ]
    },
    {
      "cell_type": "code",
      "execution_count": 85,
      "metadata": {
        "id": "TtfS6dV61s6h",
        "outputId": "af87c25e-bd89-47fd-fde3-cba27ca97f5f",
        "colab": {
          "base_uri": "https://localhost:8080/"
        }
      },
      "outputs": [
        {
          "output_type": "stream",
          "name": "stdout",
          "text": [
            "Success: no issues found in 1 source file\n",
            "\n"
          ]
        }
      ],
      "source": [
        "%%typecheck\n",
        "def cuenta_comprension(adn: str, base: str)->int:\n",
        "    '''\n",
        "    >>> cuenta_comprension('ATGGCATTA', 'A')\n",
        "    3\n",
        "    >>> cuenta_comprension('ATGGCATTA', 'T')\n",
        "    3\n",
        "    >>> cuenta_comprension('ATGGCATTA', 'G')\n",
        "    2\n",
        "    >>> cuenta_comprension('ATGGCATTA', 'C') \n",
        "    1\n",
        "    >>> cuenta_comprension('ATGGCATTA', 'D')\n",
        "    0\n",
        "    >>> cuenta_comprension('', 'C') \n",
        "    0\n",
        "    >>> cuenta_comprension('AAATTTGGGCCCCGTA', 'A')\n",
        "    4\n",
        "    >>> cuenta_comprension('AAATTTGGGCCCCGTA', 'C')\n",
        "    4\n",
        "    >>> cuenta_comprension('AAATTTGGGCCCCGTA', 'G')\n",
        "    4\n",
        "    >>> cuenta_comprension('AAATTTGGGCCCCGTA', 'T')\n",
        "    4\n",
        "    '''\n",
        "    return len([a for a in adn if a == base])"
      ]
    },
    {
      "cell_type": "markdown",
      "metadata": {
        "id": "KfxVEBTG1s6k"
      },
      "source": [
        "Comprueba los tests."
      ]
    },
    {
      "cell_type": "code",
      "execution_count": 86,
      "metadata": {
        "id": "O0pODR2p1s6l",
        "outputId": "597e69eb-1e25-4522-da69-b825a9322ed6",
        "colab": {
          "base_uri": "https://localhost:8080/"
        }
      },
      "outputs": [
        {
          "output_type": "execute_result",
          "data": {
            "text/plain": [
              "TestResults(failed=0, attempted=64)"
            ]
          },
          "metadata": {},
          "execution_count": 86
        }
      ],
      "source": [
        "doctest.testmod()"
      ]
    },
    {
      "cell_type": "markdown",
      "metadata": {
        "id": "KlkG1Gjn1s6n"
      },
      "source": [
        "A continuación vamos a comparar la eficiencia de estos dos métodos. Para ello lo primero que debes hacer es recuperar el método que genera secuencias aleatorias de ADN."
      ]
    },
    {
      "cell_type": "code",
      "execution_count": 87,
      "metadata": {
        "id": "SdDhYx0x1s6o",
        "outputId": "adaa6a70-18b4-4393-bc18-e6492caefae3",
        "colab": {
          "base_uri": "https://localhost:8080/"
        }
      },
      "outputs": [
        {
          "output_type": "stream",
          "name": "stdout",
          "text": [
            "Success: no issues found in 1 source file\n",
            "\n"
          ]
        }
      ],
      "source": [
        "%%typecheck\n",
        "import random\n",
        "def genera_adn(tam:int)->list:\n",
        "    return random.choices([\"A\", \"C\", \"G\", \"T\"], k = tam)"
      ]
    },
    {
      "cell_type": "markdown",
      "metadata": {
        "id": "Fxc5lmWF1s6s"
      },
      "source": [
        "Para medir el tiempo que le cuesta ejecutarse a un programa puedes utilizar la [celda mágica](https://ipython.readthedocs.io/en/stable/interactive/magics.html) ``timeit`` del siguiente modo. "
      ]
    },
    {
      "cell_type": "code",
      "execution_count": 88,
      "metadata": {
        "id": "Q_TYVqad1s6s",
        "outputId": "af26c7ec-049d-4eaf-f83d-f1812b19ffbf",
        "colab": {
          "base_uri": "https://localhost:8080/"
        }
      },
      "outputs": [
        {
          "output_type": "stream",
          "name": "stdout",
          "text": [
            "100000000 loops, best of 5: 12.5 ns per loop\n"
          ]
        }
      ],
      "source": [
        "%%timeit\n",
        "3+2"
      ]
    },
    {
      "cell_type": "markdown",
      "metadata": {
        "id": "Vmlp4vGq1s6v"
      },
      "source": [
        "Genera una secuencia aleatoria de adn de 10000000 de componentes y compara el tiempo de ejecución de los dos métodos cuenta. ¿Cuál es más rápido?"
      ]
    },
    {
      "cell_type": "code",
      "execution_count": 89,
      "metadata": {
        "id": "v5NcxAgB1s6w",
        "outputId": "5ac23664-994f-4e4d-c7af-49f4511be223",
        "colab": {
          "base_uri": "https://localhost:8080/"
        }
      },
      "outputs": [
        {
          "output_type": "stream",
          "name": "stdout",
          "text": [
            "1 loop, best of 5: 2.92 s per loop\n"
          ]
        }
      ],
      "source": [
        "%%timeit\n",
        "cuenta(genera_adn(10000000), \"A\")"
      ]
    },
    {
      "cell_type": "code",
      "execution_count": 90,
      "metadata": {
        "id": "osSV9DZE1s60",
        "outputId": "dfeb9042-0901-47e6-f489-b5be2567d9d2",
        "colab": {
          "base_uri": "https://localhost:8080/"
        }
      },
      "outputs": [
        {
          "output_type": "stream",
          "name": "stdout",
          "text": [
            "1 loop, best of 5: 2.96 s per loop\n"
          ]
        }
      ],
      "source": [
        "%%timeit\n",
        "cuenta_comprension(genera_adn(10000000), \"A\")"
      ]
    },
    {
      "cell_type": "markdown",
      "metadata": {
        "id": "wWty9qAd1s62"
      },
      "source": [
        "Recuperamos ahora el ejercicio que calcular la frecuencia en la que aparece cada letra en cada posición de una lista de secuencias (todas las secuencias de la lista tienen el mismo número de elementos).\n",
        "\n",
        "El resultado en este caso será un diccionario en lugar de una tupla de listas. Por ejemplo, dada la lista de secuencias ``['ATGACT', 'AACTGT', 'GGCTAT']`` el resultado sería el diccionario: ``{'A' : [2,1,0,1,1,0], 'C':[0,0,2,0,1,0], 'G':[1,1,1,0,1,0], 'T':[0,1,0,1,0,3]}``."
      ]
    },
    {
      "cell_type": "code",
      "execution_count": 112,
      "metadata": {
        "id": "Lr8Ylf9t1s63"
      },
      "outputs": [],
      "source": [
        "def frecuencias_dic(lista_adns):\n",
        "    '''\n",
        "    >>> frecuencias_dic(['ATGACT', 'AACTGT', 'GGCTAT'])['A']\n",
        "    [2, 1, 0, 1, 1, 0]\n",
        "    >>> frecuencias_dic(['ATGACT', 'AACTGT', 'GGCTAT'])['C']\n",
        "    [0, 0, 2, 0, 1, 0]\n",
        "    >>> frecuencias_dic(['ATGACT', 'AACTGT', 'GGCTAT'])['G']\n",
        "    [1, 1, 1, 0, 1, 0]\n",
        "    >>> frecuencias_dic(['ATGACT', 'AACTGT', 'GGCTAT'])['T']\n",
        "    [0, 1, 0, 2, 0, 3]\n",
        "    '''\n",
        "\n",
        "    dicc = {}\n",
        "    letras = [\"A\",\"C\", \"G\", \"T\"]\n",
        "    for l in letras:\n",
        "      frec = [0] * len(lista_adns[0])\n",
        "      for a in lista_adns:\n",
        "        c = 0\n",
        "        while c < len(a):\n",
        "          if a[c] == l:\n",
        "            frec[c] += 1\n",
        "          c += 1\n",
        "      dicc[l] = frec\n",
        "    return dicc"
      ]
    },
    {
      "cell_type": "code",
      "source": [
        "  letras = [\"A\",\"C\", \"G\", \"T\"]\n",
        "  dic = {l: [[1 if adn == l else 0 for adn in elem] for elem in (['ATGACT', 'AACTGT', 'GGCTAT'])] for l in letras}\n",
        "  {letr: [x + y + z for (x, y, z) in zip(dic[letr][0], dic[letr][1], dic[letr][2])] for letr in letras}\n",
        "\n",
        "  "
      ],
      "metadata": {
        "id": "VFYuhthWkG1o",
        "outputId": "d4625757-5346-4560-8bac-975f5c4c894e",
        "colab": {
          "base_uri": "https://localhost:8080/"
        }
      },
      "execution_count": 92,
      "outputs": [
        {
          "output_type": "execute_result",
          "data": {
            "text/plain": [
              "{'A': [2, 1, 0, 1, 1, 0],\n",
              " 'C': [0, 0, 2, 0, 1, 0],\n",
              " 'G': [1, 1, 1, 0, 1, 0],\n",
              " 'T': [0, 1, 0, 2, 0, 3]}"
            ]
          },
          "metadata": {},
          "execution_count": 92
        }
      ]
    },
    {
      "cell_type": "code",
      "source": [
        "doctest.testmod()"
      ],
      "metadata": {
        "colab": {
          "base_uri": "https://localhost:8080/"
        },
        "id": "bIZhzWUo4PNL",
        "outputId": "78cbf113-d66e-4c2a-e753-496aab092206"
      },
      "execution_count": 113,
      "outputs": [
        {
          "output_type": "execute_result",
          "data": {
            "text/plain": [
              "TestResults(failed=0, attempted=64)"
            ]
          },
          "metadata": {},
          "execution_count": 113
        }
      ]
    },
    {
      "cell_type": "markdown",
      "metadata": {
        "id": "InzwBaUn1s6-"
      },
      "source": [
        "Comprueba los tests."
      ]
    },
    {
      "cell_type": "code",
      "execution_count": 114,
      "metadata": {
        "id": "1gkzvRQ71s6_"
      },
      "outputs": [],
      "source": [
        "assert(frecuencias_dic(['ATGACT', 'AACTGT', 'GGCTAT'])['A'] == [2, 1, 0, 1, 1, 0])\n",
        "assert(frecuencias_dic(['ATGACT', 'AACTGT', 'GGCTAT'])['C'] == [0, 0, 2, 0, 1, 0])\n",
        "assert(frecuencias_dic(['ATGACT', 'AACTGT', 'GGCTAT'])['G'] == [1, 1, 1, 0, 1, 0])\n",
        "assert(frecuencias_dic(['ATGACT', 'AACTGT', 'GGCTAT'])['T'] == [0, 1, 0, 2, 0, 3])\n",
        "assert(frecuencias_dic(['GGGAGATGAT', 'TTTCCGATTA', 'AAGCACCGTC', 'TGATTAACGA', 'CTGACGGGTG', 'CGTTGGCATA', 'GCCTCTGCGA', 'ATCTACTGCG', 'AGTAACCTCC', 'CGGCTAAGGC'])['A'] ==\n",
        "                [3, 1, 1, 3, 3, 3, 3, 1, 1, 4])\n",
        "assert(frecuencias_dic(\n",
        "                ['GGGAGATGAT', 'TTTCCGATTA', 'AAGCACCGTC', 'TGATTAACGA', 'CTGACGGGTG', 'CGTTGGCATA', 'GCCTCTGCGA',\n",
        "                 'ATCTACTGCG', 'AGTAACCTCC', 'CGGCTAAGGC'])['C']  == [3, 1, 2, 3, 3, 3, 3, 2, 2, 3])\n",
        "assert(frecuencias_dic(\n",
        "                ['GGGAGATGAT', 'TTTCCGATTA', 'AAGCACCGTC', 'TGATTAACGA', 'CTGACGGGTG', 'CGTTGGCATA', 'GCCTCTGCGA',\n",
        "                 'ATCTACTGCG', 'AGTAACCTCC', 'CGGCTAAGGC'])['G']  ==\n",
        "                                      [2, 5, 4, 0, 2, 3, 2, 5, 3, 2])\n",
        "assert(frecuencias_dic(\n",
        "                ['GGGAGATGAT', 'TTTCCGATTA', 'AAGCACCGTC', 'TGATTAACGA', 'CTGACGGGTG', 'CGTTGGCATA', 'GCCTCTGCGA',\n",
        "                 'ATCTACTGCG', 'AGTAACCTCC', 'CGGCTAAGGC'])['T']  == [2, 3, 3, 4, 2, 1, 2, 2, 4, 1])"
      ]
    },
    {
      "cell_type": "markdown",
      "metadata": {
        "id": "9lBmGs_s1s7C"
      },
      "source": [
        "A continuación vamos a ver cómo descargar un fichero que contiene un mapeo de códigos genéticos a aminoácidos, y procesar dicho fichero.\n",
        "\n",
        "El formato del fichero se parece a lo siguiente:\n",
        "\n",
        "| Código | Aminoácido (1 letra)  | Aminoácido (3 letras)  | Aminoácido (nombre completo) |\n",
        "|-------|-------|-------|-------|\n",
        "| UUU   |  F |      Phe |    Phenylalanine |\n",
        "| UUC   |  F |      Phe |    Phenylalanine |\n",
        "| UUA   |  L |      Leu |    Leucine |\n",
        "| UUG   |  L |      Leu |    Leucine |\n",
        "| CUU   |  L |      Leu |    Leucine |\n",
        "| CUC   |  L |      Leu |    Leucine |\n",
        "| CUA   |  L |      Leu |    Leucine |\n",
        "| CUG   |  L |      Leu |    Leucine |\n",
        "| AUU   |  I |      Ile |    Isoleucine |\n",
        "| AUC   |  I |      Ile |    Isoleucine |\n",
        "| AUA   |  I |      Ile |    Isoleucine |\n",
        "| AUG   |  M |      Met |    Methionine (Start)|\n",
        "\n",
        "Define una función descarga que dada una urlbase y un nombre de fichero descargue el fichero y lo almacene con el mismo nombre. Por ejemplo, si queremos descargar el fichero almacenado en: http://hplgit.github.io/bioinf-py/data/genetic_code.tsv deberíamos invocar a la función: ``descarga('http://hplgit.github.io/bioinf-py/data/','genetic_code.tsv')`` y deberíamos almacenar el fichero con el nombre ``genetic_code.tsv``. Si ya existe un fichero con ese nombre, el método debe lanzar una excepción.\n",
        "\n",
        "Pistas:\n",
        "- Para comprobar si un fichero existe, puedes utilizar alguno de los métodos de [os.path](https://docs.python.org/3/library/os.path.html).\n",
        "- Para descargar un fichero de una url puedes usar la librería [urllib](https://docs.python.org/3/library/urllib.html) y el método ``urlretrieve``."
      ]
    },
    {
      "cell_type": "code",
      "execution_count": 121,
      "metadata": {
        "id": "xxd6GnTY1s7D",
        "colab": {
          "base_uri": "https://localhost:8080/"
        },
        "outputId": "76aca24e-d811-4a23-96a2-b92d014162b1"
      },
      "outputs": [
        {
          "output_type": "stream",
          "name": "stdout",
          "text": [
            "Success: no issues found in 1 source file\n",
            "\n"
          ]
        }
      ],
      "source": [
        "%%typecheck #para la verificación de dependencias considera la celda como un fichero aparte, pero en su ejecución no se considera de esta forma\n",
        "import urllib.request\n",
        "import os\n",
        "\n",
        "def descarga(urlbase: str,filename: str):\n",
        "    if (os.path.exists(filename)):\n",
        "      raise FileExistsError\n",
        "    else:\n",
        "      urllib.request.urlretrieve(urlbase+filename, filename)"
      ]
    },
    {
      "cell_type": "markdown",
      "metadata": {
        "id": "Wgfp0k4y1s7F"
      },
      "source": [
        "Por último definimos una función que dado un nombre de fichero que contenta el mapéo de códigos genéticos a aminoácidos, cree un diccionario que para cada código genético almacene su nombre completo."
      ]
    },
    {
      "cell_type": "code",
      "execution_count": 116,
      "metadata": {
        "id": "AUc10gLU1s7G",
        "colab": {
          "base_uri": "https://localhost:8080/"
        },
        "outputId": "d7448c86-e0e1-4076-e6a0-058df89f67e0"
      },
      "outputs": [
        {
          "output_type": "stream",
          "name": "stdout",
          "text": [
            "Success: no issues found in 1 source file\n",
            "\n"
          ]
        }
      ],
      "source": [
        "%%typecheck\n",
        "from typing import Dict\n",
        "def codigos_to_aminoacidos(filename: str)-> Dict[str, str]:\n",
        "    with open(filename, 'r') as file :\n",
        "      lineas = file.read()\n",
        "    aux = lineas.split(\"\\n\")\n",
        "    data = [a.split(\"\\t\") for a in aux]\n",
        "    return {elem[0]: elem[len(elem)-1] for elem in data}"
      ]
    },
    {
      "cell_type": "code",
      "source": [
        "import pandas as pd \n",
        "\n",
        "with open('genetic_code.tsv', 'r') as file :\n",
        "  data = file.read()\n",
        "data = data.split(\"\\n\")\n",
        "res = [a.split(\"\\t\") for a in data]\n",
        "df = pd.DataFrame(res, columns= [\"Código\", \"AA 1letra\", \"AA 3letras\", \"AAcompleto\"])\n",
        "df = df[[\"Código\", \"AAcompleto\"]]\n",
        "dicc ={c: aa for c,aa in zip(df[\"Código\"], df[\"AAcompleto\"])}\n",
        "dicc\n",
        "    "
      ],
      "metadata": {
        "colab": {
          "base_uri": "https://localhost:8080/"
        },
        "id": "6jvODScU-aWX",
        "outputId": "5c5c2662-8372-4ee1-c01f-a93b553dc5a5"
      },
      "execution_count": 120,
      "outputs": [
        {
          "output_type": "execute_result",
          "data": {
            "text/plain": [
              "{'AAA': 'Lysine',\n",
              " 'AAC': 'Asparagine',\n",
              " 'AAG': 'Lysine',\n",
              " 'AAU': 'Asparagine',\n",
              " 'ACA': 'Threonine',\n",
              " 'ACC': 'Threonine',\n",
              " 'ACG': 'Threonine',\n",
              " 'ACU': 'Threonine',\n",
              " 'AGA': 'Arginine',\n",
              " 'AGC': 'Serine',\n",
              " 'AGG': 'Arginine',\n",
              " 'AGU': 'Serine',\n",
              " 'AUA': 'Isoleucine',\n",
              " 'AUC': 'Isoleucine',\n",
              " 'AUG': 'Methionine (Start)',\n",
              " 'AUU': 'Isoleucine',\n",
              " 'CAA': 'Glutamine',\n",
              " 'CAC': 'Histidine',\n",
              " 'CAG': 'Glutamine',\n",
              " 'CAU': 'Histidine',\n",
              " 'CCA': 'Proline',\n",
              " 'CCC': 'Proline',\n",
              " 'CCG': 'Proline',\n",
              " 'CCU': 'Proline',\n",
              " 'CGA': 'Arginine',\n",
              " 'CGC': 'Arginine',\n",
              " 'CGG': 'Arginine',\n",
              " 'CGU': 'Arginine',\n",
              " 'CUA': 'Leucine',\n",
              " 'CUC': 'Leucine',\n",
              " 'CUG': 'Leucine',\n",
              " 'CUU': 'Leucine',\n",
              " 'GAA': 'Glutamic acid',\n",
              " 'GAC': 'Aspartic acid',\n",
              " 'GAG': 'Glutamic acid',\n",
              " 'GAU': 'Aspartic acid',\n",
              " 'GCA': 'Alanine',\n",
              " 'GCC': 'Alanine',\n",
              " 'GCG': 'Alanine',\n",
              " 'GCU': 'Alanine',\n",
              " 'GGA': 'Glycine',\n",
              " 'GGC': 'Glycine',\n",
              " 'GGG': 'Glycine',\n",
              " 'GGU': 'Glycine',\n",
              " 'GUA': 'Valine',\n",
              " 'GUC': 'Valine',\n",
              " 'GUG': 'Valine',\n",
              " 'GUU': 'Valine',\n",
              " 'UAA': '(Stop)',\n",
              " 'UAC': 'Tyrosine',\n",
              " 'UAG': '(Stop)',\n",
              " 'UAU': 'Tyrosine',\n",
              " 'UCA': 'Serine',\n",
              " 'UCC': 'Serine',\n",
              " 'UCG': 'Serine',\n",
              " 'UCU': 'Serine',\n",
              " 'UGA': '(Stop)',\n",
              " 'UGC': 'Cysteine',\n",
              " 'UGG': 'Tryptophan',\n",
              " 'UGU': 'Cysteine',\n",
              " 'UUA': 'Leucine',\n",
              " 'UUC': 'Phenylalanine',\n",
              " 'UUG': 'Leucine',\n",
              " 'UUU': 'Phenylalanine'}"
            ]
          },
          "metadata": {},
          "execution_count": 120
        }
      ]
    },
    {
      "cell_type": "markdown",
      "metadata": {
        "id": "8gChGoui1s7J"
      },
      "source": [
        "Comprueba los tests."
      ]
    },
    {
      "cell_type": "code",
      "execution_count": 118,
      "metadata": {
        "id": "V35dB6Cyx-bc",
        "colab": {
          "base_uri": "https://localhost:8080/"
        },
        "outputId": "faa8fa31-7983-4b5f-c613-e387fd21d8c0"
      },
      "outputs": [
        {
          "output_type": "stream",
          "name": "stdout",
          "text": [
            "Collecting nose\n",
            "  Downloading nose-1.3.7-py3-none-any.whl (154 kB)\n",
            "\u001b[?25l\r\u001b[K     |██▏                             | 10 kB 16.9 MB/s eta 0:00:01\r\u001b[K     |████▎                           | 20 kB 18.5 MB/s eta 0:00:01\r\u001b[K     |██████▍                         | 30 kB 20.6 MB/s eta 0:00:01\r\u001b[K     |████████▌                       | 40 kB 13.1 MB/s eta 0:00:01\r\u001b[K     |██████████▋                     | 51 kB 10.4 MB/s eta 0:00:01\r\u001b[K     |████████████▊                   | 61 kB 11.9 MB/s eta 0:00:01\r\u001b[K     |██████████████▉                 | 71 kB 6.8 MB/s eta 0:00:01\r\u001b[K     |█████████████████               | 81 kB 6.8 MB/s eta 0:00:01\r\u001b[K     |███████████████████             | 92 kB 7.5 MB/s eta 0:00:01\r\u001b[K     |█████████████████████▏          | 102 kB 7.3 MB/s eta 0:00:01\r\u001b[K     |███████████████████████▎        | 112 kB 7.3 MB/s eta 0:00:01\r\u001b[K     |█████████████████████████▍      | 122 kB 7.3 MB/s eta 0:00:01\r\u001b[K     |███████████████████████████▌    | 133 kB 7.3 MB/s eta 0:00:01\r\u001b[K     |█████████████████████████████▋  | 143 kB 7.3 MB/s eta 0:00:01\r\u001b[K     |███████████████████████████████▊| 153 kB 7.3 MB/s eta 0:00:01\r\u001b[K     |████████████████████████████████| 154 kB 7.3 MB/s \n",
            "\u001b[?25hInstalling collected packages: nose\n",
            "Successfully installed nose-1.3.7\n"
          ]
        }
      ],
      "source": [
        "!pip install nose"
      ]
    },
    {
      "cell_type": "code",
      "execution_count": 119,
      "metadata": {
        "id": "YH4UwORG1s7J"
      },
      "outputs": [],
      "source": [
        "import os\n",
        "from nose.tools import assert_raises\n",
        "\n",
        "if os.path.exists('genetic_code.tsv'):\n",
        "    os.remove('genetic_code.tsv')\n",
        "\n",
        "descarga('http://hplgit.github.io/bioinf-py/data/', 'genetic_code.tsv')\n",
        "assert(os.path.exists('genetic_code.tsv'))\n",
        "\n",
        "assert_raises(Exception, descarga, 'http://hplgit.github.io/bioinf-py/data/', 'genetic_code.tsv')\n",
        "            \n",
        "diccionario = codigos_to_aminoacidos('genetic_code.tsv')\n",
        "assert(diccionario['CAA']=='Glutamine')\n",
        "assert(diccionario['GAC']=='Aspartic acid')\n",
        "assert(diccionario['GGC']=='Glycine')\n",
        "assert(diccionario['CGU']=='Arginine')"
      ]
    },
    {
      "cell_type": "markdown",
      "metadata": {
        "id": "Q_EX5Ihm1s7N"
      },
      "source": [
        "## Ejercicio de ampliación III (0.5 puntos)\n",
        "\n",
        "Añade todos los tipos de entrada y salida de las funciones definidas en la práctica. Comprueba utilizando lo explicado en la práctica 1 que los tipos proporcionados son correctos. "
      ]
    },
    {
      "cell_type": "markdown",
      "metadata": {
        "id": "njqjvrWZ1s7N"
      },
      "source": [
        "## Entrega\n",
        "\n",
        "Recuerda guardar este notebook con tus soluciones en tu repositorio."
      ]
    }
  ],
  "metadata": {
    "colab": {
      "name": "practica2.ipynb",
      "provenance": [],
      "include_colab_link": true
    },
    "kernelspec": {
      "display_name": "Python 3",
      "language": "python",
      "name": "python3"
    },
    "language_info": {
      "codemirror_mode": {
        "name": "ipython",
        "version": 3
      },
      "file_extension": ".py",
      "mimetype": "text/x-python",
      "name": "python",
      "nbconvert_exporter": "python",
      "pygments_lexer": "ipython3",
      "version": "3.6.8"
    }
  },
  "nbformat": 4,
  "nbformat_minor": 0
}