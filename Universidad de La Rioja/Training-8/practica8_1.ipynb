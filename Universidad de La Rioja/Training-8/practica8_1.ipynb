{
  "cells": [
    {
      "cell_type": "markdown",
      "metadata": {
        "id": "view-in-github",
        "colab_type": "text"
      },
      "source": [
        "<a href=\"https://colab.research.google.com/github/IA2122/practica-8-paochoa/blob/main/practica8_1.ipynb\" target=\"_parent\"><img src=\"https://colab.research.google.com/assets/colab-badge.svg\" alt=\"Open In Colab\"/></a>"
      ]
    },
    {
      "cell_type": "markdown",
      "metadata": {
        "id": "ybLk6718BsD4"
      },
      "source": [
        "# Práctica 8. Ejercicio adicional 1: Sudoku. Parte II.\n",
        "\n",
        "Este notebook es el menos guiado de la asignatura. El objetivo es combinar todo lo que hemos visto a lo largo del curso para leer un Sudoku y resolverlo. Para ello tendrás que utilizar lo visto en la práctica anterior, y además [un algoritmo para resolver Sudokus](http://norvig.com/sudoku.html). A la hora de leer los dígitos del Sudoku puedes utilizar cualquiera de estas aproximaciones:\n",
        "- Utilizar propiedades de contornos como vimos en la práctica anterior. \n",
        "- [Utilizar la librería pytesseract](https://www.pyimagesearch.com/2020/09/21/opencv-automatic-license-number-plate-recognition-anpr-with-python/). \n",
        "- [Entrenar un modelo basado en el dataset MNIST](https://www.pyimagesearch.com/2020/08/10/opencv-sudoku-solver-and-ocr/)."
      ]
    },
    {
      "cell_type": "code",
      "source": [
        "import cv2\n",
        "import matplotlib.pyplot as plt\n",
        "import numpy as np\n",
        "import imutils"
      ],
      "metadata": {
        "id": "5vo2MJSBCgCz"
      },
      "execution_count": 1,
      "outputs": []
    },
    {
      "cell_type": "code",
      "source": [
        "!wget https://github.com/IA1819/Datasets/blob/master/im%C3%A1genes.zip?raw=true -O imagenes.zip\n",
        "!unzip imagenes.zip"
      ],
      "metadata": {
        "id": "fcw7N6DmCeg7",
        "outputId": "f25f7232-f43d-45f1-a54a-61094270eaae",
        "colab": {
          "base_uri": "https://localhost:8080/"
        }
      },
      "execution_count": 2,
      "outputs": [
        {
          "output_type": "stream",
          "name": "stdout",
          "text": [
            "--2022-05-16 16:55:39--  https://github.com/IA1819/Datasets/blob/master/im%C3%A1genes.zip?raw=true\n",
            "Resolving github.com (github.com)... 192.30.255.113\n",
            "Connecting to github.com (github.com)|192.30.255.113|:443... connected.\n",
            "HTTP request sent, awaiting response... 302 Found\n",
            "Location: https://github.com/IA1819/Datasets/raw/master/im%C3%A1genes.zip [following]\n",
            "--2022-05-16 16:55:39--  https://github.com/IA1819/Datasets/raw/master/im%C3%A1genes.zip\n",
            "Reusing existing connection to github.com:443.\n",
            "HTTP request sent, awaiting response... 302 Found\n",
            "Location: https://raw.githubusercontent.com/IA1819/Datasets/master/im%C3%A1genes.zip [following]\n",
            "--2022-05-16 16:55:39--  https://raw.githubusercontent.com/IA1819/Datasets/master/im%C3%A1genes.zip\n",
            "Resolving raw.githubusercontent.com (raw.githubusercontent.com)... 185.199.109.133, 185.199.110.133, 185.199.108.133, ...\n",
            "Connecting to raw.githubusercontent.com (raw.githubusercontent.com)|185.199.109.133|:443... connected.\n",
            "HTTP request sent, awaiting response... 200 OK\n",
            "Length: 282251 (276K) [application/zip]\n",
            "Saving to: ‘imagenes.zip’\n",
            "\n",
            "imagenes.zip        100%[===================>] 275.64K  --.-KB/s    in 0.02s   \n",
            "\n",
            "2022-05-16 16:55:40 (15.3 MB/s) - ‘imagenes.zip’ saved [282251/282251]\n",
            "\n",
            "Archive:  imagenes.zip\n",
            "   creating: imágenes/\n",
            "  inflating: imágenes/tornillos.png  \n",
            "  inflating: imágenes/thresh.png    \n",
            "  inflating: imágenes/sudoku3.png   \n",
            "  inflating: imágenes/sudoku2.png   \n",
            "  inflating: imágenes/tetris_blocks.png  \n",
            "  inflating: imágenes/more_shapes.png  \n",
            "  inflating: imágenes/sudoku1.png   \n",
            "  inflating: imágenes/contours_convex_hull.jpg  \n",
            "  inflating: imágenes/basic_shapes.png  \n",
            "  inflating: imágenes/contours_tictactoe.png  \n",
            "  inflating: imágenes/playa-paraiso.jpg  \n",
            "  inflating: imágenes/gato.jpg      \n",
            "  inflating: imágenes/ur.jpeg       \n"
          ]
        }
      ]
    },
    {
      "cell_type": "code",
      "source": [
        "def mostrarImagen(image):\n",
        "    if len(image.shape)==3:\n",
        "        img2 = image[:,:,::-1]\n",
        "        plt.imshow(img2)\n",
        "        plt.show()\n",
        "    else:\n",
        "        img2 = image\n",
        "        plt.imshow(img2,cmap='gray')\n",
        "        plt.show()"
      ],
      "metadata": {
        "id": "ljdFC7kgyHhd"
      },
      "execution_count": 3,
      "outputs": []
    },
    {
      "cell_type": "code",
      "execution_count": 4,
      "metadata": {
        "collapsed": true,
        "id": "_j-Ll1N1BsD_"
      },
      "outputs": [],
      "source": [
        "def blankImage(image):\n",
        "  if image.min() == 255:\n",
        "    return 0\n",
        "  else:\n",
        "    return '.'"
      ]
    },
    {
      "cell_type": "code",
      "source": [
        "def leerNumeros(image):\n",
        "  clon = image.copy()\n",
        "  gris = cv2.cvtColor(clon, cv2.COLOR_BGR2GRAY)\n",
        "  umbral = cv2.threshold(gris, 30, 255, cv2.THRESH_BINARY_INV)[1]\n",
        "  contornos, _ = cv2.findContours(umbral.copy(), cv2.RETR_LIST, cv2.CHAIN_APPROX_SIMPLE)\n",
        "\n",
        "  for (i, c) in enumerate(contornos):\n",
        "    area = cv2.contourArea(c)\n",
        "    (x, y, w, h) = cv2.boundingRect(c)\n",
        "    aspectRatio = w / float(h)\n",
        "    extent = area / float(w * h)\n",
        "    hull = cv2.convexHull(c)\n",
        "    hullArea = cv2.contourArea(hull)\n",
        "    solidity = area / float(hullArea)\n",
        "\n",
        "    if(solidity < 1.00):\n",
        "      if (solidity > 0.35 and solidity < 0.36 and area == 39.50):\n",
        "        return 2\n",
        "      elif (solidity > 0.30 and solidity < 0.31 and area == 33.00):\n",
        "        return 3\n",
        "      elif (solidity > 0.69 and solidity < 0.70 and area == 61.00):\n",
        "        return 4\n",
        "      elif (solidity > 0.33 and solidity < 0.34 and area == 36.5):\n",
        "        return 5\n",
        "      elif(solidity > 0.69 and solidity < 0.7 and area == 72.00):\n",
        "        return 6\n",
        "      elif (solidity > 0.29 and solidity < 0.30 and area == 25.00):\n",
        "        return 7\n",
        "      elif (solidity > 0.87 and solidity < 0.88 and area == 98.5):\n",
        "        return 8\n",
        "      elif (solidity > 0.68 and solidity < 0.69 and area == 72.5 ):\n",
        "        return 9\n",
        "      elif (solidity < 0.93):\n",
        "        return 1"
      ],
      "metadata": {
        "id": "39aRaEfCNNWW"
      },
      "execution_count": 5,
      "outputs": []
    },
    {
      "cell_type": "code",
      "source": [
        "def sort_contours(cnts):\n",
        "    boundingBoxes = [cv2.boundingRect(c) for c in cnts]\n",
        "    (cnts, boundingBoxes) = zip(*sorted(zip(cnts, boundingBoxes),key=lambda b:(b[1][1],b[1][0]), reverse=False))\n",
        "    return cnts"
      ],
      "metadata": {
        "id": "frMvrZ5bJql4"
      },
      "execution_count": 6,
      "outputs": []
    },
    {
      "cell_type": "code",
      "source": [
        "# se le pasa la ruta del sudoku y un modelo entrenado para la reconocer dígitos\n",
        "def leerSudoku(sudoku):\n",
        "  cuadricula = []\n",
        "\n",
        "  clon = sudoku.copy()\n",
        "  gris = cv2.cvtColor(clon, cv2.COLOR_BGR2GRAY)\n",
        "  umbral = cv2.threshold(gris, 30, 255, cv2.THRESH_BINARY_INV)[1]\n",
        "  contornos, _ = cv2.findContours(umbral.copy(), cv2.RETR_LIST, cv2.CHAIN_APPROX_SIMPLE)\n",
        "  cnts_sorted = sort_contours(contornos)\n",
        "  for (i, c) in enumerate(cnts_sorted):\n",
        "    area = cv2.contourArea(c)\n",
        "    # Calculamos el rectángulo contenedor\n",
        "    (x, y, w, h) = cv2.boundingRect(c)\n",
        "    # Calculamos el convex hull\n",
        "    hull = cv2.convexHull(c)\n",
        "    # Calculamos el área del convex hull\n",
        "    hullArea = cv2.contourArea(hull)\n",
        "    # Calculamos la solidity\n",
        "    solidity = area / float(hullArea)\n",
        "    # Inicializamos el texto a mostrar\n",
        "    char = \"\"\n",
        "    # Si la solidity es alta, entonces está vacio\n",
        "    if solidity == 1.0 and area > 1000 and area < 2000:\n",
        "      aux = sudoku[y+5:y+h-5,x+5:x+w-5]\n",
        "      char = blankImage(aux) # en caso de que no tenga número devolverá 0, si tiene número devolverá \".\"\n",
        "    if char == \".\":\n",
        "      cuadricula.append(leerNumeros(aux)) # se predice que número tiene la imagen pasada a partir del modelo\n",
        "    if char == 0:\n",
        "      cuadricula.append(char)\n",
        "  return cuadricula"
      ],
      "metadata": {
        "id": "JFPuoP-zCbMr"
      },
      "execution_count": 7,
      "outputs": []
    },
    {
      "cell_type": "code",
      "source": [
        "# Lo que hace es coger cada cajita 3*3 y la pone en filas\n",
        "def get_cajitas(cuadricula):\n",
        "  cajitas = []\n",
        "  for caja_i in range(3):\n",
        "    for caja_j in range(3):\n",
        "      cajita = []\n",
        "      for i in range(3):\n",
        "        for j in range(3):\n",
        "          cajita.append(cuadricula[3*caja_i + i][3*caja_j + j])\n",
        "      cajitas.append(cajita)\n",
        "  return np.array(cajitas)"
      ],
      "metadata": {
        "id": "4SgWn2rF6ZLK"
      },
      "execution_count": 8,
      "outputs": []
    },
    {
      "cell_type": "code",
      "source": [
        "# Saca todos los posibles candidatos para las casillas donde hay 0s\n",
        "def get_candidatos(cuadricula):\n",
        "\n",
        "  def indice_cajitas(i, j):\n",
        "    return (i//3) * 3 + j//3\n",
        "  cajitas = get_cajitas(cuadricula)\n",
        "  candidatos = []\n",
        "  for i in range(9):\n",
        "    candidatos_fila = []\n",
        "    for j in range(9):\n",
        "      fila = set(cuadricula[i])\n",
        "      col = set(cuadricula[:, j])\n",
        "      sub = set(cajitas[indice_cajitas(i,j)])\n",
        "      comun = fila | col | sub\n",
        "      candidatosS = set(range(10)) - comun\n",
        "      if not cuadricula[i][j]:\n",
        "        candidatos_fila.append(list(candidatosS))\n",
        "      else:\n",
        "        candidatos_fila.append([cuadricula[i][j]])\n",
        "    candidatos.append(candidatos_fila)\n",
        "  return candidatos"
      ],
      "metadata": {
        "id": "BPZbfelE7sIS"
      },
      "execution_count": 9,
      "outputs": []
    },
    {
      "cell_type": "code",
      "source": [
        "# Rellena la cuadricula donde solo hay 1 candidato\n",
        "def rellena_unicos(cuadricula):\n",
        "  candidatos = get_candidatos(cuadricula)\n",
        "  rellenar = True\n",
        "  while rellenar:\n",
        "    rellenar = False\n",
        "    for i in range(9):\n",
        "      for j in range(9):\n",
        "        if len(candidatos[i][j]) == 1 and cuadricula[i][j] == 0:\n",
        "          cuadricula[i][j] = candidatos[i][j][0]\n",
        "          rellenar = True\n",
        "  return cuadricula"
      ],
      "metadata": {
        "id": "C9OUPyzm9nJy"
      },
      "execution_count": 10,
      "outputs": []
    },
    {
      "cell_type": "code",
      "source": [
        "# Comprueba si el sudoku está resuelto\n",
        "def is_solved(cuadricula):\n",
        "  if np.all(np.sum(cuadricula, axis=1) == 45) and \\\n",
        "    np.all(np.sum(cuadricula, axis=0) == 45) and \\\n",
        "    np.all(np.sum(get_cajitas(cuadricula), axis=1) == 45):\n",
        "    return True\n",
        "  return False"
      ],
      "metadata": {
        "id": "t0TZ0AVt-fZX"
      },
      "execution_count": 11,
      "outputs": []
    },
    {
      "cell_type": "code",
      "source": [
        "def is_valid(cuadricula):\n",
        "  candidates = get_candidatos(cuadricula)\n",
        "  for i in range(9):\n",
        "    for j in range(9):\n",
        "      if len(candidates[i][j]) == 0:\n",
        "        return False\n",
        "  return True"
      ],
      "metadata": {
        "id": "0iwnC504-uFM"
      },
      "execution_count": 12,
      "outputs": []
    },
    {
      "cell_type": "code",
      "source": [
        "def make_guess(cuadricula):\n",
        "  candidatos = get_candidatos(cuadricula)\n",
        "  # Getting the shortest number of candidates > 1:\n",
        "  min_len = sorted(list(set(map(len, np.array(candidatos).reshape(1,81)[0]))))[1]\n",
        "  for i in range(9):\n",
        "    for j in range(9):\n",
        "      if len(candidatos[i][j]) == min_len:\n",
        "        for guess in candidatos[i][j]:\n",
        "          cuadricula[i][j] = guess\n",
        "          solution = resuelveSudoku(cuadricula)\n",
        "          if solution is not None:\n",
        "            return solution\n",
        "          # Discarding incorrect guess\n",
        "          cuadricula[i][j] = 0"
      ],
      "metadata": {
        "id": "4VrDZh3F_daF"
      },
      "execution_count": 13,
      "outputs": []
    },
    {
      "cell_type": "code",
      "source": [
        "def resuelveSudoku(cuadricula):\n",
        "  cuadricula = rellena_unicos(cuadricula)\n",
        "  if is_solved(cuadricula):\n",
        "    return cuadricula\n",
        "  if not is_valid(cuadricula):\n",
        "    return cuadricula\n",
        "  return make_guess(cuadricula)"
      ],
      "metadata": {
        "id": "bMwH_ZKB5o6z"
      },
      "execution_count": 14,
      "outputs": []
    },
    {
      "cell_type": "code",
      "source": [
        "def dibujaSudoku(sudoku, cuadricula):\n",
        "  clon = sudoku.copy()\n",
        "  gris = cv2.cvtColor(clon, cv2.COLOR_BGR2GRAY)\n",
        "  umbral = cv2.threshold(gris, 30, 255, cv2.THRESH_BINARY_INV)[1]\n",
        "  contornos, _ = cv2.findContours(umbral.copy(), cv2.RETR_LIST, cv2.CHAIN_APPROX_SIMPLE)\n",
        "  cnts_sorted = sort_contours(contornos)\n",
        "  it = 0\n",
        "  j = 0\n",
        "  for (i, c) in enumerate(cnts_sorted):\n",
        "    area = cv2.contourArea(c)\n",
        "    # Calculamos el rectángulo contenedor\n",
        "    (x, y, w, h) = cv2.boundingRect(c)\n",
        "    # Calculamos el convex hull\n",
        "    hull = cv2.convexHull(c)\n",
        "    # Calculamos el área del convex hull\n",
        "    hullArea = cv2.contourArea(hull)\n",
        "    # Calculamos la solidity\n",
        "    solidity = area / float(hullArea)\n",
        "    # Inicializamos el texto a mostrar\n",
        "    char = \"\"\n",
        "    # Si la solidity es alta, entonces es un '0'\n",
        "    if solidity == 1.0 and area > 1000 and area < 2000:\n",
        "      aux = sudoku[y+5:y+h-5,x+5:x+w-5]\n",
        "      char = blankImage(aux) # en caso de que no tenga número devolverá \"0\", si tiene número devolverá \".\"\n",
        "      # print(\"it\")\n",
        "      # print(it)\n",
        "      # print(\"j\")\n",
        "      # print(j)\n",
        "      # print(\"cuadricula\")\n",
        "      # print(cuadricula[it][j])\n",
        "      if char == 0:\n",
        "        cv2.putText(clon, str(cuadricula[it][j]), (x + 10, y + 27), cv2.FONT_HERSHEY_PLAIN, 1.45,(2, 2, 2), 2) # aquí debería imprimir el número en la casilla correspondiente en lugar de 5\n",
        "\n",
        "      j += 1\n",
        "      if(j == 9):\n",
        "        j = 0\n",
        "        it +=1      \n",
        "  mostrarImagen(clon)"
      ],
      "metadata": {
        "id": "Tcyd9hMSvwsg"
      },
      "execution_count": 72,
      "outputs": []
    },
    {
      "cell_type": "code",
      "source": [
        "sudoku1 = cv2.imread(\"imágenes/sudoku1.png\")\n",
        "mostrarImagen(sudoku1)"
      ],
      "metadata": {
        "id": "TO7_mF3Lya5z",
        "outputId": "02865871-1c79-4a13-a502-e660d866a73a",
        "colab": {
          "base_uri": "https://localhost:8080/",
          "height": 269
        }
      },
      "execution_count": 16,
      "outputs": [
        {
          "output_type": "display_data",
          "data": {
            "text/plain": [
              "<Figure size 432x288 with 1 Axes>"
            ],
            "image/png": "[encoded data removed]"
          },
          "metadata": {
            "needs_background": "light"
          }
        }
      ]
    },
    {
      "cell_type": "code",
      "source": [
        "cuadricula = leerSudoku(sudoku1)\n",
        "cuadricula = np.array(cuadricula).reshape(9,9)\n",
        "cuadricula = resuelveSudoku(cuadricula)\n",
        "dibujaSudoku(sudoku1, cuadricula)\n",
        "print(cuadricula)\n",
        "print(get_candidatos(cuadricula))"
      ],
      "metadata": {
        "id": "ScPxgZtxydLu",
        "outputId": "3eaccfac-fec8-4836-aa89-968b678cafc7",
        "colab": {
          "base_uri": "https://localhost:8080/",
          "height": 497
        }
      },
      "execution_count": 73,
      "outputs": [
        {
          "output_type": "stream",
          "name": "stderr",
          "text": [
            "/usr/local/lib/python3.7/dist-packages/ipykernel_launcher.py:4: VisibleDeprecationWarning: Creating an ndarray from ragged nested sequences (which is a list-or-tuple of lists-or-tuples-or ndarrays with different lengths or shapes) is deprecated. If you meant to do this, you must specify 'dtype=object' when creating the ndarray.\n",
            "  after removing the cwd from sys.path.\n"
          ]
        },
        {
          "output_type": "display_data",
          "data": {
            "text/plain": [
              "<Figure size 432x288 with 1 Axes>"
            ],
            "image/png": "[encoded data removed]"
          },
          "metadata": {
            "needs_background": "light"
          }
        },
        {
          "output_type": "stream",
          "name": "stdout",
          "text": [
            "[[4 5 9 6 2 1 3 8 4]\n",
            " [2 7 6 3 8 5 9 1 9]\n",
            " [8 3 1 7 9 4 2 6 5]\n",
            " [3 8 7 1 0 2 6 5 9]\n",
            " [1 6 5 9 4 8 7 2 3]\n",
            " [9 2 4 5 0 3 0 7 0]\n",
            " [6 1 8 2 3 9 5 4 7]\n",
            " [5 9 2 4 1 7 8 3 0]\n",
            " [7 4 3 8 5 6 1 9 2]]\n",
            "[[[4], [5], [9], [6], [2], [1], [3], [8], [4]], [[2], [7], [6], [3], [8], [5], [9], [1], [9]], [[8], [3], [1], [7], [9], [4], [2], [6], [5]], [[3], [8], [7], [1], [], [2], [6], [5], [9]], [[1], [6], [5], [9], [4], [8], [7], [2], [3]], [[9], [2], [4], [5], [6], [3], [], [7], [8, 1]], [[6], [1], [8], [2], [3], [9], [5], [4], [7]], [[5], [9], [2], [4], [1], [7], [8], [3], [6]], [[7], [4], [3], [8], [5], [6], [1], [9], [2]]]\n"
          ]
        }
      ]
    },
    {
      "cell_type": "code",
      "source": [
        "candidatos = get_candidatos(cuadricula)\n",
        "# Getting the shortest number of candidates > 1:\n",
        "min_len = sorted(list(set(map(len, np.array(candidatos).reshape(1,81)[0]))))[1]\n",
        "for i in range(9):\n",
        "  for j in range(9):\n",
        "    if len(candidatos[i][j]) == min_len:\n",
        "      for guess in candidatos[i][j]:\n",
        "        cuadricula[i][j] = guess\n",
        "        solution = resuelveSudoku(cuadricula)\n",
        "        if solution is not None:\n",
        "          print(solution)\n",
        "        # Discarding incorrect guess\n",
        "        cuadricula[i][j] = 0"
      ],
      "metadata": {
        "id": "ZAF-EfnYCl-f",
        "outputId": "347afc95-48da-4408-de8a-1114000c9306",
        "colab": {
          "base_uri": "https://localhost:8080/"
        }
      },
      "execution_count": 18,
      "outputs": [
        {
          "output_type": "stream",
          "name": "stdout",
          "text": [
            "[[0 1 0 6 2 5 3 0 0]\n",
            " [0 7 0 0 0 0 0 0 0]\n",
            " [0 3 8 7 9 4 0 6 5]\n",
            " [0 8 0 0 0 0 6 0 0]\n",
            " [1 6 5 9 0 8 0 2 3]\n",
            " [0 0 4 0 0 3 0 0 0]\n",
            " [6 0 0 0 0 0 5 0 7]\n",
            " [0 9 2 4 0 7 0 0 0]\n",
            " [7 4 3 8 0 0 0 9 0]]\n",
            "[[9 5 0 6 2 5 3 0 0]\n",
            " [4 7 6 3 0 1 0 0 0]\n",
            " [2 3 8 7 9 4 1 6 5]\n",
            " [3 8 0 0 0 2 6 0 0]\n",
            " [1 6 5 9 0 8 0 2 3]\n",
            " [0 2 4 0 0 3 0 0 0]\n",
            " [6 1 1 0 3 0 5 0 7]\n",
            " [0 9 2 4 0 7 0 0 0]\n",
            " [7 4 3 8 0 0 0 9 0]]\n",
            "[[9 5 0 6 2 1 3 0 0]\n",
            " [4 7 6 3 0 1 0 8 0]\n",
            " [2 3 8 7 9 4 1 6 5]\n",
            " [3 8 0 0 0 2 6 0 0]\n",
            " [1 6 5 9 0 8 0 2 3]\n",
            " [0 2 4 0 0 3 0 0 0]\n",
            " [6 1 1 2 3 9 5 0 7]\n",
            " [0 9 2 4 0 7 8 0 0]\n",
            " [7 4 3 8 0 0 2 9 0]]\n",
            "[[9 5 0 6 2 5 3 0 4]\n",
            " [4 7 6 3 0 1 9 8 0]\n",
            " [2 3 8 7 9 4 1 6 5]\n",
            " [3 8 0 0 0 2 6 0 0]\n",
            " [1 6 5 9 0 8 0 2 3]\n",
            " [0 2 4 0 0 3 0 0 0]\n",
            " [6 1 1 2 3 9 5 4 7]\n",
            " [5 9 2 4 0 7 8 0 0]\n",
            " [7 4 3 8 0 6 2 9 0]]\n",
            "[[9 5 0 6 2 0 3 7 4]\n",
            " [4 7 6 3 5 1 9 8 2]\n",
            " [2 3 8 7 9 4 1 6 5]\n",
            " [3 8 0 0 0 2 6 0 0]\n",
            " [1 6 5 9 0 8 0 2 3]\n",
            " [0 2 4 0 0 3 7 0 0]\n",
            " [6 1 1 2 3 9 5 4 7]\n",
            " [5 9 2 4 1 7 8 0 0]\n",
            " [7 4 3 8 0 6 2 9 1]]\n",
            "[[9 5 0 6 2 1 3 7 4]\n",
            " [4 7 6 3 5 5 9 8 2]\n",
            " [2 3 8 7 9 4 1 6 5]\n",
            " [3 8 0 0 0 2 6 0 9]\n",
            " [1 6 5 9 0 8 4 2 3]\n",
            " [0 2 4 0 6 3 7 0 0]\n",
            " [6 1 1 2 3 9 5 4 7]\n",
            " [5 9 2 4 1 7 8 3 6]\n",
            " [7 4 3 8 0 6 2 9 1]]\n",
            "[[9 5 0 6 2 1 3 7 4]\n",
            " [4 7 6 3 5 0 9 8 2]\n",
            " [2 3 8 7 9 4 1 6 5]\n",
            " [3 8 7 0 0 2 6 0 9]\n",
            " [1 6 5 9 7 8 4 2 3]\n",
            " [0 2 4 0 6 3 7 0 8]\n",
            " [6 1 1 2 3 9 5 4 7]\n",
            " [5 9 2 4 1 7 8 3 6]\n",
            " [7 4 3 8 0 6 2 9 1]]\n",
            "[[9 5 8 6 2 1 3 7 4]\n",
            " [4 7 6 3 5 0 9 8 2]\n",
            " [2 3 1 7 9 4 1 6 5]\n",
            " [3 8 7 0 4 2 6 0 9]\n",
            " [1 6 5 9 7 8 4 2 3]\n",
            " [0 2 4 0 6 3 7 0 8]\n",
            " [6 1 1 2 3 9 5 4 7]\n",
            " [5 9 2 4 1 7 8 3 6]\n",
            " [7 4 3 8 0 6 2 9 1]]\n",
            "[[9 5 8 6 2 1 3 7 4]\n",
            " [4 7 6 3 5 0 9 8 2]\n",
            " [2 3 0 7 9 4 1 6 5]\n",
            " [3 8 7 0 4 2 6 0 9]\n",
            " [1 1 5 9 7 8 4 2 3]\n",
            " [0 2 4 0 6 3 7 0 8]\n",
            " [6 1 1 2 3 9 5 4 7]\n",
            " [5 9 2 4 1 7 8 3 6]\n",
            " [7 4 3 8 0 6 2 9 1]]\n",
            "[[9 5 8 6 2 1 3 7 4]\n",
            " [4 7 6 3 5 0 9 8 2]\n",
            " [2 3 0 7 9 4 1 6 5]\n",
            " [3 8 7 0 4 2 6 0 9]\n",
            " [1 6 5 9 7 8 4 2 3]\n",
            " [0 2 4 0 6 3 7 0 8]\n",
            " [6 1 1 2 3 9 5 4 7]\n",
            " [5 9 2 4 1 7 8 3 6]\n",
            " [7 4 3 8 0 6 2 9 1]]\n",
            "[[9 5 8 6 2 1 3 7 4]\n",
            " [4 7 6 3 5 0 9 8 2]\n",
            " [2 3 0 7 9 4 1 6 5]\n",
            " [3 8 7 0 4 2 6 0 9]\n",
            " [1 6 5 9 7 8 4 2 3]\n",
            " [0 2 4 0 6 3 7 0 8]\n",
            " [6 1 8 2 3 9 5 4 7]\n",
            " [5 9 2 4 1 7 8 3 6]\n",
            " [7 4 3 8 0 6 2 9 1]]\n",
            "[[9 5 8 6 2 1 3 7 4]\n",
            " [4 7 6 3 5 0 9 8 2]\n",
            " [2 3 0 7 9 4 1 6 5]\n",
            " [3 8 7 0 4 2 6 0 9]\n",
            " [1 6 5 9 7 8 4 2 3]\n",
            " [0 2 4 0 6 3 7 0 8]\n",
            " [6 1 1 2 3 9 5 4 7]\n",
            " [5 9 2 4 1 7 8 3 6]\n",
            " [7 4 3 8 0 6 2 9 1]]\n",
            "[[9 5 8 6 2 1 3 7 4]\n",
            " [4 7 6 3 5 0 9 8 2]\n",
            " [2 3 0 7 9 4 1 6 5]\n",
            " [3 8 7 0 4 2 6 0 9]\n",
            " [1 6 5 9 7 8 4 2 3]\n",
            " [0 2 4 0 6 3 7 0 8]\n",
            " [6 1 0 2 1 9 5 4 7]\n",
            " [5 9 2 4 1 7 8 3 6]\n",
            " [7 4 3 8 0 6 2 9 1]]\n",
            "[[9 5 8 6 2 1 3 7 4]\n",
            " [4 7 6 3 5 0 9 8 2]\n",
            " [2 3 0 7 9 4 1 6 5]\n",
            " [3 8 7 0 4 2 6 0 9]\n",
            " [1 6 5 9 7 8 4 2 3]\n",
            " [0 2 4 0 6 3 7 0 8]\n",
            " [6 1 0 2 3 9 5 4 7]\n",
            " [5 9 2 4 1 7 8 3 6]\n",
            " [7 4 3 8 0 6 2 9 1]]\n",
            "[[9 5 8 6 2 1 3 7 4]\n",
            " [4 7 6 3 5 0 9 8 2]\n",
            " [2 3 0 7 9 4 1 6 5]\n",
            " [3 8 7 0 4 2 6 0 9]\n",
            " [1 6 5 9 7 8 4 2 3]\n",
            " [0 2 4 0 6 3 7 0 8]\n",
            " [6 1 0 2 3 9 5 4 7]\n",
            " [5 9 2 4 1 7 8 3 6]\n",
            " [7 4 3 8 0 6 2 9 1]]\n",
            "[[9 5 8 6 2 1 3 7 4]\n",
            " [4 7 6 3 5 0 9 8 2]\n",
            " [2 3 0 7 9 4 1 6 5]\n",
            " [3 8 7 0 4 2 6 0 9]\n",
            " [1 6 5 9 7 8 4 2 3]\n",
            " [0 2 4 0 6 3 7 0 8]\n",
            " [6 1 0 2 3 9 5 4 7]\n",
            " [5 9 2 4 1 7 1 3 6]\n",
            " [7 4 3 8 0 6 2 9 1]]\n",
            "[[9 5 8 6 2 1 3 7 4]\n",
            " [4 7 6 3 5 0 9 8 2]\n",
            " [2 3 0 7 9 4 1 6 5]\n",
            " [3 8 7 0 4 2 6 0 9]\n",
            " [1 6 5 9 7 8 4 2 3]\n",
            " [0 2 4 0 6 3 7 0 8]\n",
            " [6 1 0 2 3 9 5 4 7]\n",
            " [5 9 2 4 1 7 8 3 6]\n",
            " [7 4 3 8 0 6 1 9 1]]\n",
            "[[9 5 8 6 2 1 3 7 4]\n",
            " [4 7 6 3 5 0 9 8 2]\n",
            " [2 3 0 7 9 4 1 6 5]\n",
            " [3 8 7 0 4 2 6 0 9]\n",
            " [1 6 5 9 7 8 4 2 3]\n",
            " [0 2 4 0 6 3 7 0 8]\n",
            " [6 1 0 2 3 9 5 4 7]\n",
            " [5 9 2 4 1 7 8 3 6]\n",
            " [7 4 3 8 0 6 2 9 1]]\n"
          ]
        },
        {
          "output_type": "stream",
          "name": "stderr",
          "text": [
            "/usr/local/lib/python3.7/dist-packages/ipykernel_launcher.py:3: VisibleDeprecationWarning: Creating an ndarray from ragged nested sequences (which is a list-or-tuple of lists-or-tuples-or ndarrays with different lengths or shapes) is deprecated. If you meant to do this, you must specify 'dtype=object' when creating the ndarray.\n",
            "  This is separate from the ipykernel package so we can avoid doing imports until\n",
            "/usr/local/lib/python3.7/dist-packages/ipykernel_launcher.py:4: VisibleDeprecationWarning: Creating an ndarray from ragged nested sequences (which is a list-or-tuple of lists-or-tuples-or ndarrays with different lengths or shapes) is deprecated. If you meant to do this, you must specify 'dtype=object' when creating the ndarray.\n",
            "  after removing the cwd from sys.path.\n"
          ]
        }
      ]
    },
    {
      "cell_type": "markdown",
      "metadata": {
        "id": "vdHN1tsyBsEA"
      },
      "source": [
        "Al finalizar el notebook recuerda guardarlo usando la opción *\"Save in Github...\"*. "
      ]
    }
  ],
  "metadata": {
    "kernelspec": {
      "display_name": "Python 3",
      "language": "python",
      "name": "python3"
    },
    "language_info": {
      "codemirror_mode": {
        "name": "ipython",
        "version": 3
      },
      "file_extension": ".py",
      "mimetype": "text/x-python",
      "name": "python",
      "nbconvert_exporter": "python",
      "pygments_lexer": "ipython3",
      "version": "3.6.7"
    },
    "colab": {
      "name": "practica8_1.ipynb",
      "provenance": [],
      "include_colab_link": true
    }
  },
  "nbformat": 4,
  "nbformat_minor": 0
}